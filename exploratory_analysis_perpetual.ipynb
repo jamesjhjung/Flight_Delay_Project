{
 "cells": [
  {
   "cell_type": "code",
   "execution_count": 121,
   "metadata": {},
   "outputs": [],
   "source": [
    "import psycopg2\n",
    "import os\n",
    "import pandas as pd\n",
    "import matplotlib.pyplot as plt\n",
    "from sqlalchemy import create_engine\n",
    "import plotly.graph_objs as go\n",
    "import seaborn as sns\n",
    "import vaex\n",
    "import numpy as np\n",
    "import requests as re\n",
    "import datetime as dt\n",
    "import datetime as dt\n",
    "from datetime import date\n",
    "from datetime import time\n",
    "import scipy.stats as st\n",
    "from scipy.stats import norm, normaltest\n",
    "import statistics\n",
    "import statsmodels.api as sm\n",
    "from scipy import stats\n",
    "import plotly.express as px\n",
    "from scipy.stats import kstest\n",
    "from scipy.stats import shapiro\n",
    "plt.rcParams[\"figure.figsize\"] = (15,6)"
   ]
  },
  {
   "cell_type": "code",
   "execution_count": null,
   "metadata": {},
   "outputs": [],
   "source": []
  },
  {
   "cell_type": "code",
   "execution_count": null,
   "metadata": {},
   "outputs": [],
   "source": []
  },
  {
   "cell_type": "code",
   "execution_count": null,
   "metadata": {},
   "outputs": [],
   "source": []
  },
  {
   "cell_type": "markdown",
   "metadata": {},
   "source": [
    "## Exploratory Data Analysis\n",
    "\n",
    "Use this notebook to get familiar with the datasets we have. There is 10 questions we need to answer during the EDA.\n",
    "\n",
    "\n",
    "We shouldn't limit our EDA to these 10 questions. Let's be creative :)."
   ]
  },
  {
   "cell_type": "code",
   "execution_count": 41,
   "metadata": {},
   "outputs": [],
   "source": [
    "df_flights = pd.read_csv('/Users/perpetualokafor/Downloads/mid-term-project-I/flights.csv')"
   ]
  },
  {
   "cell_type": "code",
   "execution_count": 42,
   "metadata": {},
   "outputs": [
    {
     "data": {
      "text/html": [
       "<div>\n",
       "<style scoped>\n",
       "    .dataframe tbody tr th:only-of-type {\n",
       "        vertical-align: middle;\n",
       "    }\n",
       "\n",
       "    .dataframe tbody tr th {\n",
       "        vertical-align: top;\n",
       "    }\n",
       "\n",
       "    .dataframe thead th {\n",
       "        text-align: right;\n",
       "    }\n",
       "</style>\n",
       "<table border=\"1\" class=\"dataframe\">\n",
       "  <thead>\n",
       "    <tr style=\"text-align: right;\">\n",
       "      <th></th>\n",
       "      <th>Unnamed: 0</th>\n",
       "      <th>fl_date</th>\n",
       "      <th>mkt_unique_carrier</th>\n",
       "      <th>branded_code_share</th>\n",
       "      <th>mkt_carrier</th>\n",
       "      <th>mkt_carrier_fl_num</th>\n",
       "      <th>op_unique_carrier</th>\n",
       "      <th>tail_num</th>\n",
       "      <th>op_carrier_fl_num</th>\n",
       "      <th>origin_airport_id</th>\n",
       "      <th>...</th>\n",
       "      <th>distance</th>\n",
       "      <th>carrier_delay</th>\n",
       "      <th>weather_delay</th>\n",
       "      <th>nas_delay</th>\n",
       "      <th>security_delay</th>\n",
       "      <th>late_aircraft_delay</th>\n",
       "      <th>first_dep_time</th>\n",
       "      <th>total_add_gtime</th>\n",
       "      <th>longest_add_gtime</th>\n",
       "      <th>no_name</th>\n",
       "    </tr>\n",
       "  </thead>\n",
       "  <tbody>\n",
       "    <tr>\n",
       "      <th>0</th>\n",
       "      <td>0</td>\n",
       "      <td>2018-06-11</td>\n",
       "      <td>UA</td>\n",
       "      <td>UA</td>\n",
       "      <td>UA</td>\n",
       "      <td>1102</td>\n",
       "      <td>UA</td>\n",
       "      <td>N401UA</td>\n",
       "      <td>1102</td>\n",
       "      <td>13871</td>\n",
       "      <td>...</td>\n",
       "      <td>781.0</td>\n",
       "      <td>NaN</td>\n",
       "      <td>NaN</td>\n",
       "      <td>NaN</td>\n",
       "      <td>NaN</td>\n",
       "      <td>NaN</td>\n",
       "      <td>NaN</td>\n",
       "      <td>NaN</td>\n",
       "      <td>NaN</td>\n",
       "      <td>NaN</td>\n",
       "    </tr>\n",
       "    <tr>\n",
       "      <th>1</th>\n",
       "      <td>1</td>\n",
       "      <td>2018-06-11</td>\n",
       "      <td>UA</td>\n",
       "      <td>UA</td>\n",
       "      <td>UA</td>\n",
       "      <td>1101</td>\n",
       "      <td>UA</td>\n",
       "      <td>N474UA</td>\n",
       "      <td>1101</td>\n",
       "      <td>11697</td>\n",
       "      <td>...</td>\n",
       "      <td>1703.0</td>\n",
       "      <td>8.0</td>\n",
       "      <td>0.0</td>\n",
       "      <td>0.0</td>\n",
       "      <td>0.0</td>\n",
       "      <td>33.0</td>\n",
       "      <td>NaN</td>\n",
       "      <td>NaN</td>\n",
       "      <td>NaN</td>\n",
       "      <td>NaN</td>\n",
       "    </tr>\n",
       "    <tr>\n",
       "      <th>2</th>\n",
       "      <td>2</td>\n",
       "      <td>2018-06-11</td>\n",
       "      <td>UA</td>\n",
       "      <td>UA</td>\n",
       "      <td>UA</td>\n",
       "      <td>1100</td>\n",
       "      <td>UA</td>\n",
       "      <td>N14249</td>\n",
       "      <td>1100</td>\n",
       "      <td>13930</td>\n",
       "      <td>...</td>\n",
       "      <td>1829.0</td>\n",
       "      <td>0.0</td>\n",
       "      <td>0.0</td>\n",
       "      <td>28.0</td>\n",
       "      <td>0.0</td>\n",
       "      <td>0.0</td>\n",
       "      <td>NaN</td>\n",
       "      <td>NaN</td>\n",
       "      <td>NaN</td>\n",
       "      <td>NaN</td>\n",
       "    </tr>\n",
       "    <tr>\n",
       "      <th>3</th>\n",
       "      <td>3</td>\n",
       "      <td>2018-06-11</td>\n",
       "      <td>UA</td>\n",
       "      <td>UA</td>\n",
       "      <td>UA</td>\n",
       "      <td>1094</td>\n",
       "      <td>UA</td>\n",
       "      <td>N62884</td>\n",
       "      <td>1094</td>\n",
       "      <td>12953</td>\n",
       "      <td>...</td>\n",
       "      <td>1620.0</td>\n",
       "      <td>NaN</td>\n",
       "      <td>NaN</td>\n",
       "      <td>NaN</td>\n",
       "      <td>NaN</td>\n",
       "      <td>NaN</td>\n",
       "      <td>NaN</td>\n",
       "      <td>NaN</td>\n",
       "      <td>NaN</td>\n",
       "      <td>NaN</td>\n",
       "    </tr>\n",
       "    <tr>\n",
       "      <th>4</th>\n",
       "      <td>4</td>\n",
       "      <td>2018-06-11</td>\n",
       "      <td>UA</td>\n",
       "      <td>UA</td>\n",
       "      <td>UA</td>\n",
       "      <td>1093</td>\n",
       "      <td>UA</td>\n",
       "      <td>N39423</td>\n",
       "      <td>1093</td>\n",
       "      <td>11292</td>\n",
       "      <td>...</td>\n",
       "      <td>862.0</td>\n",
       "      <td>NaN</td>\n",
       "      <td>NaN</td>\n",
       "      <td>NaN</td>\n",
       "      <td>NaN</td>\n",
       "      <td>NaN</td>\n",
       "      <td>803.0</td>\n",
       "      <td>7.0</td>\n",
       "      <td>7.0</td>\n",
       "      <td>NaN</td>\n",
       "    </tr>\n",
       "  </tbody>\n",
       "</table>\n",
       "<p>5 rows × 43 columns</p>\n",
       "</div>"
      ],
      "text/plain": [
       "   Unnamed: 0     fl_date mkt_unique_carrier branded_code_share mkt_carrier  \\\n",
       "0           0  2018-06-11                 UA                 UA          UA   \n",
       "1           1  2018-06-11                 UA                 UA          UA   \n",
       "2           2  2018-06-11                 UA                 UA          UA   \n",
       "3           3  2018-06-11                 UA                 UA          UA   \n",
       "4           4  2018-06-11                 UA                 UA          UA   \n",
       "\n",
       "   mkt_carrier_fl_num op_unique_carrier tail_num  op_carrier_fl_num  \\\n",
       "0                1102                UA   N401UA               1102   \n",
       "1                1101                UA   N474UA               1101   \n",
       "2                1100                UA   N14249               1100   \n",
       "3                1094                UA   N62884               1094   \n",
       "4                1093                UA   N39423               1093   \n",
       "\n",
       "   origin_airport_id  ... distance carrier_delay  weather_delay nas_delay  \\\n",
       "0              13871  ...    781.0           NaN            NaN       NaN   \n",
       "1              11697  ...   1703.0           8.0            0.0       0.0   \n",
       "2              13930  ...   1829.0           0.0            0.0      28.0   \n",
       "3              12953  ...   1620.0           NaN            NaN       NaN   \n",
       "4              11292  ...    862.0           NaN            NaN       NaN   \n",
       "\n",
       "  security_delay  late_aircraft_delay  first_dep_time  total_add_gtime  \\\n",
       "0            NaN                  NaN             NaN              NaN   \n",
       "1            0.0                 33.0             NaN              NaN   \n",
       "2            0.0                  0.0             NaN              NaN   \n",
       "3            NaN                  NaN             NaN              NaN   \n",
       "4            NaN                  NaN           803.0              7.0   \n",
       "\n",
       "   longest_add_gtime  no_name  \n",
       "0                NaN      NaN  \n",
       "1                NaN      NaN  \n",
       "2                NaN      NaN  \n",
       "3                NaN      NaN  \n",
       "4                7.0      NaN  \n",
       "\n",
       "[5 rows x 43 columns]"
      ]
     },
     "execution_count": 42,
     "metadata": {},
     "output_type": "execute_result"
    }
   ],
   "source": [
    "df_flights.head(5)"
   ]
  },
  {
   "cell_type": "code",
   "execution_count": null,
   "metadata": {},
   "outputs": [],
   "source": []
  },
  {
   "cell_type": "code",
   "execution_count": 43,
   "metadata": {},
   "outputs": [
    {
     "data": {
      "text/plain": [
       "Unnamed: 0                   0\n",
       "fl_date                      0\n",
       "mkt_unique_carrier           0\n",
       "branded_code_share           0\n",
       "mkt_carrier                  0\n",
       "mkt_carrier_fl_num           0\n",
       "op_unique_carrier            0\n",
       "tail_num                 15097\n",
       "op_carrier_fl_num            0\n",
       "origin_airport_id            0\n",
       "origin                       0\n",
       "origin_city_name             0\n",
       "dest_airport_id              0\n",
       "dest                         0\n",
       "dest_city_name               0\n",
       "crs_dep_time                 0\n",
       "dep_time                 70596\n",
       "dep_delay                71677\n",
       "taxi_out                 74253\n",
       "wheels_off               74253\n",
       "wheels_on                76959\n",
       "taxi_in                  76959\n",
       "crs_arr_time                 0\n",
       "arr_time                 75315\n",
       "arr_delay                85237\n",
       "cancelled                    0\n",
       "cancellation_code      4926687\n",
       "diverted                     0\n",
       "dup                          0\n",
       "crs_elapsed_time             9\n",
       "actual_elapsed_time      84680\n",
       "air_time                 86317\n",
       "flights                      0\n",
       "distance                     0\n",
       "carrier_delay          4109417\n",
       "weather_delay          4109417\n",
       "nas_delay              4109417\n",
       "security_delay         4109417\n",
       "late_aircraft_delay    4109417\n",
       "first_dep_time         4967800\n",
       "total_add_gtime        4967801\n",
       "longest_add_gtime      4967800\n",
       "no_name                5000000\n",
       "dtype: int64"
      ]
     },
     "execution_count": 43,
     "metadata": {},
     "output_type": "execute_result"
    }
   ],
   "source": [
    "pd.isnull(df_flights).sum()"
   ]
  },
  {
   "cell_type": "code",
   "execution_count": 44,
   "metadata": {},
   "outputs": [],
   "source": [
    "df_flights = df_flights.drop(['Unnamed: 0','cancellation_code','carrier_delay','weather_delay',\n",
    "                              'nas_delay','security_delay','late_aircraft_delay',\n",
    "                              'first_dep_time','total_add_gtime','longest_add_gtime','no_name'], axis=1)"
   ]
  },
  {
   "cell_type": "code",
   "execution_count": 45,
   "metadata": {},
   "outputs": [
    {
     "data": {
      "text/html": [
       "<div>\n",
       "<style scoped>\n",
       "    .dataframe tbody tr th:only-of-type {\n",
       "        vertical-align: middle;\n",
       "    }\n",
       "\n",
       "    .dataframe tbody tr th {\n",
       "        vertical-align: top;\n",
       "    }\n",
       "\n",
       "    .dataframe thead th {\n",
       "        text-align: right;\n",
       "    }\n",
       "</style>\n",
       "<table border=\"1\" class=\"dataframe\">\n",
       "  <thead>\n",
       "    <tr style=\"text-align: right;\">\n",
       "      <th></th>\n",
       "      <th>mkt_carrier_fl_num</th>\n",
       "      <th>op_carrier_fl_num</th>\n",
       "      <th>origin_airport_id</th>\n",
       "      <th>dest_airport_id</th>\n",
       "      <th>crs_dep_time</th>\n",
       "      <th>dep_time</th>\n",
       "      <th>dep_delay</th>\n",
       "      <th>taxi_out</th>\n",
       "      <th>wheels_off</th>\n",
       "      <th>wheels_on</th>\n",
       "      <th>...</th>\n",
       "      <th>crs_arr_time</th>\n",
       "      <th>arr_time</th>\n",
       "      <th>arr_delay</th>\n",
       "      <th>cancelled</th>\n",
       "      <th>diverted</th>\n",
       "      <th>crs_elapsed_time</th>\n",
       "      <th>actual_elapsed_time</th>\n",
       "      <th>air_time</th>\n",
       "      <th>flights</th>\n",
       "      <th>distance</th>\n",
       "    </tr>\n",
       "  </thead>\n",
       "  <tbody>\n",
       "    <tr>\n",
       "      <th>count</th>\n",
       "      <td>5.000000e+06</td>\n",
       "      <td>5.000000e+06</td>\n",
       "      <td>5.000000e+06</td>\n",
       "      <td>5.000000e+06</td>\n",
       "      <td>5.000000e+06</td>\n",
       "      <td>4.929404e+06</td>\n",
       "      <td>4.928323e+06</td>\n",
       "      <td>4.925747e+06</td>\n",
       "      <td>4.925747e+06</td>\n",
       "      <td>4.923041e+06</td>\n",
       "      <td>...</td>\n",
       "      <td>5.000000e+06</td>\n",
       "      <td>4.924685e+06</td>\n",
       "      <td>4.914763e+06</td>\n",
       "      <td>5.000000e+06</td>\n",
       "      <td>5.000000e+06</td>\n",
       "      <td>4.999991e+06</td>\n",
       "      <td>4.915320e+06</td>\n",
       "      <td>4.913683e+06</td>\n",
       "      <td>5000000.0</td>\n",
       "      <td>5.000000e+06</td>\n",
       "    </tr>\n",
       "    <tr>\n",
       "      <th>mean</th>\n",
       "      <td>2.741302e+03</td>\n",
       "      <td>2.741283e+03</td>\n",
       "      <td>1.268088e+04</td>\n",
       "      <td>1.268074e+04</td>\n",
       "      <td>1.328271e+03</td>\n",
       "      <td>1.332735e+03</td>\n",
       "      <td>9.365500e+00</td>\n",
       "      <td>1.752723e+01</td>\n",
       "      <td>1.357543e+03</td>\n",
       "      <td>1.462763e+03</td>\n",
       "      <td>...</td>\n",
       "      <td>1.485503e+03</td>\n",
       "      <td>1.467629e+03</td>\n",
       "      <td>4.026565e+00</td>\n",
       "      <td>1.466260e-02</td>\n",
       "      <td>2.272000e-03</td>\n",
       "      <td>1.380149e+02</td>\n",
       "      <td>1.330198e+02</td>\n",
       "      <td>1.078662e+02</td>\n",
       "      <td>1.0</td>\n",
       "      <td>7.670685e+02</td>\n",
       "    </tr>\n",
       "    <tr>\n",
       "      <th>std</th>\n",
       "      <td>1.852774e+03</td>\n",
       "      <td>1.852905e+03</td>\n",
       "      <td>1.521999e+03</td>\n",
       "      <td>1.521910e+03</td>\n",
       "      <td>4.884775e+02</td>\n",
       "      <td>5.005404e+02</td>\n",
       "      <td>4.613261e+01</td>\n",
       "      <td>9.880385e+00</td>\n",
       "      <td>5.015651e+02</td>\n",
       "      <td>5.276661e+02</td>\n",
       "      <td>...</td>\n",
       "      <td>5.147346e+02</td>\n",
       "      <td>5.317883e+02</td>\n",
       "      <td>4.822718e+01</td>\n",
       "      <td>1.201982e-01</td>\n",
       "      <td>4.761133e-02</td>\n",
       "      <td>7.141936e+01</td>\n",
       "      <td>7.130463e+01</td>\n",
       "      <td>6.950750e+01</td>\n",
       "      <td>0.0</td>\n",
       "      <td>5.846651e+02</td>\n",
       "    </tr>\n",
       "    <tr>\n",
       "      <th>min</th>\n",
       "      <td>1.000000e+00</td>\n",
       "      <td>1.000000e+00</td>\n",
       "      <td>1.013500e+04</td>\n",
       "      <td>1.013500e+04</td>\n",
       "      <td>1.000000e+00</td>\n",
       "      <td>1.000000e+00</td>\n",
       "      <td>-7.200000e+01</td>\n",
       "      <td>0.000000e+00</td>\n",
       "      <td>1.000000e+00</td>\n",
       "      <td>1.000000e+00</td>\n",
       "      <td>...</td>\n",
       "      <td>1.000000e+00</td>\n",
       "      <td>1.000000e+00</td>\n",
       "      <td>-1.170000e+02</td>\n",
       "      <td>0.000000e+00</td>\n",
       "      <td>0.000000e+00</td>\n",
       "      <td>-1.430000e+02</td>\n",
       "      <td>6.000000e+00</td>\n",
       "      <td>-1.384000e+03</td>\n",
       "      <td>1.0</td>\n",
       "      <td>3.100000e+01</td>\n",
       "    </tr>\n",
       "    <tr>\n",
       "      <th>25%</th>\n",
       "      <td>1.141000e+03</td>\n",
       "      <td>1.141000e+03</td>\n",
       "      <td>1.129200e+04</td>\n",
       "      <td>1.129200e+04</td>\n",
       "      <td>9.150000e+02</td>\n",
       "      <td>9.190000e+02</td>\n",
       "      <td>-6.000000e+00</td>\n",
       "      <td>1.100000e+01</td>\n",
       "      <td>9.340000e+02</td>\n",
       "      <td>1.047000e+03</td>\n",
       "      <td>...</td>\n",
       "      <td>1.102000e+03</td>\n",
       "      <td>1.051000e+03</td>\n",
       "      <td>-1.500000e+01</td>\n",
       "      <td>0.000000e+00</td>\n",
       "      <td>0.000000e+00</td>\n",
       "      <td>8.700000e+01</td>\n",
       "      <td>8.200000e+01</td>\n",
       "      <td>5.800000e+01</td>\n",
       "      <td>1.0</td>\n",
       "      <td>3.380000e+02</td>\n",
       "    </tr>\n",
       "    <tr>\n",
       "      <th>50%</th>\n",
       "      <td>2.339000e+03</td>\n",
       "      <td>2.339000e+03</td>\n",
       "      <td>1.288900e+04</td>\n",
       "      <td>1.288900e+04</td>\n",
       "      <td>1.320000e+03</td>\n",
       "      <td>1.326000e+03</td>\n",
       "      <td>-2.000000e+00</td>\n",
       "      <td>1.500000e+01</td>\n",
       "      <td>1.340000e+03</td>\n",
       "      <td>1.501000e+03</td>\n",
       "      <td>...</td>\n",
       "      <td>1.513000e+03</td>\n",
       "      <td>1.505000e+03</td>\n",
       "      <td>-7.000000e+00</td>\n",
       "      <td>0.000000e+00</td>\n",
       "      <td>0.000000e+00</td>\n",
       "      <td>1.190000e+02</td>\n",
       "      <td>1.150000e+02</td>\n",
       "      <td>8.900000e+01</td>\n",
       "      <td>1.0</td>\n",
       "      <td>6.030000e+02</td>\n",
       "    </tr>\n",
       "    <tr>\n",
       "      <th>75%</th>\n",
       "      <td>4.317000e+03</td>\n",
       "      <td>4.317000e+03</td>\n",
       "      <td>1.405700e+04</td>\n",
       "      <td>1.405700e+04</td>\n",
       "      <td>1.732000e+03</td>\n",
       "      <td>1.741000e+03</td>\n",
       "      <td>5.000000e+00</td>\n",
       "      <td>2.100000e+01</td>\n",
       "      <td>1.756000e+03</td>\n",
       "      <td>1.908000e+03</td>\n",
       "      <td>...</td>\n",
       "      <td>1.916000e+03</td>\n",
       "      <td>1.913000e+03</td>\n",
       "      <td>7.000000e+00</td>\n",
       "      <td>0.000000e+00</td>\n",
       "      <td>0.000000e+00</td>\n",
       "      <td>1.670000e+02</td>\n",
       "      <td>1.630000e+02</td>\n",
       "      <td>1.370000e+02</td>\n",
       "      <td>1.0</td>\n",
       "      <td>1.001000e+03</td>\n",
       "    </tr>\n",
       "    <tr>\n",
       "      <th>max</th>\n",
       "      <td>9.401000e+03</td>\n",
       "      <td>9.401000e+03</td>\n",
       "      <td>1.686900e+04</td>\n",
       "      <td>1.686900e+04</td>\n",
       "      <td>2.359000e+03</td>\n",
       "      <td>2.400000e+03</td>\n",
       "      <td>2.976000e+03</td>\n",
       "      <td>1.425000e+03</td>\n",
       "      <td>2.400000e+03</td>\n",
       "      <td>2.400000e+03</td>\n",
       "      <td>...</td>\n",
       "      <td>2.400000e+03</td>\n",
       "      <td>2.400000e+03</td>\n",
       "      <td>2.973000e+03</td>\n",
       "      <td>1.000000e+00</td>\n",
       "      <td>1.000000e+00</td>\n",
       "      <td>1.509000e+03</td>\n",
       "      <td>7.370000e+02</td>\n",
       "      <td>7.010000e+02</td>\n",
       "      <td>1.0</td>\n",
       "      <td>5.095000e+03</td>\n",
       "    </tr>\n",
       "  </tbody>\n",
       "</table>\n",
       "<p>8 rows × 21 columns</p>\n",
       "</div>"
      ],
      "text/plain": [
       "       mkt_carrier_fl_num  op_carrier_fl_num  origin_airport_id  \\\n",
       "count        5.000000e+06       5.000000e+06       5.000000e+06   \n",
       "mean         2.741302e+03       2.741283e+03       1.268088e+04   \n",
       "std          1.852774e+03       1.852905e+03       1.521999e+03   \n",
       "min          1.000000e+00       1.000000e+00       1.013500e+04   \n",
       "25%          1.141000e+03       1.141000e+03       1.129200e+04   \n",
       "50%          2.339000e+03       2.339000e+03       1.288900e+04   \n",
       "75%          4.317000e+03       4.317000e+03       1.405700e+04   \n",
       "max          9.401000e+03       9.401000e+03       1.686900e+04   \n",
       "\n",
       "       dest_airport_id  crs_dep_time      dep_time     dep_delay  \\\n",
       "count     5.000000e+06  5.000000e+06  4.929404e+06  4.928323e+06   \n",
       "mean      1.268074e+04  1.328271e+03  1.332735e+03  9.365500e+00   \n",
       "std       1.521910e+03  4.884775e+02  5.005404e+02  4.613261e+01   \n",
       "min       1.013500e+04  1.000000e+00  1.000000e+00 -7.200000e+01   \n",
       "25%       1.129200e+04  9.150000e+02  9.190000e+02 -6.000000e+00   \n",
       "50%       1.288900e+04  1.320000e+03  1.326000e+03 -2.000000e+00   \n",
       "75%       1.405700e+04  1.732000e+03  1.741000e+03  5.000000e+00   \n",
       "max       1.686900e+04  2.359000e+03  2.400000e+03  2.976000e+03   \n",
       "\n",
       "           taxi_out    wheels_off     wheels_on  ...  crs_arr_time  \\\n",
       "count  4.925747e+06  4.925747e+06  4.923041e+06  ...  5.000000e+06   \n",
       "mean   1.752723e+01  1.357543e+03  1.462763e+03  ...  1.485503e+03   \n",
       "std    9.880385e+00  5.015651e+02  5.276661e+02  ...  5.147346e+02   \n",
       "min    0.000000e+00  1.000000e+00  1.000000e+00  ...  1.000000e+00   \n",
       "25%    1.100000e+01  9.340000e+02  1.047000e+03  ...  1.102000e+03   \n",
       "50%    1.500000e+01  1.340000e+03  1.501000e+03  ...  1.513000e+03   \n",
       "75%    2.100000e+01  1.756000e+03  1.908000e+03  ...  1.916000e+03   \n",
       "max    1.425000e+03  2.400000e+03  2.400000e+03  ...  2.400000e+03   \n",
       "\n",
       "           arr_time     arr_delay     cancelled      diverted  \\\n",
       "count  4.924685e+06  4.914763e+06  5.000000e+06  5.000000e+06   \n",
       "mean   1.467629e+03  4.026565e+00  1.466260e-02  2.272000e-03   \n",
       "std    5.317883e+02  4.822718e+01  1.201982e-01  4.761133e-02   \n",
       "min    1.000000e+00 -1.170000e+02  0.000000e+00  0.000000e+00   \n",
       "25%    1.051000e+03 -1.500000e+01  0.000000e+00  0.000000e+00   \n",
       "50%    1.505000e+03 -7.000000e+00  0.000000e+00  0.000000e+00   \n",
       "75%    1.913000e+03  7.000000e+00  0.000000e+00  0.000000e+00   \n",
       "max    2.400000e+03  2.973000e+03  1.000000e+00  1.000000e+00   \n",
       "\n",
       "       crs_elapsed_time  actual_elapsed_time      air_time    flights  \\\n",
       "count      4.999991e+06         4.915320e+06  4.913683e+06  5000000.0   \n",
       "mean       1.380149e+02         1.330198e+02  1.078662e+02        1.0   \n",
       "std        7.141936e+01         7.130463e+01  6.950750e+01        0.0   \n",
       "min       -1.430000e+02         6.000000e+00 -1.384000e+03        1.0   \n",
       "25%        8.700000e+01         8.200000e+01  5.800000e+01        1.0   \n",
       "50%        1.190000e+02         1.150000e+02  8.900000e+01        1.0   \n",
       "75%        1.670000e+02         1.630000e+02  1.370000e+02        1.0   \n",
       "max        1.509000e+03         7.370000e+02  7.010000e+02        1.0   \n",
       "\n",
       "           distance  \n",
       "count  5.000000e+06  \n",
       "mean   7.670685e+02  \n",
       "std    5.846651e+02  \n",
       "min    3.100000e+01  \n",
       "25%    3.380000e+02  \n",
       "50%    6.030000e+02  \n",
       "75%    1.001000e+03  \n",
       "max    5.095000e+03  \n",
       "\n",
       "[8 rows x 21 columns]"
      ]
     },
     "execution_count": 45,
     "metadata": {},
     "output_type": "execute_result"
    }
   ],
   "source": [
    "df_flights.describe()"
   ]
  },
  {
   "cell_type": "code",
   "execution_count": 69,
   "metadata": {},
   "outputs": [
    {
     "data": {
      "text/plain": [
       "Index(['fl_date', 'mkt_unique_carrier', 'branded_code_share', 'mkt_carrier',\n",
       "       'mkt_carrier_fl_num', 'op_unique_carrier', 'tail_num',\n",
       "       'op_carrier_fl_num', 'origin_airport_id', 'origin', 'origin_city_name',\n",
       "       'dest_airport_id', 'dest', 'dest_city_name', 'crs_dep_time', 'dep_time',\n",
       "       'dep_delay', 'taxi_out', 'wheels_off', 'wheels_on', 'taxi_in',\n",
       "       'crs_arr_time', 'arr_time', 'arr_delay', 'cancelled', 'diverted', 'dup',\n",
       "       'crs_elapsed_time', 'actual_elapsed_time', 'air_time', 'flights',\n",
       "       'distance', 'datetime', 'day', 'month', 'year'],\n",
       "      dtype='object')"
      ]
     },
     "execution_count": 69,
     "metadata": {},
     "output_type": "execute_result"
    }
   ],
   "source": [
    "df_flights.columns"
   ]
  },
  {
   "cell_type": "code",
   "execution_count": 71,
   "metadata": {},
   "outputs": [
    {
     "data": {
      "text/plain": [
       "array([ 6, 11, 12, 10,  9,  1,  5])"
      ]
     },
     "execution_count": 71,
     "metadata": {},
     "output_type": "execute_result"
    }
   ],
   "source": [
    "df_flights['month'].unique()"
   ]
  },
  {
   "cell_type": "markdown",
   "metadata": {},
   "source": [
    "#### **Task 1**: Test the hypothesis that the delay is from Normal distribution. and that **mean** of the delay is 0. Be careful about the outliers."
   ]
  },
  {
   "cell_type": "code",
   "execution_count": 105,
   "metadata": {},
   "outputs": [
    {
     "name": "stdout",
     "output_type": "stream",
     "text": [
      "Mean: 4.026516479458285\n",
      "STD: 48.22706907062364\n"
     ]
    }
   ],
   "source": [
    "#Get the mean & std of arr_delay column.\n",
    "mean_arr_delay = df_flights.arr_delay.mean()\n",
    "std_arr_delay = df_flights.arr_delay.std()\n",
    "#Print mean & std\n",
    "print('Mean:',mean_arr_delay)\n",
    "print('STD:',std_arr_delay)"
   ]
  },
  {
   "cell_type": "code",
   "execution_count": 107,
   "metadata": {},
   "outputs": [
    {
     "name": "stdout",
     "output_type": "stream",
     "text": [
      "Mean: 9.323221275697772\n",
      "STD: 46.01443519452327\n"
     ]
    }
   ],
   "source": [
    "mean_dep_delay = df_flights.dep_delay.mean()\n",
    "std_dep_delay = df_flights.dep_delay.std()\n",
    "print('Mean:',mean_dep_delay)\n",
    "print('STD:',std_dep_delay)"
   ]
  },
  {
   "cell_type": "code",
   "execution_count": 110,
   "metadata": {},
   "outputs": [
    {
     "data": {
      "text/plain": [
       "(-300.0, 300.0)"
      ]
     },
     "execution_count": 110,
     "metadata": {},
     "output_type": "execute_result"
    },
    {
     "data": {
      "image/png": "[encoded data removed]",
      "text/plain": [
       "<Figure size 1080x432 with 1 Axes>"
      ]
     },
     "metadata": {
      "needs_background": "light"
     },
     "output_type": "display_data"
    }
   ],
   "source": [
    "# arr_delay\n",
    "arr_delay = df_flights['arr_delay']\n",
    "sns.histplot(arr_delay)\n",
    "plt.xlim(-300, 300)"
   ]
  },
  {
   "cell_type": "code",
   "execution_count": 111,
   "metadata": {},
   "outputs": [
    {
     "data": {
      "text/plain": [
       "(-300.0, 300.0)"
      ]
     },
     "execution_count": 111,
     "metadata": {},
     "output_type": "execute_result"
    },
    {
     "data": {
      "image/png": "[encoded data removed]",
      "text/plain": [
       "<Figure size 1080x432 with 1 Axes>"
      ]
     },
     "metadata": {
      "needs_background": "light"
     },
     "output_type": "display_data"
    }
   ],
   "source": [
    "# dep_delay\n",
    "dep_delay = df_flights['dep_delay']\n",
    "sns.histplot(dep_delay)\n",
    "plt.xlim(-300, 300)"
   ]
  },
  {
   "cell_type": "code",
   "execution_count": 114,
   "metadata": {},
   "outputs": [
    {
     "data": {
      "image/png": "[encoded data removed]",
      "text/plain": [
       "<Figure size 1080x432 with 1 Axes>"
      ]
     },
     "metadata": {
      "needs_background": "light"
     },
     "output_type": "display_data"
    }
   ],
   "source": [
    "#create Q-Q plot with 45-degree line added to plot\n",
    "fig = sm.qqplot(arr_delay, line='45')\n",
    "\n",
    "plt.show()\n",
    "#if points fall on a straight line then we assume it is normally distributed. this case it is not"
   ]
  },
  {
   "cell_type": "code",
   "execution_count": 116,
   "metadata": {},
   "outputs": [
    {
     "data": {
      "text/plain": [
       "ShapiroResult(statistic=nan, pvalue=1.0)"
      ]
     },
     "execution_count": 116,
     "metadata": {},
     "output_type": "execute_result"
    }
   ],
   "source": [
    "#(Formal Statistical Test) Perform a Shapiro-Wilk Test.\n",
    "#If the p-value of the test is greater than α = .05, then the data is assumed to be normally distributed.\n",
    "shapiro(arr_delay)"
   ]
  },
  {
   "cell_type": "code",
   "execution_count": 117,
   "metadata": {},
   "outputs": [
    {
     "data": {
      "text/plain": [
       "ShapiroResult(statistic=nan, pvalue=1.0)"
      ]
     },
     "execution_count": 117,
     "metadata": {},
     "output_type": "execute_result"
    }
   ],
   "source": [
    "shapiro(dep_delay)"
   ]
  },
  {
   "cell_type": "code",
   "execution_count": null,
   "metadata": {},
   "outputs": [],
   "source": [
    "#it is not a normal distribution.\n",
    "#mean is not 0"
   ]
  },
  {
   "cell_type": "markdown",
   "metadata": {},
   "source": [
    "#### **Task 2**: Is average/median monthly delay different during the year? If yes, which are months with the biggest delays and what could be the reason?"
   ]
  },
  {
   "cell_type": "code",
   "execution_count": 50,
   "metadata": {},
   "outputs": [],
   "source": [
    "df_flights['datetime'] = pd.to_datetime(df_flights.fl_date)\n",
    "df_flights['day'] = df_flights['datetime'].dt.day\n",
    "df_flights['month'] = df_flights['datetime'].dt.month\n",
    "df_flights['year'] = df_flights['datetime'].dt.year"
   ]
  },
  {
   "cell_type": "code",
   "execution_count": 51,
   "metadata": {},
   "outputs": [
    {
     "name": "stdout",
     "output_type": "stream",
     "text": [
      "   month  arr_delay\n",
      "0      1   4.714467\n",
      "1      5   5.670677\n",
      "2      6   9.554866\n",
      "3      9   0.476529\n",
      "4     10   3.063703\n",
      "5     11   0.458006\n",
      "6     12   5.110636\n"
     ]
    }
   ],
   "source": [
    "mean_month_arr_delay = df_flights.groupby('month', as_index=False)['arr_delay'].mean()\n",
    "print(mean_month_arr_delay)"
   ]
  },
  {
   "cell_type": "code",
   "execution_count": 72,
   "metadata": {},
   "outputs": [
    {
     "data": {
      "text/plain": [
       "<AxesSubplot:xlabel='month', ylabel='arr_delay'>"
      ]
     },
     "execution_count": 72,
     "metadata": {},
     "output_type": "execute_result"
    },
    {
     "data": {
      "image/png": "[encoded data removed]",
      "text/plain": [
       "<Figure size 1080x432 with 1 Axes>"
      ]
     },
     "metadata": {
      "needs_background": "light"
     },
     "output_type": "display_data"
    }
   ],
   "source": [
    "sns.barplot(x='month',y='arr_delay',data=mean_month_arr_delay)"
   ]
  },
  {
   "cell_type": "code",
   "execution_count": 75,
   "metadata": {},
   "outputs": [
    {
     "name": "stdout",
     "output_type": "stream",
     "text": [
      "   month  dep_delay\n",
      "0      1   9.995247\n",
      "1      5  10.481504\n",
      "2      6  13.898666\n",
      "3      9   6.496049\n",
      "4     10   7.113434\n",
      "5     11   6.801944\n",
      "6     12  10.863976\n"
     ]
    }
   ],
   "source": [
    "mean_month_dep_delay = df_flights.groupby('month',as_index=False)['dep_delay'].mean()\n",
    "print(mean_month_dep_delay)"
   ]
  },
  {
   "cell_type": "code",
   "execution_count": 77,
   "metadata": {},
   "outputs": [
    {
     "data": {
      "text/plain": [
       "<AxesSubplot:xlabel='month', ylabel='dep_delay'>"
      ]
     },
     "execution_count": 77,
     "metadata": {},
     "output_type": "execute_result"
    },
    {
     "data": {
      "image/png": "[encoded data removed]",
      "text/plain": [
       "<Figure size 1080x432 with 1 Axes>"
      ]
     },
     "metadata": {
      "needs_background": "light"
     },
     "output_type": "display_data"
    }
   ],
   "source": [
    "sns.barplot(x='month',y='dep_delay',data=mean_month_dep_delay)"
   ]
  },
  {
   "cell_type": "code",
   "execution_count": null,
   "metadata": {},
   "outputs": [],
   "source": [
    "#Don't have all my data but seems like flights are delayed mainly in June"
   ]
  },
  {
   "cell_type": "markdown",
   "metadata": {},
   "source": [
    "#### **Task 3**: Does the weather affect the delay? \n",
    "Use the API to pull the weather information for flights. There is no need to get weather for ALL flights. We can choose the right representative sample. Let's focus on four weather types:\n",
    "- sunny\n",
    "- cloudy\n",
    "- rainy\n",
    "- snow.\n",
    "Test the hypothesis that these 4 delays are from the same distribution. If they are not, which ones are significantly different?"
   ]
  },
  {
   "cell_type": "code",
   "execution_count": 54,
   "metadata": {},
   "outputs": [],
   "source": [
    "city_df = df_flights.drop_duplicates('origin_city_name')[['origin_city_name','fl_date']]"
   ]
  },
  {
   "cell_type": "code",
   "execution_count": 55,
   "metadata": {},
   "outputs": [],
   "source": [
    "city_df_sample = city_df.sample(100)"
   ]
  },
  {
   "cell_type": "code",
   "execution_count": 56,
   "metadata": {},
   "outputs": [],
   "source": [
    "weather_data = city_df_sample.values.tolist()"
   ]
  },
  {
   "cell_type": "code",
   "execution_count": 57,
   "metadata": {},
   "outputs": [],
   "source": [
    "weather = []\n",
    "url = \"https://weather.visualcrossing.com/VisualCrossingWebServices/rest/services/weatherdata/history\"\n",
    "api_key = '8FKLHVPA65QJLV5CM3JXZZN5E'\n",
    "\n",
    "for i in weather_data:\n",
    "    \n",
    "    start_date = dt.datetime.strptime(i[1], \"%Y-%m-%d\")\n",
    "    end_date = start_date + dt.timedelta(days=1)\n",
    "\n",
    "    \n",
    "    querystring = {\"contentType\":\"json\",\n",
    "               \"startDateTime\":f\"{str(start_date.date())}T00:00:00\",\n",
    "               \"aggregateHours\":\"24\",\"location\":f\"{i[0]}\",\n",
    "               \"endDateTime\":f\"{str(end_date.date())}T00:00:00\",\n",
    "               \"unitGroup\":\"us\",\n",
    "               \"key\":api_key}\n",
    "    \n",
    "    res = re.request(\"GET\", url, params=querystring)\n",
    "    weather.append(res.json())"
   ]
  },
  {
   "cell_type": "code",
   "execution_count": 58,
   "metadata": {},
   "outputs": [],
   "source": [
    "weather_list = []\n",
    "for i in range(len(weather_data)):\n",
    "    if i == None:\n",
    "        pass\n",
    "    else:\n",
    "        weather_list.append(weather[i]['locations'][weather_data[i][0]]['values'][0]['conditions'])"
   ]
  },
  {
   "cell_type": "code",
   "execution_count": 59,
   "metadata": {},
   "outputs": [
    {
     "data": {
      "text/html": [
       "<div>\n",
       "<style scoped>\n",
       "    .dataframe tbody tr th:only-of-type {\n",
       "        vertical-align: middle;\n",
       "    }\n",
       "\n",
       "    .dataframe tbody tr th {\n",
       "        vertical-align: top;\n",
       "    }\n",
       "\n",
       "    .dataframe thead th {\n",
       "        text-align: right;\n",
       "    }\n",
       "</style>\n",
       "<table border=\"1\" class=\"dataframe\">\n",
       "  <thead>\n",
       "    <tr style=\"text-align: right;\">\n",
       "      <th></th>\n",
       "      <th>origin_city_name</th>\n",
       "      <th>fl_date</th>\n",
       "      <th>weather</th>\n",
       "    </tr>\n",
       "  </thead>\n",
       "  <tbody>\n",
       "    <tr>\n",
       "      <th>2203</th>\n",
       "      <td>Newport News/Williamsburg, VA</td>\n",
       "      <td>2018-06-11</td>\n",
       "      <td>Rain, Overcast</td>\n",
       "    </tr>\n",
       "    <tr>\n",
       "      <th>25553</th>\n",
       "      <td>Grand Forks, ND</td>\n",
       "      <td>2018-06-12</td>\n",
       "      <td>Partially cloudy</td>\n",
       "    </tr>\n",
       "    <tr>\n",
       "      <th>25687</th>\n",
       "      <td>Valdosta, GA</td>\n",
       "      <td>2018-06-12</td>\n",
       "      <td>Rain, Partially cloudy</td>\n",
       "    </tr>\n",
       "    <tr>\n",
       "      <th>1932</th>\n",
       "      <td>Hagerstown, MD</td>\n",
       "      <td>2018-06-11</td>\n",
       "      <td>Rain, Overcast</td>\n",
       "    </tr>\n",
       "    <tr>\n",
       "      <th>15697</th>\n",
       "      <td>Rochester, MN</td>\n",
       "      <td>2018-06-11</td>\n",
       "      <td>Partially cloudy</td>\n",
       "    </tr>\n",
       "  </tbody>\n",
       "</table>\n",
       "</div>"
      ],
      "text/plain": [
       "                    origin_city_name     fl_date                 weather\n",
       "2203   Newport News/Williamsburg, VA  2018-06-11          Rain, Overcast\n",
       "25553                Grand Forks, ND  2018-06-12        Partially cloudy\n",
       "25687                   Valdosta, GA  2018-06-12  Rain, Partially cloudy\n",
       "1932                  Hagerstown, MD  2018-06-11          Rain, Overcast\n",
       "15697                  Rochester, MN  2018-06-11        Partially cloudy"
      ]
     },
     "execution_count": 59,
     "metadata": {},
     "output_type": "execute_result"
    }
   ],
   "source": [
    "city_df_sample['weather'] = weather_list\n",
    "city_df_sample.head()"
   ]
  },
  {
   "cell_type": "code",
   "execution_count": 60,
   "metadata": {},
   "outputs": [
    {
     "data": {
      "text/html": [
       "<div>\n",
       "<style scoped>\n",
       "    .dataframe tbody tr th:only-of-type {\n",
       "        vertical-align: middle;\n",
       "    }\n",
       "\n",
       "    .dataframe tbody tr th {\n",
       "        vertical-align: top;\n",
       "    }\n",
       "\n",
       "    .dataframe thead th {\n",
       "        text-align: right;\n",
       "    }\n",
       "</style>\n",
       "<table border=\"1\" class=\"dataframe\">\n",
       "  <thead>\n",
       "    <tr style=\"text-align: right;\">\n",
       "      <th></th>\n",
       "      <th>origin_city_name</th>\n",
       "      <th>fl_date</th>\n",
       "      <th>weather</th>\n",
       "      <th>dep_delay</th>\n",
       "      <th>arr_delay</th>\n",
       "    </tr>\n",
       "  </thead>\n",
       "  <tbody>\n",
       "    <tr>\n",
       "      <th>2067</th>\n",
       "      <td>Springfield, IL</td>\n",
       "      <td>2018-06-11</td>\n",
       "      <td>Rain, Overcast</td>\n",
       "      <td>643.0</td>\n",
       "      <td>633.0</td>\n",
       "    </tr>\n",
       "    <tr>\n",
       "      <th>1739</th>\n",
       "      <td>Springfield, MO</td>\n",
       "      <td>2018-06-11</td>\n",
       "      <td>Clear</td>\n",
       "      <td>231.0</td>\n",
       "      <td>227.0</td>\n",
       "    </tr>\n",
       "    <tr>\n",
       "      <th>1377</th>\n",
       "      <td>West Palm Beach/Palm Beach, FL</td>\n",
       "      <td>2018-06-11</td>\n",
       "      <td>Rain, Overcast</td>\n",
       "      <td>95.0</td>\n",
       "      <td>98.0</td>\n",
       "    </tr>\n",
       "    <tr>\n",
       "      <th>861</th>\n",
       "      <td>Medford, OR</td>\n",
       "      <td>2018-06-11</td>\n",
       "      <td>Partially cloudy</td>\n",
       "      <td>93.0</td>\n",
       "      <td>96.0</td>\n",
       "    </tr>\n",
       "    <tr>\n",
       "      <th>50982</th>\n",
       "      <td>Santa Maria, CA</td>\n",
       "      <td>2018-06-13</td>\n",
       "      <td>Clear</td>\n",
       "      <td>73.0</td>\n",
       "      <td>90.0</td>\n",
       "    </tr>\n",
       "    <tr>\n",
       "      <th>...</th>\n",
       "      <td>...</td>\n",
       "      <td>...</td>\n",
       "      <td>...</td>\n",
       "      <td>...</td>\n",
       "      <td>...</td>\n",
       "    </tr>\n",
       "    <tr>\n",
       "      <th>50049</th>\n",
       "      <td>Adak Island, AK</td>\n",
       "      <td>2018-06-13</td>\n",
       "      <td>Clear</td>\n",
       "      <td>-42.0</td>\n",
       "      <td>-46.0</td>\n",
       "    </tr>\n",
       "    <tr>\n",
       "      <th>1572</th>\n",
       "      <td>Concord, NC</td>\n",
       "      <td>2018-06-11</td>\n",
       "      <td>Rain, Partially cloudy</td>\n",
       "      <td>NaN</td>\n",
       "      <td>NaN</td>\n",
       "    </tr>\n",
       "    <tr>\n",
       "      <th>1363</th>\n",
       "      <td>Anchorage, AK</td>\n",
       "      <td>2018-06-11</td>\n",
       "      <td>Rain, Overcast</td>\n",
       "      <td>182.0</td>\n",
       "      <td>NaN</td>\n",
       "    </tr>\n",
       "    <tr>\n",
       "      <th>4538</th>\n",
       "      <td>Salisbury, MD</td>\n",
       "      <td>2018-06-11</td>\n",
       "      <td>Rain, Overcast</td>\n",
       "      <td>NaN</td>\n",
       "      <td>NaN</td>\n",
       "    </tr>\n",
       "    <tr>\n",
       "      <th>26421</th>\n",
       "      <td>Staunton, VA</td>\n",
       "      <td>2018-06-12</td>\n",
       "      <td>Rain, Overcast</td>\n",
       "      <td>NaN</td>\n",
       "      <td>NaN</td>\n",
       "    </tr>\n",
       "  </tbody>\n",
       "</table>\n",
       "<p>100 rows × 5 columns</p>\n",
       "</div>"
      ],
      "text/plain": [
       "                     origin_city_name     fl_date                 weather  \\\n",
       "2067                  Springfield, IL  2018-06-11          Rain, Overcast   \n",
       "1739                  Springfield, MO  2018-06-11                   Clear   \n",
       "1377   West Palm Beach/Palm Beach, FL  2018-06-11          Rain, Overcast   \n",
       "861                       Medford, OR  2018-06-11        Partially cloudy   \n",
       "50982                 Santa Maria, CA  2018-06-13                   Clear   \n",
       "...                               ...         ...                     ...   \n",
       "50049                 Adak Island, AK  2018-06-13                   Clear   \n",
       "1572                      Concord, NC  2018-06-11  Rain, Partially cloudy   \n",
       "1363                    Anchorage, AK  2018-06-11          Rain, Overcast   \n",
       "4538                    Salisbury, MD  2018-06-11          Rain, Overcast   \n",
       "26421                    Staunton, VA  2018-06-12          Rain, Overcast   \n",
       "\n",
       "       dep_delay  arr_delay  \n",
       "2067       643.0      633.0  \n",
       "1739       231.0      227.0  \n",
       "1377        95.0       98.0  \n",
       "861         93.0       96.0  \n",
       "50982       73.0       90.0  \n",
       "...          ...        ...  \n",
       "50049      -42.0      -46.0  \n",
       "1572         NaN        NaN  \n",
       "1363       182.0        NaN  \n",
       "4538         NaN        NaN  \n",
       "26421        NaN        NaN  \n",
       "\n",
       "[100 rows x 5 columns]"
      ]
     },
     "execution_count": 60,
     "metadata": {},
     "output_type": "execute_result"
    }
   ],
   "source": [
    "weather_sampledf = pd.merge(city_df_sample, df_flights[['dep_delay','arr_delay']], left_index=True, right_index=True)\n",
    "weather_sampledf.sort_values('arr_delay',ascending=False)"
   ]
  },
  {
   "cell_type": "code",
   "execution_count": 61,
   "metadata": {},
   "outputs": [
    {
     "data": {
      "text/html": [
       "<div>\n",
       "<style scoped>\n",
       "    .dataframe tbody tr th:only-of-type {\n",
       "        vertical-align: middle;\n",
       "    }\n",
       "\n",
       "    .dataframe tbody tr th {\n",
       "        vertical-align: top;\n",
       "    }\n",
       "\n",
       "    .dataframe thead th {\n",
       "        text-align: right;\n",
       "    }\n",
       "</style>\n",
       "<table border=\"1\" class=\"dataframe\">\n",
       "  <thead>\n",
       "    <tr style=\"text-align: right;\">\n",
       "      <th></th>\n",
       "      <th>origin_city_name</th>\n",
       "      <th>fl_date</th>\n",
       "      <th>weather</th>\n",
       "      <th>dep_delay</th>\n",
       "      <th>arr_delay</th>\n",
       "    </tr>\n",
       "  </thead>\n",
       "  <tbody>\n",
       "    <tr>\n",
       "      <th>2067</th>\n",
       "      <td>Springfield, IL</td>\n",
       "      <td>2018-06-11</td>\n",
       "      <td>Rain, Overcast</td>\n",
       "      <td>643.0</td>\n",
       "      <td>633.0</td>\n",
       "    </tr>\n",
       "    <tr>\n",
       "      <th>1739</th>\n",
       "      <td>Springfield, MO</td>\n",
       "      <td>2018-06-11</td>\n",
       "      <td>Clear</td>\n",
       "      <td>231.0</td>\n",
       "      <td>227.0</td>\n",
       "    </tr>\n",
       "    <tr>\n",
       "      <th>1363</th>\n",
       "      <td>Anchorage, AK</td>\n",
       "      <td>2018-06-11</td>\n",
       "      <td>Rain, Overcast</td>\n",
       "      <td>182.0</td>\n",
       "      <td>NaN</td>\n",
       "    </tr>\n",
       "    <tr>\n",
       "      <th>1377</th>\n",
       "      <td>West Palm Beach/Palm Beach, FL</td>\n",
       "      <td>2018-06-11</td>\n",
       "      <td>Rain, Overcast</td>\n",
       "      <td>95.0</td>\n",
       "      <td>98.0</td>\n",
       "    </tr>\n",
       "    <tr>\n",
       "      <th>861</th>\n",
       "      <td>Medford, OR</td>\n",
       "      <td>2018-06-11</td>\n",
       "      <td>Partially cloudy</td>\n",
       "      <td>93.0</td>\n",
       "      <td>96.0</td>\n",
       "    </tr>\n",
       "    <tr>\n",
       "      <th>...</th>\n",
       "      <td>...</td>\n",
       "      <td>...</td>\n",
       "      <td>...</td>\n",
       "      <td>...</td>\n",
       "      <td>...</td>\n",
       "    </tr>\n",
       "    <tr>\n",
       "      <th>50049</th>\n",
       "      <td>Adak Island, AK</td>\n",
       "      <td>2018-06-13</td>\n",
       "      <td>Clear</td>\n",
       "      <td>-42.0</td>\n",
       "      <td>-46.0</td>\n",
       "    </tr>\n",
       "    <tr>\n",
       "      <th>1572</th>\n",
       "      <td>Concord, NC</td>\n",
       "      <td>2018-06-11</td>\n",
       "      <td>Rain, Partially cloudy</td>\n",
       "      <td>NaN</td>\n",
       "      <td>NaN</td>\n",
       "    </tr>\n",
       "    <tr>\n",
       "      <th>4538</th>\n",
       "      <td>Salisbury, MD</td>\n",
       "      <td>2018-06-11</td>\n",
       "      <td>Rain, Overcast</td>\n",
       "      <td>NaN</td>\n",
       "      <td>NaN</td>\n",
       "    </tr>\n",
       "    <tr>\n",
       "      <th>1245</th>\n",
       "      <td>Fayetteville, AR</td>\n",
       "      <td>2018-06-11</td>\n",
       "      <td>Clear</td>\n",
       "      <td>NaN</td>\n",
       "      <td>-5.0</td>\n",
       "    </tr>\n",
       "    <tr>\n",
       "      <th>26421</th>\n",
       "      <td>Staunton, VA</td>\n",
       "      <td>2018-06-12</td>\n",
       "      <td>Rain, Overcast</td>\n",
       "      <td>NaN</td>\n",
       "      <td>NaN</td>\n",
       "    </tr>\n",
       "  </tbody>\n",
       "</table>\n",
       "<p>100 rows × 5 columns</p>\n",
       "</div>"
      ],
      "text/plain": [
       "                     origin_city_name     fl_date                 weather  \\\n",
       "2067                  Springfield, IL  2018-06-11          Rain, Overcast   \n",
       "1739                  Springfield, MO  2018-06-11                   Clear   \n",
       "1363                    Anchorage, AK  2018-06-11          Rain, Overcast   \n",
       "1377   West Palm Beach/Palm Beach, FL  2018-06-11          Rain, Overcast   \n",
       "861                       Medford, OR  2018-06-11        Partially cloudy   \n",
       "...                               ...         ...                     ...   \n",
       "50049                 Adak Island, AK  2018-06-13                   Clear   \n",
       "1572                      Concord, NC  2018-06-11  Rain, Partially cloudy   \n",
       "4538                    Salisbury, MD  2018-06-11          Rain, Overcast   \n",
       "1245                 Fayetteville, AR  2018-06-11                   Clear   \n",
       "26421                    Staunton, VA  2018-06-12          Rain, Overcast   \n",
       "\n",
       "       dep_delay  arr_delay  \n",
       "2067       643.0      633.0  \n",
       "1739       231.0      227.0  \n",
       "1363       182.0        NaN  \n",
       "1377        95.0       98.0  \n",
       "861         93.0       96.0  \n",
       "...          ...        ...  \n",
       "50049      -42.0      -46.0  \n",
       "1572         NaN        NaN  \n",
       "4538         NaN        NaN  \n",
       "1245         NaN       -5.0  \n",
       "26421        NaN        NaN  \n",
       "\n",
       "[100 rows x 5 columns]"
      ]
     },
     "execution_count": 61,
     "metadata": {},
     "output_type": "execute_result"
    }
   ],
   "source": [
    "weather_sampledf.sort_values('dep_delay',ascending=False)"
   ]
  },
  {
   "cell_type": "code",
   "execution_count": 62,
   "metadata": {},
   "outputs": [
    {
     "data": {
      "text/plain": [
       "<AxesSubplot:xlabel='weather', ylabel='arr_delay'>"
      ]
     },
     "execution_count": 62,
     "metadata": {},
     "output_type": "execute_result"
    },
    {
     "data": {
      "image/png": "[encoded data removed]",
      "text/plain": [
       "<Figure size 1080x432 with 1 Axes>"
      ]
     },
     "metadata": {
      "needs_background": "light"
     },
     "output_type": "display_data"
    }
   ],
   "source": [
    "weather_arr_delay = weather_sampledf.groupby('weather',as_index=False)['arr_delay'].count()\n",
    "sns.barplot(x='weather',y='arr_delay',data=weather_arr_delay)"
   ]
  },
  {
   "cell_type": "code",
   "execution_count": 63,
   "metadata": {},
   "outputs": [
    {
     "data": {
      "text/plain": [
       "<AxesSubplot:xlabel='weather', ylabel='dep_delay'>"
      ]
     },
     "execution_count": 63,
     "metadata": {},
     "output_type": "execute_result"
    },
    {
     "data": {
      "image/png": "[encoded data removed]",
      "text/plain": [
       "<Figure size 1080x432 with 1 Axes>"
      ]
     },
     "metadata": {
      "needs_background": "light"
     },
     "output_type": "display_data"
    }
   ],
   "source": [
    "weather_dep_delay = weather_sampledf.groupby('weather',as_index=False)['dep_delay'].count()\n",
    "sns.barplot(x='weather',y='dep_delay',data=weather_dep_delay)"
   ]
  },
  {
   "cell_type": "code",
   "execution_count": null,
   "metadata": {},
   "outputs": [],
   "source": [
    "#doesnt seem like weather is a significant indicator of delays because there are higher delays when the weather is good"
   ]
  },
  {
   "cell_type": "markdown",
   "metadata": {},
   "source": [
    "#### **Task 4**: How taxi times changing during the day? Does higher traffic lead to bigger taxi times?"
   ]
  },
  {
   "cell_type": "code",
   "execution_count": 78,
   "metadata": {},
   "outputs": [
    {
     "data": {
      "text/html": [
       "<div>\n",
       "<style scoped>\n",
       "    .dataframe tbody tr th:only-of-type {\n",
       "        vertical-align: middle;\n",
       "    }\n",
       "\n",
       "    .dataframe tbody tr th {\n",
       "        vertical-align: top;\n",
       "    }\n",
       "\n",
       "    .dataframe thead th {\n",
       "        text-align: right;\n",
       "    }\n",
       "</style>\n",
       "<table border=\"1\" class=\"dataframe\">\n",
       "  <thead>\n",
       "    <tr style=\"text-align: right;\">\n",
       "      <th></th>\n",
       "      <th>fl_date</th>\n",
       "      <th>taxi_out</th>\n",
       "      <th>origin</th>\n",
       "      <th>dep_time</th>\n",
       "    </tr>\n",
       "  </thead>\n",
       "  <tbody>\n",
       "    <tr>\n",
       "      <th>4417413</th>\n",
       "      <td>2018-05-01</td>\n",
       "      <td>34.0</td>\n",
       "      <td>DSM</td>\n",
       "      <td>745.0</td>\n",
       "    </tr>\n",
       "    <tr>\n",
       "      <th>4422802</th>\n",
       "      <td>2018-05-01</td>\n",
       "      <td>10.0</td>\n",
       "      <td>BUF</td>\n",
       "      <td>754.0</td>\n",
       "    </tr>\n",
       "    <tr>\n",
       "      <th>4422801</th>\n",
       "      <td>2018-05-01</td>\n",
       "      <td>16.0</td>\n",
       "      <td>LGA</td>\n",
       "      <td>952.0</td>\n",
       "    </tr>\n",
       "    <tr>\n",
       "      <th>4422800</th>\n",
       "      <td>2018-05-01</td>\n",
       "      <td>23.0</td>\n",
       "      <td>LGA</td>\n",
       "      <td>2020.0</td>\n",
       "    </tr>\n",
       "    <tr>\n",
       "      <th>4422799</th>\n",
       "      <td>2018-05-01</td>\n",
       "      <td>31.0</td>\n",
       "      <td>DTW</td>\n",
       "      <td>1432.0</td>\n",
       "    </tr>\n",
       "    <tr>\n",
       "      <th>...</th>\n",
       "      <td>...</td>\n",
       "      <td>...</td>\n",
       "      <td>...</td>\n",
       "      <td>...</td>\n",
       "    </tr>\n",
       "    <tr>\n",
       "      <th>3096342</th>\n",
       "      <td>2019-12-31</td>\n",
       "      <td>9.0</td>\n",
       "      <td>ORD</td>\n",
       "      <td>1503.0</td>\n",
       "    </tr>\n",
       "    <tr>\n",
       "      <th>3096341</th>\n",
       "      <td>2019-12-31</td>\n",
       "      <td>27.0</td>\n",
       "      <td>GJT</td>\n",
       "      <td>555.0</td>\n",
       "    </tr>\n",
       "    <tr>\n",
       "      <th>3096340</th>\n",
       "      <td>2019-12-31</td>\n",
       "      <td>29.0</td>\n",
       "      <td>DFW</td>\n",
       "      <td>1119.0</td>\n",
       "    </tr>\n",
       "    <tr>\n",
       "      <th>3096356</th>\n",
       "      <td>2019-12-31</td>\n",
       "      <td>NaN</td>\n",
       "      <td>DTW</td>\n",
       "      <td>NaN</td>\n",
       "    </tr>\n",
       "    <tr>\n",
       "      <th>3108963</th>\n",
       "      <td>2019-12-31</td>\n",
       "      <td>10.0</td>\n",
       "      <td>BOS</td>\n",
       "      <td>812.0</td>\n",
       "    </tr>\n",
       "  </tbody>\n",
       "</table>\n",
       "<p>5000000 rows × 4 columns</p>\n",
       "</div>"
      ],
      "text/plain": [
       "            fl_date  taxi_out origin  dep_time\n",
       "4417413  2018-05-01      34.0    DSM     745.0\n",
       "4422802  2018-05-01      10.0    BUF     754.0\n",
       "4422801  2018-05-01      16.0    LGA     952.0\n",
       "4422800  2018-05-01      23.0    LGA    2020.0\n",
       "4422799  2018-05-01      31.0    DTW    1432.0\n",
       "...             ...       ...    ...       ...\n",
       "3096342  2019-12-31       9.0    ORD    1503.0\n",
       "3096341  2019-12-31      27.0    GJT     555.0\n",
       "3096340  2019-12-31      29.0    DFW    1119.0\n",
       "3096356  2019-12-31       NaN    DTW       NaN\n",
       "3108963  2019-12-31      10.0    BOS     812.0\n",
       "\n",
       "[5000000 rows x 4 columns]"
      ]
     },
     "execution_count": 78,
     "metadata": {},
     "output_type": "execute_result"
    }
   ],
   "source": [
    "df_taxi = df_flights[['fl_date','taxi_out','origin','dep_time']]\n",
    "df_taxi.sort_values(by=['fl_date'])"
   ]
  },
  {
   "cell_type": "code",
   "execution_count": 79,
   "metadata": {},
   "outputs": [
    {
     "data": {
      "text/html": [
       "<div>\n",
       "<style scoped>\n",
       "    .dataframe tbody tr th:only-of-type {\n",
       "        vertical-align: middle;\n",
       "    }\n",
       "\n",
       "    .dataframe tbody tr th {\n",
       "        vertical-align: top;\n",
       "    }\n",
       "\n",
       "    .dataframe thead th {\n",
       "        text-align: right;\n",
       "    }\n",
       "</style>\n",
       "<table border=\"1\" class=\"dataframe\">\n",
       "  <thead>\n",
       "    <tr style=\"text-align: right;\">\n",
       "      <th></th>\n",
       "      <th></th>\n",
       "      <th></th>\n",
       "      <th>taxi_out</th>\n",
       "    </tr>\n",
       "    <tr>\n",
       "      <th>origin</th>\n",
       "      <th>fl_date</th>\n",
       "      <th>dep_time</th>\n",
       "      <th></th>\n",
       "    </tr>\n",
       "  </thead>\n",
       "  <tbody>\n",
       "    <tr>\n",
       "      <th rowspan=\"5\" valign=\"top\">ABE</th>\n",
       "      <th rowspan=\"5\" valign=\"top\">2018-05-01</th>\n",
       "      <th>542.0</th>\n",
       "      <td>9.0</td>\n",
       "    </tr>\n",
       "    <tr>\n",
       "      <th>554.0</th>\n",
       "      <td>18.0</td>\n",
       "    </tr>\n",
       "    <tr>\n",
       "      <th>600.0</th>\n",
       "      <td>10.0</td>\n",
       "    </tr>\n",
       "    <tr>\n",
       "      <th>626.0</th>\n",
       "      <td>12.0</td>\n",
       "    </tr>\n",
       "    <tr>\n",
       "      <th>755.0</th>\n",
       "      <td>11.0</td>\n",
       "    </tr>\n",
       "    <tr>\n",
       "      <th>...</th>\n",
       "      <th>...</th>\n",
       "      <th>...</th>\n",
       "      <td>...</td>\n",
       "    </tr>\n",
       "    <tr>\n",
       "      <th rowspan=\"5\" valign=\"top\">YUM</th>\n",
       "      <th rowspan=\"5\" valign=\"top\">2019-12-31</th>\n",
       "      <th>932.0</th>\n",
       "      <td>14.0</td>\n",
       "    </tr>\n",
       "    <tr>\n",
       "      <th>1246.0</th>\n",
       "      <td>12.0</td>\n",
       "    </tr>\n",
       "    <tr>\n",
       "      <th>1323.0</th>\n",
       "      <td>9.0</td>\n",
       "    </tr>\n",
       "    <tr>\n",
       "      <th>1722.0</th>\n",
       "      <td>11.0</td>\n",
       "    </tr>\n",
       "    <tr>\n",
       "      <th>2204.0</th>\n",
       "      <td>9.0</td>\n",
       "    </tr>\n",
       "  </tbody>\n",
       "</table>\n",
       "<p>4042577 rows × 1 columns</p>\n",
       "</div>"
      ],
      "text/plain": [
       "                            taxi_out\n",
       "origin fl_date    dep_time          \n",
       "ABE    2018-05-01 542.0          9.0\n",
       "                  554.0         18.0\n",
       "                  600.0         10.0\n",
       "                  626.0         12.0\n",
       "                  755.0         11.0\n",
       "...                              ...\n",
       "YUM    2019-12-31 932.0         14.0\n",
       "                  1246.0        12.0\n",
       "                  1323.0         9.0\n",
       "                  1722.0        11.0\n",
       "                  2204.0         9.0\n",
       "\n",
       "[4042577 rows x 1 columns]"
      ]
     },
     "execution_count": 79,
     "metadata": {},
     "output_type": "execute_result"
    }
   ],
   "source": [
    "df_taxi[['fl_date','origin','taxi_out','dep_time']].groupby(['origin','fl_date','dep_time']).sum()\n"
   ]
  },
  {
   "cell_type": "code",
   "execution_count": 80,
   "metadata": {},
   "outputs": [
    {
     "data": {
      "text/plain": [
       "<AxesSubplot:ylabel='origin,fl_date,dep_time'>"
      ]
     },
     "execution_count": 80,
     "metadata": {},
     "output_type": "execute_result"
    },
    {
     "data": {
      "image/png": "[encoded data removed]",
      "text/plain": [
       "<Figure size 2160x1800 with 1 Axes>"
      ]
     },
     "metadata": {
      "needs_background": "light"
     },
     "output_type": "display_data"
    }
   ],
   "source": [
    "#Since there are a large number of rows we will use a sample of 150.\n",
    "df_taxi_sample = df_taxi.sample(150)\n",
    "# plot data, sample of 75.\n",
    "df_taxi_sample = df_taxi_sample[['fl_date','origin','dep_time','taxi_out']].groupby(['origin','fl_date','dep_time']).sum().sample(75)\n",
    "df_taxi_sample.plot.barh(figsize=(30, 25))"
   ]
  },
  {
   "cell_type": "code",
   "execution_count": null,
   "metadata": {},
   "outputs": [],
   "source": []
  },
  {
   "cell_type": "code",
   "execution_count": null,
   "metadata": {},
   "outputs": [],
   "source": []
  },
  {
   "cell_type": "code",
   "execution_count": null,
   "metadata": {},
   "outputs": [],
   "source": []
  },
  {
   "cell_type": "code",
   "execution_count": null,
   "metadata": {},
   "outputs": [],
   "source": []
  },
  {
   "cell_type": "code",
   "execution_count": 81,
   "metadata": {},
   "outputs": [],
   "source": [
    "#create arrival and dept time hour columns\n",
    "df_flights['arr_hour'] = df_flights['arr_time'].astype(str).str[:-4]\n",
    "df_flights['dep_hour'] = df_flights['dep_time'].astype(str).str[:-4]\n",
    "df_flights = df_flights.dropna(axis=0, how='any', subset=['arr_time','dep_time'])"
   ]
  },
  {
   "cell_type": "code",
   "execution_count": 82,
   "metadata": {},
   "outputs": [],
   "source": [
    "\n",
    "\n",
    "# group by arrival hour, aggregated by mean of taxi in time and count of flights\n",
    "df_arr = df_flights[['arr_hour', 'taxi_in','flights']].groupby(['arr_hour']).agg({'taxi_in':'mean', 'flights':'count'})\n",
    "df_arr = df_arr.drop(index='')\n",
    "\n",
    "# group by departure hour, aggregated by mean of taxi out time and count of flights\n",
    "df_dep = df_flights[['dep_hour', 'taxi_out','flights']].groupby(['dep_hour']).agg({'taxi_out':'mean', 'flights':'count'})\n",
    "df_dep = df_dep.drop(index='')"
   ]
  },
  {
   "cell_type": "code",
   "execution_count": 83,
   "metadata": {},
   "outputs": [],
   "source": [
    "df_arr = df_arr.reset_index()\n",
    "df_dep = df_dep.reset_index()"
   ]
  },
  {
   "cell_type": "code",
   "execution_count": 84,
   "metadata": {},
   "outputs": [
    {
     "data": {
      "application/vnd.plotly.v1+json": {
       "config": {
        "plotlyServerURL": "https://plot.ly"
       },
       "data": [
        {
         "marker": {
          "color": "#ff794d"
         },
         "name": "Inbound",
         "type": "bar",
         "x": [
          "1",
          "10",
          "11",
          "12",
          "13",
          "14",
          "15",
          "16",
          "17",
          "18",
          "19",
          "2",
          "20",
          "21",
          "22",
          "23",
          "24",
          "3",
          "4",
          "5",
          "6",
          "7",
          "8",
          "9"
         ],
         "y": [
          7.223256480022913,
          7.913376388112571,
          7.30727284449557,
          7.207463167245303,
          7.210068834187077,
          7.365005141013068,
          7.344507666003308,
          7.1219221553008225,
          7.71061338500706,
          8.05370215313016,
          8.513739988946217,
          7.227169320766981,
          8.29619702030194,
          7.876619002579235,
          7.289480482575112,
          6.885564500313306,
          7.205292360221938,
          7.356490872210953,
          6.716305142578601,
          7.216305218500608,
          8.019018322256152,
          7.929467455621301,
          8.513671827131244,
          8.05407643561119
         ]
        },
        {
         "marker": {
          "color": "#4d4dff"
         },
         "name": "Outbound",
         "type": "bar",
         "x": [
          "1",
          "10",
          "11",
          "12",
          "13",
          "14",
          "15",
          "16",
          "17",
          "18",
          "19",
          "2",
          "20",
          "21",
          "22",
          "23",
          "24",
          "3",
          "4",
          "5",
          "6",
          "7",
          "8",
          "9"
         ],
         "y": [
          14.679791080755324,
          17.8576380486242,
          17.284386212536937,
          16.794351499360058,
          16.490964257015087,
          16.61940692075157,
          17.26313141205314,
          17.030087730793614,
          17.630318320967156,
          18.301883478161116,
          17.52067188906552,
          13.787677725118483,
          18.219363030367155,
          17.39764120320277,
          16.980071854856178,
          16.470277575631563,
          17.13573407202216,
          12.770679219905851,
          14.892398599358039,
          16.59936356404137,
          17.227146546782514,
          18.05610222998388,
          19.597876463595355,
          18.502997716522025
         ]
        }
       ],
       "layout": {
        "autosize": true,
        "template": {
         "data": {
          "bar": [
           {
            "error_x": {
             "color": "#2a3f5f"
            },
            "error_y": {
             "color": "#2a3f5f"
            },
            "marker": {
             "line": {
              "color": "#E5ECF6",
              "width": 0.5
             },
             "pattern": {
              "fillmode": "overlay",
              "size": 10,
              "solidity": 0.2
             }
            },
            "type": "bar"
           }
          ],
          "barpolar": [
           {
            "marker": {
             "line": {
              "color": "#E5ECF6",
              "width": 0.5
             },
             "pattern": {
              "fillmode": "overlay",
              "size": 10,
              "solidity": 0.2
             }
            },
            "type": "barpolar"
           }
          ],
          "carpet": [
           {
            "aaxis": {
             "endlinecolor": "#2a3f5f",
             "gridcolor": "white",
             "linecolor": "white",
             "minorgridcolor": "white",
             "startlinecolor": "#2a3f5f"
            },
            "baxis": {
             "endlinecolor": "#2a3f5f",
             "gridcolor": "white",
             "linecolor": "white",
             "minorgridcolor": "white",
             "startlinecolor": "#2a3f5f"
            },
            "type": "carpet"
           }
          ],
          "choropleth": [
           {
            "colorbar": {
             "outlinewidth": 0,
             "ticks": ""
            },
            "type": "choropleth"
           }
          ],
          "contour": [
           {
            "colorbar": {
             "outlinewidth": 0,
             "ticks": ""
            },
            "colorscale": [
             [
              0,
              "#0d0887"
             ],
             [
              0.1111111111111111,
              "#46039f"
             ],
             [
              0.2222222222222222,
              "#7201a8"
             ],
             [
              0.3333333333333333,
              "#9c179e"
             ],
             [
              0.4444444444444444,
              "#bd3786"
             ],
             [
              0.5555555555555556,
              "#d8576b"
             ],
             [
              0.6666666666666666,
              "#ed7953"
             ],
             [
              0.7777777777777778,
              "#fb9f3a"
             ],
             [
              0.8888888888888888,
              "#fdca26"
             ],
             [
              1,
              "#f0f921"
             ]
            ],
            "type": "contour"
           }
          ],
          "contourcarpet": [
           {
            "colorbar": {
             "outlinewidth": 0,
             "ticks": ""
            },
            "type": "contourcarpet"
           }
          ],
          "heatmap": [
           {
            "colorbar": {
             "outlinewidth": 0,
             "ticks": ""
            },
            "colorscale": [
             [
              0,
              "#0d0887"
             ],
             [
              0.1111111111111111,
              "#46039f"
             ],
             [
              0.2222222222222222,
              "#7201a8"
             ],
             [
              0.3333333333333333,
              "#9c179e"
             ],
             [
              0.4444444444444444,
              "#bd3786"
             ],
             [
              0.5555555555555556,
              "#d8576b"
             ],
             [
              0.6666666666666666,
              "#ed7953"
             ],
             [
              0.7777777777777778,
              "#fb9f3a"
             ],
             [
              0.8888888888888888,
              "#fdca26"
             ],
             [
              1,
              "#f0f921"
             ]
            ],
            "type": "heatmap"
           }
          ],
          "heatmapgl": [
           {
            "colorbar": {
             "outlinewidth": 0,
             "ticks": ""
            },
            "colorscale": [
             [
              0,
              "#0d0887"
             ],
             [
              0.1111111111111111,
              "#46039f"
             ],
             [
              0.2222222222222222,
              "#7201a8"
             ],
             [
              0.3333333333333333,
              "#9c179e"
             ],
             [
              0.4444444444444444,
              "#bd3786"
             ],
             [
              0.5555555555555556,
              "#d8576b"
             ],
             [
              0.6666666666666666,
              "#ed7953"
             ],
             [
              0.7777777777777778,
              "#fb9f3a"
             ],
             [
              0.8888888888888888,
              "#fdca26"
             ],
             [
              1,
              "#f0f921"
             ]
            ],
            "type": "heatmapgl"
           }
          ],
          "histogram": [
           {
            "marker": {
             "pattern": {
              "fillmode": "overlay",
              "size": 10,
              "solidity": 0.2
             }
            },
            "type": "histogram"
           }
          ],
          "histogram2d": [
           {
            "colorbar": {
             "outlinewidth": 0,
             "ticks": ""
            },
            "colorscale": [
             [
              0,
              "#0d0887"
             ],
             [
              0.1111111111111111,
              "#46039f"
             ],
             [
              0.2222222222222222,
              "#7201a8"
             ],
             [
              0.3333333333333333,
              "#9c179e"
             ],
             [
              0.4444444444444444,
              "#bd3786"
             ],
             [
              0.5555555555555556,
              "#d8576b"
             ],
             [
              0.6666666666666666,
              "#ed7953"
             ],
             [
              0.7777777777777778,
              "#fb9f3a"
             ],
             [
              0.8888888888888888,
              "#fdca26"
             ],
             [
              1,
              "#f0f921"
             ]
            ],
            "type": "histogram2d"
           }
          ],
          "histogram2dcontour": [
           {
            "colorbar": {
             "outlinewidth": 0,
             "ticks": ""
            },
            "colorscale": [
             [
              0,
              "#0d0887"
             ],
             [
              0.1111111111111111,
              "#46039f"
             ],
             [
              0.2222222222222222,
              "#7201a8"
             ],
             [
              0.3333333333333333,
              "#9c179e"
             ],
             [
              0.4444444444444444,
              "#bd3786"
             ],
             [
              0.5555555555555556,
              "#d8576b"
             ],
             [
              0.6666666666666666,
              "#ed7953"
             ],
             [
              0.7777777777777778,
              "#fb9f3a"
             ],
             [
              0.8888888888888888,
              "#fdca26"
             ],
             [
              1,
              "#f0f921"
             ]
            ],
            "type": "histogram2dcontour"
           }
          ],
          "mesh3d": [
           {
            "colorbar": {
             "outlinewidth": 0,
             "ticks": ""
            },
            "type": "mesh3d"
           }
          ],
          "parcoords": [
           {
            "line": {
             "colorbar": {
              "outlinewidth": 0,
              "ticks": ""
             }
            },
            "type": "parcoords"
           }
          ],
          "pie": [
           {
            "automargin": true,
            "type": "pie"
           }
          ],
          "scatter": [
           {
            "fillpattern": {
             "fillmode": "overlay",
             "size": 10,
             "solidity": 0.2
            },
            "type": "scatter"
           }
          ],
          "scatter3d": [
           {
            "line": {
             "colorbar": {
              "outlinewidth": 0,
              "ticks": ""
             }
            },
            "marker": {
             "colorbar": {
              "outlinewidth": 0,
              "ticks": ""
             }
            },
            "type": "scatter3d"
           }
          ],
          "scattercarpet": [
           {
            "marker": {
             "colorbar": {
              "outlinewidth": 0,
              "ticks": ""
             }
            },
            "type": "scattercarpet"
           }
          ],
          "scattergeo": [
           {
            "marker": {
             "colorbar": {
              "outlinewidth": 0,
              "ticks": ""
             }
            },
            "type": "scattergeo"
           }
          ],
          "scattergl": [
           {
            "marker": {
             "colorbar": {
              "outlinewidth": 0,
              "ticks": ""
             }
            },
            "type": "scattergl"
           }
          ],
          "scattermapbox": [
           {
            "marker": {
             "colorbar": {
              "outlinewidth": 0,
              "ticks": ""
             }
            },
            "type": "scattermapbox"
           }
          ],
          "scatterpolar": [
           {
            "marker": {
             "colorbar": {
              "outlinewidth": 0,
              "ticks": ""
             }
            },
            "type": "scatterpolar"
           }
          ],
          "scatterpolargl": [
           {
            "marker": {
             "colorbar": {
              "outlinewidth": 0,
              "ticks": ""
             }
            },
            "type": "scatterpolargl"
           }
          ],
          "scatterternary": [
           {
            "marker": {
             "colorbar": {
              "outlinewidth": 0,
              "ticks": ""
             }
            },
            "type": "scatterternary"
           }
          ],
          "surface": [
           {
            "colorbar": {
             "outlinewidth": 0,
             "ticks": ""
            },
            "colorscale": [
             [
              0,
              "#0d0887"
             ],
             [
              0.1111111111111111,
              "#46039f"
             ],
             [
              0.2222222222222222,
              "#7201a8"
             ],
             [
              0.3333333333333333,
              "#9c179e"
             ],
             [
              0.4444444444444444,
              "#bd3786"
             ],
             [
              0.5555555555555556,
              "#d8576b"
             ],
             [
              0.6666666666666666,
              "#ed7953"
             ],
             [
              0.7777777777777778,
              "#fb9f3a"
             ],
             [
              0.8888888888888888,
              "#fdca26"
             ],
             [
              1,
              "#f0f921"
             ]
            ],
            "type": "surface"
           }
          ],
          "table": [
           {
            "cells": {
             "fill": {
              "color": "#EBF0F8"
             },
             "line": {
              "color": "white"
             }
            },
            "header": {
             "fill": {
              "color": "#C8D4E3"
             },
             "line": {
              "color": "white"
             }
            },
            "type": "table"
           }
          ]
         },
         "layout": {
          "annotationdefaults": {
           "arrowcolor": "#2a3f5f",
           "arrowhead": 0,
           "arrowwidth": 1
          },
          "autotypenumbers": "strict",
          "coloraxis": {
           "colorbar": {
            "outlinewidth": 0,
            "ticks": ""
           }
          },
          "colorscale": {
           "diverging": [
            [
             0,
             "#8e0152"
            ],
            [
             0.1,
             "#c51b7d"
            ],
            [
             0.2,
             "#de77ae"
            ],
            [
             0.3,
             "#f1b6da"
            ],
            [
             0.4,
             "#fde0ef"
            ],
            [
             0.5,
             "#f7f7f7"
            ],
            [
             0.6,
             "#e6f5d0"
            ],
            [
             0.7,
             "#b8e186"
            ],
            [
             0.8,
             "#7fbc41"
            ],
            [
             0.9,
             "#4d9221"
            ],
            [
             1,
             "#276419"
            ]
           ],
           "sequential": [
            [
             0,
             "#0d0887"
            ],
            [
             0.1111111111111111,
             "#46039f"
            ],
            [
             0.2222222222222222,
             "#7201a8"
            ],
            [
             0.3333333333333333,
             "#9c179e"
            ],
            [
             0.4444444444444444,
             "#bd3786"
            ],
            [
             0.5555555555555556,
             "#d8576b"
            ],
            [
             0.6666666666666666,
             "#ed7953"
            ],
            [
             0.7777777777777778,
             "#fb9f3a"
            ],
            [
             0.8888888888888888,
             "#fdca26"
            ],
            [
             1,
             "#f0f921"
            ]
           ],
           "sequentialminus": [
            [
             0,
             "#0d0887"
            ],
            [
             0.1111111111111111,
             "#46039f"
            ],
            [
             0.2222222222222222,
             "#7201a8"
            ],
            [
             0.3333333333333333,
             "#9c179e"
            ],
            [
             0.4444444444444444,
             "#bd3786"
            ],
            [
             0.5555555555555556,
             "#d8576b"
            ],
            [
             0.6666666666666666,
             "#ed7953"
            ],
            [
             0.7777777777777778,
             "#fb9f3a"
            ],
            [
             0.8888888888888888,
             "#fdca26"
            ],
            [
             1,
             "#f0f921"
            ]
           ]
          },
          "colorway": [
           "#636efa",
           "#EF553B",
           "#00cc96",
           "#ab63fa",
           "#FFA15A",
           "#19d3f3",
           "#FF6692",
           "#B6E880",
           "#FF97FF",
           "#FECB52"
          ],
          "font": {
           "color": "#2a3f5f"
          },
          "geo": {
           "bgcolor": "white",
           "lakecolor": "white",
           "landcolor": "#E5ECF6",
           "showlakes": true,
           "showland": true,
           "subunitcolor": "white"
          },
          "hoverlabel": {
           "align": "left"
          },
          "hovermode": "closest",
          "mapbox": {
           "style": "light"
          },
          "paper_bgcolor": "white",
          "plot_bgcolor": "#E5ECF6",
          "polar": {
           "angularaxis": {
            "gridcolor": "white",
            "linecolor": "white",
            "ticks": ""
           },
           "bgcolor": "#E5ECF6",
           "radialaxis": {
            "gridcolor": "white",
            "linecolor": "white",
            "ticks": ""
           }
          },
          "scene": {
           "xaxis": {
            "backgroundcolor": "#E5ECF6",
            "gridcolor": "white",
            "gridwidth": 2,
            "linecolor": "white",
            "showbackground": true,
            "ticks": "",
            "zerolinecolor": "white"
           },
           "yaxis": {
            "backgroundcolor": "#E5ECF6",
            "gridcolor": "white",
            "gridwidth": 2,
            "linecolor": "white",
            "showbackground": true,
            "ticks": "",
            "zerolinecolor": "white"
           },
           "zaxis": {
            "backgroundcolor": "#E5ECF6",
            "gridcolor": "white",
            "gridwidth": 2,
            "linecolor": "white",
            "showbackground": true,
            "ticks": "",
            "zerolinecolor": "white"
           }
          },
          "shapedefaults": {
           "line": {
            "color": "#2a3f5f"
           }
          },
          "ternary": {
           "aaxis": {
            "gridcolor": "white",
            "linecolor": "white",
            "ticks": ""
           },
           "baxis": {
            "gridcolor": "white",
            "linecolor": "white",
            "ticks": ""
           },
           "bgcolor": "#E5ECF6",
           "caxis": {
            "gridcolor": "white",
            "linecolor": "white",
            "ticks": ""
           }
          },
          "title": {
           "x": 0.05
          },
          "xaxis": {
           "automargin": true,
           "gridcolor": "white",
           "linecolor": "white",
           "ticks": "",
           "title": {
            "standoff": 15
           },
           "zerolinecolor": "white",
           "zerolinewidth": 2
          },
          "yaxis": {
           "automargin": true,
           "gridcolor": "white",
           "linecolor": "white",
           "ticks": "",
           "title": {
            "standoff": 15
           },
           "zerolinecolor": "white",
           "zerolinewidth": 2
          }
         }
        },
        "title": {
         "text": "Taxi Time by Hour"
        },
        "xaxis": {
         "autorange": true,
         "range": [
          -0.5,
          23.5
         ],
         "tickmode": "linear",
         "title": {
          "text": "Hour"
         },
         "type": "category"
        },
        "yaxis": {
         "autorange": true,
         "range": [
          0,
          20.629343645889847
         ],
         "title": {
          "text": "Taxi Time"
         },
         "type": "linear"
        }
       }
      },
      "image/png": "[encoded data removed]",
      "text/html": [
       "<div>                            <div id=\"ebb80d95-b3d1-4323-80df-56e2afa99b0e\" class=\"plotly-graph-div\" style=\"height:525px; width:100%;\"></div>            <script type=\"text/javascript\">                require([\"plotly\"], function(Plotly) {                    window.PLOTLYENV=window.PLOTLYENV || {};                                    if (document.getElementById(\"ebb80d95-b3d1-4323-80df-56e2afa99b0e\")) {                    Plotly.newPlot(                        \"ebb80d95-b3d1-4323-80df-56e2afa99b0e\",                        [{\"marker\":{\"color\":\"#ff794d\"},\"name\":\"Inbound\",\"x\":[\"1\",\"10\",\"11\",\"12\",\"13\",\"14\",\"15\",\"16\",\"17\",\"18\",\"19\",\"2\",\"20\",\"21\",\"22\",\"23\",\"24\",\"3\",\"4\",\"5\",\"6\",\"7\",\"8\",\"9\"],\"y\":[7.223256480022913,7.913376388112571,7.30727284449557,7.207463167245303,7.210068834187077,7.365005141013068,7.344507666003308,7.1219221553008225,7.71061338500706,8.05370215313016,8.513739988946217,7.227169320766981,8.29619702030194,7.876619002579235,7.289480482575112,6.885564500313306,7.205292360221938,7.356490872210953,6.716305142578601,7.216305218500608,8.019018322256152,7.929467455621301,8.513671827131244,8.05407643561119],\"type\":\"bar\"},{\"marker\":{\"color\":\"#4d4dff\"},\"name\":\"Outbound\",\"x\":[\"1\",\"10\",\"11\",\"12\",\"13\",\"14\",\"15\",\"16\",\"17\",\"18\",\"19\",\"2\",\"20\",\"21\",\"22\",\"23\",\"24\",\"3\",\"4\",\"5\",\"6\",\"7\",\"8\",\"9\"],\"y\":[14.679791080755324,17.8576380486242,17.284386212536937,16.794351499360058,16.490964257015087,16.61940692075157,17.26313141205314,17.030087730793614,17.630318320967156,18.301883478161116,17.52067188906552,13.787677725118483,18.219363030367155,17.39764120320277,16.980071854856178,16.470277575631563,17.13573407202216,12.770679219905851,14.892398599358039,16.59936356404137,17.227146546782514,18.05610222998388,19.597876463595355,18.502997716522025],\"type\":\"bar\"}],                        {\"title\":{\"text\":\"Taxi Time by Hour\"},\"xaxis\":{\"tickmode\":\"linear\",\"title\":{\"text\":\"Hour\"}},\"yaxis\":{\"title\":{\"text\":\"Taxi Time\"}},\"template\":{\"data\":{\"histogram2dcontour\":[{\"type\":\"histogram2dcontour\",\"colorbar\":{\"outlinewidth\":0,\"ticks\":\"\"},\"colorscale\":[[0.0,\"#0d0887\"],[0.1111111111111111,\"#46039f\"],[0.2222222222222222,\"#7201a8\"],[0.3333333333333333,\"#9c179e\"],[0.4444444444444444,\"#bd3786\"],[0.5555555555555556,\"#d8576b\"],[0.6666666666666666,\"#ed7953\"],[0.7777777777777778,\"#fb9f3a\"],[0.8888888888888888,\"#fdca26\"],[1.0,\"#f0f921\"]]}],\"choropleth\":[{\"type\":\"choropleth\",\"colorbar\":{\"outlinewidth\":0,\"ticks\":\"\"}}],\"histogram2d\":[{\"type\":\"histogram2d\",\"colorbar\":{\"outlinewidth\":0,\"ticks\":\"\"},\"colorscale\":[[0.0,\"#0d0887\"],[0.1111111111111111,\"#46039f\"],[0.2222222222222222,\"#7201a8\"],[0.3333333333333333,\"#9c179e\"],[0.4444444444444444,\"#bd3786\"],[0.5555555555555556,\"#d8576b\"],[0.6666666666666666,\"#ed7953\"],[0.7777777777777778,\"#fb9f3a\"],[0.8888888888888888,\"#fdca26\"],[1.0,\"#f0f921\"]]}],\"heatmap\":[{\"type\":\"heatmap\",\"colorbar\":{\"outlinewidth\":0,\"ticks\":\"\"},\"colorscale\":[[0.0,\"#0d0887\"],[0.1111111111111111,\"#46039f\"],[0.2222222222222222,\"#7201a8\"],[0.3333333333333333,\"#9c179e\"],[0.4444444444444444,\"#bd3786\"],[0.5555555555555556,\"#d8576b\"],[0.6666666666666666,\"#ed7953\"],[0.7777777777777778,\"#fb9f3a\"],[0.8888888888888888,\"#fdca26\"],[1.0,\"#f0f921\"]]}],\"heatmapgl\":[{\"type\":\"heatmapgl\",\"colorbar\":{\"outlinewidth\":0,\"ticks\":\"\"},\"colorscale\":[[0.0,\"#0d0887\"],[0.1111111111111111,\"#46039f\"],[0.2222222222222222,\"#7201a8\"],[0.3333333333333333,\"#9c179e\"],[0.4444444444444444,\"#bd3786\"],[0.5555555555555556,\"#d8576b\"],[0.6666666666666666,\"#ed7953\"],[0.7777777777777778,\"#fb9f3a\"],[0.8888888888888888,\"#fdca26\"],[1.0,\"#f0f921\"]]}],\"contourcarpet\":[{\"type\":\"contourcarpet\",\"colorbar\":{\"outlinewidth\":0,\"ticks\":\"\"}}],\"contour\":[{\"type\":\"contour\",\"colorbar\":{\"outlinewidth\":0,\"ticks\":\"\"},\"colorscale\":[[0.0,\"#0d0887\"],[0.1111111111111111,\"#46039f\"],[0.2222222222222222,\"#7201a8\"],[0.3333333333333333,\"#9c179e\"],[0.4444444444444444,\"#bd3786\"],[0.5555555555555556,\"#d8576b\"],[0.6666666666666666,\"#ed7953\"],[0.7777777777777778,\"#fb9f3a\"],[0.8888888888888888,\"#fdca26\"],[1.0,\"#f0f921\"]]}],\"surface\":[{\"type\":\"surface\",\"colorbar\":{\"outlinewidth\":0,\"ticks\":\"\"},\"colorscale\":[[0.0,\"#0d0887\"],[0.1111111111111111,\"#46039f\"],[0.2222222222222222,\"#7201a8\"],[0.3333333333333333,\"#9c179e\"],[0.4444444444444444,\"#bd3786\"],[0.5555555555555556,\"#d8576b\"],[0.6666666666666666,\"#ed7953\"],[0.7777777777777778,\"#fb9f3a\"],[0.8888888888888888,\"#fdca26\"],[1.0,\"#f0f921\"]]}],\"mesh3d\":[{\"type\":\"mesh3d\",\"colorbar\":{\"outlinewidth\":0,\"ticks\":\"\"}}],\"scatter\":[{\"fillpattern\":{\"fillmode\":\"overlay\",\"size\":10,\"solidity\":0.2},\"type\":\"scatter\"}],\"parcoords\":[{\"type\":\"parcoords\",\"line\":{\"colorbar\":{\"outlinewidth\":0,\"ticks\":\"\"}}}],\"scatterpolargl\":[{\"type\":\"scatterpolargl\",\"marker\":{\"colorbar\":{\"outlinewidth\":0,\"ticks\":\"\"}}}],\"bar\":[{\"error_x\":{\"color\":\"#2a3f5f\"},\"error_y\":{\"color\":\"#2a3f5f\"},\"marker\":{\"line\":{\"color\":\"#E5ECF6\",\"width\":0.5},\"pattern\":{\"fillmode\":\"overlay\",\"size\":10,\"solidity\":0.2}},\"type\":\"bar\"}],\"scattergeo\":[{\"type\":\"scattergeo\",\"marker\":{\"colorbar\":{\"outlinewidth\":0,\"ticks\":\"\"}}}],\"scatterpolar\":[{\"type\":\"scatterpolar\",\"marker\":{\"colorbar\":{\"outlinewidth\":0,\"ticks\":\"\"}}}],\"histogram\":[{\"marker\":{\"pattern\":{\"fillmode\":\"overlay\",\"size\":10,\"solidity\":0.2}},\"type\":\"histogram\"}],\"scattergl\":[{\"type\":\"scattergl\",\"marker\":{\"colorbar\":{\"outlinewidth\":0,\"ticks\":\"\"}}}],\"scatter3d\":[{\"type\":\"scatter3d\",\"line\":{\"colorbar\":{\"outlinewidth\":0,\"ticks\":\"\"}},\"marker\":{\"colorbar\":{\"outlinewidth\":0,\"ticks\":\"\"}}}],\"scattermapbox\":[{\"type\":\"scattermapbox\",\"marker\":{\"colorbar\":{\"outlinewidth\":0,\"ticks\":\"\"}}}],\"scatterternary\":[{\"type\":\"scatterternary\",\"marker\":{\"colorbar\":{\"outlinewidth\":0,\"ticks\":\"\"}}}],\"scattercarpet\":[{\"type\":\"scattercarpet\",\"marker\":{\"colorbar\":{\"outlinewidth\":0,\"ticks\":\"\"}}}],\"carpet\":[{\"aaxis\":{\"endlinecolor\":\"#2a3f5f\",\"gridcolor\":\"white\",\"linecolor\":\"white\",\"minorgridcolor\":\"white\",\"startlinecolor\":\"#2a3f5f\"},\"baxis\":{\"endlinecolor\":\"#2a3f5f\",\"gridcolor\":\"white\",\"linecolor\":\"white\",\"minorgridcolor\":\"white\",\"startlinecolor\":\"#2a3f5f\"},\"type\":\"carpet\"}],\"table\":[{\"cells\":{\"fill\":{\"color\":\"#EBF0F8\"},\"line\":{\"color\":\"white\"}},\"header\":{\"fill\":{\"color\":\"#C8D4E3\"},\"line\":{\"color\":\"white\"}},\"type\":\"table\"}],\"barpolar\":[{\"marker\":{\"line\":{\"color\":\"#E5ECF6\",\"width\":0.5},\"pattern\":{\"fillmode\":\"overlay\",\"size\":10,\"solidity\":0.2}},\"type\":\"barpolar\"}],\"pie\":[{\"automargin\":true,\"type\":\"pie\"}]},\"layout\":{\"autotypenumbers\":\"strict\",\"colorway\":[\"#636efa\",\"#EF553B\",\"#00cc96\",\"#ab63fa\",\"#FFA15A\",\"#19d3f3\",\"#FF6692\",\"#B6E880\",\"#FF97FF\",\"#FECB52\"],\"font\":{\"color\":\"#2a3f5f\"},\"hovermode\":\"closest\",\"hoverlabel\":{\"align\":\"left\"},\"paper_bgcolor\":\"white\",\"plot_bgcolor\":\"#E5ECF6\",\"polar\":{\"bgcolor\":\"#E5ECF6\",\"angularaxis\":{\"gridcolor\":\"white\",\"linecolor\":\"white\",\"ticks\":\"\"},\"radialaxis\":{\"gridcolor\":\"white\",\"linecolor\":\"white\",\"ticks\":\"\"}},\"ternary\":{\"bgcolor\":\"#E5ECF6\",\"aaxis\":{\"gridcolor\":\"white\",\"linecolor\":\"white\",\"ticks\":\"\"},\"baxis\":{\"gridcolor\":\"white\",\"linecolor\":\"white\",\"ticks\":\"\"},\"caxis\":{\"gridcolor\":\"white\",\"linecolor\":\"white\",\"ticks\":\"\"}},\"coloraxis\":{\"colorbar\":{\"outlinewidth\":0,\"ticks\":\"\"}},\"colorscale\":{\"sequential\":[[0.0,\"#0d0887\"],[0.1111111111111111,\"#46039f\"],[0.2222222222222222,\"#7201a8\"],[0.3333333333333333,\"#9c179e\"],[0.4444444444444444,\"#bd3786\"],[0.5555555555555556,\"#d8576b\"],[0.6666666666666666,\"#ed7953\"],[0.7777777777777778,\"#fb9f3a\"],[0.8888888888888888,\"#fdca26\"],[1.0,\"#f0f921\"]],\"sequentialminus\":[[0.0,\"#0d0887\"],[0.1111111111111111,\"#46039f\"],[0.2222222222222222,\"#7201a8\"],[0.3333333333333333,\"#9c179e\"],[0.4444444444444444,\"#bd3786\"],[0.5555555555555556,\"#d8576b\"],[0.6666666666666666,\"#ed7953\"],[0.7777777777777778,\"#fb9f3a\"],[0.8888888888888888,\"#fdca26\"],[1.0,\"#f0f921\"]],\"diverging\":[[0,\"#8e0152\"],[0.1,\"#c51b7d\"],[0.2,\"#de77ae\"],[0.3,\"#f1b6da\"],[0.4,\"#fde0ef\"],[0.5,\"#f7f7f7\"],[0.6,\"#e6f5d0\"],[0.7,\"#b8e186\"],[0.8,\"#7fbc41\"],[0.9,\"#4d9221\"],[1,\"#276419\"]]},\"xaxis\":{\"gridcolor\":\"white\",\"linecolor\":\"white\",\"ticks\":\"\",\"title\":{\"standoff\":15},\"zerolinecolor\":\"white\",\"automargin\":true,\"zerolinewidth\":2},\"yaxis\":{\"gridcolor\":\"white\",\"linecolor\":\"white\",\"ticks\":\"\",\"title\":{\"standoff\":15},\"zerolinecolor\":\"white\",\"automargin\":true,\"zerolinewidth\":2},\"scene\":{\"xaxis\":{\"backgroundcolor\":\"#E5ECF6\",\"gridcolor\":\"white\",\"linecolor\":\"white\",\"showbackground\":true,\"ticks\":\"\",\"zerolinecolor\":\"white\",\"gridwidth\":2},\"yaxis\":{\"backgroundcolor\":\"#E5ECF6\",\"gridcolor\":\"white\",\"linecolor\":\"white\",\"showbackground\":true,\"ticks\":\"\",\"zerolinecolor\":\"white\",\"gridwidth\":2},\"zaxis\":{\"backgroundcolor\":\"#E5ECF6\",\"gridcolor\":\"white\",\"linecolor\":\"white\",\"showbackground\":true,\"ticks\":\"\",\"zerolinecolor\":\"white\",\"gridwidth\":2}},\"shapedefaults\":{\"line\":{\"color\":\"#2a3f5f\"}},\"annotationdefaults\":{\"arrowcolor\":\"#2a3f5f\",\"arrowhead\":0,\"arrowwidth\":1},\"geo\":{\"bgcolor\":\"white\",\"landcolor\":\"#E5ECF6\",\"subunitcolor\":\"white\",\"showland\":true,\"showlakes\":true,\"lakecolor\":\"white\"},\"title\":{\"x\":0.05},\"mapbox\":{\"style\":\"light\"}}}},                        {\"responsive\": true}                    ).then(function(){\n",
       "                            \n",
       "var gd = document.getElementById('ebb80d95-b3d1-4323-80df-56e2afa99b0e');\n",
       "var x = new MutationObserver(function (mutations, observer) {{\n",
       "        var display = window.getComputedStyle(gd).display;\n",
       "        if (!display || display === 'none') {{\n",
       "            console.log([gd, 'removed!']);\n",
       "            Plotly.purge(gd);\n",
       "            observer.disconnect();\n",
       "        }}\n",
       "}});\n",
       "\n",
       "// Listen for the removal of the full notebook cells\n",
       "var notebookContainer = gd.closest('#notebook-container');\n",
       "if (notebookContainer) {{\n",
       "    x.observe(notebookContainer, {childList: true});\n",
       "}}\n",
       "\n",
       "// Listen for the clearing of the current output cell\n",
       "var outputEl = gd.closest('.output');\n",
       "if (outputEl) {{\n",
       "    x.observe(outputEl, {childList: true});\n",
       "}}\n",
       "\n",
       "                        })                };                });            </script>        </div>"
      ]
     },
     "metadata": {},
     "output_type": "display_data"
    }
   ],
   "source": [
    "# trace1 - Departure delays\n",
    "trace1 = go.Bar(\n",
    "    x=df_arr['arr_hour'],\n",
    "    y=df_arr['taxi_in'],\n",
    "    name = 'Inbound',\n",
    "    marker=dict(color='#ff794d')\n",
    ")\n",
    "\n",
    "# trace2 - Arrival delays\n",
    "trace2 = go.Bar(\n",
    "    x=df_dep['dep_hour'],\n",
    "    y=df_dep['taxi_out'],\n",
    "    name = 'Outbound',\n",
    "    marker=dict(color='#4d4dff')\n",
    ")\n",
    "\n",
    "# create the data\n",
    "data = [trace1, trace2]\n",
    "\n",
    "# create the layout\n",
    "layout = go.Layout(\n",
    "    title= 'Taxi Time by Hour',\n",
    "    xaxis=dict(\n",
    "        title='Hour',\n",
    "        tickmode='linear'),\n",
    "    yaxis=dict(\n",
    "        title='Taxi Time')\n",
    ")\n",
    "\n",
    "# create the figure\n",
    "fig = go.Figure(data=data, layout=layout)\n",
    "fig.show()"
   ]
  },
  {
   "cell_type": "markdown",
   "metadata": {},
   "source": [
    "#### **Task 5**: What is the average percentage of delays that is already created before departure? (aka are arrival delays caused by departure delays?) Are airlines able to lower the delay during the flights?"
   ]
  },
  {
   "cell_type": "code",
   "execution_count": 25,
   "metadata": {},
   "outputs": [],
   "source": [
    "df5 = df[df.carrier_delay.notnull()]"
   ]
  },
  {
   "cell_type": "code",
   "execution_count": 26,
   "metadata": {},
   "outputs": [
    {
     "data": {
      "text/html": [
       "<div>\n",
       "<style scoped>\n",
       "    .dataframe tbody tr th:only-of-type {\n",
       "        vertical-align: middle;\n",
       "    }\n",
       "\n",
       "    .dataframe tbody tr th {\n",
       "        vertical-align: top;\n",
       "    }\n",
       "\n",
       "    .dataframe thead th {\n",
       "        text-align: right;\n",
       "    }\n",
       "</style>\n",
       "<table border=\"1\" class=\"dataframe\">\n",
       "  <thead>\n",
       "    <tr style=\"text-align: right;\">\n",
       "      <th></th>\n",
       "      <th>mkt_unique_carrier</th>\n",
       "      <th>dep_delay</th>\n",
       "      <th>arr_delay</th>\n",
       "      <th>carrier_delay</th>\n",
       "      <th>weather_delay</th>\n",
       "      <th>nas_delay</th>\n",
       "      <th>security_delay</th>\n",
       "      <th>late_aircraft_delay</th>\n",
       "    </tr>\n",
       "  </thead>\n",
       "  <tbody>\n",
       "    <tr>\n",
       "      <th>3</th>\n",
       "      <td>F9</td>\n",
       "      <td>92.0</td>\n",
       "      <td>109.0</td>\n",
       "      <td>92.0</td>\n",
       "      <td>0.0</td>\n",
       "      <td>17.0</td>\n",
       "      <td>0.0</td>\n",
       "      <td>0.0</td>\n",
       "    </tr>\n",
       "    <tr>\n",
       "      <th>4</th>\n",
       "      <td>F9</td>\n",
       "      <td>92.0</td>\n",
       "      <td>73.0</td>\n",
       "      <td>0.0</td>\n",
       "      <td>0.0</td>\n",
       "      <td>0.0</td>\n",
       "      <td>0.0</td>\n",
       "      <td>73.0</td>\n",
       "    </tr>\n",
       "    <tr>\n",
       "      <th>5</th>\n",
       "      <td>F9</td>\n",
       "      <td>53.0</td>\n",
       "      <td>43.0</td>\n",
       "      <td>0.0</td>\n",
       "      <td>0.0</td>\n",
       "      <td>0.0</td>\n",
       "      <td>0.0</td>\n",
       "      <td>43.0</td>\n",
       "    </tr>\n",
       "    <tr>\n",
       "      <th>10</th>\n",
       "      <td>F9</td>\n",
       "      <td>-8.0</td>\n",
       "      <td>16.0</td>\n",
       "      <td>0.0</td>\n",
       "      <td>0.0</td>\n",
       "      <td>16.0</td>\n",
       "      <td>0.0</td>\n",
       "      <td>0.0</td>\n",
       "    </tr>\n",
       "    <tr>\n",
       "      <th>16</th>\n",
       "      <td>F9</td>\n",
       "      <td>-8.0</td>\n",
       "      <td>20.0</td>\n",
       "      <td>0.0</td>\n",
       "      <td>0.0</td>\n",
       "      <td>20.0</td>\n",
       "      <td>0.0</td>\n",
       "      <td>0.0</td>\n",
       "    </tr>\n",
       "    <tr>\n",
       "      <th>...</th>\n",
       "      <td>...</td>\n",
       "      <td>...</td>\n",
       "      <td>...</td>\n",
       "      <td>...</td>\n",
       "      <td>...</td>\n",
       "      <td>...</td>\n",
       "      <td>...</td>\n",
       "      <td>...</td>\n",
       "    </tr>\n",
       "    <tr>\n",
       "      <th>4999968</th>\n",
       "      <td>DL</td>\n",
       "      <td>23.0</td>\n",
       "      <td>20.0</td>\n",
       "      <td>0.0</td>\n",
       "      <td>0.0</td>\n",
       "      <td>0.0</td>\n",
       "      <td>0.0</td>\n",
       "      <td>20.0</td>\n",
       "    </tr>\n",
       "    <tr>\n",
       "      <th>4999973</th>\n",
       "      <td>DL</td>\n",
       "      <td>928.0</td>\n",
       "      <td>913.0</td>\n",
       "      <td>0.0</td>\n",
       "      <td>0.0</td>\n",
       "      <td>913.0</td>\n",
       "      <td>0.0</td>\n",
       "      <td>0.0</td>\n",
       "    </tr>\n",
       "    <tr>\n",
       "      <th>4999988</th>\n",
       "      <td>DL</td>\n",
       "      <td>29.0</td>\n",
       "      <td>17.0</td>\n",
       "      <td>12.0</td>\n",
       "      <td>0.0</td>\n",
       "      <td>0.0</td>\n",
       "      <td>0.0</td>\n",
       "      <td>5.0</td>\n",
       "    </tr>\n",
       "    <tr>\n",
       "      <th>4999991</th>\n",
       "      <td>DL</td>\n",
       "      <td>29.0</td>\n",
       "      <td>18.0</td>\n",
       "      <td>1.0</td>\n",
       "      <td>0.0</td>\n",
       "      <td>0.0</td>\n",
       "      <td>0.0</td>\n",
       "      <td>17.0</td>\n",
       "    </tr>\n",
       "    <tr>\n",
       "      <th>4999999</th>\n",
       "      <td>DL</td>\n",
       "      <td>31.0</td>\n",
       "      <td>23.0</td>\n",
       "      <td>0.0</td>\n",
       "      <td>0.0</td>\n",
       "      <td>0.0</td>\n",
       "      <td>0.0</td>\n",
       "      <td>23.0</td>\n",
       "    </tr>\n",
       "  </tbody>\n",
       "</table>\n",
       "<p>948249 rows × 8 columns</p>\n",
       "</div>"
      ],
      "text/plain": [
       "        mkt_unique_carrier  dep_delay  arr_delay  carrier_delay  \\\n",
       "3                       F9       92.0      109.0           92.0   \n",
       "4                       F9       92.0       73.0            0.0   \n",
       "5                       F9       53.0       43.0            0.0   \n",
       "10                      F9       -8.0       16.0            0.0   \n",
       "16                      F9       -8.0       20.0            0.0   \n",
       "...                    ...        ...        ...            ...   \n",
       "4999968                 DL       23.0       20.0            0.0   \n",
       "4999973                 DL      928.0      913.0            0.0   \n",
       "4999988                 DL       29.0       17.0           12.0   \n",
       "4999991                 DL       29.0       18.0            1.0   \n",
       "4999999                 DL       31.0       23.0            0.0   \n",
       "\n",
       "         weather_delay  nas_delay  security_delay  late_aircraft_delay  \n",
       "3                  0.0       17.0             0.0                  0.0  \n",
       "4                  0.0        0.0             0.0                 73.0  \n",
       "5                  0.0        0.0             0.0                 43.0  \n",
       "10                 0.0       16.0             0.0                  0.0  \n",
       "16                 0.0       20.0             0.0                  0.0  \n",
       "...                ...        ...             ...                  ...  \n",
       "4999968            0.0        0.0             0.0                 20.0  \n",
       "4999973            0.0      913.0             0.0                  0.0  \n",
       "4999988            0.0        0.0             0.0                  5.0  \n",
       "4999991            0.0        0.0             0.0                 17.0  \n",
       "4999999            0.0        0.0             0.0                 23.0  \n",
       "\n",
       "[948249 rows x 8 columns]"
      ]
     },
     "execution_count": 26,
     "metadata": {},
     "output_type": "execute_result"
    }
   ],
   "source": [
    "df5a = df5[['mkt_unique_carrier','dep_delay','arr_delay','carrier_delay','weather_delay','nas_delay','security_delay','late_aircraft_delay']]\n",
    "df5a"
   ]
  },
  {
   "cell_type": "code",
   "execution_count": 27,
   "metadata": {},
   "outputs": [
    {
     "data": {
      "image/png": "[encoded data removed]",
      "text/plain": [
       "<Figure size 504x504 with 1 Axes>"
      ]
     },
     "metadata": {},
     "output_type": "display_data"
    }
   ],
   "source": [
    "# Delay types pie chart\n",
    "labels = ['Carrier Delay', 'Weather Delay', 'NAS Delay', 'Security Delay', 'Late Aircraft Delay']\n",
    "sizes = [df5a.carrier_delay.sum(),\n",
    "         df5a.weather_delay.sum(),\n",
    "         df5a.nas_delay.sum(),\n",
    "         df5a.security_delay.sum(),\n",
    "         df5a.late_aircraft_delay.sum()\n",
    "        ]\n",
    "fig1, ax1 = plt.subplots(figsize=(7,7))\n",
    "ax1.pie(sizes, labels=labels, autopct='%1.2f%%')\n",
    "ax1.axis('equal')\n",
    "plt.show()"
   ]
  },
  {
   "cell_type": "code",
   "execution_count": null,
   "metadata": {},
   "outputs": [],
   "source": [
    "#are airlines able to lower the delay\n"
   ]
  },
  {
   "cell_type": "code",
   "execution_count": null,
   "metadata": {},
   "outputs": [],
   "source": []
  },
  {
   "cell_type": "markdown",
   "metadata": {},
   "source": [
    "#### **Task 6**: How many states cover 50% of US air traffic? "
   ]
  },
  {
   "cell_type": "code",
   "execution_count": 64,
   "metadata": {},
   "outputs": [
    {
     "name": "stderr",
     "output_type": "stream",
     "text": [
      "/var/folders/lf/ty8sx7z57pl1_74grkt85j_c0000gn/T/ipykernel_6351/3347579825.py:7: SettingWithCopyWarning:\n",
      "\n",
      "\n",
      "A value is trying to be set on a copy of a slice from a DataFrame.\n",
      "Try using .loc[row_indexer,col_indexer] = value instead\n",
      "\n",
      "See the caveats in the documentation: https://pandas.pydata.org/pandas-docs/stable/user_guide/indexing.html#returning-a-view-versus-a-copy\n",
      "\n",
      "/var/folders/lf/ty8sx7z57pl1_74grkt85j_c0000gn/T/ipykernel_6351/3347579825.py:7: SettingWithCopyWarning:\n",
      "\n",
      "\n",
      "A value is trying to be set on a copy of a slice from a DataFrame.\n",
      "Try using .loc[row_indexer,col_indexer] = value instead\n",
      "\n",
      "See the caveats in the documentation: https://pandas.pydata.org/pandas-docs/stable/user_guide/indexing.html#returning-a-view-versus-a-copy\n",
      "\n"
     ]
    },
    {
     "name": "stdout",
     "output_type": "stream",
     "text": [
      "Total air Traffic per state for sample size: 530020307.0\n",
      "50% of air Traffic per state for sample size: 265010153.5\n",
      "Top 6 States cover 50% of US traffic: 249248559.0\n"
     ]
    }
   ],
   "source": [
    "#Take relevant columns\n",
    "#Split origin_city_name to a State column\n",
    "#Sum the air_traffic and groupby state.\n",
    "#Sort in descending order.\n",
    "\n",
    "df_tsk6 = df_flights[['origin_city_name','air_time']]\n",
    "df_tsk6[['origin_city_name','state']] = df_tsk6['origin_city_name'].str.split(', ',expand=True)\n",
    "df_tsk6show = df_tsk6.groupby('state',as_index=False)['air_time'].sum().sort_values(by='air_time',ascending=False)\n",
    "print(\"Total air Traffic per state for sample size:\",df_tsk6show['air_time'].sum())\n",
    "print(\"50% of air Traffic per state for sample size:\",df_tsk6show['air_time'].sum()/2)\n",
    "print(\"Top 6 States cover 50% of US traffic:\",df_tsk6show['air_time'].head(6).sum())"
   ]
  },
  {
   "cell_type": "code",
   "execution_count": 65,
   "metadata": {},
   "outputs": [
    {
     "data": {
      "image/png": "[encoded data removed]",
      "text/plain": [
       "<Figure size 1080x432 with 1 Axes>"
      ]
     },
     "metadata": {
      "needs_background": "light"
     },
     "output_type": "display_data"
    }
   ],
   "source": [
    "sns.barplot(x='state',y='air_time',data=df_tsk6show.head(6))\n",
    "plt.show()"
   ]
  },
  {
   "cell_type": "markdown",
   "metadata": {},
   "source": [
    "#### **Task 7**: Test the hypothesis whether planes fly faster when there is the departure delay? "
   ]
  },
  {
   "cell_type": "code",
   "execution_count": 85,
   "metadata": {},
   "outputs": [
    {
     "data": {
      "text/html": [
       "<div>\n",
       "<style scoped>\n",
       "    .dataframe tbody tr th:only-of-type {\n",
       "        vertical-align: middle;\n",
       "    }\n",
       "\n",
       "    .dataframe tbody tr th {\n",
       "        vertical-align: top;\n",
       "    }\n",
       "\n",
       "    .dataframe thead th {\n",
       "        text-align: right;\n",
       "    }\n",
       "</style>\n",
       "<table border=\"1\" class=\"dataframe\">\n",
       "  <thead>\n",
       "    <tr style=\"text-align: right;\">\n",
       "      <th></th>\n",
       "      <th>dep_delay</th>\n",
       "      <th>air_time</th>\n",
       "      <th>distance</th>\n",
       "      <th>avg_speed</th>\n",
       "    </tr>\n",
       "  </thead>\n",
       "  <tbody>\n",
       "    <tr>\n",
       "      <th>907506</th>\n",
       "      <td>2976.0</td>\n",
       "      <td>77.0</td>\n",
       "      <td>442.0</td>\n",
       "      <td>344.415584</td>\n",
       "    </tr>\n",
       "    <tr>\n",
       "      <th>907505</th>\n",
       "      <td>2962.0</td>\n",
       "      <td>79.0</td>\n",
       "      <td>442.0</td>\n",
       "      <td>335.696203</td>\n",
       "    </tr>\n",
       "    <tr>\n",
       "      <th>2686211</th>\n",
       "      <td>2710.0</td>\n",
       "      <td>107.0</td>\n",
       "      <td>607.0</td>\n",
       "      <td>340.373832</td>\n",
       "    </tr>\n",
       "    <tr>\n",
       "      <th>2208810</th>\n",
       "      <td>2109.0</td>\n",
       "      <td>49.0</td>\n",
       "      <td>196.0</td>\n",
       "      <td>240.000000</td>\n",
       "    </tr>\n",
       "    <tr>\n",
       "      <th>1287103</th>\n",
       "      <td>2098.0</td>\n",
       "      <td>37.0</td>\n",
       "      <td>227.0</td>\n",
       "      <td>368.108108</td>\n",
       "    </tr>\n",
       "    <tr>\n",
       "      <th>2311789</th>\n",
       "      <td>2066.0</td>\n",
       "      <td>53.0</td>\n",
       "      <td>258.0</td>\n",
       "      <td>292.075472</td>\n",
       "    </tr>\n",
       "    <tr>\n",
       "      <th>1009668</th>\n",
       "      <td>1979.0</td>\n",
       "      <td>103.0</td>\n",
       "      <td>865.0</td>\n",
       "      <td>503.883495</td>\n",
       "    </tr>\n",
       "    <tr>\n",
       "      <th>1184124</th>\n",
       "      <td>1979.0</td>\n",
       "      <td>43.0</td>\n",
       "      <td>228.0</td>\n",
       "      <td>318.139535</td>\n",
       "    </tr>\n",
       "    <tr>\n",
       "      <th>710886</th>\n",
       "      <td>1930.0</td>\n",
       "      <td>123.0</td>\n",
       "      <td>1055.0</td>\n",
       "      <td>514.634146</td>\n",
       "    </tr>\n",
       "    <tr>\n",
       "      <th>2213311</th>\n",
       "      <td>1921.0</td>\n",
       "      <td>28.0</td>\n",
       "      <td>144.0</td>\n",
       "      <td>308.571429</td>\n",
       "    </tr>\n",
       "  </tbody>\n",
       "</table>\n",
       "</div>"
      ],
      "text/plain": [
       "         dep_delay  air_time  distance   avg_speed\n",
       "907506      2976.0      77.0     442.0  344.415584\n",
       "907505      2962.0      79.0     442.0  335.696203\n",
       "2686211     2710.0     107.0     607.0  340.373832\n",
       "2208810     2109.0      49.0     196.0  240.000000\n",
       "1287103     2098.0      37.0     227.0  368.108108\n",
       "2311789     2066.0      53.0     258.0  292.075472\n",
       "1009668     1979.0     103.0     865.0  503.883495\n",
       "1184124     1979.0      43.0     228.0  318.139535\n",
       "710886      1930.0     123.0    1055.0  514.634146\n",
       "2213311     1921.0      28.0     144.0  308.571429"
      ]
     },
     "execution_count": 85,
     "metadata": {},
     "output_type": "execute_result"
    }
   ],
   "source": [
    "import warnings\n",
    "warnings.filterwarnings('ignore')\n",
    "\n",
    "#Relevant columns: dep_delay, air_time, distance\n",
    "#Append a column called avg_speed.\n",
    "#Average speed = (air_time/distance) * 60\n",
    "#Sort values deep_delay to see weather planes fly faster when there is a departure delay.\n",
    "\n",
    "df_tsk7 = df_flights[['dep_delay','air_time','distance']].dropna()\n",
    "df_tsk7['avg_speed'] = (df_flights['distance'] / df_flights['air_time'])*60\n",
    "df_tsk7.sort_values(by='dep_delay',ascending=False).head(10)"
   ]
  },
  {
   "cell_type": "code",
   "execution_count": 86,
   "metadata": {},
   "outputs": [
    {
     "name": "stdout",
     "output_type": "stream",
     "text": [
      "stat: -9844.042587890634\n",
      "p-value: 0.0\n",
      "Plane speed did not change significantly when there is a departure delay.\n"
     ]
    }
   ],
   "source": [
    "#Test the hypothesis whether planes fly faster when there is a departure delay.\n",
    "dep_delay_lst = df_tsk7['dep_delay']\n",
    "avg_speed_lst = df_tsk7['avg_speed']\n",
    "stat, p_value = st.ttest_rel(dep_delay_lst,avg_speed_lst)\n",
    "alpha=0.5\n",
    "print('stat:',stat)\n",
    "print('p-value:',p_value)\n",
    "if p_value > alpha:\n",
    "    print(\"Planes fly faster when there is a departure delay.\")\n",
    "else:\n",
    "    print(\"Plane speed did not change significantly when there is a departure delay.\")"
   ]
  },
  {
   "cell_type": "markdown",
   "metadata": {},
   "source": [
    "#### **Task 8**: When (which hour) do most 'LONG', 'SHORT', 'MEDIUM' haul flights take off?"
   ]
  },
  {
   "cell_type": "code",
   "execution_count": 87,
   "metadata": {},
   "outputs": [],
   "source": [
    "#Algorithm to convert float to time format.\n",
    "string_num = []\n",
    "for i in df_flights['dep_time']:\n",
    "    str_time = str(i)\n",
    "    if len(str_time) == 4:\n",
    "        str_time = str_time.split('.')\n",
    "        str_time = str_time[0]\n",
    "        str_time = str_time[:1] + \":\" + str_time[1:]\n",
    "        string_num.append('00:00')\n",
    "    elif len(str_time) == 5:\n",
    "        str_time = str_time.split('.')\n",
    "        str_time = str_time[0]\n",
    "        str_time = str_time[:1] + \":\" + str_time[1:]\n",
    "        string_num.append(str_time)\n",
    "    elif len(str_time) == 6:\n",
    "        str_time = str_time.split('.')\n",
    "        str_time = str_time[0]\n",
    "        str_time = str_time[:2] + \":\" + str_time[2:]\n",
    "        string_num.append(str_time)\n",
    "    else:\n",
    "        string_num.append('--:--')\n",
    "\n"
   ]
  },
  {
   "cell_type": "code",
   "execution_count": 88,
   "metadata": {},
   "outputs": [],
   "source": [
    "#Algorithm to create categories of LONG, SHORT, MEDIUM.\n",
    "category_list = []\n",
    "for i in df_flights['air_time']:\n",
    "    if i <= 180:\n",
    "        category_list.append('SHORT')\n",
    "    elif i > 180 and i <= 360:\n",
    "        category_list.append('MEDIUM')\n",
    "    elif i > 360:\n",
    "        category_list.append('LONG')\n",
    "    else:\n",
    "        category_list.append('NOT_APPLICABLE')"
   ]
  },
  {
   "cell_type": "code",
   "execution_count": 89,
   "metadata": {},
   "outputs": [
    {
     "data": {
      "text/html": [
       "<div>\n",
       "<style scoped>\n",
       "    .dataframe tbody tr th:only-of-type {\n",
       "        vertical-align: middle;\n",
       "    }\n",
       "\n",
       "    .dataframe tbody tr th {\n",
       "        vertical-align: top;\n",
       "    }\n",
       "\n",
       "    .dataframe thead th {\n",
       "        text-align: right;\n",
       "    }\n",
       "</style>\n",
       "<table border=\"1\" class=\"dataframe\">\n",
       "  <thead>\n",
       "    <tr style=\"text-align: right;\">\n",
       "      <th></th>\n",
       "      <th>dep_time</th>\n",
       "      <th>air_time</th>\n",
       "      <th>distance</th>\n",
       "      <th>time_format</th>\n",
       "      <th>haul_type</th>\n",
       "      <th>time_hour</th>\n",
       "      <th>time_second</th>\n",
       "    </tr>\n",
       "  </thead>\n",
       "  <tbody>\n",
       "    <tr>\n",
       "      <th>0</th>\n",
       "      <td>612.0</td>\n",
       "      <td>107.0</td>\n",
       "      <td>781.0</td>\n",
       "      <td>6:12</td>\n",
       "      <td>SHORT</td>\n",
       "      <td>6</td>\n",
       "      <td>12</td>\n",
       "    </tr>\n",
       "    <tr>\n",
       "      <th>1</th>\n",
       "      <td>2010.0</td>\n",
       "      <td>216.0</td>\n",
       "      <td>1703.0</td>\n",
       "      <td>20:10</td>\n",
       "      <td>MEDIUM</td>\n",
       "      <td>20</td>\n",
       "      <td>10</td>\n",
       "    </tr>\n",
       "    <tr>\n",
       "      <th>2</th>\n",
       "      <td>958.0</td>\n",
       "      <td>237.0</td>\n",
       "      <td>1829.0</td>\n",
       "      <td>9:58</td>\n",
       "      <td>MEDIUM</td>\n",
       "      <td>9</td>\n",
       "      <td>58</td>\n",
       "    </tr>\n",
       "  </tbody>\n",
       "</table>\n",
       "</div>"
      ],
      "text/plain": [
       "   dep_time  air_time  distance time_format haul_type time_hour time_second\n",
       "0     612.0     107.0     781.0        6:12     SHORT         6          12\n",
       "1    2010.0     216.0    1703.0       20:10    MEDIUM        20          10\n",
       "2     958.0     237.0    1829.0        9:58    MEDIUM         9          58"
      ]
     },
     "execution_count": 89,
     "metadata": {},
     "output_type": "execute_result"
    }
   ],
   "source": [
    "#Assign the list to the dataframe.\n",
    "df_tsk8 = df_flights[['dep_time','air_time','distance']]\n",
    "df_tsk8['time_format'] = string_num\n",
    "df_tsk8['haul_type'] = category_list\n",
    "df_tsk8[['time_hour','time_second']] = df_tsk8['time_format'].str.split(':',expand=True)\n",
    "#df_tsk8 = df_tsk8.dropna()\n",
    "df_tsk8.head(3)"
   ]
  },
  {
   "cell_type": "code",
   "execution_count": 90,
   "metadata": {},
   "outputs": [
    {
     "data": {
      "image/png": "[encoded data removed]",
      "text/plain": [
       "<Figure size 1440x720 with 1 Axes>"
      ]
     },
     "metadata": {
      "needs_background": "light"
     },
     "output_type": "display_data"
    }
   ],
   "source": [
    "plt.rcParams[\"figure.figsize\"] = (20,10)\n",
    "sns.countplot(x=\"time_hour\", hue=\"haul_type\", data=df_tsk8, \n",
    "              order = ['-','1', '2', '3', '4', '5',\n",
    "               '6','7','8','9','10','11',\n",
    "              '12','13','14','15','16','17',\n",
    "              '18','19','20','21','22','23','24'])\n",
    "plt.show()"
   ]
  },
  {
   "cell_type": "code",
   "execution_count": null,
   "metadata": {},
   "outputs": [],
   "source": []
  },
  {
   "cell_type": "code",
   "execution_count": null,
   "metadata": {},
   "outputs": [],
   "source": []
  },
  {
   "cell_type": "markdown",
   "metadata": {},
   "source": [
    "#### **Task 9**: Find the top 10 the bussiest airports. Does the biggest number of flights mean that the biggest number of passengers went through the particular airport? How much traffic do these 10 airports cover?"
   ]
  },
  {
   "cell_type": "code",
   "execution_count": 91,
   "metadata": {},
   "outputs": [
    {
     "data": {
      "text/html": [
       "<div>\n",
       "<style scoped>\n",
       "    .dataframe tbody tr th:only-of-type {\n",
       "        vertical-align: middle;\n",
       "    }\n",
       "\n",
       "    .dataframe tbody tr th {\n",
       "        vertical-align: top;\n",
       "    }\n",
       "\n",
       "    .dataframe thead th {\n",
       "        text-align: right;\n",
       "    }\n",
       "</style>\n",
       "<table border=\"1\" class=\"dataframe\">\n",
       "  <thead>\n",
       "    <tr style=\"text-align: right;\">\n",
       "      <th></th>\n",
       "      <th>origin</th>\n",
       "      <th>number_of_flights</th>\n",
       "    </tr>\n",
       "  </thead>\n",
       "  <tbody>\n",
       "    <tr>\n",
       "      <th>22</th>\n",
       "      <td>ATL</td>\n",
       "      <td>242622</td>\n",
       "    </tr>\n",
       "    <tr>\n",
       "      <th>256</th>\n",
       "      <td>ORD</td>\n",
       "      <td>242500</td>\n",
       "    </tr>\n",
       "    <tr>\n",
       "      <th>95</th>\n",
       "      <td>DFW</td>\n",
       "      <td>181232</td>\n",
       "    </tr>\n",
       "    <tr>\n",
       "      <th>94</th>\n",
       "      <td>DEN</td>\n",
       "      <td>172064</td>\n",
       "    </tr>\n",
       "    <tr>\n",
       "      <th>74</th>\n",
       "      <td>CLT</td>\n",
       "      <td>155787</td>\n",
       "    </tr>\n",
       "    <tr>\n",
       "      <th>195</th>\n",
       "      <td>LAX</td>\n",
       "      <td>155531</td>\n",
       "    </tr>\n",
       "    <tr>\n",
       "      <th>320</th>\n",
       "      <td>SEA</td>\n",
       "      <td>117693</td>\n",
       "    </tr>\n",
       "    <tr>\n",
       "      <th>271</th>\n",
       "      <td>PHX</td>\n",
       "      <td>111128</td>\n",
       "    </tr>\n",
       "    <tr>\n",
       "      <th>169</th>\n",
       "      <td>IAH</td>\n",
       "      <td>110999</td>\n",
       "    </tr>\n",
       "    <tr>\n",
       "      <th>103</th>\n",
       "      <td>DTW</td>\n",
       "      <td>108178</td>\n",
       "    </tr>\n",
       "  </tbody>\n",
       "</table>\n",
       "</div>"
      ],
      "text/plain": [
       "    origin  number_of_flights\n",
       "22     ATL             242622\n",
       "256    ORD             242500\n",
       "95     DFW             181232\n",
       "94     DEN             172064\n",
       "74     CLT             155787\n",
       "195    LAX             155531\n",
       "320    SEA             117693\n",
       "271    PHX             111128\n",
       "169    IAH             110999\n",
       "103    DTW             108178"
      ]
     },
     "execution_count": 91,
     "metadata": {},
     "output_type": "execute_result"
    }
   ],
   "source": [
    "df_tsk9 = df_flights.groupby(['origin'],as_index=False).size()\n",
    "#Top 10 busiest airports by biggest number of flights.\n",
    "df_tsk9 = df_tsk9.sort_values(by=['size'],ascending=False)\n",
    "df_tsk9 = df_tsk9.rename(columns={'size':'number_of_flights'})\n",
    "df_tsk9.head(10)"
   ]
  },
  {
   "cell_type": "code",
   "execution_count": 92,
   "metadata": {},
   "outputs": [
    {
     "data": {
      "text/html": [
       "<div>\n",
       "<style scoped>\n",
       "    .dataframe tbody tr th:only-of-type {\n",
       "        vertical-align: middle;\n",
       "    }\n",
       "\n",
       "    .dataframe tbody tr th {\n",
       "        vertical-align: top;\n",
       "    }\n",
       "\n",
       "    .dataframe thead th {\n",
       "        text-align: right;\n",
       "    }\n",
       "</style>\n",
       "<table border=\"1\" class=\"dataframe\">\n",
       "  <thead>\n",
       "    <tr style=\"text-align: right;\">\n",
       "      <th></th>\n",
       "      <th>Unnamed: 0</th>\n",
       "      <th>departures_scheduled</th>\n",
       "      <th>departures_performed</th>\n",
       "      <th>payload</th>\n",
       "      <th>seats</th>\n",
       "      <th>passengers</th>\n",
       "      <th>freight</th>\n",
       "      <th>mail</th>\n",
       "      <th>distance</th>\n",
       "      <th>ramp_to_ramp</th>\n",
       "      <th>...</th>\n",
       "      <th>dest_country</th>\n",
       "      <th>dest_country_name</th>\n",
       "      <th>aircraft_group</th>\n",
       "      <th>aircraft_type</th>\n",
       "      <th>aircraft_config</th>\n",
       "      <th>year</th>\n",
       "      <th>month</th>\n",
       "      <th>distance_group</th>\n",
       "      <th>class</th>\n",
       "      <th>data_source</th>\n",
       "    </tr>\n",
       "  </thead>\n",
       "  <tbody>\n",
       "    <tr>\n",
       "      <th>0</th>\n",
       "      <td>0</td>\n",
       "      <td>26.0</td>\n",
       "      <td>25.0</td>\n",
       "      <td>388625.0</td>\n",
       "      <td>1250.0</td>\n",
       "      <td>1035.0</td>\n",
       "      <td>0.0</td>\n",
       "      <td>0.0</td>\n",
       "      <td>577.0</td>\n",
       "      <td>3308.0</td>\n",
       "      <td>...</td>\n",
       "      <td>US</td>\n",
       "      <td>United States</td>\n",
       "      <td>6</td>\n",
       "      <td>530</td>\n",
       "      <td>1</td>\n",
       "      <td>2019</td>\n",
       "      <td>12</td>\n",
       "      <td>2</td>\n",
       "      <td>F</td>\n",
       "      <td>DU</td>\n",
       "    </tr>\n",
       "    <tr>\n",
       "      <th>1</th>\n",
       "      <td>1</td>\n",
       "      <td>26.0</td>\n",
       "      <td>26.0</td>\n",
       "      <td>323000.0</td>\n",
       "      <td>1300.0</td>\n",
       "      <td>1112.0</td>\n",
       "      <td>0.0</td>\n",
       "      <td>0.0</td>\n",
       "      <td>296.0</td>\n",
       "      <td>2088.0</td>\n",
       "      <td>...</td>\n",
       "      <td>US</td>\n",
       "      <td>United States</td>\n",
       "      <td>6</td>\n",
       "      <td>629</td>\n",
       "      <td>1</td>\n",
       "      <td>2019</td>\n",
       "      <td>12</td>\n",
       "      <td>1</td>\n",
       "      <td>F</td>\n",
       "      <td>DU</td>\n",
       "    </tr>\n",
       "    <tr>\n",
       "      <th>2</th>\n",
       "      <td>2</td>\n",
       "      <td>26.0</td>\n",
       "      <td>25.0</td>\n",
       "      <td>288500.0</td>\n",
       "      <td>1250.0</td>\n",
       "      <td>1030.0</td>\n",
       "      <td>0.0</td>\n",
       "      <td>0.0</td>\n",
       "      <td>387.0</td>\n",
       "      <td>2330.0</td>\n",
       "      <td>...</td>\n",
       "      <td>US</td>\n",
       "      <td>United States</td>\n",
       "      <td>6</td>\n",
       "      <td>629</td>\n",
       "      <td>1</td>\n",
       "      <td>2019</td>\n",
       "      <td>12</td>\n",
       "      <td>1</td>\n",
       "      <td>F</td>\n",
       "      <td>DU</td>\n",
       "    </tr>\n",
       "    <tr>\n",
       "      <th>3</th>\n",
       "      <td>3</td>\n",
       "      <td>26.0</td>\n",
       "      <td>26.0</td>\n",
       "      <td>421320.0</td>\n",
       "      <td>1690.0</td>\n",
       "      <td>1513.0</td>\n",
       "      <td>0.0</td>\n",
       "      <td>0.0</td>\n",
       "      <td>164.0</td>\n",
       "      <td>1667.0</td>\n",
       "      <td>...</td>\n",
       "      <td>US</td>\n",
       "      <td>United States</td>\n",
       "      <td>6</td>\n",
       "      <td>631</td>\n",
       "      <td>1</td>\n",
       "      <td>2019</td>\n",
       "      <td>12</td>\n",
       "      <td>1</td>\n",
       "      <td>F</td>\n",
       "      <td>DU</td>\n",
       "    </tr>\n",
       "    <tr>\n",
       "      <th>4</th>\n",
       "      <td>4</td>\n",
       "      <td>26.0</td>\n",
       "      <td>26.0</td>\n",
       "      <td>340500.0</td>\n",
       "      <td>1300.0</td>\n",
       "      <td>502.0</td>\n",
       "      <td>0.0</td>\n",
       "      <td>0.0</td>\n",
       "      <td>280.0</td>\n",
       "      <td>1773.0</td>\n",
       "      <td>...</td>\n",
       "      <td>US</td>\n",
       "      <td>United States</td>\n",
       "      <td>6</td>\n",
       "      <td>629</td>\n",
       "      <td>1</td>\n",
       "      <td>2019</td>\n",
       "      <td>12</td>\n",
       "      <td>1</td>\n",
       "      <td>F</td>\n",
       "      <td>DU</td>\n",
       "    </tr>\n",
       "  </tbody>\n",
       "</table>\n",
       "<p>5 rows × 39 columns</p>\n",
       "</div>"
      ],
      "text/plain": [
       "   Unnamed: 0  departures_scheduled  departures_performed   payload   seats  \\\n",
       "0           0                  26.0                  25.0  388625.0  1250.0   \n",
       "1           1                  26.0                  26.0  323000.0  1300.0   \n",
       "2           2                  26.0                  25.0  288500.0  1250.0   \n",
       "3           3                  26.0                  26.0  421320.0  1690.0   \n",
       "4           4                  26.0                  26.0  340500.0  1300.0   \n",
       "\n",
       "   passengers  freight  mail  distance  ramp_to_ramp  ...  dest_country  \\\n",
       "0      1035.0      0.0   0.0     577.0        3308.0  ...            US   \n",
       "1      1112.0      0.0   0.0     296.0        2088.0  ...            US   \n",
       "2      1030.0      0.0   0.0     387.0        2330.0  ...            US   \n",
       "3      1513.0      0.0   0.0     164.0        1667.0  ...            US   \n",
       "4       502.0      0.0   0.0     280.0        1773.0  ...            US   \n",
       "\n",
       "  dest_country_name  aircraft_group aircraft_type aircraft_config  year month  \\\n",
       "0     United States               6           530               1  2019    12   \n",
       "1     United States               6           629               1  2019    12   \n",
       "2     United States               6           629               1  2019    12   \n",
       "3     United States               6           631               1  2019    12   \n",
       "4     United States               6           629               1  2019    12   \n",
       "\n",
       "   distance_group  class  data_source  \n",
       "0               2      F           DU  \n",
       "1               1      F           DU  \n",
       "2               1      F           DU  \n",
       "3               1      F           DU  \n",
       "4               1      F           DU  \n",
       "\n",
       "[5 rows x 39 columns]"
      ]
     },
     "execution_count": 92,
     "metadata": {},
     "output_type": "execute_result"
    }
   ],
   "source": [
    "df_passengers = pd.read_csv('/Users/perpetualokafor/Downloads/mid-term-project-I/passengers.csv')\n",
    "df_passengers.head()"
   ]
  },
  {
   "cell_type": "code",
   "execution_count": 93,
   "metadata": {},
   "outputs": [
    {
     "data": {
      "text/html": [
       "<div>\n",
       "<style scoped>\n",
       "    .dataframe tbody tr th:only-of-type {\n",
       "        vertical-align: middle;\n",
       "    }\n",
       "\n",
       "    .dataframe tbody tr th {\n",
       "        vertical-align: top;\n",
       "    }\n",
       "\n",
       "    .dataframe thead th {\n",
       "        text-align: right;\n",
       "    }\n",
       "</style>\n",
       "<table border=\"1\" class=\"dataframe\">\n",
       "  <thead>\n",
       "    <tr style=\"text-align: right;\">\n",
       "      <th></th>\n",
       "      <th>origin_airport_id</th>\n",
       "      <th>origin</th>\n",
       "      <th>origin_city_name</th>\n",
       "      <th>total_passengers</th>\n",
       "    </tr>\n",
       "  </thead>\n",
       "  <tbody>\n",
       "    <tr>\n",
       "      <th>139</th>\n",
       "      <td>10397</td>\n",
       "      <td>ATL</td>\n",
       "      <td>Atlanta, GA</td>\n",
       "      <td>257478059.0</td>\n",
       "    </tr>\n",
       "    <tr>\n",
       "      <th>1083</th>\n",
       "      <td>12892</td>\n",
       "      <td>LAX</td>\n",
       "      <td>Los Angeles, CA</td>\n",
       "      <td>205745255.0</td>\n",
       "    </tr>\n",
       "    <tr>\n",
       "      <th>1452</th>\n",
       "      <td>13930</td>\n",
       "      <td>ORD</td>\n",
       "      <td>Chicago, IL</td>\n",
       "      <td>194019087.0</td>\n",
       "    </tr>\n",
       "    <tr>\n",
       "      <th>495</th>\n",
       "      <td>11298</td>\n",
       "      <td>DFW</td>\n",
       "      <td>Dallas/Fort Worth, TX</td>\n",
       "      <td>163888490.0</td>\n",
       "    </tr>\n",
       "    <tr>\n",
       "      <th>493</th>\n",
       "      <td>11292</td>\n",
       "      <td>DEN</td>\n",
       "      <td>Denver, CO</td>\n",
       "      <td>151024252.0</td>\n",
       "    </tr>\n",
       "    <tr>\n",
       "      <th>953</th>\n",
       "      <td>12478</td>\n",
       "      <td>JFK</td>\n",
       "      <td>New York, NY</td>\n",
       "      <td>148927079.0</td>\n",
       "    </tr>\n",
       "    <tr>\n",
       "      <th>1744</th>\n",
       "      <td>14771</td>\n",
       "      <td>SFO</td>\n",
       "      <td>San Francisco, CA</td>\n",
       "      <td>133266076.0</td>\n",
       "    </tr>\n",
       "    <tr>\n",
       "      <th>1081</th>\n",
       "      <td>12889</td>\n",
       "      <td>LAS</td>\n",
       "      <td>Las Vegas, NV</td>\n",
       "      <td>117526251.0</td>\n",
       "    </tr>\n",
       "    <tr>\n",
       "      <th>1732</th>\n",
       "      <td>14747</td>\n",
       "      <td>SEA</td>\n",
       "      <td>Seattle, WA</td>\n",
       "      <td>113960665.0</td>\n",
       "    </tr>\n",
       "    <tr>\n",
       "      <th>397</th>\n",
       "      <td>11057</td>\n",
       "      <td>CLT</td>\n",
       "      <td>Charlotte, NC</td>\n",
       "      <td>112838675.0</td>\n",
       "    </tr>\n",
       "  </tbody>\n",
       "</table>\n",
       "</div>"
      ],
      "text/plain": [
       "      origin_airport_id origin       origin_city_name  total_passengers\n",
       "139               10397    ATL            Atlanta, GA       257478059.0\n",
       "1083              12892    LAX        Los Angeles, CA       205745255.0\n",
       "1452              13930    ORD            Chicago, IL       194019087.0\n",
       "495               11298    DFW  Dallas/Fort Worth, TX       163888490.0\n",
       "493               11292    DEN             Denver, CO       151024252.0\n",
       "953               12478    JFK           New York, NY       148927079.0\n",
       "1744              14771    SFO      San Francisco, CA       133266076.0\n",
       "1081              12889    LAS          Las Vegas, NV       117526251.0\n",
       "1732              14747    SEA            Seattle, WA       113960665.0\n",
       "397               11057    CLT          Charlotte, NC       112838675.0"
      ]
     },
     "execution_count": 93,
     "metadata": {},
     "output_type": "execute_result"
    }
   ],
   "source": [
    "df_tsk9b = df_passengers[['passengers','origin_airport_id','origin','origin_city_name']]\n",
    "df_tsk9b = df_tsk9b.sort_values(by=['passengers'], ascending=False)\n",
    "#Top 10 busiest airports by passenger traffic.\n",
    "df_tsk9b = df_tsk9b.groupby(['origin_airport_id','origin','origin_city_name'],as_index=False)[['passengers']].sum()\n",
    "df_tsk9b = df_tsk9b.sort_values(by=['passengers'], ascending=False)\n",
    "df_tsk9b = df_tsk9b.rename(columns={'passengers':'total_passengers'})\n",
    "df_tsk9b.head(10)"
   ]
  },
  {
   "cell_type": "code",
   "execution_count": 94,
   "metadata": {},
   "outputs": [
    {
     "data": {
      "text/html": [
       "<div>\n",
       "<style scoped>\n",
       "    .dataframe tbody tr th:only-of-type {\n",
       "        vertical-align: middle;\n",
       "    }\n",
       "\n",
       "    .dataframe tbody tr th {\n",
       "        vertical-align: top;\n",
       "    }\n",
       "\n",
       "    .dataframe thead th {\n",
       "        text-align: right;\n",
       "    }\n",
       "</style>\n",
       "<table border=\"1\" class=\"dataframe\">\n",
       "  <thead>\n",
       "    <tr style=\"text-align: right;\">\n",
       "      <th></th>\n",
       "      <th>origin</th>\n",
       "      <th>number_of_flights</th>\n",
       "      <th>origin_airport_id</th>\n",
       "      <th>origin_city_name</th>\n",
       "      <th>total_passengers</th>\n",
       "    </tr>\n",
       "  </thead>\n",
       "  <tbody>\n",
       "    <tr>\n",
       "      <th>0</th>\n",
       "      <td>ATL</td>\n",
       "      <td>242622</td>\n",
       "      <td>10397</td>\n",
       "      <td>Atlanta, GA</td>\n",
       "      <td>257478059.0</td>\n",
       "    </tr>\n",
       "    <tr>\n",
       "      <th>1</th>\n",
       "      <td>ORD</td>\n",
       "      <td>242500</td>\n",
       "      <td>13930</td>\n",
       "      <td>Chicago, IL</td>\n",
       "      <td>194019087.0</td>\n",
       "    </tr>\n",
       "    <tr>\n",
       "      <th>2</th>\n",
       "      <td>DFW</td>\n",
       "      <td>181232</td>\n",
       "      <td>11298</td>\n",
       "      <td>Dallas/Fort Worth, TX</td>\n",
       "      <td>163888490.0</td>\n",
       "    </tr>\n",
       "    <tr>\n",
       "      <th>3</th>\n",
       "      <td>DEN</td>\n",
       "      <td>172064</td>\n",
       "      <td>11292</td>\n",
       "      <td>Denver, CO</td>\n",
       "      <td>151024252.0</td>\n",
       "    </tr>\n",
       "    <tr>\n",
       "      <th>4</th>\n",
       "      <td>CLT</td>\n",
       "      <td>155787</td>\n",
       "      <td>11057</td>\n",
       "      <td>Charlotte, NC</td>\n",
       "      <td>112838675.0</td>\n",
       "    </tr>\n",
       "    <tr>\n",
       "      <th>5</th>\n",
       "      <td>LAX</td>\n",
       "      <td>155531</td>\n",
       "      <td>12892</td>\n",
       "      <td>Los Angeles, CA</td>\n",
       "      <td>205745255.0</td>\n",
       "    </tr>\n",
       "    <tr>\n",
       "      <th>6</th>\n",
       "      <td>SEA</td>\n",
       "      <td>117693</td>\n",
       "      <td>14747</td>\n",
       "      <td>Seattle, WA</td>\n",
       "      <td>113960665.0</td>\n",
       "    </tr>\n",
       "    <tr>\n",
       "      <th>7</th>\n",
       "      <td>PHX</td>\n",
       "      <td>111128</td>\n",
       "      <td>14107</td>\n",
       "      <td>Phoenix, AZ</td>\n",
       "      <td>109444579.0</td>\n",
       "    </tr>\n",
       "    <tr>\n",
       "      <th>8</th>\n",
       "      <td>IAH</td>\n",
       "      <td>110999</td>\n",
       "      <td>12266</td>\n",
       "      <td>Houston, TX</td>\n",
       "      <td>103908868.0</td>\n",
       "    </tr>\n",
       "    <tr>\n",
       "      <th>9</th>\n",
       "      <td>DTW</td>\n",
       "      <td>108178</td>\n",
       "      <td>11433</td>\n",
       "      <td>Detroit, MI</td>\n",
       "      <td>86099463.0</td>\n",
       "    </tr>\n",
       "  </tbody>\n",
       "</table>\n",
       "</div>"
      ],
      "text/plain": [
       "  origin  number_of_flights  origin_airport_id       origin_city_name  \\\n",
       "0    ATL             242622              10397            Atlanta, GA   \n",
       "1    ORD             242500              13930            Chicago, IL   \n",
       "2    DFW             181232              11298  Dallas/Fort Worth, TX   \n",
       "3    DEN             172064              11292             Denver, CO   \n",
       "4    CLT             155787              11057          Charlotte, NC   \n",
       "5    LAX             155531              12892        Los Angeles, CA   \n",
       "6    SEA             117693              14747            Seattle, WA   \n",
       "7    PHX             111128              14107            Phoenix, AZ   \n",
       "8    IAH             110999              12266            Houston, TX   \n",
       "9    DTW             108178              11433            Detroit, MI   \n",
       "\n",
       "   total_passengers  \n",
       "0       257478059.0  \n",
       "1       194019087.0  \n",
       "2       163888490.0  \n",
       "3       151024252.0  \n",
       "4       112838675.0  \n",
       "5       205745255.0  \n",
       "6       113960665.0  \n",
       "7       109444579.0  \n",
       "8       103908868.0  \n",
       "9        86099463.0  "
      ]
     },
     "execution_count": 94,
     "metadata": {},
     "output_type": "execute_result"
    }
   ],
   "source": [
    "#The Top 10 busiest airports by the biggest number of flights and the passenger traffic they cover.\n",
    "pd.merge(df_tsk9.head(10),df_tsk9b,how = \"left\", on = \"origin\")"
   ]
  },
  {
   "cell_type": "markdown",
   "metadata": {},
   "source": [
    "#### **Task 10**: Do bigger delays lead to bigger fuel comsumption per passenger? \n",
    "We need to do four things to answer this as accurate as possible:\n",
    "- Find out average monthly delay per air carrier (monthly delay is sum of all delays in 1 month)\n",
    "- Find out distance covered monthly by different air carriers\n",
    "- Find out number of passengers that were carried by different air carriers\n",
    "- Find out total fuel comsumption per air carrier.\n",
    "\n",
    "Use this information to get the average fuel comsumption per passenger per km. Is this higher for the airlines with bigger average delays?"
   ]
  },
  {
   "cell_type": "code",
   "execution_count": 95,
   "metadata": {},
   "outputs": [
    {
     "data": {
      "text/html": [
       "<div>\n",
       "<style scoped>\n",
       "    .dataframe tbody tr th:only-of-type {\n",
       "        vertical-align: middle;\n",
       "    }\n",
       "\n",
       "    .dataframe tbody tr th {\n",
       "        vertical-align: top;\n",
       "    }\n",
       "\n",
       "    .dataframe thead th {\n",
       "        text-align: right;\n",
       "    }\n",
       "</style>\n",
       "<table border=\"1\" class=\"dataframe\">\n",
       "  <thead>\n",
       "    <tr style=\"text-align: right;\">\n",
       "      <th></th>\n",
       "      <th></th>\n",
       "      <th>arr_delay</th>\n",
       "    </tr>\n",
       "    <tr>\n",
       "      <th>month</th>\n",
       "      <th>op_unique_carrier</th>\n",
       "      <th></th>\n",
       "    </tr>\n",
       "  </thead>\n",
       "  <tbody>\n",
       "    <tr>\n",
       "      <th rowspan=\"5\" valign=\"top\">1</th>\n",
       "      <th>9E</th>\n",
       "      <td>4.344391</td>\n",
       "    </tr>\n",
       "    <tr>\n",
       "      <th>AA</th>\n",
       "      <td>3.279720</td>\n",
       "    </tr>\n",
       "    <tr>\n",
       "      <th>AS</th>\n",
       "      <td>0.405415</td>\n",
       "    </tr>\n",
       "    <tr>\n",
       "      <th>AX</th>\n",
       "      <td>14.102972</td>\n",
       "    </tr>\n",
       "    <tr>\n",
       "      <th>B6</th>\n",
       "      <td>14.557512</td>\n",
       "    </tr>\n",
       "  </tbody>\n",
       "</table>\n",
       "</div>"
      ],
      "text/plain": [
       "                         arr_delay\n",
       "month op_unique_carrier           \n",
       "1     9E                  4.344391\n",
       "      AA                  3.279720\n",
       "      AS                  0.405415\n",
       "      AX                 14.102972\n",
       "      B6                 14.557512"
      ]
     },
     "execution_count": 95,
     "metadata": {},
     "output_type": "execute_result"
    }
   ],
   "source": [
    "#Find out average monthly delay per air carrier (monthly delay is sum of all delays in 1 month)\n",
    "df_tsk10a = df_flights.groupby(['month','op_unique_carrier'])[['arr_delay']].agg('mean')\n",
    "df_tsk10a.head()"
   ]
  },
  {
   "cell_type": "code",
   "execution_count": 96,
   "metadata": {},
   "outputs": [
    {
     "data": {
      "text/html": [
       "<div>\n",
       "<style scoped>\n",
       "    .dataframe tbody tr th:only-of-type {\n",
       "        vertical-align: middle;\n",
       "    }\n",
       "\n",
       "    .dataframe tbody tr th {\n",
       "        vertical-align: top;\n",
       "    }\n",
       "\n",
       "    .dataframe thead th {\n",
       "        text-align: right;\n",
       "    }\n",
       "</style>\n",
       "<table border=\"1\" class=\"dataframe\">\n",
       "  <thead>\n",
       "    <tr style=\"text-align: right;\">\n",
       "      <th></th>\n",
       "      <th></th>\n",
       "      <th>distance</th>\n",
       "    </tr>\n",
       "    <tr>\n",
       "      <th>month</th>\n",
       "      <th>op_unique_carrier</th>\n",
       "      <th></th>\n",
       "    </tr>\n",
       "  </thead>\n",
       "  <tbody>\n",
       "    <tr>\n",
       "      <th rowspan=\"5\" valign=\"top\">1</th>\n",
       "      <th>9E</th>\n",
       "      <td>9353544.0</td>\n",
       "    </tr>\n",
       "    <tr>\n",
       "      <th>AA</th>\n",
       "      <td>74731088.0</td>\n",
       "    </tr>\n",
       "    <tr>\n",
       "      <th>AS</th>\n",
       "      <td>26865018.0</td>\n",
       "    </tr>\n",
       "    <tr>\n",
       "      <th>AX</th>\n",
       "      <td>2676774.0</td>\n",
       "    </tr>\n",
       "    <tr>\n",
       "      <th>B6</th>\n",
       "      <td>26225716.0</td>\n",
       "    </tr>\n",
       "  </tbody>\n",
       "</table>\n",
       "</div>"
      ],
      "text/plain": [
       "                           distance\n",
       "month op_unique_carrier            \n",
       "1     9E                  9353544.0\n",
       "      AA                 74731088.0\n",
       "      AS                 26865018.0\n",
       "      AX                  2676774.0\n",
       "      B6                 26225716.0"
      ]
     },
     "execution_count": 96,
     "metadata": {},
     "output_type": "execute_result"
    }
   ],
   "source": [
    "#Find out the distance covered monthly by different air carriers\n",
    "df_tsk10b = df_flights.groupby(['month','op_unique_carrier'])[['distance']].agg('sum')\n",
    "df_tsk10b.head()"
   ]
  },
  {
   "cell_type": "code",
   "execution_count": 97,
   "metadata": {},
   "outputs": [
    {
     "data": {
      "text/plain": [
       "<AxesSubplot:xlabel='month'>"
      ]
     },
     "execution_count": 97,
     "metadata": {},
     "output_type": "execute_result"
    },
    {
     "data": {
      "image/png": "[encoded data removed]",
      "text/plain": [
       "<Figure size 1440x720 with 1 Axes>"
      ]
     },
     "metadata": {
      "needs_background": "light"
     },
     "output_type": "display_data"
    }
   ],
   "source": [
    "df_tsk10b.unstack().plot.bar()"
   ]
  },
  {
   "cell_type": "code",
   "execution_count": 98,
   "metadata": {},
   "outputs": [
    {
     "data": {
      "text/html": [
       "<div>\n",
       "<style scoped>\n",
       "    .dataframe tbody tr th:only-of-type {\n",
       "        vertical-align: middle;\n",
       "    }\n",
       "\n",
       "    .dataframe tbody tr th {\n",
       "        vertical-align: top;\n",
       "    }\n",
       "\n",
       "    .dataframe thead th {\n",
       "        text-align: right;\n",
       "    }\n",
       "</style>\n",
       "<table border=\"1\" class=\"dataframe\">\n",
       "  <thead>\n",
       "    <tr style=\"text-align: right;\">\n",
       "      <th></th>\n",
       "      <th>unique_carrier_name</th>\n",
       "      <th>unique_carrier</th>\n",
       "      <th>passengers</th>\n",
       "    </tr>\n",
       "  </thead>\n",
       "  <tbody>\n",
       "    <tr>\n",
       "      <th>0</th>\n",
       "      <td>40-Mile Air</td>\n",
       "      <td>Q5</td>\n",
       "      <td>3830.0</td>\n",
       "    </tr>\n",
       "    <tr>\n",
       "      <th>1</th>\n",
       "      <td>ABC Aerolineas SA de CV dba Interjet</td>\n",
       "      <td>4O</td>\n",
       "      <td>7938301.0</td>\n",
       "    </tr>\n",
       "    <tr>\n",
       "      <th>2</th>\n",
       "      <td>ABS JETS A.S</td>\n",
       "      <td>2AQ</td>\n",
       "      <td>618.0</td>\n",
       "    </tr>\n",
       "    <tr>\n",
       "      <th>5</th>\n",
       "      <td>ACM AIR CHARTER GmbH</td>\n",
       "      <td>0CQ</td>\n",
       "      <td>950.0</td>\n",
       "    </tr>\n",
       "    <tr>\n",
       "      <th>6</th>\n",
       "      <td>ADVANCED AIR, LLC</td>\n",
       "      <td>AN</td>\n",
       "      <td>40026.0</td>\n",
       "    </tr>\n",
       "    <tr>\n",
       "      <th>7</th>\n",
       "      <td>Abelag Aviation AG</td>\n",
       "      <td>AAB</td>\n",
       "      <td>10.0</td>\n",
       "    </tr>\n",
       "    <tr>\n",
       "      <th>8</th>\n",
       "      <td>Acropolis Aviation Ltd.</td>\n",
       "      <td>CRV</td>\n",
       "      <td>851.0</td>\n",
       "    </tr>\n",
       "    <tr>\n",
       "      <th>9</th>\n",
       "      <td>Aer Lingus Plc</td>\n",
       "      <td>EI</td>\n",
       "      <td>9578430.0</td>\n",
       "    </tr>\n",
       "    <tr>\n",
       "      <th>11</th>\n",
       "      <td>Aerodynamics Inc. d/b/a SkyValue d/b/a SkyValu...</td>\n",
       "      <td>AJQ</td>\n",
       "      <td>180313.0</td>\n",
       "    </tr>\n",
       "    <tr>\n",
       "      <th>12</th>\n",
       "      <td>Aeroenlaces Nacionales, S.A. de C.V. d/b/a Viv...</td>\n",
       "      <td>VB</td>\n",
       "      <td>1140129.0</td>\n",
       "    </tr>\n",
       "  </tbody>\n",
       "</table>\n",
       "</div>"
      ],
      "text/plain": [
       "                                  unique_carrier_name unique_carrier  \\\n",
       "0                                         40-Mile Air             Q5   \n",
       "1                ABC Aerolineas SA de CV dba Interjet             4O   \n",
       "2                                        ABS JETS A.S            2AQ   \n",
       "5                                ACM AIR CHARTER GmbH            0CQ   \n",
       "6                                   ADVANCED AIR, LLC             AN   \n",
       "7                                  Abelag Aviation AG            AAB   \n",
       "8                             Acropolis Aviation Ltd.            CRV   \n",
       "9                                      Aer Lingus Plc             EI   \n",
       "11  Aerodynamics Inc. d/b/a SkyValue d/b/a SkyValu...            AJQ   \n",
       "12  Aeroenlaces Nacionales, S.A. de C.V. d/b/a Viv...             VB   \n",
       "\n",
       "    passengers  \n",
       "0       3830.0  \n",
       "1    7938301.0  \n",
       "2        618.0  \n",
       "5        950.0  \n",
       "6      40026.0  \n",
       "7         10.0  \n",
       "8        851.0  \n",
       "9    9578430.0  \n",
       "11    180313.0  \n",
       "12   1140129.0  "
      ]
     },
     "execution_count": 98,
     "metadata": {},
     "output_type": "execute_result"
    }
   ],
   "source": [
    "#Find out the number of passengers that were carried by different air carriers\n",
    "df_tsk10c = df_passengers.groupby(['unique_carrier_name','unique_carrier'])[['passengers']].agg('sum').reset_index()\n",
    "df_tsk10c = df_tsk10c[(df_tsk10c != 0).all(1)]\n",
    "df_tsk10c.head(10)"
   ]
  },
  {
   "cell_type": "code",
   "execution_count": 99,
   "metadata": {},
   "outputs": [
    {
     "data": {
      "text/html": [
       "<div>\n",
       "<style scoped>\n",
       "    .dataframe tbody tr th:only-of-type {\n",
       "        vertical-align: middle;\n",
       "    }\n",
       "\n",
       "    .dataframe tbody tr th {\n",
       "        vertical-align: top;\n",
       "    }\n",
       "\n",
       "    .dataframe thead th {\n",
       "        text-align: right;\n",
       "    }\n",
       "</style>\n",
       "<table border=\"1\" class=\"dataframe\">\n",
       "  <thead>\n",
       "    <tr style=\"text-align: right;\">\n",
       "      <th></th>\n",
       "      <th>Unnamed: 0</th>\n",
       "      <th>month</th>\n",
       "      <th>airline_id</th>\n",
       "      <th>unique_carrier</th>\n",
       "      <th>carrier</th>\n",
       "      <th>carrier_name</th>\n",
       "      <th>carrier_group_new</th>\n",
       "      <th>sdomt_gallons</th>\n",
       "      <th>satl_gallons</th>\n",
       "      <th>spac_gallons</th>\n",
       "      <th>...</th>\n",
       "      <th>sdomt_cost</th>\n",
       "      <th>satl_cost</th>\n",
       "      <th>spac_cost</th>\n",
       "      <th>slat_cost</th>\n",
       "      <th>sint_cost</th>\n",
       "      <th>ts_cost</th>\n",
       "      <th>tdomt_cost</th>\n",
       "      <th>tint_cost</th>\n",
       "      <th>total_cost</th>\n",
       "      <th>year</th>\n",
       "    </tr>\n",
       "  </thead>\n",
       "  <tbody>\n",
       "    <tr>\n",
       "      <th>0</th>\n",
       "      <td>0</td>\n",
       "      <td>1</td>\n",
       "      <td>NaN</td>\n",
       "      <td>NaN</td>\n",
       "      <td>0JQ</td>\n",
       "      <td>NaN</td>\n",
       "      <td>1</td>\n",
       "      <td>0.0</td>\n",
       "      <td>0.0</td>\n",
       "      <td>0.0</td>\n",
       "      <td>...</td>\n",
       "      <td>0.0</td>\n",
       "      <td>0.0</td>\n",
       "      <td>0.0</td>\n",
       "      <td>0.0</td>\n",
       "      <td>0.0</td>\n",
       "      <td>0.0</td>\n",
       "      <td>5100.0</td>\n",
       "      <td>0.0</td>\n",
       "      <td>5100.0</td>\n",
       "      <td>2016</td>\n",
       "    </tr>\n",
       "    <tr>\n",
       "      <th>1</th>\n",
       "      <td>1</td>\n",
       "      <td>1</td>\n",
       "      <td>21352.0</td>\n",
       "      <td>0WQ</td>\n",
       "      <td>0WQ</td>\n",
       "      <td>Avjet Corporation</td>\n",
       "      <td>1</td>\n",
       "      <td>0.0</td>\n",
       "      <td>0.0</td>\n",
       "      <td>0.0</td>\n",
       "      <td>...</td>\n",
       "      <td>0.0</td>\n",
       "      <td>0.0</td>\n",
       "      <td>0.0</td>\n",
       "      <td>0.0</td>\n",
       "      <td>0.0</td>\n",
       "      <td>0.0</td>\n",
       "      <td>396216.0</td>\n",
       "      <td>140239.0</td>\n",
       "      <td>536455.0</td>\n",
       "      <td>2016</td>\n",
       "    </tr>\n",
       "    <tr>\n",
       "      <th>2</th>\n",
       "      <td>2</td>\n",
       "      <td>1</td>\n",
       "      <td>21645.0</td>\n",
       "      <td>23Q</td>\n",
       "      <td>23Q</td>\n",
       "      <td>Songbird Airways Inc.</td>\n",
       "      <td>1</td>\n",
       "      <td>0.0</td>\n",
       "      <td>0.0</td>\n",
       "      <td>0.0</td>\n",
       "      <td>...</td>\n",
       "      <td>0.0</td>\n",
       "      <td>0.0</td>\n",
       "      <td>0.0</td>\n",
       "      <td>0.0</td>\n",
       "      <td>0.0</td>\n",
       "      <td>0.0</td>\n",
       "      <td>0.0</td>\n",
       "      <td>0.0</td>\n",
       "      <td>0.0</td>\n",
       "      <td>2016</td>\n",
       "    </tr>\n",
       "    <tr>\n",
       "      <th>3</th>\n",
       "      <td>3</td>\n",
       "      <td>1</td>\n",
       "      <td>21652.0</td>\n",
       "      <td>27Q</td>\n",
       "      <td>27Q</td>\n",
       "      <td>Jet Aviation Flight Services, Inc.</td>\n",
       "      <td>1</td>\n",
       "      <td>0.0</td>\n",
       "      <td>0.0</td>\n",
       "      <td>0.0</td>\n",
       "      <td>...</td>\n",
       "      <td>0.0</td>\n",
       "      <td>0.0</td>\n",
       "      <td>0.0</td>\n",
       "      <td>0.0</td>\n",
       "      <td>0.0</td>\n",
       "      <td>0.0</td>\n",
       "      <td>0.0</td>\n",
       "      <td>0.0</td>\n",
       "      <td>0.0</td>\n",
       "      <td>2016</td>\n",
       "    </tr>\n",
       "    <tr>\n",
       "      <th>4</th>\n",
       "      <td>4</td>\n",
       "      <td>1</td>\n",
       "      <td>20408.0</td>\n",
       "      <td>5V</td>\n",
       "      <td>5V</td>\n",
       "      <td>Tatonduk Outfitters Limited d/b/a Everts Air A...</td>\n",
       "      <td>1</td>\n",
       "      <td>260848.0</td>\n",
       "      <td>0.0</td>\n",
       "      <td>0.0</td>\n",
       "      <td>...</td>\n",
       "      <td>522405.0</td>\n",
       "      <td>0.0</td>\n",
       "      <td>0.0</td>\n",
       "      <td>0.0</td>\n",
       "      <td>0.0</td>\n",
       "      <td>522405.0</td>\n",
       "      <td>569497.0</td>\n",
       "      <td>0.0</td>\n",
       "      <td>569497.0</td>\n",
       "      <td>2016</td>\n",
       "    </tr>\n",
       "  </tbody>\n",
       "</table>\n",
       "<p>5 rows × 26 columns</p>\n",
       "</div>"
      ],
      "text/plain": [
       "   Unnamed: 0  month  airline_id unique_carrier carrier  \\\n",
       "0           0      1         NaN            NaN     0JQ   \n",
       "1           1      1     21352.0            0WQ     0WQ   \n",
       "2           2      1     21645.0            23Q     23Q   \n",
       "3           3      1     21652.0            27Q     27Q   \n",
       "4           4      1     20408.0             5V      5V   \n",
       "\n",
       "                                        carrier_name  carrier_group_new  \\\n",
       "0                                                NaN                  1   \n",
       "1                                  Avjet Corporation                  1   \n",
       "2                              Songbird Airways Inc.                  1   \n",
       "3                 Jet Aviation Flight Services, Inc.                  1   \n",
       "4  Tatonduk Outfitters Limited d/b/a Everts Air A...                  1   \n",
       "\n",
       "   sdomt_gallons  satl_gallons  spac_gallons  ...  sdomt_cost  satl_cost  \\\n",
       "0            0.0           0.0           0.0  ...         0.0        0.0   \n",
       "1            0.0           0.0           0.0  ...         0.0        0.0   \n",
       "2            0.0           0.0           0.0  ...         0.0        0.0   \n",
       "3            0.0           0.0           0.0  ...         0.0        0.0   \n",
       "4       260848.0           0.0           0.0  ...    522405.0        0.0   \n",
       "\n",
       "   spac_cost  slat_cost  sint_cost   ts_cost  tdomt_cost  tint_cost  \\\n",
       "0        0.0        0.0        0.0       0.0      5100.0        0.0   \n",
       "1        0.0        0.0        0.0       0.0    396216.0   140239.0   \n",
       "2        0.0        0.0        0.0       0.0         0.0        0.0   \n",
       "3        0.0        0.0        0.0       0.0         0.0        0.0   \n",
       "4        0.0        0.0        0.0  522405.0    569497.0        0.0   \n",
       "\n",
       "   total_cost  year  \n",
       "0      5100.0  2016  \n",
       "1    536455.0  2016  \n",
       "2         0.0  2016  \n",
       "3         0.0  2016  \n",
       "4    569497.0  2016  \n",
       "\n",
       "[5 rows x 26 columns]"
      ]
     },
     "execution_count": 99,
     "metadata": {},
     "output_type": "execute_result"
    }
   ],
   "source": [
    "df_fuel_consum = pd.read_csv('/Users/perpetualokafor/Downloads/mid-term-project-I/fuel_comsumption.csv')\n",
    "df_fuel_consum.head()"
   ]
  },
  {
   "cell_type": "code",
   "execution_count": 100,
   "metadata": {},
   "outputs": [
    {
     "data": {
      "text/html": [
       "<div>\n",
       "<style scoped>\n",
       "    .dataframe tbody tr th:only-of-type {\n",
       "        vertical-align: middle;\n",
       "    }\n",
       "\n",
       "    .dataframe tbody tr th {\n",
       "        vertical-align: top;\n",
       "    }\n",
       "\n",
       "    .dataframe thead th {\n",
       "        text-align: right;\n",
       "    }\n",
       "</style>\n",
       "<table border=\"1\" class=\"dataframe\">\n",
       "  <thead>\n",
       "    <tr style=\"text-align: right;\">\n",
       "      <th></th>\n",
       "      <th>carrier_name</th>\n",
       "      <th>unique_carrier</th>\n",
       "      <th>total_gallons</th>\n",
       "    </tr>\n",
       "  </thead>\n",
       "  <tbody>\n",
       "    <tr>\n",
       "      <th>0</th>\n",
       "      <td>ABX Air Inc</td>\n",
       "      <td>ABX</td>\n",
       "      <td>6.367883e+06</td>\n",
       "    </tr>\n",
       "    <tr>\n",
       "      <th>1</th>\n",
       "      <td>Air Transport International</td>\n",
       "      <td>8C</td>\n",
       "      <td>4.061171e+07</td>\n",
       "    </tr>\n",
       "    <tr>\n",
       "      <th>2</th>\n",
       "      <td>Air Wisconsin Airlines Corp</td>\n",
       "      <td>ZW</td>\n",
       "      <td>1.306834e+08</td>\n",
       "    </tr>\n",
       "    <tr>\n",
       "      <th>3</th>\n",
       "      <td>Alaska Airlines Inc.</td>\n",
       "      <td>AS</td>\n",
       "      <td>2.678455e+09</td>\n",
       "    </tr>\n",
       "    <tr>\n",
       "      <th>4</th>\n",
       "      <td>Allegiant Air</td>\n",
       "      <td>G4</td>\n",
       "      <td>8.497621e+08</td>\n",
       "    </tr>\n",
       "  </tbody>\n",
       "</table>\n",
       "</div>"
      ],
      "text/plain": [
       "                  carrier_name unique_carrier  total_gallons\n",
       "0                  ABX Air Inc            ABX   6.367883e+06\n",
       "1  Air Transport International             8C   4.061171e+07\n",
       "2  Air Wisconsin Airlines Corp             ZW   1.306834e+08\n",
       "3         Alaska Airlines Inc.             AS   2.678455e+09\n",
       "4                Allegiant Air             G4   8.497621e+08"
      ]
     },
     "execution_count": 100,
     "metadata": {},
     "output_type": "execute_result"
    }
   ],
   "source": [
    "#Find out total fuel comsumption per air carrier\n",
    "df_tsk10d = df_fuel_consum.groupby(['carrier_name','unique_carrier'])[['total_gallons']].agg('sum').reset_index()\n",
    "df_tsk10d = df_tsk10d[(df_tsk10d != 0).all(1)]\n",
    "df_tsk10d.head()"
   ]
  }
 ],
 "metadata": {
  "kernelspec": {
   "display_name": "Python 3 (ipykernel)",
   "language": "python",
   "name": "python3"
  },
  "language_info": {
   "codemirror_mode": {
    "name": "ipython",
    "version": 3
   },
   "file_extension": ".py",
   "mimetype": "text/x-python",
   "name": "python",
   "nbconvert_exporter": "python",
   "pygments_lexer": "ipython3",
   "version": "3.9.13"
  },
  "toc": {
   "base_numbering": 1,
   "nav_menu": {},
   "number_sections": true,
   "sideBar": true,
   "skip_h1_title": false,
   "title_cell": "Table of Contents",
   "title_sidebar": "Contents",
   "toc_cell": false,
   "toc_position": {},
   "toc_section_display": true,
   "toc_window_display": false
  },
  "varInspector": {
   "cols": {
    "lenName": 16,
    "lenType": 16,
    "lenVar": 40
   },
   "kernels_config": {
    "python": {
     "delete_cmd_postfix": "",
     "delete_cmd_prefix": "del ",
     "library": "var_list.py",
     "varRefreshCmd": "print(var_dic_list())"
    },
    "r": {
     "delete_cmd_postfix": ") ",
     "delete_cmd_prefix": "rm(",
     "library": "var_list.r",
     "varRefreshCmd": "cat(var_dic_list()) "
    }
   },
   "types_to_exclude": [
    "module",
    "function",
    "builtin_function_or_method",
    "instance",
    "_Feature"
   ],
   "window_display": false
  }
 },
 "nbformat": 4,
 "nbformat_minor": 4
}
