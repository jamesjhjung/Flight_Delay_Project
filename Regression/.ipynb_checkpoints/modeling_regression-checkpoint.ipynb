{
 "cells": [
  {
   "cell_type": "code",
   "execution_count": 36,
   "metadata": {},
   "outputs": [],
   "source": [
    "import pandas as pd\n",
    "import numpy as np\n",
    "import datetime as dt\n",
    "import requests as re\n",
    "import seaborn as sns\n",
    "import xgboost as xgb\n",
    "from matplotlib import pyplot as plt\n",
    "\n",
    "from sklearn import svm\n",
    "from sklearn.preprocessing import StandardScaler\n",
    "from sklearn.feature_selection import VarianceThreshold, f_regression, SelectKBest\n",
    "from sklearn.linear_model import LinearRegression, LogisticRegression\n",
    "from sklearn.model_selection import train_test_split, GridSearchCV\n",
    "from sklearn.metrics import log_loss, roc_auc_score, recall_score, precision_score, average_precision_score, f1_score, classification_report, accuracy_score, plot_roc_curve, plot_precision_recall_curve, plot_confusion_matrix, mean_squared_error, mean_absolute_error, r2_score\n",
    "from sklearn.ensemble import RandomForestClassifier\n",
    "from sklearn.ensemble import RandomForestRegressor\n",
    "from sklearn.naive_bayes import GaussianNB\n",
    "from xgboost import XGBClassifier\n",
    "\n",
    "import statsmodels.api as sm"
   ]
  },
  {
   "cell_type": "markdown",
   "metadata": {},
   "source": [
    "## Main Task: Regression Problem"
   ]
  },
  {
   "cell_type": "code",
   "execution_count": 2,
   "metadata": {},
   "outputs": [],
   "source": [
    "df_flights = pd.read_csv('flights_random_subset.csv')"
   ]
  },
  {
   "cell_type": "code",
   "execution_count": 3,
   "metadata": {},
   "outputs": [
    {
     "data": {
      "text/html": [
       "<div>\n",
       "<style scoped>\n",
       "    .dataframe tbody tr th:only-of-type {\n",
       "        vertical-align: middle;\n",
       "    }\n",
       "\n",
       "    .dataframe tbody tr th {\n",
       "        vertical-align: top;\n",
       "    }\n",
       "\n",
       "    .dataframe thead th {\n",
       "        text-align: right;\n",
       "    }\n",
       "</style>\n",
       "<table border=\"1\" class=\"dataframe\">\n",
       "  <thead>\n",
       "    <tr style=\"text-align: right;\">\n",
       "      <th></th>\n",
       "      <th>fl_date</th>\n",
       "      <th>mkt_unique_carrier</th>\n",
       "      <th>branded_code_share</th>\n",
       "      <th>mkt_carrier</th>\n",
       "      <th>mkt_carrier_fl_num</th>\n",
       "      <th>op_unique_carrier</th>\n",
       "      <th>tail_num</th>\n",
       "      <th>op_carrier_fl_num</th>\n",
       "      <th>origin_airport_id</th>\n",
       "      <th>origin</th>\n",
       "      <th>...</th>\n",
       "      <th>distance</th>\n",
       "      <th>carrier_delay</th>\n",
       "      <th>weather_delay</th>\n",
       "      <th>nas_delay</th>\n",
       "      <th>security_delay</th>\n",
       "      <th>late_aircraft_delay</th>\n",
       "      <th>first_dep_time</th>\n",
       "      <th>total_add_gtime</th>\n",
       "      <th>longest_add_gtime</th>\n",
       "      <th>no_name</th>\n",
       "    </tr>\n",
       "  </thead>\n",
       "  <tbody>\n",
       "    <tr>\n",
       "      <th>0</th>\n",
       "      <td>2018-09-10</td>\n",
       "      <td>AA</td>\n",
       "      <td>AA</td>\n",
       "      <td>AA</td>\n",
       "      <td>1787</td>\n",
       "      <td>AA</td>\n",
       "      <td>N967UW</td>\n",
       "      <td>1787</td>\n",
       "      <td>14100</td>\n",
       "      <td>PHL</td>\n",
       "      <td>...</td>\n",
       "      <td>119</td>\n",
       "      <td>NaN</td>\n",
       "      <td>NaN</td>\n",
       "      <td>NaN</td>\n",
       "      <td>NaN</td>\n",
       "      <td>NaN</td>\n",
       "      <td>NaN</td>\n",
       "      <td>NaN</td>\n",
       "      <td>NaN</td>\n",
       "      <td>NaN</td>\n",
       "    </tr>\n",
       "    <tr>\n",
       "      <th>1</th>\n",
       "      <td>2019-05-17</td>\n",
       "      <td>DL</td>\n",
       "      <td>DL_CODESHARE</td>\n",
       "      <td>DL</td>\n",
       "      <td>3343</td>\n",
       "      <td>9E</td>\n",
       "      <td>N8783E</td>\n",
       "      <td>3343</td>\n",
       "      <td>13795</td>\n",
       "      <td>OAJ</td>\n",
       "      <td>...</td>\n",
       "      <td>399</td>\n",
       "      <td>NaN</td>\n",
       "      <td>NaN</td>\n",
       "      <td>NaN</td>\n",
       "      <td>NaN</td>\n",
       "      <td>NaN</td>\n",
       "      <td>NaN</td>\n",
       "      <td>NaN</td>\n",
       "      <td>NaN</td>\n",
       "      <td>NaN</td>\n",
       "    </tr>\n",
       "    <tr>\n",
       "      <th>2</th>\n",
       "      <td>2019-06-05</td>\n",
       "      <td>AA</td>\n",
       "      <td>AA_CODESHARE</td>\n",
       "      <td>AA</td>\n",
       "      <td>4102</td>\n",
       "      <td>MQ</td>\n",
       "      <td>N900AE</td>\n",
       "      <td>4102</td>\n",
       "      <td>14730</td>\n",
       "      <td>SDF</td>\n",
       "      <td>...</td>\n",
       "      <td>286</td>\n",
       "      <td>NaN</td>\n",
       "      <td>NaN</td>\n",
       "      <td>NaN</td>\n",
       "      <td>NaN</td>\n",
       "      <td>NaN</td>\n",
       "      <td>NaN</td>\n",
       "      <td>NaN</td>\n",
       "      <td>NaN</td>\n",
       "      <td>NaN</td>\n",
       "    </tr>\n",
       "    <tr>\n",
       "      <th>3</th>\n",
       "      <td>2019-09-08</td>\n",
       "      <td>WN</td>\n",
       "      <td>WN</td>\n",
       "      <td>WN</td>\n",
       "      <td>2510</td>\n",
       "      <td>WN</td>\n",
       "      <td>N7831B</td>\n",
       "      <td>2510</td>\n",
       "      <td>13495</td>\n",
       "      <td>MSY</td>\n",
       "      <td>...</td>\n",
       "      <td>302</td>\n",
       "      <td>NaN</td>\n",
       "      <td>NaN</td>\n",
       "      <td>NaN</td>\n",
       "      <td>NaN</td>\n",
       "      <td>NaN</td>\n",
       "      <td>NaN</td>\n",
       "      <td>NaN</td>\n",
       "      <td>NaN</td>\n",
       "      <td>NaN</td>\n",
       "    </tr>\n",
       "    <tr>\n",
       "      <th>4</th>\n",
       "      <td>2019-03-19</td>\n",
       "      <td>DL</td>\n",
       "      <td>DL</td>\n",
       "      <td>DL</td>\n",
       "      <td>2854</td>\n",
       "      <td>DL</td>\n",
       "      <td>N1402A</td>\n",
       "      <td>2854</td>\n",
       "      <td>10397</td>\n",
       "      <td>ATL</td>\n",
       "      <td>...</td>\n",
       "      <td>1590</td>\n",
       "      <td>NaN</td>\n",
       "      <td>NaN</td>\n",
       "      <td>NaN</td>\n",
       "      <td>NaN</td>\n",
       "      <td>NaN</td>\n",
       "      <td>NaN</td>\n",
       "      <td>NaN</td>\n",
       "      <td>NaN</td>\n",
       "      <td>NaN</td>\n",
       "    </tr>\n",
       "  </tbody>\n",
       "</table>\n",
       "<p>5 rows × 42 columns</p>\n",
       "</div>"
      ],
      "text/plain": [
       "      fl_date mkt_unique_carrier branded_code_share mkt_carrier  \\\n",
       "0  2018-09-10                 AA                 AA          AA   \n",
       "1  2019-05-17                 DL       DL_CODESHARE          DL   \n",
       "2  2019-06-05                 AA       AA_CODESHARE          AA   \n",
       "3  2019-09-08                 WN                 WN          WN   \n",
       "4  2019-03-19                 DL                 DL          DL   \n",
       "\n",
       "   mkt_carrier_fl_num op_unique_carrier tail_num  op_carrier_fl_num  \\\n",
       "0                1787                AA   N967UW               1787   \n",
       "1                3343                9E   N8783E               3343   \n",
       "2                4102                MQ   N900AE               4102   \n",
       "3                2510                WN   N7831B               2510   \n",
       "4                2854                DL   N1402A               2854   \n",
       "\n",
       "   origin_airport_id origin  ... distance  carrier_delay weather_delay  \\\n",
       "0              14100    PHL  ...      119            NaN           NaN   \n",
       "1              13795    OAJ  ...      399            NaN           NaN   \n",
       "2              14730    SDF  ...      286            NaN           NaN   \n",
       "3              13495    MSY  ...      302            NaN           NaN   \n",
       "4              10397    ATL  ...     1590            NaN           NaN   \n",
       "\n",
       "  nas_delay  security_delay  late_aircraft_delay  first_dep_time  \\\n",
       "0       NaN             NaN                  NaN             NaN   \n",
       "1       NaN             NaN                  NaN             NaN   \n",
       "2       NaN             NaN                  NaN             NaN   \n",
       "3       NaN             NaN                  NaN             NaN   \n",
       "4       NaN             NaN                  NaN             NaN   \n",
       "\n",
       "   total_add_gtime  longest_add_gtime  no_name  \n",
       "0              NaN                NaN      NaN  \n",
       "1              NaN                NaN      NaN  \n",
       "2              NaN                NaN      NaN  \n",
       "3              NaN                NaN      NaN  \n",
       "4              NaN                NaN      NaN  \n",
       "\n",
       "[5 rows x 42 columns]"
      ]
     },
     "execution_count": 3,
     "metadata": {},
     "output_type": "execute_result"
    }
   ],
   "source": [
    "df_flights.head()"
   ]
  },
  {
   "cell_type": "markdown",
   "metadata": {},
   "source": [
    "### Feature Engineering"
   ]
  },
  {
   "cell_type": "code",
   "execution_count": 4,
   "metadata": {},
   "outputs": [],
   "source": [
    "# creating new features using a combination/transformation of exisiting ones\n",
    "\n",
    "# month\n",
    "df_flights['fl_month'] = pd.DatetimeIndex(df_flights['fl_date']).month\n",
    "\n",
    "# scheduled departure hour\n",
    "df_flights['dep_hour'] = df_flights['crs_dep_time']\n",
    "df_flights['dep_hour'] = df_flights['dep_hour'].astype(str).str.pad(4, side = 'left', fillchar = '0')\n",
    "df_flights['dep_hour'] = df_flights['dep_hour'].str[0:2].astype(int)\n",
    "\n",
    "# scheduled arrival hour\n",
    "df_flights['arr_hour'] = df_flights['crs_arr_time']\n",
    "df_flights['arr_hour'] = df_flights['arr_hour'].astype(str).str.pad(4, side = 'left', fillchar = '0')\n",
    "df_flights['arr_hour'] = df_flights['arr_hour'].str[0:2].astype(int)\n",
    "\n",
    "# flight day of week\n",
    "df_flights['day_of_week'] = pd.DatetimeIndex(df_flights['fl_date']).dayofweek\n",
    "\n",
    "# origin and destination state\n",
    "df_flights['origin_state'] = df_flights['origin_city_name'].str[-2:]\n",
    "df_flights['dest_state'] = df_flights['dest_city_name'].str[-2:]\n",
    "\n",
    "# haul type\n",
    "haul_type = pd.cut(df_flights['crs_elapsed_time'], bins = [0, 180, 360, 900], labels = ['SHORT', 'MEDIUM', 'LONG'])\n",
    "df_flights.insert(48, 'haul_type', haul_type)\n",
    "\n",
    "# arrival delay (fill nans)\n",
    "df_flights['arr_delay'] = df_flights['arr_delay'].fillna(0)\n",
    "# df_flights['arr_delay'] = pd.cut(df_flights['arr_delay'], bins = [-100, 0, 1000], labels = [0, 1])\n"
   ]
  },
  {
   "cell_type": "markdown",
   "metadata": {},
   "source": [
    "### Feature Selection / Dimensionality Reduction"
   ]
  },
  {
   "cell_type": "code",
   "execution_count": 5,
   "metadata": {},
   "outputs": [
    {
     "data": {
      "text/html": [
       "<div>\n",
       "<style scoped>\n",
       "    .dataframe tbody tr th:only-of-type {\n",
       "        vertical-align: middle;\n",
       "    }\n",
       "\n",
       "    .dataframe tbody tr th {\n",
       "        vertical-align: top;\n",
       "    }\n",
       "\n",
       "    .dataframe thead th {\n",
       "        text-align: right;\n",
       "    }\n",
       "</style>\n",
       "<table border=\"1\" class=\"dataframe\">\n",
       "  <thead>\n",
       "    <tr style=\"text-align: right;\">\n",
       "      <th></th>\n",
       "      <th>mkt_unique_carrier</th>\n",
       "      <th>origin</th>\n",
       "      <th>origin_city_name</th>\n",
       "      <th>dest</th>\n",
       "      <th>dest_city_name</th>\n",
       "      <th>arr_delay</th>\n",
       "      <th>crs_elapsed_time</th>\n",
       "      <th>distance</th>\n",
       "      <th>fl_month</th>\n",
       "      <th>dep_hour</th>\n",
       "      <th>arr_hour</th>\n",
       "      <th>day_of_week</th>\n",
       "      <th>origin_state</th>\n",
       "      <th>dest_state</th>\n",
       "      <th>haul_type</th>\n",
       "    </tr>\n",
       "  </thead>\n",
       "  <tbody>\n",
       "    <tr>\n",
       "      <th>0</th>\n",
       "      <td>AA</td>\n",
       "      <td>PHL</td>\n",
       "      <td>Philadelphia, PA</td>\n",
       "      <td>DCA</td>\n",
       "      <td>Washington, DC</td>\n",
       "      <td>-11.0</td>\n",
       "      <td>66</td>\n",
       "      <td>119</td>\n",
       "      <td>9</td>\n",
       "      <td>16</td>\n",
       "      <td>17</td>\n",
       "      <td>0</td>\n",
       "      <td>PA</td>\n",
       "      <td>DC</td>\n",
       "      <td>SHORT</td>\n",
       "    </tr>\n",
       "    <tr>\n",
       "      <th>1</th>\n",
       "      <td>DL</td>\n",
       "      <td>OAJ</td>\n",
       "      <td>Jacksonville/Camp Lejeune, NC</td>\n",
       "      <td>ATL</td>\n",
       "      <td>Atlanta, GA</td>\n",
       "      <td>-23.0</td>\n",
       "      <td>95</td>\n",
       "      <td>399</td>\n",
       "      <td>5</td>\n",
       "      <td>6</td>\n",
       "      <td>7</td>\n",
       "      <td>4</td>\n",
       "      <td>NC</td>\n",
       "      <td>GA</td>\n",
       "      <td>SHORT</td>\n",
       "    </tr>\n",
       "    <tr>\n",
       "      <th>2</th>\n",
       "      <td>AA</td>\n",
       "      <td>SDF</td>\n",
       "      <td>Louisville, KY</td>\n",
       "      <td>ORD</td>\n",
       "      <td>Chicago, IL</td>\n",
       "      <td>-17.0</td>\n",
       "      <td>94</td>\n",
       "      <td>286</td>\n",
       "      <td>6</td>\n",
       "      <td>14</td>\n",
       "      <td>15</td>\n",
       "      <td>2</td>\n",
       "      <td>KY</td>\n",
       "      <td>IL</td>\n",
       "      <td>SHORT</td>\n",
       "    </tr>\n",
       "    <tr>\n",
       "      <th>3</th>\n",
       "      <td>WN</td>\n",
       "      <td>MSY</td>\n",
       "      <td>New Orleans, LA</td>\n",
       "      <td>HOU</td>\n",
       "      <td>Houston, TX</td>\n",
       "      <td>-9.0</td>\n",
       "      <td>75</td>\n",
       "      <td>302</td>\n",
       "      <td>9</td>\n",
       "      <td>15</td>\n",
       "      <td>16</td>\n",
       "      <td>6</td>\n",
       "      <td>LA</td>\n",
       "      <td>TX</td>\n",
       "      <td>SHORT</td>\n",
       "    </tr>\n",
       "    <tr>\n",
       "      <th>4</th>\n",
       "      <td>DL</td>\n",
       "      <td>ATL</td>\n",
       "      <td>Atlanta, GA</td>\n",
       "      <td>SLC</td>\n",
       "      <td>Salt Lake City, UT</td>\n",
       "      <td>-18.0</td>\n",
       "      <td>260</td>\n",
       "      <td>1590</td>\n",
       "      <td>3</td>\n",
       "      <td>21</td>\n",
       "      <td>23</td>\n",
       "      <td>1</td>\n",
       "      <td>GA</td>\n",
       "      <td>UT</td>\n",
       "      <td>MEDIUM</td>\n",
       "    </tr>\n",
       "  </tbody>\n",
       "</table>\n",
       "</div>"
      ],
      "text/plain": [
       "  mkt_unique_carrier origin               origin_city_name dest  \\\n",
       "0                 AA    PHL               Philadelphia, PA  DCA   \n",
       "1                 DL    OAJ  Jacksonville/Camp Lejeune, NC  ATL   \n",
       "2                 AA    SDF                 Louisville, KY  ORD   \n",
       "3                 WN    MSY                New Orleans, LA  HOU   \n",
       "4                 DL    ATL                    Atlanta, GA  SLC   \n",
       "\n",
       "       dest_city_name  arr_delay  crs_elapsed_time  distance  fl_month  \\\n",
       "0      Washington, DC      -11.0                66       119         9   \n",
       "1         Atlanta, GA      -23.0                95       399         5   \n",
       "2         Chicago, IL      -17.0                94       286         6   \n",
       "3         Houston, TX       -9.0                75       302         9   \n",
       "4  Salt Lake City, UT      -18.0               260      1590         3   \n",
       "\n",
       "   dep_hour  arr_hour  day_of_week origin_state dest_state haul_type  \n",
       "0        16        17            0           PA         DC     SHORT  \n",
       "1         6         7            4           NC         GA     SHORT  \n",
       "2        14        15            2           KY         IL     SHORT  \n",
       "3        15        16            6           LA         TX     SHORT  \n",
       "4        21        23            1           GA         UT    MEDIUM  "
      ]
     },
     "execution_count": 5,
     "metadata": {},
     "output_type": "execute_result"
    }
   ],
   "source": [
    "# feature selection: dropping columns\n",
    "cols_to_drop = ['fl_date', 'branded_code_share', 'weather_delay', 'mkt_carrier_fl_num', 'mkt_carrier', 'crs_dep_time', 'crs_arr_time', 'op_unique_carrier', 'tail_num', 'op_carrier_fl_num', 'no_name', 'origin_airport_id', 'dest_airport_id', 'dep_time', 'dep_delay', 'taxi_out', 'wheels_off', 'wheels_on', 'taxi_in', 'arr_time', 'cancelled', 'cancellation_code', 'diverted', 'dup', 'actual_elapsed_time', 'air_time', 'flights', 'carrier_delay', 'nas_delay', 'security_delay', 'late_aircraft_delay', 'first_dep_time', 'total_add_gtime', 'longest_add_gtime']\n",
    "df_flights_sel = df_flights.drop(cols_to_drop, axis = 1)\n",
    "df_flights_sel.head()"
   ]
  },
  {
   "cell_type": "code",
   "execution_count": 6,
   "metadata": {},
   "outputs": [
    {
     "data": {
      "text/plain": [
       "mkt_unique_carrier      object\n",
       "origin                  object\n",
       "origin_city_name        object\n",
       "dest                    object\n",
       "dest_city_name          object\n",
       "arr_delay              float64\n",
       "crs_elapsed_time         int64\n",
       "distance                 int64\n",
       "fl_month                 int64\n",
       "dep_hour                 int32\n",
       "arr_hour                 int32\n",
       "day_of_week              int64\n",
       "origin_state            object\n",
       "dest_state              object\n",
       "haul_type             category\n",
       "dtype: object"
      ]
     },
     "execution_count": 6,
     "metadata": {},
     "output_type": "execute_result"
    }
   ],
   "source": [
    "df_flights_sel.dtypes"
   ]
  },
  {
   "cell_type": "code",
   "execution_count": 7,
   "metadata": {},
   "outputs": [
    {
     "name": "stderr",
     "output_type": "stream",
     "text": [
      "c:\\Users\\james\\anaconda3\\lib\\site-packages\\seaborn\\distributions.py:2619: FutureWarning: `distplot` is a deprecated function and will be removed in a future version. Please adapt your code to use either `displot` (a figure-level function with similar flexibility) or `histplot` (an axes-level function for histograms).\n",
      "  warnings.warn(msg, FutureWarning)\n"
     ]
    },
    {
     "data": {
      "text/plain": [
       "<AxesSubplot:xlabel='crs_elapsed_time', ylabel='Density'>"
      ]
     },
     "execution_count": 7,
     "metadata": {},
     "output_type": "execute_result"
    },
    {
     "data": {
      "image/png": "[encoded data removed]",
      "text/plain": [
       "<Figure size 432x288 with 1 Axes>"
      ]
     },
     "metadata": {
      "needs_background": "light"
     },
     "output_type": "display_data"
    }
   ],
   "source": [
    "# checking for skewed numerical features\n",
    "sns.distplot(df_flights_sel['crs_elapsed_time'])"
   ]
  },
  {
   "cell_type": "code",
   "execution_count": 8,
   "metadata": {},
   "outputs": [
    {
     "name": "stderr",
     "output_type": "stream",
     "text": [
      "c:\\Users\\james\\anaconda3\\lib\\site-packages\\seaborn\\distributions.py:2619: FutureWarning: `distplot` is a deprecated function and will be removed in a future version. Please adapt your code to use either `displot` (a figure-level function with similar flexibility) or `histplot` (an axes-level function for histograms).\n",
      "  warnings.warn(msg, FutureWarning)\n"
     ]
    },
    {
     "data": {
      "text/plain": [
       "<AxesSubplot:xlabel='crs_elapsed_time_log', ylabel='Density'>"
      ]
     },
     "execution_count": 8,
     "metadata": {},
     "output_type": "execute_result"
    },
    {
     "data": {
      "image/png": "[encoded data removed]",
      "text/plain": [
       "<Figure size 432x288 with 1 Axes>"
      ]
     },
     "metadata": {
      "needs_background": "light"
     },
     "output_type": "display_data"
    }
   ],
   "source": [
    "# apply logarithmic transformation\n",
    "df_flights_sel['crs_elapsed_time_log'] = df_flights_sel['crs_elapsed_time'].apply(np.log)\n",
    "sns.distplot(df_flights_sel['crs_elapsed_time_log'])"
   ]
  },
  {
   "cell_type": "code",
   "execution_count": 9,
   "metadata": {},
   "outputs": [
    {
     "name": "stderr",
     "output_type": "stream",
     "text": [
      "c:\\Users\\james\\anaconda3\\lib\\site-packages\\seaborn\\distributions.py:2619: FutureWarning: `distplot` is a deprecated function and will be removed in a future version. Please adapt your code to use either `displot` (a figure-level function with similar flexibility) or `histplot` (an axes-level function for histograms).\n",
      "  warnings.warn(msg, FutureWarning)\n"
     ]
    },
    {
     "data": {
      "text/plain": [
       "<AxesSubplot:xlabel='distance', ylabel='Density'>"
      ]
     },
     "execution_count": 9,
     "metadata": {},
     "output_type": "execute_result"
    },
    {
     "data": {
      "image/png": "[encoded data removed]",
      "text/plain": [
       "<Figure size 432x288 with 1 Axes>"
      ]
     },
     "metadata": {
      "needs_background": "light"
     },
     "output_type": "display_data"
    }
   ],
   "source": [
    "# cheking for skewed numerical features\n",
    "sns.distplot(df_flights_sel['distance'])"
   ]
  },
  {
   "cell_type": "code",
   "execution_count": 10,
   "metadata": {},
   "outputs": [
    {
     "name": "stderr",
     "output_type": "stream",
     "text": [
      "c:\\Users\\james\\anaconda3\\lib\\site-packages\\seaborn\\distributions.py:2619: FutureWarning: `distplot` is a deprecated function and will be removed in a future version. Please adapt your code to use either `displot` (a figure-level function with similar flexibility) or `histplot` (an axes-level function for histograms).\n",
      "  warnings.warn(msg, FutureWarning)\n"
     ]
    },
    {
     "data": {
      "text/plain": [
       "<AxesSubplot:xlabel='distance_log', ylabel='Density'>"
      ]
     },
     "execution_count": 10,
     "metadata": {},
     "output_type": "execute_result"
    },
    {
     "data": {
      "image/png": "[encoded data removed]",
      "text/plain": [
       "<Figure size 432x288 with 1 Axes>"
      ]
     },
     "metadata": {
      "needs_background": "light"
     },
     "output_type": "display_data"
    }
   ],
   "source": [
    "# apply logarithmic transformation\n",
    "df_flights_sel['distance_log'] = df_flights_sel['distance'].apply(np.log)\n",
    "sns.distplot(df_flights_sel['distance_log'])"
   ]
  },
  {
   "cell_type": "code",
   "execution_count": 11,
   "metadata": {},
   "outputs": [],
   "source": [
    "# dropping distance and crs_elapsed_time\n",
    "df_flights_sel = df_flights_sel.drop(['crs_elapsed_time', 'distance'], axis = 1)"
   ]
  },
  {
   "cell_type": "code",
   "execution_count": 12,
   "metadata": {},
   "outputs": [],
   "source": [
    "# dataframe with only numerical columns\n",
    "num_feats = ['arr_delay', 'fl_month', 'dep_hour', 'arr_hour', 'day_of_week', 'crs_elapsed_time_log', 'distance_log']\n",
    "df_num = df_flights_sel[num_feats]"
   ]
  },
  {
   "cell_type": "code",
   "execution_count": 13,
   "metadata": {},
   "outputs": [
    {
     "data": {
      "text/html": [
       "<div>\n",
       "<style scoped>\n",
       "    .dataframe tbody tr th:only-of-type {\n",
       "        vertical-align: middle;\n",
       "    }\n",
       "\n",
       "    .dataframe tbody tr th {\n",
       "        vertical-align: top;\n",
       "    }\n",
       "\n",
       "    .dataframe thead th {\n",
       "        text-align: right;\n",
       "    }\n",
       "</style>\n",
       "<table border=\"1\" class=\"dataframe\">\n",
       "  <thead>\n",
       "    <tr style=\"text-align: right;\">\n",
       "      <th></th>\n",
       "      <th>mkt_unique_carrier</th>\n",
       "      <th>origin</th>\n",
       "      <th>origin_city_name</th>\n",
       "      <th>dest</th>\n",
       "      <th>dest_city_name</th>\n",
       "      <th>origin_state</th>\n",
       "      <th>haul_type</th>\n",
       "      <th>dest_state</th>\n",
       "    </tr>\n",
       "  </thead>\n",
       "  <tbody>\n",
       "    <tr>\n",
       "      <th>0</th>\n",
       "      <td>0</td>\n",
       "      <td>260</td>\n",
       "      <td>250</td>\n",
       "      <td>90</td>\n",
       "      <td>338</td>\n",
       "      <td>37</td>\n",
       "      <td>0</td>\n",
       "      <td>7</td>\n",
       "    </tr>\n",
       "    <tr>\n",
       "      <th>1</th>\n",
       "      <td>3</td>\n",
       "      <td>239</td>\n",
       "      <td>154</td>\n",
       "      <td>21</td>\n",
       "      <td>17</td>\n",
       "      <td>26</td>\n",
       "      <td>0</td>\n",
       "      <td>9</td>\n",
       "    </tr>\n",
       "    <tr>\n",
       "      <th>2</th>\n",
       "      <td>0</td>\n",
       "      <td>308</td>\n",
       "      <td>191</td>\n",
       "      <td>250</td>\n",
       "      <td>61</td>\n",
       "      <td>16</td>\n",
       "      <td>0</td>\n",
       "      <td>13</td>\n",
       "    </tr>\n",
       "    <tr>\n",
       "      <th>3</th>\n",
       "      <td>10</td>\n",
       "      <td>235</td>\n",
       "      <td>225</td>\n",
       "      <td>156</td>\n",
       "      <td>146</td>\n",
       "      <td>17</td>\n",
       "      <td>0</td>\n",
       "      <td>44</td>\n",
       "    </tr>\n",
       "    <tr>\n",
       "      <th>4</th>\n",
       "      <td>3</td>\n",
       "      <td>20</td>\n",
       "      <td>17</td>\n",
       "      <td>321</td>\n",
       "      <td>286</td>\n",
       "      <td>9</td>\n",
       "      <td>1</td>\n",
       "      <td>45</td>\n",
       "    </tr>\n",
       "  </tbody>\n",
       "</table>\n",
       "</div>"
      ],
      "text/plain": [
       "   mkt_unique_carrier  origin  origin_city_name  dest  dest_city_name  \\\n",
       "0                   0     260               250    90             338   \n",
       "1                   3     239               154    21              17   \n",
       "2                   0     308               191   250              61   \n",
       "3                  10     235               225   156             146   \n",
       "4                   3      20                17   321             286   \n",
       "\n",
       "   origin_state  haul_type  dest_state  \n",
       "0            37          0           7  \n",
       "1            26          0           9  \n",
       "2            16          0          13  \n",
       "3            17          0          44  \n",
       "4             9          1          45  "
      ]
     },
     "execution_count": 13,
     "metadata": {},
     "output_type": "execute_result"
    }
   ],
   "source": [
    "# label encoding for categorical variables\n",
    "cat_feats = ['mkt_unique_carrier', 'origin', 'origin_city_name', 'dest', 'dest_city_name', 'origin_state', 'haul_type', 'dest_state']\n",
    "\n",
    "df_cat = df_flights_sel[cat_feats]\n",
    "df_cat = df_cat.astype('category')\n",
    "\n",
    "df_cat = df_cat.apply(lambda x: x.cat.codes)\n",
    "df_cat.head()"
   ]
  },
  {
   "cell_type": "code",
   "execution_count": 14,
   "metadata": {},
   "outputs": [
    {
     "data": {
      "text/html": [
       "<div>\n",
       "<style scoped>\n",
       "    .dataframe tbody tr th:only-of-type {\n",
       "        vertical-align: middle;\n",
       "    }\n",
       "\n",
       "    .dataframe tbody tr th {\n",
       "        vertical-align: top;\n",
       "    }\n",
       "\n",
       "    .dataframe thead th {\n",
       "        text-align: right;\n",
       "    }\n",
       "</style>\n",
       "<table border=\"1\" class=\"dataframe\">\n",
       "  <thead>\n",
       "    <tr style=\"text-align: right;\">\n",
       "      <th></th>\n",
       "      <th>arr_delay</th>\n",
       "      <th>fl_month</th>\n",
       "      <th>dep_hour</th>\n",
       "      <th>arr_hour</th>\n",
       "      <th>day_of_week</th>\n",
       "      <th>crs_elapsed_time_log</th>\n",
       "      <th>distance_log</th>\n",
       "      <th>mkt_unique_carrier</th>\n",
       "      <th>origin</th>\n",
       "      <th>origin_city_name</th>\n",
       "      <th>dest</th>\n",
       "      <th>dest_city_name</th>\n",
       "      <th>origin_state</th>\n",
       "      <th>haul_type</th>\n",
       "      <th>dest_state</th>\n",
       "    </tr>\n",
       "  </thead>\n",
       "  <tbody>\n",
       "    <tr>\n",
       "      <th>0</th>\n",
       "      <td>-11.0</td>\n",
       "      <td>9</td>\n",
       "      <td>16</td>\n",
       "      <td>17</td>\n",
       "      <td>0</td>\n",
       "      <td>4.189655</td>\n",
       "      <td>4.779123</td>\n",
       "      <td>0</td>\n",
       "      <td>260</td>\n",
       "      <td>250</td>\n",
       "      <td>90</td>\n",
       "      <td>338</td>\n",
       "      <td>37</td>\n",
       "      <td>0</td>\n",
       "      <td>7</td>\n",
       "    </tr>\n",
       "    <tr>\n",
       "      <th>1</th>\n",
       "      <td>-23.0</td>\n",
       "      <td>5</td>\n",
       "      <td>6</td>\n",
       "      <td>7</td>\n",
       "      <td>4</td>\n",
       "      <td>4.553877</td>\n",
       "      <td>5.988961</td>\n",
       "      <td>3</td>\n",
       "      <td>239</td>\n",
       "      <td>154</td>\n",
       "      <td>21</td>\n",
       "      <td>17</td>\n",
       "      <td>26</td>\n",
       "      <td>0</td>\n",
       "      <td>9</td>\n",
       "    </tr>\n",
       "    <tr>\n",
       "      <th>2</th>\n",
       "      <td>-17.0</td>\n",
       "      <td>6</td>\n",
       "      <td>14</td>\n",
       "      <td>15</td>\n",
       "      <td>2</td>\n",
       "      <td>4.543295</td>\n",
       "      <td>5.655992</td>\n",
       "      <td>0</td>\n",
       "      <td>308</td>\n",
       "      <td>191</td>\n",
       "      <td>250</td>\n",
       "      <td>61</td>\n",
       "      <td>16</td>\n",
       "      <td>0</td>\n",
       "      <td>13</td>\n",
       "    </tr>\n",
       "    <tr>\n",
       "      <th>3</th>\n",
       "      <td>-9.0</td>\n",
       "      <td>9</td>\n",
       "      <td>15</td>\n",
       "      <td>16</td>\n",
       "      <td>6</td>\n",
       "      <td>4.317488</td>\n",
       "      <td>5.710427</td>\n",
       "      <td>10</td>\n",
       "      <td>235</td>\n",
       "      <td>225</td>\n",
       "      <td>156</td>\n",
       "      <td>146</td>\n",
       "      <td>17</td>\n",
       "      <td>0</td>\n",
       "      <td>44</td>\n",
       "    </tr>\n",
       "    <tr>\n",
       "      <th>4</th>\n",
       "      <td>-18.0</td>\n",
       "      <td>3</td>\n",
       "      <td>21</td>\n",
       "      <td>23</td>\n",
       "      <td>1</td>\n",
       "      <td>5.560682</td>\n",
       "      <td>7.371489</td>\n",
       "      <td>3</td>\n",
       "      <td>20</td>\n",
       "      <td>17</td>\n",
       "      <td>321</td>\n",
       "      <td>286</td>\n",
       "      <td>9</td>\n",
       "      <td>1</td>\n",
       "      <td>45</td>\n",
       "    </tr>\n",
       "    <tr>\n",
       "      <th>...</th>\n",
       "      <td>...</td>\n",
       "      <td>...</td>\n",
       "      <td>...</td>\n",
       "      <td>...</td>\n",
       "      <td>...</td>\n",
       "      <td>...</td>\n",
       "      <td>...</td>\n",
       "      <td>...</td>\n",
       "      <td>...</td>\n",
       "      <td>...</td>\n",
       "      <td>...</td>\n",
       "      <td>...</td>\n",
       "      <td>...</td>\n",
       "      <td>...</td>\n",
       "      <td>...</td>\n",
       "    </tr>\n",
       "    <tr>\n",
       "      <th>49995</th>\n",
       "      <td>-29.0</td>\n",
       "      <td>9</td>\n",
       "      <td>11</td>\n",
       "      <td>14</td>\n",
       "      <td>6</td>\n",
       "      <td>5.176150</td>\n",
       "      <td>6.912743</td>\n",
       "      <td>3</td>\n",
       "      <td>176</td>\n",
       "      <td>226</td>\n",
       "      <td>341</td>\n",
       "      <td>323</td>\n",
       "      <td>33</td>\n",
       "      <td>0</td>\n",
       "      <td>8</td>\n",
       "    </tr>\n",
       "    <tr>\n",
       "      <th>49996</th>\n",
       "      <td>-9.0</td>\n",
       "      <td>6</td>\n",
       "      <td>15</td>\n",
       "      <td>19</td>\n",
       "      <td>5</td>\n",
       "      <td>5.247024</td>\n",
       "      <td>7.120444</td>\n",
       "      <td>10</td>\n",
       "      <td>319</td>\n",
       "      <td>291</td>\n",
       "      <td>341</td>\n",
       "      <td>323</td>\n",
       "      <td>38</td>\n",
       "      <td>1</td>\n",
       "      <td>8</td>\n",
       "    </tr>\n",
       "    <tr>\n",
       "      <th>49997</th>\n",
       "      <td>9.0</td>\n",
       "      <td>3</td>\n",
       "      <td>7</td>\n",
       "      <td>8</td>\n",
       "      <td>0</td>\n",
       "      <td>4.663439</td>\n",
       "      <td>5.913503</td>\n",
       "      <td>0</td>\n",
       "      <td>86</td>\n",
       "      <td>78</td>\n",
       "      <td>71</td>\n",
       "      <td>57</td>\n",
       "      <td>34</td>\n",
       "      <td>0</td>\n",
       "      <td>26</td>\n",
       "    </tr>\n",
       "    <tr>\n",
       "      <th>49998</th>\n",
       "      <td>-16.0</td>\n",
       "      <td>10</td>\n",
       "      <td>6</td>\n",
       "      <td>8</td>\n",
       "      <td>2</td>\n",
       "      <td>5.056246</td>\n",
       "      <td>6.860664</td>\n",
       "      <td>3</td>\n",
       "      <td>309</td>\n",
       "      <td>303</td>\n",
       "      <td>190</td>\n",
       "      <td>193</td>\n",
       "      <td>49</td>\n",
       "      <td>0</td>\n",
       "      <td>4</td>\n",
       "    </tr>\n",
       "    <tr>\n",
       "      <th>49999</th>\n",
       "      <td>42.0</td>\n",
       "      <td>10</td>\n",
       "      <td>17</td>\n",
       "      <td>20</td>\n",
       "      <td>3</td>\n",
       "      <td>5.164786</td>\n",
       "      <td>6.885510</td>\n",
       "      <td>1</td>\n",
       "      <td>323</td>\n",
       "      <td>294</td>\n",
       "      <td>310</td>\n",
       "      <td>304</td>\n",
       "      <td>4</td>\n",
       "      <td>0</td>\n",
       "      <td>49</td>\n",
       "    </tr>\n",
       "  </tbody>\n",
       "</table>\n",
       "<p>50000 rows × 15 columns</p>\n",
       "</div>"
      ],
      "text/plain": [
       "       arr_delay  fl_month  dep_hour  arr_hour  day_of_week  \\\n",
       "0          -11.0         9        16        17            0   \n",
       "1          -23.0         5         6         7            4   \n",
       "2          -17.0         6        14        15            2   \n",
       "3           -9.0         9        15        16            6   \n",
       "4          -18.0         3        21        23            1   \n",
       "...          ...       ...       ...       ...          ...   \n",
       "49995      -29.0         9        11        14            6   \n",
       "49996       -9.0         6        15        19            5   \n",
       "49997        9.0         3         7         8            0   \n",
       "49998      -16.0        10         6         8            2   \n",
       "49999       42.0        10        17        20            3   \n",
       "\n",
       "       crs_elapsed_time_log  distance_log  mkt_unique_carrier  origin  \\\n",
       "0                  4.189655      4.779123                   0     260   \n",
       "1                  4.553877      5.988961                   3     239   \n",
       "2                  4.543295      5.655992                   0     308   \n",
       "3                  4.317488      5.710427                  10     235   \n",
       "4                  5.560682      7.371489                   3      20   \n",
       "...                     ...           ...                 ...     ...   \n",
       "49995              5.176150      6.912743                   3     176   \n",
       "49996              5.247024      7.120444                  10     319   \n",
       "49997              4.663439      5.913503                   0      86   \n",
       "49998              5.056246      6.860664                   3     309   \n",
       "49999              5.164786      6.885510                   1     323   \n",
       "\n",
       "       origin_city_name  dest  dest_city_name  origin_state  haul_type  \\\n",
       "0                   250    90             338            37          0   \n",
       "1                   154    21              17            26          0   \n",
       "2                   191   250              61            16          0   \n",
       "3                   225   156             146            17          0   \n",
       "4                    17   321             286             9          1   \n",
       "...                 ...   ...             ...           ...        ...   \n",
       "49995               226   341             323            33          0   \n",
       "49996               291   341             323            38          1   \n",
       "49997                78    71              57            34          0   \n",
       "49998               303   190             193            49          0   \n",
       "49999               294   310             304             4          0   \n",
       "\n",
       "       dest_state  \n",
       "0               7  \n",
       "1               9  \n",
       "2              13  \n",
       "3              44  \n",
       "4              45  \n",
       "...           ...  \n",
       "49995           8  \n",
       "49996           8  \n",
       "49997          26  \n",
       "49998           4  \n",
       "49999          49  \n",
       "\n",
       "[50000 rows x 15 columns]"
      ]
     },
     "execution_count": 14,
     "metadata": {},
     "output_type": "execute_result"
    }
   ],
   "source": [
    "df_num_cat = pd.concat([df_num, df_cat], axis = 1)\n",
    "df_num_cat"
   ]
  },
  {
   "cell_type": "code",
   "execution_count": 15,
   "metadata": {},
   "outputs": [
    {
     "name": "stdout",
     "output_type": "stream",
     "text": [
      "(40000, 15)\n",
      "(10000, 15)\n"
     ]
    }
   ],
   "source": [
    "# split to train and test data\n",
    "random_seed = 888\n",
    "df_train, df_test = train_test_split(df_num_cat, test_size = 0.2, random_state = random_seed)\n",
    "\n",
    "print(df_train.shape)\n",
    "print(df_test.shape)"
   ]
  },
  {
   "cell_type": "code",
   "execution_count": 16,
   "metadata": {},
   "outputs": [],
   "source": [
    "num_feats = ['fl_month', 'dep_hour', 'arr_hour', 'day_of_week', 'crs_elapsed_time_log', 'distance_log']\n",
    "cat_feats = ['mkt_unique_carrier', 'origin', 'origin_city_name', 'dest', 'dest_city_name', 'origin_state', 'haul_type', 'dest_state']"
   ]
  },
  {
   "cell_type": "code",
   "execution_count": 17,
   "metadata": {},
   "outputs": [],
   "source": [
    "# scale numerical features\n",
    "scaler = StandardScaler()\n",
    "scaler.fit(df_train[num_feats])\n",
    "\n",
    "\n",
    "def get_features_and_target_arrays(df, num_feats, cat_feats, scaler):\n",
    "    X_numeric_scaled = scaler.transform(df[num_feats])\n",
    "    X_categorical = df[cat_feats].to_numpy()\n",
    "    X = np.hstack((X_categorical, X_numeric_scaled))\n",
    "    y = df['arr_delay']\n",
    "    return X, y"
   ]
  },
  {
   "cell_type": "markdown",
   "metadata": {},
   "source": [
    "### Modeling"
   ]
  },
  {
   "cell_type": "code",
   "execution_count": 18,
   "metadata": {},
   "outputs": [],
   "source": [
    "# Create X_train, y_train, X_test, y_test\n",
    "X_train, y_train = get_features_and_target_arrays(df_train, num_feats, cat_feats, scaler)\n",
    "X_test, y_test = get_features_and_target_arrays(df_test, num_feats, cat_feats, scaler)"
   ]
  },
  {
   "cell_type": "code",
   "execution_count": 19,
   "metadata": {},
   "outputs": [],
   "source": [
    "################################################################################################################################################################"
   ]
  },
  {
   "cell_type": "code",
   "execution_count": 20,
   "metadata": {},
   "outputs": [],
   "source": [
    "# linear regression\n",
    "clf = LinearRegression()\n",
    "clf.fit(X_train, y_train)\n",
    "\n",
    "y_pred = clf.predict(X_test)"
   ]
  },
  {
   "cell_type": "code",
   "execution_count": 21,
   "metadata": {},
   "outputs": [
    {
     "name": "stdout",
     "output_type": "stream",
     "text": [
      "The model performance for testing set\n",
      "--------------------------------------\n",
      "MAE is 23.2156746909667\n",
      "MSE is 2192.8345161314865\n",
      "R2 score is 0.007907816162804338\n"
     ]
    }
   ],
   "source": [
    "# model evaluation\n",
    "\n",
    "mae = mean_absolute_error(y_test, y_pred)\n",
    "mse = mean_squared_error(y_test, y_pred)\n",
    "r2s = r2_score(y_test, y_pred)\n",
    "\n",
    "print(\"The model performance for testing set\")\n",
    "print(\"--------------------------------------\")\n",
    "print('MAE is {}'.format(mae))\n",
    "print('MSE is {}'.format(mse))\n",
    "print('R2 score is {}'.format(r2s))"
   ]
  },
  {
   "cell_type": "code",
   "execution_count": 22,
   "metadata": {},
   "outputs": [],
   "source": [
    "################################################################################################################################################################"
   ]
  },
  {
   "cell_type": "code",
   "execution_count": 23,
   "metadata": {},
   "outputs": [],
   "source": [
    "# logistic regression\n",
    "# clf = LogisticRegression(max_iter = 1000, penalty = 'none')\n",
    "# clf.fit(X_train, y_train)\n",
    "\n",
    "# y_pred = clf.predict(X_test)"
   ]
  },
  {
   "cell_type": "code",
   "execution_count": 24,
   "metadata": {},
   "outputs": [],
   "source": [
    "# model evaluation\n",
    "# print('Accuracy = {:.5f}'.format(accuracy_score(y_test, y_pred)))\n",
    "# print('Precision = {:.5f}'.format(precision_score(y_test, y_pred, average = 'macro')))\n",
    "# print('Recall = {:.5f}'.format(recall_score(y_test, y_pred, average = 'macro')))\n",
    "# print('F1 score = {:.5f}'.format(f1_score(y_test, y_pred, average = 'macro')))"
   ]
  },
  {
   "cell_type": "code",
   "execution_count": 25,
   "metadata": {},
   "outputs": [],
   "source": [
    "################################################################################################################################################################"
   ]
  },
  {
   "cell_type": "code",
   "execution_count": 26,
   "metadata": {},
   "outputs": [],
   "source": [
    "# random forest -> regressor\n",
    "rfc = RandomForestRegressor(random_state = 0)\n",
    "rfc.fit(X_train, y_train)\n",
    "\n",
    "y_pred = rfc.predict(X_test)"
   ]
  },
  {
   "cell_type": "code",
   "execution_count": 27,
   "metadata": {},
   "outputs": [
    {
     "name": "stdout",
     "output_type": "stream",
     "text": [
      "The model performance for testing set\n",
      "--------------------------------------\n",
      "MAE is 25.827289376190475\n",
      "MSE is 2485.1298896328276\n",
      "R2 score is -0.12433378861366218\n"
     ]
    }
   ],
   "source": [
    "# model evaluation\n",
    "\n",
    "mae = mean_absolute_error(y_test, y_pred)\n",
    "mse = mean_squared_error(y_test, y_pred)\n",
    "r2s = r2_score(y_test, y_pred)\n",
    "\n",
    "print(\"The model performance for testing set\")\n",
    "print(\"--------------------------------------\")\n",
    "print('MAE is {}'.format(mae))\n",
    "print('MSE is {}'.format(mse))\n",
    "print('R2 score is {}'.format(r2s))\n",
    "\n",
    "# print('Accuracy = {:.5f}'.format(accuracy_score(y_test, y_pred)))\n",
    "# print('Precision = {:.5f}'.format(precision_score(y_test, y_pred, average = 'macro')))\n",
    "# print('Recall = {:.5f}'.format(recall_score(y_test, y_pred, average = 'macro')))\n",
    "# print('F1 score = {:.5f}'.format(f1_score(y_test, y_pred, average = 'macro')))"
   ]
  },
  {
   "cell_type": "code",
   "execution_count": 28,
   "metadata": {},
   "outputs": [],
   "source": [
    "################################################################################################################################################################"
   ]
  },
  {
   "cell_type": "code",
   "execution_count": 29,
   "metadata": {},
   "outputs": [],
   "source": [
    "# naive bayes\n",
    "gnb = GaussianNB()\n",
    "gnb.fit(X_train, y_train)\n",
    "\n",
    "y_pred = gnb.predict(X_test)"
   ]
  },
  {
   "cell_type": "code",
   "execution_count": 30,
   "metadata": {},
   "outputs": [
    {
     "name": "stdout",
     "output_type": "stream",
     "text": [
      "The model performance for testing set\n",
      "--------------------------------------\n",
      "MAE is 163.7598\n",
      "MSE is 36791.427\n",
      "R2 score is -15.645345050163431\n"
     ]
    }
   ],
   "source": [
    "# model evaluation\n",
    "\n",
    "mae = mean_absolute_error(y_test, y_pred)\n",
    "mse = mean_squared_error(y_test, y_pred)\n",
    "r2s = r2_score(y_test, y_pred)\n",
    "\n",
    "print(\"The model performance for testing set\")\n",
    "print(\"--------------------------------------\")\n",
    "print('MAE is {}'.format(mae))\n",
    "print('MSE is {}'.format(mse))\n",
    "print('R2 score is {}'.format(r2s))\n",
    "\n",
    "# print('Accuracy = {:.5f}'.format(accuracy_score(y_test, y_pred)))\n",
    "# print('Precision = {:.5f}'.format(precision_score(y_test, y_pred, average = 'macro')))\n",
    "# print('Recall = {:.5f}'.format(recall_score(y_test, y_pred, average = 'macro')))\n",
    "# print('F1 score = {:.5f}'.format(f1_score(y_test, y_pred, average = 'macro')))"
   ]
  },
  {
   "cell_type": "code",
   "execution_count": null,
   "metadata": {},
   "outputs": [],
   "source": [
    "################################################################################################################################################################"
   ]
  },
  {
   "cell_type": "code",
   "execution_count": 37,
   "metadata": {},
   "outputs": [],
   "source": [
    "# SVM\n",
    "clf = svm.SVC(kernel = 'linear')\n",
    "clf.fit(X_train, y_train)\n",
    "\n",
    "y_pred = clf.predict(X_test)"
   ]
  },
  {
   "cell_type": "code",
   "execution_count": 31,
   "metadata": {},
   "outputs": [],
   "source": [
    "# model evaluation\n",
    "\n",
    "mae = mean_absolute_error(y_test, y_pred)\n",
    "mse = mean_squared_error(y_test, y_pred)\n",
    "r2s = r2_score(y_test, y_pred)\n",
    "\n",
    "print(\"The model performance for testing set\")\n",
    "print(\"--------------------------------------\")\n",
    "print('MAE is {}'.format(mae))\n",
    "print('MSE is {}'.format(mse))\n",
    "print('R2 score is {}'.format(r2s))\n",
    "\n",
    "# print('Accuracy = {:.5f}'.format(accuracy_score(y_test, y_pred)))\n",
    "# print('Precision = {:.5f}'.format(precision_score(y_test, y_pred, average = 'macro')))\n",
    "# print('Recall = {:.5f}'.format(recall_score(y_test, y_pred, average = 'macro')))\n",
    "# print('F1 score = {:.5f}'.format(f1_score(y_test, y_pred, average = 'macro')))"
   ]
  },
  {
   "cell_type": "code",
   "execution_count": null,
   "metadata": {},
   "outputs": [],
   "source": [
    "################################################################################################################################################################"
   ]
  },
  {
   "cell_type": "code",
   "execution_count": 32,
   "metadata": {},
   "outputs": [],
   "source": [
    "# XGBoost\n",
    "xbm = xgb.XGBRegressor()\n",
    "xbm.fit(X_train, y_train)\n",
    "\n",
    "y_pred = xbm.predict(X_test)"
   ]
  },
  {
   "cell_type": "code",
   "execution_count": 33,
   "metadata": {},
   "outputs": [
    {
     "name": "stdout",
     "output_type": "stream",
     "text": [
      "The model performance for testing set\n",
      "--------------------------------------\n",
      "MAE is 24.484539275826794\n",
      "MSE is 2516.0804692356846\n",
      "R2 score is -0.13833659086952754\n"
     ]
    }
   ],
   "source": [
    "# model evaluation\n",
    "\n",
    "mae = mean_absolute_error(y_test, y_pred)\n",
    "mse = mean_squared_error(y_test, y_pred)\n",
    "r2s = r2_score(y_test, y_pred)\n",
    "\n",
    "print(\"The model performance for testing set\")\n",
    "print(\"--------------------------------------\")\n",
    "print('MAE is {}'.format(mae))\n",
    "print('MSE is {}'.format(mse))\n",
    "print('R2 score is {}'.format(r2s))\n",
    "\n",
    "# print('Accuracy = {:.5f}'.format(accuracy_score(y_test, y_pred)))\n",
    "# print('Precision = {:.5f}'.format(precision_score(y_test, y_pred, average = 'macro')))\n",
    "# print('Recall = {:.5f}'.format(recall_score(y_test, y_pred, average = 'macro')))\n",
    "# print('F1 score = {:.5f}'.format(f1_score(y_test, y_pred, average = 'macro')))"
   ]
  },
  {
   "cell_type": "markdown",
   "metadata": {},
   "source": [
    "| Regression Models | MAE | MSE | R2 |\n",
    "| --- | --- | --- | --- |\n",
    "| Linear Regression | <strong>23.22</strong> | <strong>2192.83</strong> | <strong>0.01</strong> |\n",
    "| Random Forest | 25.83 | 2485.13 | -0.12 |\n",
    "| Naive Bayes | 163.76 | 36791.43 | -15.65 |\n",
    "| SVM | 0 | 0 | 0 |\n",
    "| XGBoost | 24.48 | 2516.08 | -0.14 |"
   ]
  },
  {
   "cell_type": "code",
   "execution_count": 22,
   "metadata": {},
   "outputs": [
    {
     "name": "stderr",
     "output_type": "stream",
     "text": [
      "c:\\Users\\james\\anaconda3\\lib\\site-packages\\sklearn\\linear_model\\_base.py:148: FutureWarning: 'normalize' was deprecated in version 1.0 and will be removed in 1.2. Please leave the normalize parameter to its default value to silence this warning. The default behavior of this estimator is to not do any normalization. If normalization is needed please use sklearn.preprocessing.StandardScaler instead.\n",
      "  warnings.warn(\n"
     ]
    },
    {
     "data": {
      "text/plain": [
       "GridSearchCV(estimator=LinearRegression(), n_jobs=-1,\n",
       "             param_grid={'copy_X': [True, False],\n",
       "                         'fit_intercept': [True, False],\n",
       "                         'normalize': [True, False]})"
      ]
     },
     "execution_count": 22,
     "metadata": {},
     "output_type": "execute_result"
    }
   ],
   "source": [
    "# Finding optimal parameters for best model (linear regression)\n",
    "\n",
    "clf = LinearRegression()\n",
    "# clf.fit(X_train, y_train)\n",
    "# y_pred = clf.predict(X_test)\n",
    "\n",
    "parameter_candidates = {'fit_intercept': [True, False], 'normalize': [True, False], 'copy_X': [True, False]}\n",
    "grid = GridSearchCV(clf, parameter_candidates, n_jobs = -1)\n",
    "\n",
    "X = df_num_cat.drop(['arr_delay'], axis = 1)\n",
    "y = df_num_cat['arr_delay']\n",
    "\n",
    "grid.fit(X, y)"
   ]
  },
  {
   "cell_type": "code",
   "execution_count": 24,
   "metadata": {},
   "outputs": [
    {
     "name": "stdout",
     "output_type": "stream",
     "text": [
      "Best R2-score for data1: 0.00792222241259366\n",
      "Best fit_intercept:  True\n",
      "Best normalize: False\n",
      "Best copy_X:  True\n"
     ]
    }
   ],
   "source": [
    "# view the accuracy score\n",
    "print('Best R2-score for data1:', grid.best_score_)\n",
    "\n",
    "# View the best parameters\n",
    "print('Best fit_intercept: ', grid.best_estimator_.fit_intercept)\n",
    "print('Best normalize:', grid.best_estimator_.normalize)\n",
    "print('Best copy_X: ', grid.best_estimator_.copy_X)"
   ]
  },
  {
   "cell_type": "code",
   "execution_count": 37,
   "metadata": {},
   "outputs": [
    {
     "name": "stdout",
     "output_type": "stream",
     "text": [
      "Feature 0, Score: 0.05781\n",
      "Feature 1, Score: 0.00782\n",
      "Feature 2, Score: -0.00892\n",
      "Feature 3, Score: -0.00197\n",
      "Feature 4, Score: 0.00128\n",
      "Feature 5, Score: 0.00012\n",
      "Feature 6, Score: -2.33060\n",
      "Feature 7, Score: 0.00615\n",
      "Feature 8, Score: 0.17278\n",
      "Feature 9, Score: 3.58648\n",
      "Feature 10, Score: 1.18256\n",
      "Feature 11, Score: -0.59371\n",
      "Feature 12, Score: 1.27006\n",
      "Feature 13, Score: -0.80433\n"
     ]
    },
    {
     "data": {
      "image/png": "[encoded data removed]",
      "text/plain": [
       "<Figure size 432x288 with 1 Axes>"
      ]
     },
     "metadata": {
      "needs_background": "light"
     },
     "output_type": "display_data"
    }
   ],
   "source": [
    "# feature importance\n",
    "importance = clf.coef_\n",
    "\n",
    "for i, v in enumerate(importance):\n",
    "    print ('Feature %0d, Score: %.5f' % (i, v))\n",
    "\n",
    "# plotting\n",
    "plt.bar([x for x in range(len(importance))], importance)\n",
    "plt.show()"
   ]
  },
  {
   "cell_type": "markdown",
   "metadata": {},
   "source": [
    "### Evaluation Using flights_test"
   ]
  },
  {
   "cell_type": "code",
   "execution_count": 70,
   "metadata": {},
   "outputs": [],
   "source": [
    "df_flights_test = pd.read_csv('flights_test.csv')"
   ]
  },
  {
   "cell_type": "code",
   "execution_count": 71,
   "metadata": {},
   "outputs": [
    {
     "data": {
      "text/plain": [
       "fl_date                int64\n",
       "mkt_unique_carrier    object\n",
       "branded_code_share    object\n",
       "mkt_carrier           object\n",
       "mkt_carrier_fl_num     int64\n",
       "op_unique_carrier     object\n",
       "tail_num              object\n",
       "op_carrier_fl_num      int64\n",
       "origin_airport_id      int64\n",
       "origin                object\n",
       "origin_city_name      object\n",
       "dest_airport_id        int64\n",
       "dest                  object\n",
       "dest_city_name        object\n",
       "crs_dep_time           int64\n",
       "crs_arr_time           int64\n",
       "dup                   object\n",
       "crs_elapsed_time       int64\n",
       "flights                int64\n",
       "distance               int64\n",
       "dtype: object"
      ]
     },
     "execution_count": 71,
     "metadata": {},
     "output_type": "execute_result"
    }
   ],
   "source": [
    "df_flights_test.dtypes"
   ]
  },
  {
   "cell_type": "code",
   "execution_count": 72,
   "metadata": {},
   "outputs": [],
   "source": [
    "# creating new features using a combination/transformation of exisiting ones\n",
    "\n",
    "# month\n",
    "df_flights_test['fl_month'] = pd.DatetimeIndex(df_flights_test['fl_date']).month\n",
    "\n",
    "# scheduled departure hour\n",
    "df_flights_test['dep_hour'] = df_flights_test['crs_dep_time']\n",
    "df_flights_test['dep_hour'] = df_flights_test['dep_hour'].astype(str).str.pad(4, side = 'left', fillchar = '0')\n",
    "df_flights_test['dep_hour'] = df_flights_test['dep_hour'].str[0:2].astype(int)\n",
    "\n",
    "# scheduled arrival hour\n",
    "df_flights_test['arr_hour'] = df_flights_test['crs_arr_time']\n",
    "df_flights_test['arr_hour'] = df_flights_test['arr_hour'].astype(str).str.pad(4, side = 'left', fillchar = '0')\n",
    "df_flights_test['arr_hour'] = df_flights_test['arr_hour'].str[0:2].astype(int)\n",
    "\n",
    "# flight day of week\n",
    "df_flights_test['day_of_week'] = pd.DatetimeIndex(df_flights_test['fl_date']).dayofweek\n",
    "\n",
    "# origin and destination state\n",
    "df_flights_test['origin_state'] = df_flights_test['origin_city_name'].str[-2:]\n",
    "df_flights_test['dest_state'] = df_flights_test['dest_city_name'].str[-2:]\n",
    "\n",
    "# haul type\n",
    "haul_type = pd.cut(df_flights_test['crs_elapsed_time'], bins = [0, 180, 360, 900], labels = ['SHORT', 'MEDIUM', 'LONG'])\n",
    "df_flights_test.insert(26, 'haul_type', haul_type)"
   ]
  },
  {
   "cell_type": "code",
   "execution_count": 73,
   "metadata": {},
   "outputs": [
    {
     "data": {
      "text/html": [
       "<div>\n",
       "<style scoped>\n",
       "    .dataframe tbody tr th:only-of-type {\n",
       "        vertical-align: middle;\n",
       "    }\n",
       "\n",
       "    .dataframe tbody tr th {\n",
       "        vertical-align: top;\n",
       "    }\n",
       "\n",
       "    .dataframe thead th {\n",
       "        text-align: right;\n",
       "    }\n",
       "</style>\n",
       "<table border=\"1\" class=\"dataframe\">\n",
       "  <thead>\n",
       "    <tr style=\"text-align: right;\">\n",
       "      <th></th>\n",
       "      <th>mkt_unique_carrier</th>\n",
       "      <th>origin</th>\n",
       "      <th>origin_city_name</th>\n",
       "      <th>dest</th>\n",
       "      <th>dest_city_name</th>\n",
       "      <th>crs_elapsed_time</th>\n",
       "      <th>distance</th>\n",
       "      <th>fl_month</th>\n",
       "      <th>dep_hour</th>\n",
       "      <th>arr_hour</th>\n",
       "      <th>day_of_week</th>\n",
       "      <th>origin_state</th>\n",
       "      <th>dest_state</th>\n",
       "      <th>haul_type</th>\n",
       "    </tr>\n",
       "  </thead>\n",
       "  <tbody>\n",
       "    <tr>\n",
       "      <th>0</th>\n",
       "      <td>WN</td>\n",
       "      <td>ONT</td>\n",
       "      <td>Ontario, CA</td>\n",
       "      <td>SFO</td>\n",
       "      <td>San Francisco, CA</td>\n",
       "      <td>95</td>\n",
       "      <td>363</td>\n",
       "      <td>1</td>\n",
       "      <td>18</td>\n",
       "      <td>19</td>\n",
       "      <td>3</td>\n",
       "      <td>CA</td>\n",
       "      <td>CA</td>\n",
       "      <td>SHORT</td>\n",
       "    </tr>\n",
       "    <tr>\n",
       "      <th>1</th>\n",
       "      <td>WN</td>\n",
       "      <td>ONT</td>\n",
       "      <td>Ontario, CA</td>\n",
       "      <td>SFO</td>\n",
       "      <td>San Francisco, CA</td>\n",
       "      <td>90</td>\n",
       "      <td>363</td>\n",
       "      <td>1</td>\n",
       "      <td>11</td>\n",
       "      <td>13</td>\n",
       "      <td>3</td>\n",
       "      <td>CA</td>\n",
       "      <td>CA</td>\n",
       "      <td>SHORT</td>\n",
       "    </tr>\n",
       "    <tr>\n",
       "      <th>2</th>\n",
       "      <td>WN</td>\n",
       "      <td>ONT</td>\n",
       "      <td>Ontario, CA</td>\n",
       "      <td>SJC</td>\n",
       "      <td>San Jose, CA</td>\n",
       "      <td>70</td>\n",
       "      <td>333</td>\n",
       "      <td>1</td>\n",
       "      <td>20</td>\n",
       "      <td>21</td>\n",
       "      <td>3</td>\n",
       "      <td>CA</td>\n",
       "      <td>CA</td>\n",
       "      <td>SHORT</td>\n",
       "    </tr>\n",
       "    <tr>\n",
       "      <th>3</th>\n",
       "      <td>WN</td>\n",
       "      <td>ONT</td>\n",
       "      <td>Ontario, CA</td>\n",
       "      <td>SJC</td>\n",
       "      <td>San Jose, CA</td>\n",
       "      <td>75</td>\n",
       "      <td>333</td>\n",
       "      <td>1</td>\n",
       "      <td>13</td>\n",
       "      <td>14</td>\n",
       "      <td>3</td>\n",
       "      <td>CA</td>\n",
       "      <td>CA</td>\n",
       "      <td>SHORT</td>\n",
       "    </tr>\n",
       "    <tr>\n",
       "      <th>4</th>\n",
       "      <td>WN</td>\n",
       "      <td>ONT</td>\n",
       "      <td>Ontario, CA</td>\n",
       "      <td>SJC</td>\n",
       "      <td>San Jose, CA</td>\n",
       "      <td>80</td>\n",
       "      <td>333</td>\n",
       "      <td>1</td>\n",
       "      <td>9</td>\n",
       "      <td>10</td>\n",
       "      <td>3</td>\n",
       "      <td>CA</td>\n",
       "      <td>CA</td>\n",
       "      <td>SHORT</td>\n",
       "    </tr>\n",
       "  </tbody>\n",
       "</table>\n",
       "</div>"
      ],
      "text/plain": [
       "  mkt_unique_carrier origin origin_city_name dest     dest_city_name  \\\n",
       "0                 WN    ONT      Ontario, CA  SFO  San Francisco, CA   \n",
       "1                 WN    ONT      Ontario, CA  SFO  San Francisco, CA   \n",
       "2                 WN    ONT      Ontario, CA  SJC       San Jose, CA   \n",
       "3                 WN    ONT      Ontario, CA  SJC       San Jose, CA   \n",
       "4                 WN    ONT      Ontario, CA  SJC       San Jose, CA   \n",
       "\n",
       "   crs_elapsed_time  distance  fl_month  dep_hour  arr_hour  day_of_week  \\\n",
       "0                95       363         1        18        19            3   \n",
       "1                90       363         1        11        13            3   \n",
       "2                70       333         1        20        21            3   \n",
       "3                75       333         1        13        14            3   \n",
       "4                80       333         1         9        10            3   \n",
       "\n",
       "  origin_state dest_state haul_type  \n",
       "0           CA         CA     SHORT  \n",
       "1           CA         CA     SHORT  \n",
       "2           CA         CA     SHORT  \n",
       "3           CA         CA     SHORT  \n",
       "4           CA         CA     SHORT  "
      ]
     },
     "execution_count": 73,
     "metadata": {},
     "output_type": "execute_result"
    }
   ],
   "source": [
    "# feature selection: dropping columns\n",
    "cols_to_drop = ['fl_date', 'branded_code_share', 'mkt_carrier_fl_num', 'mkt_carrier', 'crs_dep_time', 'dup', 'crs_arr_time', 'op_unique_carrier', 'tail_num', 'op_carrier_fl_num', 'origin_airport_id', 'dest_airport_id', 'flights']\n",
    "df_flights_test_sel = df_flights_test.drop(cols_to_drop, axis = 1)\n",
    "df_flights_test_sel.head()"
   ]
  },
  {
   "cell_type": "code",
   "execution_count": 74,
   "metadata": {},
   "outputs": [
    {
     "data": {
      "text/html": [
       "<div>\n",
       "<style scoped>\n",
       "    .dataframe tbody tr th:only-of-type {\n",
       "        vertical-align: middle;\n",
       "    }\n",
       "\n",
       "    .dataframe tbody tr th {\n",
       "        vertical-align: top;\n",
       "    }\n",
       "\n",
       "    .dataframe thead th {\n",
       "        text-align: right;\n",
       "    }\n",
       "</style>\n",
       "<table border=\"1\" class=\"dataframe\">\n",
       "  <thead>\n",
       "    <tr style=\"text-align: right;\">\n",
       "      <th></th>\n",
       "      <th>fl_month</th>\n",
       "      <th>dep_hour</th>\n",
       "      <th>arr_hour</th>\n",
       "      <th>day_of_week</th>\n",
       "      <th>crs_elapsed_time_log</th>\n",
       "      <th>distance_log</th>\n",
       "      <th>mkt_unique_carrier</th>\n",
       "      <th>origin</th>\n",
       "      <th>origin_city_name</th>\n",
       "      <th>dest</th>\n",
       "      <th>dest_city_name</th>\n",
       "      <th>origin_state</th>\n",
       "      <th>haul_type</th>\n",
       "      <th>dest_state</th>\n",
       "    </tr>\n",
       "  </thead>\n",
       "  <tbody>\n",
       "    <tr>\n",
       "      <th>0</th>\n",
       "      <td>1</td>\n",
       "      <td>18</td>\n",
       "      <td>19</td>\n",
       "      <td>3</td>\n",
       "      <td>4.553877</td>\n",
       "      <td>5.894403</td>\n",
       "      <td>9</td>\n",
       "      <td>246</td>\n",
       "      <td>239</td>\n",
       "      <td>313</td>\n",
       "      <td>291</td>\n",
       "      <td>4</td>\n",
       "      <td>0</td>\n",
       "      <td>4</td>\n",
       "    </tr>\n",
       "    <tr>\n",
       "      <th>1</th>\n",
       "      <td>1</td>\n",
       "      <td>11</td>\n",
       "      <td>13</td>\n",
       "      <td>3</td>\n",
       "      <td>4.499810</td>\n",
       "      <td>5.894403</td>\n",
       "      <td>9</td>\n",
       "      <td>246</td>\n",
       "      <td>239</td>\n",
       "      <td>313</td>\n",
       "      <td>291</td>\n",
       "      <td>4</td>\n",
       "      <td>0</td>\n",
       "      <td>4</td>\n",
       "    </tr>\n",
       "    <tr>\n",
       "      <th>2</th>\n",
       "      <td>1</td>\n",
       "      <td>20</td>\n",
       "      <td>21</td>\n",
       "      <td>3</td>\n",
       "      <td>4.248495</td>\n",
       "      <td>5.808142</td>\n",
       "      <td>9</td>\n",
       "      <td>246</td>\n",
       "      <td>239</td>\n",
       "      <td>320</td>\n",
       "      <td>292</td>\n",
       "      <td>4</td>\n",
       "      <td>0</td>\n",
       "      <td>4</td>\n",
       "    </tr>\n",
       "    <tr>\n",
       "      <th>3</th>\n",
       "      <td>1</td>\n",
       "      <td>13</td>\n",
       "      <td>14</td>\n",
       "      <td>3</td>\n",
       "      <td>4.317488</td>\n",
       "      <td>5.808142</td>\n",
       "      <td>9</td>\n",
       "      <td>246</td>\n",
       "      <td>239</td>\n",
       "      <td>320</td>\n",
       "      <td>292</td>\n",
       "      <td>4</td>\n",
       "      <td>0</td>\n",
       "      <td>4</td>\n",
       "    </tr>\n",
       "    <tr>\n",
       "      <th>4</th>\n",
       "      <td>1</td>\n",
       "      <td>9</td>\n",
       "      <td>10</td>\n",
       "      <td>3</td>\n",
       "      <td>4.382027</td>\n",
       "      <td>5.808142</td>\n",
       "      <td>9</td>\n",
       "      <td>246</td>\n",
       "      <td>239</td>\n",
       "      <td>320</td>\n",
       "      <td>292</td>\n",
       "      <td>4</td>\n",
       "      <td>0</td>\n",
       "      <td>4</td>\n",
       "    </tr>\n",
       "    <tr>\n",
       "      <th>...</th>\n",
       "      <td>...</td>\n",
       "      <td>...</td>\n",
       "      <td>...</td>\n",
       "      <td>...</td>\n",
       "      <td>...</td>\n",
       "      <td>...</td>\n",
       "      <td>...</td>\n",
       "      <td>...</td>\n",
       "      <td>...</td>\n",
       "      <td>...</td>\n",
       "      <td>...</td>\n",
       "      <td>...</td>\n",
       "      <td>...</td>\n",
       "      <td>...</td>\n",
       "    </tr>\n",
       "    <tr>\n",
       "      <th>660551</th>\n",
       "      <td>1</td>\n",
       "      <td>18</td>\n",
       "      <td>20</td>\n",
       "      <td>3</td>\n",
       "      <td>4.624973</td>\n",
       "      <td>6.018593</td>\n",
       "      <td>3</td>\n",
       "      <td>90</td>\n",
       "      <td>341</td>\n",
       "      <td>83</td>\n",
       "      <td>63</td>\n",
       "      <td>7</td>\n",
       "      <td>0</td>\n",
       "      <td>34</td>\n",
       "    </tr>\n",
       "    <tr>\n",
       "      <th>660552</th>\n",
       "      <td>1</td>\n",
       "      <td>15</td>\n",
       "      <td>17</td>\n",
       "      <td>3</td>\n",
       "      <td>4.672829</td>\n",
       "      <td>6.018593</td>\n",
       "      <td>3</td>\n",
       "      <td>90</td>\n",
       "      <td>341</td>\n",
       "      <td>83</td>\n",
       "      <td>63</td>\n",
       "      <td>7</td>\n",
       "      <td>0</td>\n",
       "      <td>34</td>\n",
       "    </tr>\n",
       "    <tr>\n",
       "      <th>660553</th>\n",
       "      <td>1</td>\n",
       "      <td>22</td>\n",
       "      <td>23</td>\n",
       "      <td>3</td>\n",
       "      <td>4.521789</td>\n",
       "      <td>5.583496</td>\n",
       "      <td>3</td>\n",
       "      <td>176</td>\n",
       "      <td>225</td>\n",
       "      <td>53</td>\n",
       "      <td>47</td>\n",
       "      <td>33</td>\n",
       "      <td>0</td>\n",
       "      <td>48</td>\n",
       "    </tr>\n",
       "    <tr>\n",
       "      <th>660554</th>\n",
       "      <td>1</td>\n",
       "      <td>10</td>\n",
       "      <td>13</td>\n",
       "      <td>3</td>\n",
       "      <td>4.948760</td>\n",
       "      <td>6.606650</td>\n",
       "      <td>3</td>\n",
       "      <td>247</td>\n",
       "      <td>61</td>\n",
       "      <td>176</td>\n",
       "      <td>225</td>\n",
       "      <td>13</td>\n",
       "      <td>0</td>\n",
       "      <td>33</td>\n",
       "    </tr>\n",
       "    <tr>\n",
       "      <th>660555</th>\n",
       "      <td>1</td>\n",
       "      <td>20</td>\n",
       "      <td>22</td>\n",
       "      <td>3</td>\n",
       "      <td>4.919981</td>\n",
       "      <td>6.298949</td>\n",
       "      <td>3</td>\n",
       "      <td>196</td>\n",
       "      <td>225</td>\n",
       "      <td>71</td>\n",
       "      <td>57</td>\n",
       "      <td>33</td>\n",
       "      <td>0</td>\n",
       "      <td>26</td>\n",
       "    </tr>\n",
       "  </tbody>\n",
       "</table>\n",
       "<p>660556 rows × 14 columns</p>\n",
       "</div>"
      ],
      "text/plain": [
       "        fl_month  dep_hour  arr_hour  day_of_week  crs_elapsed_time_log  \\\n",
       "0              1        18        19            3              4.553877   \n",
       "1              1        11        13            3              4.499810   \n",
       "2              1        20        21            3              4.248495   \n",
       "3              1        13        14            3              4.317488   \n",
       "4              1         9        10            3              4.382027   \n",
       "...          ...       ...       ...          ...                   ...   \n",
       "660551         1        18        20            3              4.624973   \n",
       "660552         1        15        17            3              4.672829   \n",
       "660553         1        22        23            3              4.521789   \n",
       "660554         1        10        13            3              4.948760   \n",
       "660555         1        20        22            3              4.919981   \n",
       "\n",
       "        distance_log  mkt_unique_carrier  origin  origin_city_name  dest  \\\n",
       "0           5.894403                   9     246               239   313   \n",
       "1           5.894403                   9     246               239   313   \n",
       "2           5.808142                   9     246               239   320   \n",
       "3           5.808142                   9     246               239   320   \n",
       "4           5.808142                   9     246               239   320   \n",
       "...              ...                 ...     ...               ...   ...   \n",
       "660551      6.018593                   3      90               341    83   \n",
       "660552      6.018593                   3      90               341    83   \n",
       "660553      5.583496                   3     176               225    53   \n",
       "660554      6.606650                   3     247                61   176   \n",
       "660555      6.298949                   3     196               225    71   \n",
       "\n",
       "        dest_city_name  origin_state  haul_type  dest_state  \n",
       "0                  291             4          0           4  \n",
       "1                  291             4          0           4  \n",
       "2                  292             4          0           4  \n",
       "3                  292             4          0           4  \n",
       "4                  292             4          0           4  \n",
       "...                ...           ...        ...         ...  \n",
       "660551              63             7          0          34  \n",
       "660552              63             7          0          34  \n",
       "660553              47            33          0          48  \n",
       "660554             225            13          0          33  \n",
       "660555              57            33          0          26  \n",
       "\n",
       "[660556 rows x 14 columns]"
      ]
     },
     "execution_count": 74,
     "metadata": {},
     "output_type": "execute_result"
    }
   ],
   "source": [
    "df_flights_test_sel['crs_elapsed_time_log'] = df_flights_test_sel['crs_elapsed_time'].apply(np.log)\n",
    "df_flights_test_sel['distance_log'] = df_flights_test_sel['distance'].apply(np.log)\n",
    "df_flights_test_sel = df_flights_test_sel.drop(['crs_elapsed_time', 'distance'], axis = 1)\n",
    "\n",
    "num_feats = ['fl_month', 'dep_hour', 'arr_hour', 'day_of_week', 'crs_elapsed_time_log', 'distance_log']\n",
    "df_test_num = df_flights_test_sel[num_feats]\n",
    "\n",
    "cat_feats = ['mkt_unique_carrier', 'origin', 'origin_city_name', 'dest', 'dest_city_name', 'origin_state', 'haul_type', 'dest_state']\n",
    "df_test_cat = df_flights_test_sel[cat_feats]\n",
    "df_test_cat = df_test_cat.astype('category')\n",
    "df_test_cat = df_test_cat.apply(lambda x: x.cat.codes)\n",
    "df_test_cat.head()\n",
    "\n",
    "df_test_num_cat = pd.concat([df_test_num, df_test_cat], axis = 1)\n",
    "df_test_num_cat"
   ]
  },
  {
   "cell_type": "code",
   "execution_count": 83,
   "metadata": {},
   "outputs": [],
   "source": [
    "df_test_num_cat = df_test_num_cat.dropna()"
   ]
  },
  {
   "cell_type": "code",
   "execution_count": 84,
   "metadata": {},
   "outputs": [],
   "source": [
    "# Create X_train, y_train\n",
    "X_train, y_train = get_features_and_target_arrays(df_num_cat, num_feats, cat_feats, scaler)"
   ]
  },
  {
   "cell_type": "code",
   "execution_count": 85,
   "metadata": {},
   "outputs": [],
   "source": [
    "# Create X_test\n",
    "scaler = StandardScaler()\n",
    "scaler.fit(df_test_num_cat[num_feats])\n",
    "\n",
    "X_numeric_scaled = scaler.transform(df_test_num_cat[num_feats])\n",
    "X_categorical = df_test_num_cat[cat_feats].to_numpy()\n",
    "X_test = np.hstack((X_categorical, X_numeric_scaled))"
   ]
  },
  {
   "cell_type": "code",
   "execution_count": 114,
   "metadata": {},
   "outputs": [
    {
     "name": "stderr",
     "output_type": "stream",
     "text": [
      "c:\\Users\\james\\anaconda3\\lib\\site-packages\\sklearn\\linear_model\\_base.py:148: FutureWarning: 'normalize' was deprecated in version 1.0 and will be removed in 1.2. Please leave the normalize parameter to its default value to silence this warning. The default behavior of this estimator is to not do any normalization. If normalization is needed please use sklearn.preprocessing.StandardScaler instead.\n",
      "  warnings.warn(\n"
     ]
    }
   ],
   "source": [
    "# linear regression\n",
    "clf = LinearRegression(fit_intercept = True, normalize = False, copy_X = True)\n",
    "clf.fit(X_train, y_train)\n",
    "\n",
    "y_pred = clf.predict(X_test)"
   ]
  },
  {
   "cell_type": "code",
   "execution_count": 122,
   "metadata": {},
   "outputs": [],
   "source": [
    "# results\n",
    "columns_df = ['fl_month', 'dep_hour', 'arr_hour', 'day_of_week', 'crs_elapsed_time_log', 'distance_log', 'mkt_unique_carrier', 'origin', 'origin_city_name', 'dest', 'dest_city_name', 'origin_state', 'haul_type', 'dest_state']\n",
    "df_X_test = pd.DataFrame(X_test, columns = columns_df)\n",
    "df_y_pred = pd.DataFrame(y_pred, columns = ['arr_delay'])\n",
    "df_submission = pd.concat([df_submission, df_y_pred], axis = 1)"
   ]
  },
  {
   "cell_type": "code",
   "execution_count": 124,
   "metadata": {},
   "outputs": [],
   "source": [
    "# export as csv\n",
    "df_submission.to_csv('submission.csv')"
   ]
  },
  {
   "cell_type": "code",
   "execution_count": null,
   "metadata": {},
   "outputs": [],
   "source": []
  }
 ],
 "metadata": {
  "kernelspec": {
   "display_name": "Python 3 (ipykernel)",
   "language": "python",
   "name": "python3"
  },
  "language_info": {
   "codemirror_mode": {
    "name": "ipython",
    "version": 3
   },
   "file_extension": ".py",
   "mimetype": "text/x-python",
   "name": "python",
   "nbconvert_exporter": "python",
   "pygments_lexer": "ipython3",
   "version": "3.9.12"
  },
  "vscode": {
   "interpreter": {
    "hash": "594cbcb53b7eb24b01ad1ace3292a9583de43e996a12a214afbcf4f5a5715dd8"
   }
  }
 },
 "nbformat": 4,
 "nbformat_minor": 4
}
