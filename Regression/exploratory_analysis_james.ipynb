{
 "cells": [
  {
   "cell_type": "markdown",
   "metadata": {},
   "source": [
    "## Exploratory Data Analysis\n",
    "\n",
    "Use this notebook to get familiar with the datasets we have. There is 10 questions we need to answer during the EDA.\n",
    "\n",
    "\n",
    "We shouldn't limit our EDA to these 10 questions. Let's be creative :)."
   ]
  },
  {
   "cell_type": "code",
   "execution_count": 2,
   "metadata": {},
   "outputs": [],
   "source": [
    "import pandas as pd\n",
    "import numpy as np"
   ]
  },
  {
   "cell_type": "code",
   "execution_count": 3,
   "metadata": {},
   "outputs": [],
   "source": [
    "df_flights = pd.read_csv('flights_random_subset.csv')\n",
    "df_passengers = pd.read_csv('passengers_random_subset.csv')\n",
    "df_fuel = pd.read_csv('fuel_consumption.csv')"
   ]
  },
  {
   "cell_type": "code",
   "execution_count": 131,
   "metadata": {},
   "outputs": [
    {
     "data": {
      "text/html": [
       "<div>\n",
       "<style scoped>\n",
       "    .dataframe tbody tr th:only-of-type {\n",
       "        vertical-align: middle;\n",
       "    }\n",
       "\n",
       "    .dataframe tbody tr th {\n",
       "        vertical-align: top;\n",
       "    }\n",
       "\n",
       "    .dataframe thead th {\n",
       "        text-align: right;\n",
       "    }\n",
       "</style>\n",
       "<table border=\"1\" class=\"dataframe\">\n",
       "  <thead>\n",
       "    <tr style=\"text-align: right;\">\n",
       "      <th></th>\n",
       "      <th>fl_date</th>\n",
       "      <th>mkt_unique_carrier</th>\n",
       "      <th>branded_code_share</th>\n",
       "      <th>mkt_carrier</th>\n",
       "      <th>mkt_carrier_fl_num</th>\n",
       "      <th>op_unique_carrier</th>\n",
       "      <th>tail_num</th>\n",
       "      <th>op_carrier_fl_num</th>\n",
       "      <th>origin_airport_id</th>\n",
       "      <th>origin</th>\n",
       "      <th>...</th>\n",
       "      <th>security_delay</th>\n",
       "      <th>late_aircraft_delay</th>\n",
       "      <th>first_dep_time</th>\n",
       "      <th>total_add_gtime</th>\n",
       "      <th>longest_add_gtime</th>\n",
       "      <th>no_name</th>\n",
       "      <th>all_delay</th>\n",
       "      <th>fl_month</th>\n",
       "      <th>dep_time_format</th>\n",
       "      <th>dep_hour</th>\n",
       "    </tr>\n",
       "  </thead>\n",
       "  <tbody>\n",
       "    <tr>\n",
       "      <th>0</th>\n",
       "      <td>2018-09-25</td>\n",
       "      <td>F9</td>\n",
       "      <td>F9</td>\n",
       "      <td>F9</td>\n",
       "      <td>1041</td>\n",
       "      <td>F9</td>\n",
       "      <td>N719FR</td>\n",
       "      <td>1041</td>\n",
       "      <td>14843</td>\n",
       "      <td>SJU</td>\n",
       "      <td>...</td>\n",
       "      <td>NaN</td>\n",
       "      <td>NaN</td>\n",
       "      <td>NaN</td>\n",
       "      <td>NaN</td>\n",
       "      <td>NaN</td>\n",
       "      <td>NaN</td>\n",
       "      <td>-18.0</td>\n",
       "      <td>9</td>\n",
       "      <td>53.0</td>\n",
       "      <td>0</td>\n",
       "    </tr>\n",
       "    <tr>\n",
       "      <th>1</th>\n",
       "      <td>2018-10-18</td>\n",
       "      <td>NK</td>\n",
       "      <td>NK</td>\n",
       "      <td>NK</td>\n",
       "      <td>942</td>\n",
       "      <td>NK</td>\n",
       "      <td>N651NK</td>\n",
       "      <td>942</td>\n",
       "      <td>15304</td>\n",
       "      <td>TPA</td>\n",
       "      <td>...</td>\n",
       "      <td>NaN</td>\n",
       "      <td>NaN</td>\n",
       "      <td>NaN</td>\n",
       "      <td>NaN</td>\n",
       "      <td>NaN</td>\n",
       "      <td>NaN</td>\n",
       "      <td>1.0</td>\n",
       "      <td>10</td>\n",
       "      <td>2024.0</td>\n",
       "      <td>20</td>\n",
       "    </tr>\n",
       "    <tr>\n",
       "      <th>2</th>\n",
       "      <td>2019-09-27</td>\n",
       "      <td>F9</td>\n",
       "      <td>F9</td>\n",
       "      <td>F9</td>\n",
       "      <td>1807</td>\n",
       "      <td>F9</td>\n",
       "      <td>N230FR</td>\n",
       "      <td>1807</td>\n",
       "      <td>10423</td>\n",
       "      <td>AUS</td>\n",
       "      <td>...</td>\n",
       "      <td>0.0</td>\n",
       "      <td>0.0</td>\n",
       "      <td>NaN</td>\n",
       "      <td>NaN</td>\n",
       "      <td>NaN</td>\n",
       "      <td>NaN</td>\n",
       "      <td>110.0</td>\n",
       "      <td>9</td>\n",
       "      <td>1023.0</td>\n",
       "      <td>10</td>\n",
       "    </tr>\n",
       "    <tr>\n",
       "      <th>3</th>\n",
       "      <td>2019-02-12</td>\n",
       "      <td>AS</td>\n",
       "      <td>AS_CODESHARE</td>\n",
       "      <td>AS</td>\n",
       "      <td>3343</td>\n",
       "      <td>OO</td>\n",
       "      <td>N179SY</td>\n",
       "      <td>3343</td>\n",
       "      <td>14893</td>\n",
       "      <td>SMF</td>\n",
       "      <td>...</td>\n",
       "      <td>NaN</td>\n",
       "      <td>NaN</td>\n",
       "      <td>NaN</td>\n",
       "      <td>NaN</td>\n",
       "      <td>NaN</td>\n",
       "      <td>NaN</td>\n",
       "      <td>-10.0</td>\n",
       "      <td>2</td>\n",
       "      <td>553.0</td>\n",
       "      <td>5</td>\n",
       "    </tr>\n",
       "    <tr>\n",
       "      <th>4</th>\n",
       "      <td>2019-01-02</td>\n",
       "      <td>DL</td>\n",
       "      <td>DL_CODESHARE</td>\n",
       "      <td>DL</td>\n",
       "      <td>5817</td>\n",
       "      <td>CP</td>\n",
       "      <td>N603CZ</td>\n",
       "      <td>5817</td>\n",
       "      <td>12892</td>\n",
       "      <td>LAX</td>\n",
       "      <td>...</td>\n",
       "      <td>0.0</td>\n",
       "      <td>1.0</td>\n",
       "      <td>NaN</td>\n",
       "      <td>NaN</td>\n",
       "      <td>NaN</td>\n",
       "      <td>NaN</td>\n",
       "      <td>164.0</td>\n",
       "      <td>1</td>\n",
       "      <td>1704.0</td>\n",
       "      <td>17</td>\n",
       "    </tr>\n",
       "  </tbody>\n",
       "</table>\n",
       "<p>5 rows × 46 columns</p>\n",
       "</div>"
      ],
      "text/plain": [
       "      fl_date mkt_unique_carrier branded_code_share mkt_carrier  \\\n",
       "0  2018-09-25                 F9                 F9          F9   \n",
       "1  2018-10-18                 NK                 NK          NK   \n",
       "2  2019-09-27                 F9                 F9          F9   \n",
       "3  2019-02-12                 AS       AS_CODESHARE          AS   \n",
       "4  2019-01-02                 DL       DL_CODESHARE          DL   \n",
       "\n",
       "   mkt_carrier_fl_num op_unique_carrier tail_num  op_carrier_fl_num  \\\n",
       "0                1041                F9   N719FR               1041   \n",
       "1                 942                NK   N651NK                942   \n",
       "2                1807                F9   N230FR               1807   \n",
       "3                3343                OO   N179SY               3343   \n",
       "4                5817                CP   N603CZ               5817   \n",
       "\n",
       "   origin_airport_id origin  ... security_delay  late_aircraft_delay  \\\n",
       "0              14843    SJU  ...            NaN                  NaN   \n",
       "1              15304    TPA  ...            NaN                  NaN   \n",
       "2              10423    AUS  ...            0.0                  0.0   \n",
       "3              14893    SMF  ...            NaN                  NaN   \n",
       "4              12892    LAX  ...            0.0                  1.0   \n",
       "\n",
       "  first_dep_time total_add_gtime  longest_add_gtime no_name  all_delay  \\\n",
       "0            NaN             NaN                NaN     NaN      -18.0   \n",
       "1            NaN             NaN                NaN     NaN        1.0   \n",
       "2            NaN             NaN                NaN     NaN      110.0   \n",
       "3            NaN             NaN                NaN     NaN      -10.0   \n",
       "4            NaN             NaN                NaN     NaN      164.0   \n",
       "\n",
       "   fl_month  dep_time_format  dep_hour  \n",
       "0         9             53.0         0  \n",
       "1        10           2024.0        20  \n",
       "2         9           1023.0        10  \n",
       "3         2            553.0         5  \n",
       "4         1           1704.0        17  \n",
       "\n",
       "[5 rows x 46 columns]"
      ]
     },
     "execution_count": 131,
     "metadata": {},
     "output_type": "execute_result"
    }
   ],
   "source": [
    "df_flights.head()"
   ]
  },
  {
   "cell_type": "code",
   "execution_count": 5,
   "metadata": {},
   "outputs": [
    {
     "data": {
      "text/html": [
       "<div>\n",
       "<style scoped>\n",
       "    .dataframe tbody tr th:only-of-type {\n",
       "        vertical-align: middle;\n",
       "    }\n",
       "\n",
       "    .dataframe tbody tr th {\n",
       "        vertical-align: top;\n",
       "    }\n",
       "\n",
       "    .dataframe thead th {\n",
       "        text-align: right;\n",
       "    }\n",
       "</style>\n",
       "<table border=\"1\" class=\"dataframe\">\n",
       "  <thead>\n",
       "    <tr style=\"text-align: right;\">\n",
       "      <th></th>\n",
       "      <th>departures_scheduled</th>\n",
       "      <th>departures_performed</th>\n",
       "      <th>payload</th>\n",
       "      <th>seats</th>\n",
       "      <th>passengers</th>\n",
       "      <th>freight</th>\n",
       "      <th>mail</th>\n",
       "      <th>distance</th>\n",
       "      <th>ramp_to_ramp</th>\n",
       "      <th>air_time</th>\n",
       "      <th>...</th>\n",
       "      <th>dest_country</th>\n",
       "      <th>dest_country_name</th>\n",
       "      <th>aircraft_group</th>\n",
       "      <th>aircraft_type</th>\n",
       "      <th>aircraft_config</th>\n",
       "      <th>year</th>\n",
       "      <th>month</th>\n",
       "      <th>distance_group</th>\n",
       "      <th>class</th>\n",
       "      <th>data_source</th>\n",
       "    </tr>\n",
       "  </thead>\n",
       "  <tbody>\n",
       "    <tr>\n",
       "      <th>0</th>\n",
       "      <td>0</td>\n",
       "      <td>2</td>\n",
       "      <td>3900</td>\n",
       "      <td>18</td>\n",
       "      <td>10</td>\n",
       "      <td>21</td>\n",
       "      <td>151</td>\n",
       "      <td>109</td>\n",
       "      <td>75</td>\n",
       "      <td>67</td>\n",
       "      <td>...</td>\n",
       "      <td>US</td>\n",
       "      <td>United States</td>\n",
       "      <td>1</td>\n",
       "      <td>194</td>\n",
       "      <td>1</td>\n",
       "      <td>2019</td>\n",
       "      <td>9</td>\n",
       "      <td>1</td>\n",
       "      <td>F</td>\n",
       "      <td>DU</td>\n",
       "    </tr>\n",
       "    <tr>\n",
       "      <th>1</th>\n",
       "      <td>0</td>\n",
       "      <td>1</td>\n",
       "      <td>40770</td>\n",
       "      <td>160</td>\n",
       "      <td>117</td>\n",
       "      <td>0</td>\n",
       "      <td>0</td>\n",
       "      <td>952</td>\n",
       "      <td>165</td>\n",
       "      <td>142</td>\n",
       "      <td>...</td>\n",
       "      <td>US</td>\n",
       "      <td>United States</td>\n",
       "      <td>6</td>\n",
       "      <td>614</td>\n",
       "      <td>1</td>\n",
       "      <td>2018</td>\n",
       "      <td>10</td>\n",
       "      <td>2</td>\n",
       "      <td>F</td>\n",
       "      <td>DU</td>\n",
       "    </tr>\n",
       "    <tr>\n",
       "      <th>2</th>\n",
       "      <td>16</td>\n",
       "      <td>13</td>\n",
       "      <td>611780</td>\n",
       "      <td>2353</td>\n",
       "      <td>1999</td>\n",
       "      <td>311</td>\n",
       "      <td>9857</td>\n",
       "      <td>2335</td>\n",
       "      <td>3918</td>\n",
       "      <td>3568</td>\n",
       "      <td>...</td>\n",
       "      <td>US</td>\n",
       "      <td>United States</td>\n",
       "      <td>6</td>\n",
       "      <td>888</td>\n",
       "      <td>1</td>\n",
       "      <td>2016</td>\n",
       "      <td>1</td>\n",
       "      <td>5</td>\n",
       "      <td>F</td>\n",
       "      <td>DU</td>\n",
       "    </tr>\n",
       "    <tr>\n",
       "      <th>3</th>\n",
       "      <td>9</td>\n",
       "      <td>9</td>\n",
       "      <td>306000</td>\n",
       "      <td>1494</td>\n",
       "      <td>1311</td>\n",
       "      <td>0</td>\n",
       "      <td>0</td>\n",
       "      <td>674</td>\n",
       "      <td>1176</td>\n",
       "      <td>966</td>\n",
       "      <td>...</td>\n",
       "      <td>US</td>\n",
       "      <td>United States</td>\n",
       "      <td>6</td>\n",
       "      <td>655</td>\n",
       "      <td>1</td>\n",
       "      <td>2015</td>\n",
       "      <td>7</td>\n",
       "      <td>2</td>\n",
       "      <td>F</td>\n",
       "      <td>DU</td>\n",
       "    </tr>\n",
       "    <tr>\n",
       "      <th>4</th>\n",
       "      <td>5</td>\n",
       "      <td>5</td>\n",
       "      <td>178125</td>\n",
       "      <td>750</td>\n",
       "      <td>713</td>\n",
       "      <td>243</td>\n",
       "      <td>2613</td>\n",
       "      <td>1825</td>\n",
       "      <td>1168</td>\n",
       "      <td>1050</td>\n",
       "      <td>...</td>\n",
       "      <td>US</td>\n",
       "      <td>United States</td>\n",
       "      <td>6</td>\n",
       "      <td>694</td>\n",
       "      <td>1</td>\n",
       "      <td>2017</td>\n",
       "      <td>12</td>\n",
       "      <td>4</td>\n",
       "      <td>F</td>\n",
       "      <td>DU</td>\n",
       "    </tr>\n",
       "  </tbody>\n",
       "</table>\n",
       "<p>5 rows × 38 columns</p>\n",
       "</div>"
      ],
      "text/plain": [
       "   departures_scheduled  departures_performed  payload  seats  passengers  \\\n",
       "0                     0                     2     3900     18          10   \n",
       "1                     0                     1    40770    160         117   \n",
       "2                    16                    13   611780   2353        1999   \n",
       "3                     9                     9   306000   1494        1311   \n",
       "4                     5                     5   178125    750         713   \n",
       "\n",
       "   freight  mail  distance  ramp_to_ramp  air_time  ... dest_country  \\\n",
       "0       21   151       109            75        67  ...           US   \n",
       "1        0     0       952           165       142  ...           US   \n",
       "2      311  9857      2335          3918      3568  ...           US   \n",
       "3        0     0       674          1176       966  ...           US   \n",
       "4      243  2613      1825          1168      1050  ...           US   \n",
       "\n",
       "   dest_country_name aircraft_group aircraft_type aircraft_config  year  \\\n",
       "0      United States              1           194               1  2019   \n",
       "1      United States              6           614               1  2018   \n",
       "2      United States              6           888               1  2016   \n",
       "3      United States              6           655               1  2015   \n",
       "4      United States              6           694               1  2017   \n",
       "\n",
       "   month  distance_group  class  data_source  \n",
       "0      9               1      F           DU  \n",
       "1     10               2      F           DU  \n",
       "2      1               5      F           DU  \n",
       "3      7               2      F           DU  \n",
       "4     12               4      F           DU  \n",
       "\n",
       "[5 rows x 38 columns]"
      ]
     },
     "execution_count": 5,
     "metadata": {},
     "output_type": "execute_result"
    }
   ],
   "source": [
    "df_passengers.head()"
   ]
  },
  {
   "cell_type": "code",
   "execution_count": 111,
   "metadata": {},
   "outputs": [
    {
     "data": {
      "text/html": [
       "<div>\n",
       "<style scoped>\n",
       "    .dataframe tbody tr th:only-of-type {\n",
       "        vertical-align: middle;\n",
       "    }\n",
       "\n",
       "    .dataframe tbody tr th {\n",
       "        vertical-align: top;\n",
       "    }\n",
       "\n",
       "    .dataframe thead th {\n",
       "        text-align: right;\n",
       "    }\n",
       "</style>\n",
       "<table border=\"1\" class=\"dataframe\">\n",
       "  <thead>\n",
       "    <tr style=\"text-align: right;\">\n",
       "      <th></th>\n",
       "      <th>month</th>\n",
       "      <th>airline_id</th>\n",
       "      <th>unique_carrier</th>\n",
       "      <th>carrier</th>\n",
       "      <th>carrier_name</th>\n",
       "      <th>carrier_group_new</th>\n",
       "      <th>sdomt_gallons</th>\n",
       "      <th>satl_gallons</th>\n",
       "      <th>spac_gallons</th>\n",
       "      <th>slat_gallons</th>\n",
       "      <th>...</th>\n",
       "      <th>sdomt_cost</th>\n",
       "      <th>satl_cost</th>\n",
       "      <th>spac_cost</th>\n",
       "      <th>slat_cost</th>\n",
       "      <th>sint_cost</th>\n",
       "      <th>ts_cost</th>\n",
       "      <th>tdomt_cost</th>\n",
       "      <th>tint_cost</th>\n",
       "      <th>total_cost</th>\n",
       "      <th>year</th>\n",
       "    </tr>\n",
       "  </thead>\n",
       "  <tbody>\n",
       "    <tr>\n",
       "      <th>0</th>\n",
       "      <td>1</td>\n",
       "      <td>NaN</td>\n",
       "      <td>NaN</td>\n",
       "      <td>0JQ</td>\n",
       "      <td>NaN</td>\n",
       "      <td>1</td>\n",
       "      <td>0.0</td>\n",
       "      <td>0.0</td>\n",
       "      <td>0.0</td>\n",
       "      <td>0.0</td>\n",
       "      <td>...</td>\n",
       "      <td>0</td>\n",
       "      <td>0.0</td>\n",
       "      <td>0.0</td>\n",
       "      <td>0.0</td>\n",
       "      <td>0.0</td>\n",
       "      <td>0</td>\n",
       "      <td>5100</td>\n",
       "      <td>0.0</td>\n",
       "      <td>5100</td>\n",
       "      <td>2016</td>\n",
       "    </tr>\n",
       "    <tr>\n",
       "      <th>1</th>\n",
       "      <td>1</td>\n",
       "      <td>21352.0</td>\n",
       "      <td>0WQ</td>\n",
       "      <td>0WQ</td>\n",
       "      <td>Avjet Corporation</td>\n",
       "      <td>1</td>\n",
       "      <td>0.0</td>\n",
       "      <td>0.0</td>\n",
       "      <td>0.0</td>\n",
       "      <td>0.0</td>\n",
       "      <td>...</td>\n",
       "      <td>0</td>\n",
       "      <td>0.0</td>\n",
       "      <td>0.0</td>\n",
       "      <td>0.0</td>\n",
       "      <td>0.0</td>\n",
       "      <td>0</td>\n",
       "      <td>396216</td>\n",
       "      <td>140239.0</td>\n",
       "      <td>536455</td>\n",
       "      <td>2016</td>\n",
       "    </tr>\n",
       "    <tr>\n",
       "      <th>2</th>\n",
       "      <td>1</td>\n",
       "      <td>21645.0</td>\n",
       "      <td>23Q</td>\n",
       "      <td>23Q</td>\n",
       "      <td>Songbird Airways Inc.</td>\n",
       "      <td>1</td>\n",
       "      <td>0.0</td>\n",
       "      <td>0.0</td>\n",
       "      <td>0.0</td>\n",
       "      <td>0.0</td>\n",
       "      <td>...</td>\n",
       "      <td>0</td>\n",
       "      <td>0.0</td>\n",
       "      <td>0.0</td>\n",
       "      <td>0.0</td>\n",
       "      <td>0.0</td>\n",
       "      <td>0</td>\n",
       "      <td>0</td>\n",
       "      <td>0.0</td>\n",
       "      <td>0</td>\n",
       "      <td>2016</td>\n",
       "    </tr>\n",
       "    <tr>\n",
       "      <th>3</th>\n",
       "      <td>1</td>\n",
       "      <td>21652.0</td>\n",
       "      <td>27Q</td>\n",
       "      <td>27Q</td>\n",
       "      <td>Jet Aviation Flight Services, Inc.</td>\n",
       "      <td>1</td>\n",
       "      <td>0.0</td>\n",
       "      <td>0.0</td>\n",
       "      <td>0.0</td>\n",
       "      <td>0.0</td>\n",
       "      <td>...</td>\n",
       "      <td>0</td>\n",
       "      <td>0.0</td>\n",
       "      <td>0.0</td>\n",
       "      <td>0.0</td>\n",
       "      <td>0.0</td>\n",
       "      <td>0</td>\n",
       "      <td>0</td>\n",
       "      <td>0.0</td>\n",
       "      <td>0</td>\n",
       "      <td>2016</td>\n",
       "    </tr>\n",
       "    <tr>\n",
       "      <th>4</th>\n",
       "      <td>1</td>\n",
       "      <td>20408.0</td>\n",
       "      <td>5V</td>\n",
       "      <td>5V</td>\n",
       "      <td>Tatonduk Outfitters Limited d/b/a Everts Air A...</td>\n",
       "      <td>1</td>\n",
       "      <td>260848.0</td>\n",
       "      <td>0.0</td>\n",
       "      <td>0.0</td>\n",
       "      <td>0.0</td>\n",
       "      <td>...</td>\n",
       "      <td>522405</td>\n",
       "      <td>0.0</td>\n",
       "      <td>0.0</td>\n",
       "      <td>0.0</td>\n",
       "      <td>0.0</td>\n",
       "      <td>522405</td>\n",
       "      <td>569497</td>\n",
       "      <td>0.0</td>\n",
       "      <td>569497</td>\n",
       "      <td>2016</td>\n",
       "    </tr>\n",
       "  </tbody>\n",
       "</table>\n",
       "<p>5 rows × 25 columns</p>\n",
       "</div>"
      ],
      "text/plain": [
       "   month  airline_id unique_carrier carrier  \\\n",
       "0      1         NaN            NaN     0JQ   \n",
       "1      1     21352.0            0WQ     0WQ   \n",
       "2      1     21645.0            23Q     23Q   \n",
       "3      1     21652.0            27Q     27Q   \n",
       "4      1     20408.0             5V      5V   \n",
       "\n",
       "                                        carrier_name  carrier_group_new  \\\n",
       "0                                                NaN                  1   \n",
       "1                                  Avjet Corporation                  1   \n",
       "2                              Songbird Airways Inc.                  1   \n",
       "3                 Jet Aviation Flight Services, Inc.                  1   \n",
       "4  Tatonduk Outfitters Limited d/b/a Everts Air A...                  1   \n",
       "\n",
       "   sdomt_gallons  satl_gallons  spac_gallons  slat_gallons  ...  sdomt_cost  \\\n",
       "0            0.0           0.0           0.0           0.0  ...           0   \n",
       "1            0.0           0.0           0.0           0.0  ...           0   \n",
       "2            0.0           0.0           0.0           0.0  ...           0   \n",
       "3            0.0           0.0           0.0           0.0  ...           0   \n",
       "4       260848.0           0.0           0.0           0.0  ...      522405   \n",
       "\n",
       "   satl_cost  spac_cost  slat_cost  sint_cost  ts_cost  tdomt_cost  tint_cost  \\\n",
       "0        0.0        0.0        0.0        0.0        0        5100        0.0   \n",
       "1        0.0        0.0        0.0        0.0        0      396216   140239.0   \n",
       "2        0.0        0.0        0.0        0.0        0           0        0.0   \n",
       "3        0.0        0.0        0.0        0.0        0           0        0.0   \n",
       "4        0.0        0.0        0.0        0.0   522405      569497        0.0   \n",
       "\n",
       "   total_cost  year  \n",
       "0        5100  2016  \n",
       "1      536455  2016  \n",
       "2           0  2016  \n",
       "3           0  2016  \n",
       "4      569497  2016  \n",
       "\n",
       "[5 rows x 25 columns]"
      ]
     },
     "execution_count": 111,
     "metadata": {},
     "output_type": "execute_result"
    }
   ],
   "source": [
    "df_fuel.head()"
   ]
  },
  {
   "cell_type": "markdown",
   "metadata": {},
   "source": [
    "#### **Task 1**: Test the hypothesis that the delay is from Normal distribution. and that **mean** of the delay is 0. Be careful about the outliers."
   ]
  },
  {
   "cell_type": "code",
   "execution_count": 112,
   "metadata": {},
   "outputs": [],
   "source": [
    "# arrival delay may already be 'total delay'\n",
    "delay_cols = ['arr_delay', 'carrier_delay', 'weather_delay', 'nas_delay', 'security_delay', 'late_aircraft_delay']\n",
    "df_flights['all_delay'] = df_flights[delay_cols].sum(axis = 1)"
   ]
  },
  {
   "cell_type": "code",
   "execution_count": 113,
   "metadata": {},
   "outputs": [
    {
     "data": {
      "text/plain": [
       "count    5000.000000\n",
       "mean       18.451400\n",
       "std        89.719454\n",
       "min       -51.000000\n",
       "25%       -15.000000\n",
       "50%        -6.000000\n",
       "75%         8.000000\n",
       "max      1712.000000\n",
       "Name: all_delay, dtype: float64"
      ]
     },
     "execution_count": 113,
     "metadata": {},
     "output_type": "execute_result"
    }
   ],
   "source": [
    "df_flights['all_delay'].describe()"
   ]
  },
  {
   "cell_type": "code",
   "execution_count": 114,
   "metadata": {},
   "outputs": [
    {
     "data": {
      "text/plain": [
       "count    4894.000000\n",
       "mean        5.631998\n",
       "std        47.317838\n",
       "min       -51.000000\n",
       "25%       -15.000000\n",
       "50%        -6.000000\n",
       "75%         8.000000\n",
       "max       856.000000\n",
       "Name: arr_delay, dtype: float64"
      ]
     },
     "execution_count": 114,
     "metadata": {},
     "output_type": "execute_result"
    }
   ],
   "source": [
    "df_flights['arr_delay'].describe()"
   ]
  },
  {
   "cell_type": "code",
   "execution_count": 115,
   "metadata": {},
   "outputs": [
    {
     "data": {
      "text/plain": [
       "<AxesSubplot:>"
      ]
     },
     "execution_count": 115,
     "metadata": {},
     "output_type": "execute_result"
    },
    {
     "data": {
      "image/png": "[encoded data removed]",
      "text/plain": [
       "<Figure size 432x288 with 1 Axes>"
      ]
     },
     "metadata": {
      "needs_background": "light"
     },
     "output_type": "display_data"
    }
   ],
   "source": [
    "df_flights['all_delay'].hist(bins = 200)"
   ]
  },
  {
   "cell_type": "markdown",
   "metadata": {},
   "source": [
    "#### **Task 2**: Is average/median monthly delay different during the year? If yes, which are months with the biggest delays and what could be the reason?"
   ]
  },
  {
   "cell_type": "code",
   "execution_count": 116,
   "metadata": {},
   "outputs": [],
   "source": [
    "df_flights['fl_month'] = pd.DatetimeIndex(df_flights['fl_date']).month\n",
    "df_flights_month = df_flights.groupby('fl_month')['all_delay']"
   ]
  },
  {
   "cell_type": "code",
   "execution_count": 117,
   "metadata": {},
   "outputs": [
    {
     "data": {
      "text/plain": [
       "fl_month\n",
       "1     17.586118\n",
       "2     22.026786\n",
       "3     14.121065\n",
       "4     15.146040\n",
       "5     25.322500\n",
       "6     25.639485\n",
       "7     25.842482\n",
       "8     23.654167\n",
       "9     10.824390\n",
       "10     8.341357\n",
       "11    13.669231\n",
       "12    18.862385\n",
       "Name: all_delay, dtype: float64"
      ]
     },
     "execution_count": 117,
     "metadata": {},
     "output_type": "execute_result"
    }
   ],
   "source": [
    "# bar chart\n",
    "df_flights_month.mean()"
   ]
  },
  {
   "cell_type": "markdown",
   "metadata": {},
   "source": [
    "#### **Task 3**: Does the weather affect the delay? \n",
    "Use the API to pull the weather information for flights. There is no need to get weather for ALL flights. We can choose the right representative sample. Let's focus on four weather types:\n",
    "- sunny\n",
    "- cloudy\n",
    "- rainy\n",
    "- snow.\n",
    "\n",
    "Test the hypothesis that these 4 delays are from the same distribution. If they are not, which ones are significantly different?"
   ]
  },
  {
   "cell_type": "code",
   "execution_count": 118,
   "metadata": {},
   "outputs": [],
   "source": [
    "# lost access to weather API?"
   ]
  },
  {
   "cell_type": "code",
   "execution_count": null,
   "metadata": {},
   "outputs": [],
   "source": []
  },
  {
   "cell_type": "markdown",
   "metadata": {},
   "source": [
    "#### **Task 4**: How taxi times changing during the day? Does higher traffic lead to bigger taxi times?"
   ]
  },
  {
   "cell_type": "code",
   "execution_count": 119,
   "metadata": {},
   "outputs": [
    {
     "data": {
      "text/plain": [
       "0     8.0\n",
       "1    29.0\n",
       "2     5.0\n",
       "3     4.0\n",
       "4     4.0\n",
       "Name: taxi_in, dtype: float64"
      ]
     },
     "execution_count": 119,
     "metadata": {},
     "output_type": "execute_result"
    }
   ],
   "source": [
    "# convert to datetime, extract the hour only\n",
    "\n",
    "df_flights['taxi_in'].head()"
   ]
  },
  {
   "cell_type": "code",
   "execution_count": 126,
   "metadata": {},
   "outputs": [
    {
     "data": {
      "text/plain": [
       "0    00:53\n",
       "1    20:24\n",
       "2    10:23\n",
       "3    05:53\n",
       "4    17:04\n",
       "Name: dep_time, dtype: object"
      ]
     },
     "execution_count": 126,
     "metadata": {},
     "output_type": "execute_result"
    }
   ],
   "source": [
    "df_flights['dep_time'].head()"
   ]
  },
  {
   "cell_type": "code",
   "execution_count": 125,
   "metadata": {},
   "outputs": [],
   "source": [
    "df_flights['dep_time'] = df_flights['dep_time'].astype(str)\n",
    "df_flights['dep_time'] = df_flights['dep_time'].str[:-2]\n",
    "df_flights['dep_time'] = df_flights['dep_time'].str.pad(4, side = 'left', fillchar = '0')\n",
    "# df_flights['dep_time'] = df_flights['dep_time'].str[:2] + ':' + df_flights['dep_time'].str[-2:]"
   ]
  },
  {
   "cell_type": "code",
   "execution_count": 129,
   "metadata": {},
   "outputs": [
    {
     "data": {
      "text/plain": [
       "0     0\n",
       "1    20\n",
       "2    10\n",
       "3     5\n",
       "4    17\n",
       "Name: dep_hour, dtype: int32"
      ]
     },
     "execution_count": 129,
     "metadata": {},
     "output_type": "execute_result"
    }
   ],
   "source": [
    "df_flights['dep_hour'] = df_flights['dep_time'].str[0:2].astype(int)\n",
    "df_flights['dep_hour'].head()"
   ]
  },
  {
   "cell_type": "code",
   "execution_count": 136,
   "metadata": {},
   "outputs": [
    {
     "data": {
      "text/plain": [
       "dep_hour\n",
       "0     7.000000\n",
       "1     9.666667\n",
       "2     5.800000\n",
       "3     4.000000\n",
       "4     6.733333\n",
       "5     8.213930\n",
       "6     8.451299\n",
       "7     8.935583\n",
       "8     6.990196\n",
       "9     7.117871\n",
       "10    7.331104\n",
       "11    7.528777\n",
       "12    8.074303\n",
       "13    7.620968\n",
       "14    7.289753\n",
       "15    7.301003\n",
       "16    7.445693\n",
       "17    8.226415\n",
       "18    7.765306\n",
       "19    7.263359\n",
       "20    7.081448\n",
       "21    7.689655\n",
       "22    6.063830\n",
       "23    8.073171\n",
       "Name: taxi_in, dtype: float64"
      ]
     },
     "execution_count": 136,
     "metadata": {},
     "output_type": "execute_result"
    }
   ],
   "source": [
    "taxi_in_time_by_time = df_flights.groupby('dep_hour')['taxi_in'].mean()\n",
    "taxi_in_time_by_time"
   ]
  },
  {
   "cell_type": "markdown",
   "metadata": {},
   "source": [
    "#### **Task 5**: What is the average percentage of delays that is already created before departure? (aka are arrival delays caused by departure delays?) Are airlines able to lower the delay during the flights?"
   ]
  },
  {
   "cell_type": "code",
   "execution_count": 66,
   "metadata": {},
   "outputs": [
    {
     "data": {
      "text/plain": [
       "98.26"
      ]
     },
     "execution_count": 66,
     "metadata": {},
     "output_type": "execute_result"
    }
   ],
   "source": [
    "# where clause for \"dep_delay\", check for flights with only departure delay\n",
    "\n",
    "# count of departure delays\n",
    "dep_delay_count = df_flights['dep_delay'].count()\n",
    "\n",
    "# count of total delays\n",
    "all_delay_count = df_flights['all_delay'].count()\n",
    "\n",
    "# percentage of departure delays\n",
    "dep_delay_count / all_delay_count * 100"
   ]
  },
  {
   "cell_type": "markdown",
   "metadata": {},
   "source": [
    "#### **Task 6**: How many states cover 50% of US air traffic? "
   ]
  },
  {
   "cell_type": "code",
   "execution_count": 16,
   "metadata": {},
   "outputs": [
    {
     "data": {
      "text/plain": [
       "0       San Juan, PR\n",
       "1          Tampa, FL\n",
       "2         Austin, TX\n",
       "3     Sacramento, CA\n",
       "4    Los Angeles, CA\n",
       "Name: origin_city_name, dtype: object"
      ]
     },
     "execution_count": 16,
     "metadata": {},
     "output_type": "execute_result"
    }
   ],
   "source": [
    "# do it for dest as well\n",
    "df_flights['origin_city_name'].head()"
   ]
  },
  {
   "cell_type": "code",
   "execution_count": 17,
   "metadata": {},
   "outputs": [
    {
     "name": "stdout",
     "output_type": "stream",
     "text": [
      "<class 'pandas.core.series.Series'>\n",
      "RangeIndex: 5000 entries, 0 to 4999\n",
      "Series name: origin_state\n",
      "Non-Null Count  Dtype \n",
      "--------------  ----- \n",
      "5000 non-null   object\n",
      "dtypes: object(1)\n",
      "memory usage: 39.2+ KB\n"
     ]
    }
   ],
   "source": [
    "df_flights['origin_state'] = df_flights['origin_city_name'].str[-2:]\n",
    "df_flights['origin_state'].info()"
   ]
  },
  {
   "cell_type": "code",
   "execution_count": 18,
   "metadata": {},
   "outputs": [
    {
     "data": {
      "text/plain": [
       "origin_state\n",
       "CA    560\n",
       "TX    482\n",
       "FL    363\n",
       "IL    320\n",
       "NY    271\n",
       "GA    224\n",
       "NC    218\n",
       "CO    198\n",
       "DC    173\n",
       "AZ    150\n",
       "PA    145\n",
       "WA    145\n",
       "MI    119\n",
       "NV    119\n",
       "OH    118\n",
       "MA    102\n",
       "NJ     94\n",
       "MN     92\n",
       "MO     89\n",
       "MD     87\n",
       "TN     83\n",
       "HI     77\n",
       "UT     73\n",
       "LA     67\n",
       "OR     67\n",
       "VA     48\n",
       "WI     47\n",
       "SC     40\n",
       "IN     37\n",
       "KY     34\n",
       "AK     32\n",
       "NE     29\n",
       "OK     28\n",
       "MT     27\n",
       "NM     23\n",
       "ID     23\n",
       "AR     22\n",
       "PR     22\n",
       "CT     21\n",
       "AL     19\n",
       "IA     14\n",
       "SD     12\n",
       "VT     12\n",
       "KS     12\n",
       "RI     11\n",
       "ME     10\n",
       "MS     10\n",
       "ND     10\n",
       "WV      8\n",
       "WY      6\n",
       "NH      4\n",
       "VI      2\n",
       "TT      1\n",
       "dtype: int64"
      ]
     },
     "execution_count": 18,
     "metadata": {},
     "output_type": "execute_result"
    }
   ],
   "source": [
    "df_flights.groupby('origin_state').size().sort_values(ascending = False)"
   ]
  },
  {
   "cell_type": "code",
   "execution_count": 19,
   "metadata": {},
   "outputs": [],
   "source": [
    "# CA, TX, FL, IL, NY, GA, NC make up ~2500 flights, therefore 50% of all flights from this sample. Therefore 7 states cover 50% of US air traffic."
   ]
  },
  {
   "cell_type": "markdown",
   "metadata": {},
   "source": [
    "#### **Task 7**: Test the hypothesis whether planes fly faster when there is the departure delay? "
   ]
  },
  {
   "cell_type": "code",
   "execution_count": 20,
   "metadata": {},
   "outputs": [
    {
     "data": {
      "text/plain": [
       "count    4894.000000\n",
       "mean       -4.980180\n",
       "std        13.640887\n",
       "min       -53.000000\n",
       "25%       -13.000000\n",
       "50%        -6.000000\n",
       "75%         1.000000\n",
       "max       133.000000\n",
       "dtype: float64"
      ]
     },
     "execution_count": 20,
     "metadata": {},
     "output_type": "execute_result"
    }
   ],
   "source": [
    "# check arr_delay - dep_delay\n",
    "# null = if a plane leaves late, it will arrive late\n",
    "# statistical test to check if that is the case\n",
    "arr_dep_dif = df_flights['arr_delay'] - df_flights['dep_delay']\n",
    "arr_dep_dif.describe()"
   ]
  },
  {
   "cell_type": "code",
   "execution_count": 21,
   "metadata": {},
   "outputs": [],
   "source": [
    "# based on the mean value above, we can determine that generally, arrival delay is shorter than departure delay.\n",
    "# checking whether presence of departure delay affects estimated arrival time"
   ]
  },
  {
   "cell_type": "markdown",
   "metadata": {},
   "source": [
    "#### **Task 8**: When (which hour) do most 'LONG', 'SHORT', 'MEDIUM' haul flights take off?"
   ]
  },
  {
   "cell_type": "code",
   "execution_count": null,
   "metadata": {},
   "outputs": [],
   "source": [
    "# not sure where to find this information"
   ]
  },
  {
   "cell_type": "code",
   "execution_count": null,
   "metadata": {},
   "outputs": [],
   "source": []
  },
  {
   "cell_type": "markdown",
   "metadata": {},
   "source": [
    "#### **Task 9**: Find the top 10 the bussiest airports. Does the biggest number of flights mean that the biggest number of passengers went through the particular airport? How much traffic do these 10 airports cover?"
   ]
  },
  {
   "cell_type": "code",
   "execution_count": 22,
   "metadata": {},
   "outputs": [],
   "source": [
    "# do it for destination as well\n",
    "df_flights_by_airport = df_flights.groupby('origin_airport_id').size().sort_values(ascending = False)"
   ]
  },
  {
   "cell_type": "code",
   "execution_count": 23,
   "metadata": {},
   "outputs": [
    {
     "data": {
      "text/plain": [
       "origin_airport_id\n",
       "13930    251\n",
       "10397    210\n",
       "11292    176\n",
       "11298    167\n",
       "12892    166\n",
       "11057    155\n",
       "14107    128\n",
       "12953    124\n",
       "14771    122\n",
       "12266    118\n",
       "dtype: int64"
      ]
     },
     "execution_count": 23,
     "metadata": {},
     "output_type": "execute_result"
    }
   ],
   "source": [
    "df_flights_by_airport.head(10)"
   ]
  },
  {
   "cell_type": "code",
   "execution_count": 26,
   "metadata": {},
   "outputs": [
    {
     "data": {
      "text/html": [
       "<div>\n",
       "<style scoped>\n",
       "    .dataframe tbody tr th:only-of-type {\n",
       "        vertical-align: middle;\n",
       "    }\n",
       "\n",
       "    .dataframe tbody tr th {\n",
       "        vertical-align: top;\n",
       "    }\n",
       "\n",
       "    .dataframe thead th {\n",
       "        text-align: right;\n",
       "    }\n",
       "</style>\n",
       "<table border=\"1\" class=\"dataframe\">\n",
       "  <thead>\n",
       "    <tr style=\"text-align: right;\">\n",
       "      <th></th>\n",
       "      <th>departures_scheduled</th>\n",
       "      <th>departures_performed</th>\n",
       "      <th>payload</th>\n",
       "      <th>seats</th>\n",
       "      <th>passengers</th>\n",
       "      <th>freight</th>\n",
       "      <th>mail</th>\n",
       "      <th>distance</th>\n",
       "      <th>ramp_to_ramp</th>\n",
       "      <th>air_time</th>\n",
       "      <th>...</th>\n",
       "      <th>dest_country</th>\n",
       "      <th>dest_country_name</th>\n",
       "      <th>aircraft_group</th>\n",
       "      <th>aircraft_type</th>\n",
       "      <th>aircraft_config</th>\n",
       "      <th>year</th>\n",
       "      <th>month</th>\n",
       "      <th>distance_group</th>\n",
       "      <th>class</th>\n",
       "      <th>data_source</th>\n",
       "    </tr>\n",
       "  </thead>\n",
       "  <tbody>\n",
       "    <tr>\n",
       "      <th>4177</th>\n",
       "      <td>810</td>\n",
       "      <td>810</td>\n",
       "      <td>36450000</td>\n",
       "      <td>99630</td>\n",
       "      <td>82123</td>\n",
       "      <td>176909</td>\n",
       "      <td>0</td>\n",
       "      <td>100</td>\n",
       "      <td>31776</td>\n",
       "      <td>18893</td>\n",
       "      <td>...</td>\n",
       "      <td>US</td>\n",
       "      <td>United States</td>\n",
       "      <td>6</td>\n",
       "      <td>608</td>\n",
       "      <td>1</td>\n",
       "      <td>2018</td>\n",
       "      <td>1</td>\n",
       "      <td>1</td>\n",
       "      <td>F</td>\n",
       "      <td>DU</td>\n",
       "    </tr>\n",
       "    <tr>\n",
       "      <th>1891</th>\n",
       "      <td>646</td>\n",
       "      <td>646</td>\n",
       "      <td>20425900</td>\n",
       "      <td>82688</td>\n",
       "      <td>60744</td>\n",
       "      <td>245470</td>\n",
       "      <td>0</td>\n",
       "      <td>163</td>\n",
       "      <td>30613</td>\n",
       "      <td>18256</td>\n",
       "      <td>...</td>\n",
       "      <td>US</td>\n",
       "      <td>United States</td>\n",
       "      <td>6</td>\n",
       "      <td>608</td>\n",
       "      <td>1</td>\n",
       "      <td>2019</td>\n",
       "      <td>8</td>\n",
       "      <td>1</td>\n",
       "      <td>F</td>\n",
       "      <td>DU</td>\n",
       "    </tr>\n",
       "    <tr>\n",
       "      <th>790</th>\n",
       "      <td>541</td>\n",
       "      <td>540</td>\n",
       "      <td>16897100</td>\n",
       "      <td>67645</td>\n",
       "      <td>51751</td>\n",
       "      <td>30706</td>\n",
       "      <td>0</td>\n",
       "      <td>102</td>\n",
       "      <td>18616</td>\n",
       "      <td>11206</td>\n",
       "      <td>...</td>\n",
       "      <td>US</td>\n",
       "      <td>United States</td>\n",
       "      <td>6</td>\n",
       "      <td>608</td>\n",
       "      <td>1</td>\n",
       "      <td>2015</td>\n",
       "      <td>5</td>\n",
       "      <td>1</td>\n",
       "      <td>F</td>\n",
       "      <td>DU</td>\n",
       "    </tr>\n",
       "    <tr>\n",
       "      <th>4396</th>\n",
       "      <td>533</td>\n",
       "      <td>533</td>\n",
       "      <td>24473053</td>\n",
       "      <td>81815</td>\n",
       "      <td>75439</td>\n",
       "      <td>45503</td>\n",
       "      <td>603034</td>\n",
       "      <td>2565</td>\n",
       "      <td>196506</td>\n",
       "      <td>180007</td>\n",
       "      <td>...</td>\n",
       "      <td>US</td>\n",
       "      <td>United States</td>\n",
       "      <td>6</td>\n",
       "      <td>622</td>\n",
       "      <td>1</td>\n",
       "      <td>2016</td>\n",
       "      <td>10</td>\n",
       "      <td>6</td>\n",
       "      <td>F</td>\n",
       "      <td>DU</td>\n",
       "    </tr>\n",
       "    <tr>\n",
       "      <th>3850</th>\n",
       "      <td>413</td>\n",
       "      <td>410</td>\n",
       "      <td>12972100</td>\n",
       "      <td>52480</td>\n",
       "      <td>42695</td>\n",
       "      <td>126329</td>\n",
       "      <td>0</td>\n",
       "      <td>216</td>\n",
       "      <td>21913</td>\n",
       "      <td>15187</td>\n",
       "      <td>...</td>\n",
       "      <td>US</td>\n",
       "      <td>United States</td>\n",
       "      <td>6</td>\n",
       "      <td>608</td>\n",
       "      <td>1</td>\n",
       "      <td>2017</td>\n",
       "      <td>11</td>\n",
       "      <td>1</td>\n",
       "      <td>F</td>\n",
       "      <td>DU</td>\n",
       "    </tr>\n",
       "  </tbody>\n",
       "</table>\n",
       "<p>5 rows × 38 columns</p>\n",
       "</div>"
      ],
      "text/plain": [
       "      departures_scheduled  departures_performed   payload  seats  passengers  \\\n",
       "4177                   810                   810  36450000  99630       82123   \n",
       "1891                   646                   646  20425900  82688       60744   \n",
       "790                    541                   540  16897100  67645       51751   \n",
       "4396                   533                   533  24473053  81815       75439   \n",
       "3850                   413                   410  12972100  52480       42695   \n",
       "\n",
       "      freight    mail  distance  ramp_to_ramp  air_time  ... dest_country  \\\n",
       "4177   176909       0       100         31776     18893  ...           US   \n",
       "1891   245470       0       163         30613     18256  ...           US   \n",
       "790     30706       0       102         18616     11206  ...           US   \n",
       "4396    45503  603034      2565        196506    180007  ...           US   \n",
       "3850   126329       0       216         21913     15187  ...           US   \n",
       "\n",
       "      dest_country_name aircraft_group aircraft_type aircraft_config  year  \\\n",
       "4177      United States              6           608               1  2018   \n",
       "1891      United States              6           608               1  2019   \n",
       "790       United States              6           608               1  2015   \n",
       "4396      United States              6           622               1  2016   \n",
       "3850      United States              6           608               1  2017   \n",
       "\n",
       "      month  distance_group  class  data_source  \n",
       "4177      1               1      F           DU  \n",
       "1891      8               1      F           DU  \n",
       "790       5               1      F           DU  \n",
       "4396     10               6      F           DU  \n",
       "3850     11               1      F           DU  \n",
       "\n",
       "[5 rows x 38 columns]"
      ]
     },
     "execution_count": 26,
     "metadata": {},
     "output_type": "execute_result"
    }
   ],
   "source": [
    "# checking correlation between number of flights and number of passengers\n",
    "df_passengers_by_flights = df_passengers.sort_values('departures_performed', ascending = False)\n",
    "df_passengers_by_flights.head()\n",
    "# generally, bigger number of flights leads to bigger number of passengers"
   ]
  },
  {
   "cell_type": "code",
   "execution_count": 24,
   "metadata": {},
   "outputs": [
    {
     "data": {
      "text/plain": [
       "32.34"
      ]
     },
     "execution_count": 24,
     "metadata": {},
     "output_type": "execute_result"
    }
   ],
   "source": [
    "# Amount of traffic these 10 airports cover in percentage:\n",
    "num_flights_top_10_airports = sum(df_flights_by_airport.head(10))\n",
    "num_flights_top_10_airports / 5000 * 100\n",
    "# 32.34% of traffic are covered by the 10 airports."
   ]
  },
  {
   "cell_type": "markdown",
   "metadata": {},
   "source": [
    "#### **Task 10**: Do bigger delays lead to bigger fuel comsumption per passenger? \n",
    "We need to do four things to answer this as accurate as possible:\n",
    "- Find out average monthly delay per air carrier (monthly delay is sum of all delays in 1 month)\n",
    "- Find out distance covered monthly by different air carriers\n",
    "- Find out number of passengers that were carried by different air carriers\n",
    "- Find out total fuel comsumption per air carrier.\n",
    "\n",
    "Use this information to get the average fuel comsumption per passenger per km. Is this higher for the airlines with bigger average delays?"
   ]
  },
  {
   "cell_type": "code",
   "execution_count": 24,
   "metadata": {},
   "outputs": [
    {
     "data": {
      "text/html": [
       "<div>\n",
       "<style scoped>\n",
       "    .dataframe tbody tr th:only-of-type {\n",
       "        vertical-align: middle;\n",
       "    }\n",
       "\n",
       "    .dataframe tbody tr th {\n",
       "        vertical-align: top;\n",
       "    }\n",
       "\n",
       "    .dataframe thead th {\n",
       "        text-align: right;\n",
       "    }\n",
       "</style>\n",
       "<table border=\"1\" class=\"dataframe\">\n",
       "  <thead>\n",
       "    <tr style=\"text-align: right;\">\n",
       "      <th></th>\n",
       "      <th>mkt_unique_carrier</th>\n",
       "      <th>all_delay</th>\n",
       "    </tr>\n",
       "  </thead>\n",
       "  <tbody>\n",
       "    <tr>\n",
       "      <th>0</th>\n",
       "      <td>AA</td>\n",
       "      <td>1939.750000</td>\n",
       "    </tr>\n",
       "    <tr>\n",
       "      <th>1</th>\n",
       "      <td>AS</td>\n",
       "      <td>169.083333</td>\n",
       "    </tr>\n",
       "    <tr>\n",
       "      <th>2</th>\n",
       "      <td>B6</td>\n",
       "      <td>538.166667</td>\n",
       "    </tr>\n",
       "    <tr>\n",
       "      <th>3</th>\n",
       "      <td>DL</td>\n",
       "      <td>1203.166667</td>\n",
       "    </tr>\n",
       "    <tr>\n",
       "      <th>4</th>\n",
       "      <td>F9</td>\n",
       "      <td>276.083333</td>\n",
       "    </tr>\n",
       "    <tr>\n",
       "      <th>5</th>\n",
       "      <td>G4</td>\n",
       "      <td>97.090909</td>\n",
       "    </tr>\n",
       "    <tr>\n",
       "      <th>6</th>\n",
       "      <td>HA</td>\n",
       "      <td>92.333333</td>\n",
       "    </tr>\n",
       "    <tr>\n",
       "      <th>7</th>\n",
       "      <td>NK</td>\n",
       "      <td>159.250000</td>\n",
       "    </tr>\n",
       "    <tr>\n",
       "      <th>8</th>\n",
       "      <td>UA</td>\n",
       "      <td>2243.583333</td>\n",
       "    </tr>\n",
       "    <tr>\n",
       "      <th>9</th>\n",
       "      <td>VX</td>\n",
       "      <td>86.666667</td>\n",
       "    </tr>\n",
       "    <tr>\n",
       "      <th>10</th>\n",
       "      <td>WN</td>\n",
       "      <td>956.000000</td>\n",
       "    </tr>\n",
       "  </tbody>\n",
       "</table>\n",
       "</div>"
      ],
      "text/plain": [
       "   mkt_unique_carrier    all_delay\n",
       "0                  AA  1939.750000\n",
       "1                  AS   169.083333\n",
       "2                  B6   538.166667\n",
       "3                  DL  1203.166667\n",
       "4                  F9   276.083333\n",
       "5                  G4    97.090909\n",
       "6                  HA    92.333333\n",
       "7                  NK   159.250000\n",
       "8                  UA  2243.583333\n",
       "9                  VX    86.666667\n",
       "10                 WN   956.000000"
      ]
     },
     "execution_count": 24,
     "metadata": {},
     "output_type": "execute_result"
    }
   ],
   "source": [
    "# average monthly delay per air carrier\n",
    "\n",
    "# group by month, carrier, sum all delays in that month\n",
    "df_flights_month_delay = pd.DataFrame(df_flights.groupby(['fl_month', 'mkt_unique_carrier']).sum('all_delay')).reset_index()\n",
    "df_flights_month_delay\n",
    "# group by carrier, mean all delays\n",
    "df_flights_month_delay_carr = df_flights_month_delay.groupby('mkt_unique_carrier', as_index = False)['all_delay'].mean()\n",
    "df_flights_month_delay_carr"
   ]
  },
  {
   "cell_type": "code",
   "execution_count": 34,
   "metadata": {},
   "outputs": [
    {
     "data": {
      "text/html": [
       "<div>\n",
       "<style scoped>\n",
       "    .dataframe tbody tr th:only-of-type {\n",
       "        vertical-align: middle;\n",
       "    }\n",
       "\n",
       "    .dataframe tbody tr th {\n",
       "        vertical-align: top;\n",
       "    }\n",
       "\n",
       "    .dataframe thead th {\n",
       "        text-align: right;\n",
       "    }\n",
       "</style>\n",
       "<table border=\"1\" class=\"dataframe\">\n",
       "  <thead>\n",
       "    <tr style=\"text-align: right;\">\n",
       "      <th></th>\n",
       "      <th>mkt_unique_carrier</th>\n",
       "      <th>distance</th>\n",
       "    </tr>\n",
       "  </thead>\n",
       "  <tbody>\n",
       "    <tr>\n",
       "      <th>0</th>\n",
       "      <td>AA</td>\n",
       "      <td>35844.708333</td>\n",
       "    </tr>\n",
       "    <tr>\n",
       "      <th>1</th>\n",
       "      <td>AS</td>\n",
       "      <td>11798.541667</td>\n",
       "    </tr>\n",
       "    <tr>\n",
       "      <th>2</th>\n",
       "      <td>B6</td>\n",
       "      <td>9464.291667</td>\n",
       "    </tr>\n",
       "    <tr>\n",
       "      <th>3</th>\n",
       "      <td>DL</td>\n",
       "      <td>30688.708333</td>\n",
       "    </tr>\n",
       "    <tr>\n",
       "      <th>4</th>\n",
       "      <td>F9</td>\n",
       "      <td>3682.916667</td>\n",
       "    </tr>\n",
       "    <tr>\n",
       "      <th>5</th>\n",
       "      <td>G4</td>\n",
       "      <td>2916.800000</td>\n",
       "    </tr>\n",
       "    <tr>\n",
       "      <th>6</th>\n",
       "      <td>HA</td>\n",
       "      <td>1701.045455</td>\n",
       "    </tr>\n",
       "    <tr>\n",
       "      <th>7</th>\n",
       "      <td>NK</td>\n",
       "      <td>5568.916667</td>\n",
       "    </tr>\n",
       "    <tr>\n",
       "      <th>8</th>\n",
       "      <td>UA</td>\n",
       "      <td>32850.083333</td>\n",
       "    </tr>\n",
       "    <tr>\n",
       "      <th>9</th>\n",
       "      <td>VX</td>\n",
       "      <td>5311.333333</td>\n",
       "    </tr>\n",
       "    <tr>\n",
       "      <th>10</th>\n",
       "      <td>WN</td>\n",
       "      <td>27088.333333</td>\n",
       "    </tr>\n",
       "  </tbody>\n",
       "</table>\n",
       "</div>"
      ],
      "text/plain": [
       "   mkt_unique_carrier      distance\n",
       "0                  AA  35844.708333\n",
       "1                  AS  11798.541667\n",
       "2                  B6   9464.291667\n",
       "3                  DL  30688.708333\n",
       "4                  F9   3682.916667\n",
       "5                  G4   2916.800000\n",
       "6                  HA   1701.045455\n",
       "7                  NK   5568.916667\n",
       "8                  UA  32850.083333\n",
       "9                  VX   5311.333333\n",
       "10                 WN  27088.333333"
      ]
     },
     "execution_count": 34,
     "metadata": {},
     "output_type": "execute_result"
    }
   ],
   "source": [
    "# distance convered monthly per carriers\n",
    "\n",
    "# group by month, carrier, sum all distance in that month\n",
    "df_flights_month_distance = pd.DataFrame(df_flights.groupby([per, 'mkt_unique_carrier']).sum('distance')).reset_index()\n",
    "df_flights_month_distance\n",
    "# group by carrier, mean all distance\n",
    "df_flights_month_distance_carr = df_flights_month_distance.groupby('mkt_unique_carrier', as_index = False)['distance'].mean()\n",
    "df_flights_month_distance_carr['']"
   ]
  },
  {
   "cell_type": "code",
   "execution_count": 35,
   "metadata": {},
   "outputs": [
    {
     "data": {
      "text/plain": [
       "unique_carrier\n",
       "04Q      204\n",
       "09Q     6095\n",
       "0Q         2\n",
       "0RQ        7\n",
       "0WQ       28\n",
       "       ...  \n",
       "Z3       113\n",
       "Z3Q     1065\n",
       "ZK       833\n",
       "ZW     45738\n",
       "ZX      3931\n",
       "Name: passengers, Length: 240, dtype: int64"
      ]
     },
     "execution_count": 35,
     "metadata": {},
     "output_type": "execute_result"
    }
   ],
   "source": [
    "# number of passengers per air carrier\n",
    "# redo sample for only carriers that are present in flights\n",
    "df_passengers_by_carrier = df_passengers.groupby('unique_carrier')['passengers'].sum()\n",
    "df_passengers_by_carrier"
   ]
  },
  {
   "cell_type": "code",
   "execution_count": 36,
   "metadata": {},
   "outputs": [
    {
     "data": {
      "text/plain": [
       "unique_carrier\n",
       "09Q     41034111.0\n",
       "0JQ       838615.0\n",
       "0WQ      3253401.0\n",
       "1BQ      6672792.0\n",
       "23Q       856284.0\n",
       "          ...     \n",
       "X9     176878857.0\n",
       "XP      19013295.0\n",
       "YV             0.0\n",
       "YX     287098389.0\n",
       "ZW     130683426.0\n",
       "Name: total_gallons, Length: 62, dtype: float64"
      ]
     },
     "execution_count": 36,
     "metadata": {},
     "output_type": "execute_result"
    }
   ],
   "source": [
    "# total fuel consumption per air carrier\n",
    "df_fuel_by_carrier = df_fuel.groupby('unique_carrier')['total_gallons'].sum()\n",
    "df_fuel_by_carrier"
   ]
  },
  {
   "cell_type": "code",
   "execution_count": 50,
   "metadata": {},
   "outputs": [
    {
     "data": {
      "text/html": [
       "<div>\n",
       "<style scoped>\n",
       "    .dataframe tbody tr th:only-of-type {\n",
       "        vertical-align: middle;\n",
       "    }\n",
       "\n",
       "    .dataframe tbody tr th {\n",
       "        vertical-align: top;\n",
       "    }\n",
       "\n",
       "    .dataframe thead th {\n",
       "        text-align: right;\n",
       "    }\n",
       "</style>\n",
       "<table border=\"1\" class=\"dataframe\">\n",
       "  <thead>\n",
       "    <tr style=\"text-align: right;\">\n",
       "      <th></th>\n",
       "      <th>mkt_unique_carrier</th>\n",
       "      <th>total_gallons</th>\n",
       "      <th>passengers</th>\n",
       "      <th>distance</th>\n",
       "      <th>fuel_pass_km</th>\n",
       "    </tr>\n",
       "  </thead>\n",
       "  <tbody>\n",
       "    <tr>\n",
       "      <th>0</th>\n",
       "      <td>AA</td>\n",
       "      <td>1.663489e+10</td>\n",
       "      <td>1528250</td>\n",
       "      <td>35844.708333</td>\n",
       "      <td>0.303669</td>\n",
       "    </tr>\n",
       "    <tr>\n",
       "      <th>1</th>\n",
       "      <td>AS</td>\n",
       "      <td>2.678455e+09</td>\n",
       "      <td>267474</td>\n",
       "      <td>11798.541667</td>\n",
       "      <td>0.848740</td>\n",
       "    </tr>\n",
       "    <tr>\n",
       "      <th>2</th>\n",
       "      <td>B6</td>\n",
       "      <td>3.767060e+09</td>\n",
       "      <td>476842</td>\n",
       "      <td>9464.291667</td>\n",
       "      <td>0.834718</td>\n",
       "    </tr>\n",
       "    <tr>\n",
       "      <th>3</th>\n",
       "      <td>DL</td>\n",
       "      <td>1.655025e+10</td>\n",
       "      <td>1690715</td>\n",
       "      <td>30688.708333</td>\n",
       "      <td>0.318974</td>\n",
       "    </tr>\n",
       "    <tr>\n",
       "      <th>4</th>\n",
       "      <td>F9</td>\n",
       "      <td>1.125294e+09</td>\n",
       "      <td>204130</td>\n",
       "      <td>3682.916667</td>\n",
       "      <td>1.496813</td>\n",
       "    </tr>\n",
       "  </tbody>\n",
       "</table>\n",
       "</div>"
      ],
      "text/plain": [
       "  mkt_unique_carrier  total_gallons  passengers      distance  fuel_pass_km\n",
       "0                 AA   1.663489e+10     1528250  35844.708333      0.303669\n",
       "1                 AS   2.678455e+09      267474  11798.541667      0.848740\n",
       "2                 B6   3.767060e+09      476842   9464.291667      0.834718\n",
       "3                 DL   1.655025e+10     1690715  30688.708333      0.318974\n",
       "4                 F9   1.125294e+09      204130   3682.916667      1.496813"
      ]
     },
     "execution_count": 50,
     "metadata": {},
     "output_type": "execute_result"
    }
   ],
   "source": [
    "# average fuel consumption per passenger per km by carrier\n",
    "df_fuel_passengers = pd.merge(df_fuel_by_carrier, df_passengers_by_carrier, on = 'unique_carrier').reset_index()\n",
    "df_fuel_passengers.rename(columns = {'unique_carrier': 'mkt_unique_carrier'}, inplace = True)\n",
    "df_fuel_passengers_distance = pd.merge(df_fuel_passengers, df_flights_month_distance_carr, on = 'mkt_unique_carrier')\n",
    "\n",
    "df_fuel_passengers_distance['fuel_pass_km'] = df_fuel_passengers_distance['total_gallons'] / df_fuel_passengers_distance['passengers'] / df_fuel_passengers_distance['distance']\n",
    "df_fuel_passengers_distance.head()"
   ]
  }
 ],
 "metadata": {
  "kernelspec": {
   "display_name": "Python 3 (ipykernel)",
   "language": "python",
   "name": "python3"
  },
  "language_info": {
   "codemirror_mode": {
    "name": "ipython",
    "version": 3
   },
   "file_extension": ".py",
   "mimetype": "text/x-python",
   "name": "python",
   "nbconvert_exporter": "python",
   "pygments_lexer": "ipython3",
   "version": "3.9.12"
  },
  "toc": {
   "base_numbering": 1,
   "nav_menu": {},
   "number_sections": true,
   "sideBar": true,
   "skip_h1_title": false,
   "title_cell": "Table of Contents",
   "title_sidebar": "Contents",
   "toc_cell": false,
   "toc_position": {},
   "toc_section_display": true,
   "toc_window_display": false
  },
  "varInspector": {
   "cols": {
    "lenName": 16,
    "lenType": 16,
    "lenVar": 40
   },
   "kernels_config": {
    "python": {
     "delete_cmd_postfix": "",
     "delete_cmd_prefix": "del ",
     "library": "var_list.py",
     "varRefreshCmd": "print(var_dic_list())"
    },
    "r": {
     "delete_cmd_postfix": ") ",
     "delete_cmd_prefix": "rm(",
     "library": "var_list.r",
     "varRefreshCmd": "cat(var_dic_list()) "
    }
   },
   "types_to_exclude": [
    "module",
    "function",
    "builtin_function_or_method",
    "instance",
    "_Feature"
   ],
   "window_display": false
  },
  "vscode": {
   "interpreter": {
    "hash": "594cbcb53b7eb24b01ad1ace3292a9583de43e996a12a214afbcf4f5a5715dd8"
   }
  }
 },
 "nbformat": 4,
 "nbformat_minor": 4
}
