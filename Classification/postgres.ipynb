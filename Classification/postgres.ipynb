{
 "cells": [
  {
   "cell_type": "code",
   "execution_count": 1,
   "id": "3bfd3433-098f-4f87-81f4-0696d0246535",
   "metadata": {},
   "outputs": [],
   "source": [
    "# Import packages\n",
    "import pandas as pd\n",
    "import numpy as np\n",
    "import psycopg2\n",
    "import sqlalchemy\n",
    "from sqlalchemy import create_engine"
   ]
  },
  {
   "cell_type": "code",
   "execution_count": 2,
   "id": "4867af2e-fc9b-424d-b5ef-e713b5835dc4",
   "metadata": {},
   "outputs": [],
   "source": [
    "postgre_db = 'mid_term_project'\n",
    "postgre_user = 'lhl_student'\n",
    "postgre_password = 'lhl_student'\n",
    "postgre_host = 'lhl-data-bootcamp.crzjul5qln0e.ca-central-1.rds.amazonaws.com'\n",
    "postgre_port = '5432'"
   ]
  },
  {
   "cell_type": "code",
   "execution_count": 3,
   "id": "93f0378b-37ea-4f87-9cfd-714423065a34",
   "metadata": {},
   "outputs": [],
   "source": [
    "con = psycopg2.connect(database = postgre_db,\n",
    "                       user= postgre_user, \n",
    "                       password= postgre_password, \n",
    "                       host= postgre_host, \n",
    "                       port= postgre_port)"
   ]
  },
  {
   "cell_type": "code",
   "execution_count": 4,
   "id": "0c61814d-a721-4656-abba-270e12b31a15",
   "metadata": {},
   "outputs": [],
   "source": [
    "def execute_read_query(connection, query, return_pandas=True):\n",
    "    cursor = connection.cursor()\n",
    "    result = None\n",
    "    try:\n",
    "        if return_pandas:\n",
    "            result = pd.read_sql_query(query, connection)\n",
    "        else:\n",
    "            cursor.execute(query)\n",
    "            result = cursor.fetchall()\n",
    "        return result\n",
    "    except Error as e:\n",
    "        print(f\"The error '{e}' occurred\")"
   ]
  },
  {
   "cell_type": "code",
   "execution_count": 6,
   "id": "52f12503-fe3f-4133-ac90-f00e740f812a",
   "metadata": {},
   "outputs": [
    {
     "name": "stderr",
     "output_type": "stream",
     "text": [
      "/usr/local/Caskroom/miniforge/base/lib/python3.9/site-packages/pandas/io/sql.py:761: UserWarning: pandas only support SQLAlchemy connectable(engine/connection) ordatabase string URI or sqlite3 DBAPI2 connectionother DBAPI2 objects are not tested, please consider using SQLAlchemy\n",
      "  warnings.warn(\n"
     ]
    }
   ],
   "source": [
    "#df = pd.read_sql_query('select * from flights', con)\n",
    "#df.to_csv('/Users/perpetualokafor/Downloads/mid-term-project-I/flights.csv')\n",
    "\n",
    "\n",
    "query = \"\"\"SELECT * FROM flights_test WHERE fl_date BETWEEN '2020-01-01' AND '2020-01-07' ;\"\"\"\n",
    "df = pd.read_sql_query(query, con)\n",
    "df.to_csv('/Users/perpetualokafor/Downloads/mid-term-project-I/flights_test.csv')\n"
   ]
  },
  {
   "cell_type": "code",
   "execution_count": null,
   "id": "57bac658-8bca-4653-ae4f-5922e87f7d66",
   "metadata": {},
   "outputs": [],
   "source": []
  }
 ],
 "metadata": {
  "kernelspec": {
   "display_name": "Python 3 (ipykernel)",
   "language": "python",
   "name": "python3"
  },
  "language_info": {
   "codemirror_mode": {
    "name": "ipython",
    "version": 3
   },
   "file_extension": ".py",
   "mimetype": "text/x-python",
   "name": "python",
   "nbconvert_exporter": "python",
   "pygments_lexer": "ipython3",
   "version": "3.9.13"
  }
 },
 "nbformat": 4,
 "nbformat_minor": 5
}
