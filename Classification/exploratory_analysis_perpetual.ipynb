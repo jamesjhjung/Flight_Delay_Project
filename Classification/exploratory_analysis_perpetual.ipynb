{
 "cells": [
  {
   "cell_type": "code",
   "execution_count": 21,
   "metadata": {},
   "outputs": [],
   "source": [
    "import psycopg2\n",
    "import os\n",
    "import pandas as pd\n",
    "import matplotlib.pyplot as plt\n",
    "from sqlalchemy import create_engine\n",
    "import plotly.graph_objs as go\n",
    "import seaborn as sns\n",
    "import vaex\n",
    "import numpy as np\n",
    "import requests as re\n",
    "import datetime as dt\n",
    "import datetime as dt\n",
    "from datetime import date\n",
    "from datetime import time\n",
    "import scipy.stats as st\n",
    "from scipy.stats import norm, normaltest\n",
    "import statistics\n",
    "import statsmodels.api as sm\n",
    "from scipy import stats\n",
    "import plotly.express as px\n",
    "from scipy.stats import kstest\n",
    "from scipy.stats import shapiro\n",
    "plt.rcParams[\"figure.figsize\"] = (15,6)"
   ]
  },
  {
   "cell_type": "code",
   "execution_count": null,
   "metadata": {},
   "outputs": [],
   "source": []
  },
  {
   "cell_type": "code",
   "execution_count": null,
   "metadata": {},
   "outputs": [],
   "source": []
  },
  {
   "cell_type": "code",
   "execution_count": null,
   "metadata": {},
   "outputs": [],
   "source": []
  },
  {
   "cell_type": "markdown",
   "metadata": {},
   "source": [
    "## Exploratory Data Analysis\n",
    "\n",
    "Use this notebook to get familiar with the datasets we have. There is 10 questions we need to answer during the EDA.\n",
    "\n",
    "\n",
    "We shouldn't limit our EDA to these 10 questions. Let's be creative :)."
   ]
  },
  {
   "cell_type": "code",
   "execution_count": 24,
   "metadata": {},
   "outputs": [],
   "source": [
    "df_flights = pd.read_csv('/Users/perpetualokafor/Downloads/mid-term-project-I/flights1.csv',index_col=0)"
   ]
  },
  {
   "cell_type": "code",
   "execution_count": 25,
   "metadata": {},
   "outputs": [
    {
     "data": {
      "text/html": [
       "<div>\n",
       "<style scoped>\n",
       "    .dataframe tbody tr th:only-of-type {\n",
       "        vertical-align: middle;\n",
       "    }\n",
       "\n",
       "    .dataframe tbody tr th {\n",
       "        vertical-align: top;\n",
       "    }\n",
       "\n",
       "    .dataframe thead th {\n",
       "        text-align: right;\n",
       "    }\n",
       "</style>\n",
       "<table border=\"1\" class=\"dataframe\">\n",
       "  <thead>\n",
       "    <tr style=\"text-align: right;\">\n",
       "      <th></th>\n",
       "      <th>fl_date</th>\n",
       "      <th>mkt_unique_carrier</th>\n",
       "      <th>branded_code_share</th>\n",
       "      <th>mkt_carrier</th>\n",
       "      <th>mkt_carrier_fl_num</th>\n",
       "      <th>op_unique_carrier</th>\n",
       "      <th>tail_num</th>\n",
       "      <th>op_carrier_fl_num</th>\n",
       "      <th>origin_airport_id</th>\n",
       "      <th>origin</th>\n",
       "      <th>...</th>\n",
       "      <th>distance</th>\n",
       "      <th>carrier_delay</th>\n",
       "      <th>weather_delay</th>\n",
       "      <th>nas_delay</th>\n",
       "      <th>security_delay</th>\n",
       "      <th>late_aircraft_delay</th>\n",
       "      <th>first_dep_time</th>\n",
       "      <th>total_add_gtime</th>\n",
       "      <th>longest_add_gtime</th>\n",
       "      <th>no_name</th>\n",
       "    </tr>\n",
       "  </thead>\n",
       "  <tbody>\n",
       "    <tr>\n",
       "      <th>0</th>\n",
       "      <td>2019-11-26</td>\n",
       "      <td>WN</td>\n",
       "      <td>WN</td>\n",
       "      <td>WN</td>\n",
       "      <td>1885</td>\n",
       "      <td>WN</td>\n",
       "      <td>N261WN</td>\n",
       "      <td>1885</td>\n",
       "      <td>14893</td>\n",
       "      <td>SMF</td>\n",
       "      <td>...</td>\n",
       "      <td>649.0</td>\n",
       "      <td>NaN</td>\n",
       "      <td>NaN</td>\n",
       "      <td>NaN</td>\n",
       "      <td>NaN</td>\n",
       "      <td>NaN</td>\n",
       "      <td>NaN</td>\n",
       "      <td>NaN</td>\n",
       "      <td>NaN</td>\n",
       "      <td>NaN</td>\n",
       "    </tr>\n",
       "    <tr>\n",
       "      <th>1</th>\n",
       "      <td>2018-05-26</td>\n",
       "      <td>AA</td>\n",
       "      <td>AA</td>\n",
       "      <td>AA</td>\n",
       "      <td>2294</td>\n",
       "      <td>AA</td>\n",
       "      <td>N5007E</td>\n",
       "      <td>2294</td>\n",
       "      <td>11433</td>\n",
       "      <td>DTW</td>\n",
       "      <td>...</td>\n",
       "      <td>1145.0</td>\n",
       "      <td>NaN</td>\n",
       "      <td>NaN</td>\n",
       "      <td>NaN</td>\n",
       "      <td>NaN</td>\n",
       "      <td>NaN</td>\n",
       "      <td>NaN</td>\n",
       "      <td>NaN</td>\n",
       "      <td>NaN</td>\n",
       "      <td>NaN</td>\n",
       "    </tr>\n",
       "    <tr>\n",
       "      <th>2</th>\n",
       "      <td>2018-08-14</td>\n",
       "      <td>DL</td>\n",
       "      <td>DL</td>\n",
       "      <td>DL</td>\n",
       "      <td>45</td>\n",
       "      <td>DL</td>\n",
       "      <td>N348NW</td>\n",
       "      <td>45</td>\n",
       "      <td>12478</td>\n",
       "      <td>JFK</td>\n",
       "      <td>...</td>\n",
       "      <td>944.0</td>\n",
       "      <td>0.0</td>\n",
       "      <td>0.0</td>\n",
       "      <td>36.0</td>\n",
       "      <td>0.0</td>\n",
       "      <td>0.0</td>\n",
       "      <td>NaN</td>\n",
       "      <td>NaN</td>\n",
       "      <td>NaN</td>\n",
       "      <td>NaN</td>\n",
       "    </tr>\n",
       "    <tr>\n",
       "      <th>3</th>\n",
       "      <td>2018-07-07</td>\n",
       "      <td>UA</td>\n",
       "      <td>UA_CODESHARE</td>\n",
       "      <td>UA</td>\n",
       "      <td>4104</td>\n",
       "      <td>EV</td>\n",
       "      <td>N11165</td>\n",
       "      <td>4104</td>\n",
       "      <td>11618</td>\n",
       "      <td>EWR</td>\n",
       "      <td>...</td>\n",
       "      <td>644.0</td>\n",
       "      <td>NaN</td>\n",
       "      <td>NaN</td>\n",
       "      <td>NaN</td>\n",
       "      <td>NaN</td>\n",
       "      <td>NaN</td>\n",
       "      <td>NaN</td>\n",
       "      <td>NaN</td>\n",
       "      <td>NaN</td>\n",
       "      <td>NaN</td>\n",
       "    </tr>\n",
       "    <tr>\n",
       "      <th>4</th>\n",
       "      <td>2018-06-17</td>\n",
       "      <td>AA</td>\n",
       "      <td>AA_CODESHARE</td>\n",
       "      <td>AA</td>\n",
       "      <td>5166</td>\n",
       "      <td>OH</td>\n",
       "      <td>N253PS</td>\n",
       "      <td>5166</td>\n",
       "      <td>11057</td>\n",
       "      <td>CLT</td>\n",
       "      <td>...</td>\n",
       "      <td>221.0</td>\n",
       "      <td>135.0</td>\n",
       "      <td>0.0</td>\n",
       "      <td>0.0</td>\n",
       "      <td>0.0</td>\n",
       "      <td>22.0</td>\n",
       "      <td>NaN</td>\n",
       "      <td>NaN</td>\n",
       "      <td>NaN</td>\n",
       "      <td>NaN</td>\n",
       "    </tr>\n",
       "  </tbody>\n",
       "</table>\n",
       "<p>5 rows × 42 columns</p>\n",
       "</div>"
      ],
      "text/plain": [
       "      fl_date mkt_unique_carrier branded_code_share mkt_carrier  \\\n",
       "0  2019-11-26                 WN                 WN          WN   \n",
       "1  2018-05-26                 AA                 AA          AA   \n",
       "2  2018-08-14                 DL                 DL          DL   \n",
       "3  2018-07-07                 UA       UA_CODESHARE          UA   \n",
       "4  2018-06-17                 AA       AA_CODESHARE          AA   \n",
       "\n",
       "   mkt_carrier_fl_num op_unique_carrier tail_num  op_carrier_fl_num  \\\n",
       "0                1885                WN   N261WN               1885   \n",
       "1                2294                AA   N5007E               2294   \n",
       "2                  45                DL   N348NW                 45   \n",
       "3                4104                EV   N11165               4104   \n",
       "4                5166                OH   N253PS               5166   \n",
       "\n",
       "   origin_airport_id origin  ... distance  carrier_delay weather_delay  \\\n",
       "0              14893    SMF  ...    649.0            NaN           NaN   \n",
       "1              11433    DTW  ...   1145.0            NaN           NaN   \n",
       "2              12478    JFK  ...    944.0            0.0           0.0   \n",
       "3              11618    EWR  ...    644.0            NaN           NaN   \n",
       "4              11057    CLT  ...    221.0          135.0           0.0   \n",
       "\n",
       "  nas_delay  security_delay  late_aircraft_delay  first_dep_time  \\\n",
       "0       NaN             NaN                  NaN             NaN   \n",
       "1       NaN             NaN                  NaN             NaN   \n",
       "2      36.0             0.0                  0.0             NaN   \n",
       "3       NaN             NaN                  NaN             NaN   \n",
       "4       0.0             0.0                 22.0             NaN   \n",
       "\n",
       "   total_add_gtime  longest_add_gtime  no_name  \n",
       "0              NaN                NaN      NaN  \n",
       "1              NaN                NaN      NaN  \n",
       "2              NaN                NaN      NaN  \n",
       "3              NaN                NaN      NaN  \n",
       "4              NaN                NaN      NaN  \n",
       "\n",
       "[5 rows x 42 columns]"
      ]
     },
     "execution_count": 25,
     "metadata": {},
     "output_type": "execute_result"
    }
   ],
   "source": [
    "df_flights.head(5)"
   ]
  },
  {
   "cell_type": "code",
   "execution_count": null,
   "metadata": {},
   "outputs": [],
   "source": []
  },
  {
   "cell_type": "code",
   "execution_count": 26,
   "metadata": {},
   "outputs": [
    {
     "data": {
      "text/plain": [
       "fl_date                     0\n",
       "mkt_unique_carrier          0\n",
       "branded_code_share          0\n",
       "mkt_carrier                 0\n",
       "mkt_carrier_fl_num          0\n",
       "op_unique_carrier           0\n",
       "tail_num                 1593\n",
       "op_carrier_fl_num           0\n",
       "origin_airport_id           0\n",
       "origin                      0\n",
       "origin_city_name            0\n",
       "dest_airport_id             0\n",
       "dest                        0\n",
       "dest_city_name              0\n",
       "crs_dep_time                0\n",
       "dep_time                 8223\n",
       "dep_delay                8382\n",
       "taxi_out                 8682\n",
       "wheels_off               8682\n",
       "wheels_on                8923\n",
       "taxi_in                  8923\n",
       "crs_arr_time                0\n",
       "arr_time                 8736\n",
       "arr_delay                9848\n",
       "cancelled                   0\n",
       "cancellation_code      491448\n",
       "diverted                    0\n",
       "dup                         0\n",
       "crs_elapsed_time            0\n",
       "actual_elapsed_time      9777\n",
       "air_time                 9964\n",
       "flights                     0\n",
       "distance                    0\n",
       "carrier_delay          405604\n",
       "weather_delay          405604\n",
       "nas_delay              405604\n",
       "security_delay         405604\n",
       "late_aircraft_delay    405604\n",
       "first_dep_time         496674\n",
       "total_add_gtime        496674\n",
       "longest_add_gtime      496674\n",
       "no_name                500000\n",
       "dtype: int64"
      ]
     },
     "execution_count": 26,
     "metadata": {},
     "output_type": "execute_result"
    }
   ],
   "source": [
    "pd.isnull(df_flights).sum()"
   ]
  },
  {
   "cell_type": "code",
   "execution_count": 44,
   "metadata": {},
   "outputs": [],
   "source": [
    "# df_flights = df_flights.drop(['cancellation_code','carrier_delay','weather_delay',\n",
    "#                               'nas_delay','security_delay','late_aircraft_delay',\n",
    "#                               'first_dep_time','total_add_gtime','longest_add_gtime','no_name'], axis=1)"
   ]
  },
  {
   "cell_type": "code",
   "execution_count": 27,
   "metadata": {},
   "outputs": [
    {
     "data": {
      "text/html": [
       "<div>\n",
       "<style scoped>\n",
       "    .dataframe tbody tr th:only-of-type {\n",
       "        vertical-align: middle;\n",
       "    }\n",
       "\n",
       "    .dataframe tbody tr th {\n",
       "        vertical-align: top;\n",
       "    }\n",
       "\n",
       "    .dataframe thead th {\n",
       "        text-align: right;\n",
       "    }\n",
       "</style>\n",
       "<table border=\"1\" class=\"dataframe\">\n",
       "  <thead>\n",
       "    <tr style=\"text-align: right;\">\n",
       "      <th></th>\n",
       "      <th>mkt_carrier_fl_num</th>\n",
       "      <th>op_carrier_fl_num</th>\n",
       "      <th>origin_airport_id</th>\n",
       "      <th>dest_airport_id</th>\n",
       "      <th>crs_dep_time</th>\n",
       "      <th>dep_time</th>\n",
       "      <th>dep_delay</th>\n",
       "      <th>taxi_out</th>\n",
       "      <th>wheels_off</th>\n",
       "      <th>wheels_on</th>\n",
       "      <th>...</th>\n",
       "      <th>distance</th>\n",
       "      <th>carrier_delay</th>\n",
       "      <th>weather_delay</th>\n",
       "      <th>nas_delay</th>\n",
       "      <th>security_delay</th>\n",
       "      <th>late_aircraft_delay</th>\n",
       "      <th>first_dep_time</th>\n",
       "      <th>total_add_gtime</th>\n",
       "      <th>longest_add_gtime</th>\n",
       "      <th>no_name</th>\n",
       "    </tr>\n",
       "  </thead>\n",
       "  <tbody>\n",
       "    <tr>\n",
       "      <th>count</th>\n",
       "      <td>500000.000000</td>\n",
       "      <td>500000.000000</td>\n",
       "      <td>500000.000000</td>\n",
       "      <td>500000.000000</td>\n",
       "      <td>500000.000000</td>\n",
       "      <td>491777.000000</td>\n",
       "      <td>491618.000000</td>\n",
       "      <td>491318.000000</td>\n",
       "      <td>491318.000000</td>\n",
       "      <td>491077.000000</td>\n",
       "      <td>...</td>\n",
       "      <td>500000.000000</td>\n",
       "      <td>94396.000000</td>\n",
       "      <td>94396.000000</td>\n",
       "      <td>94396.000000</td>\n",
       "      <td>94396.000000</td>\n",
       "      <td>94396.000000</td>\n",
       "      <td>3326.00000</td>\n",
       "      <td>3326.000000</td>\n",
       "      <td>3326.000000</td>\n",
       "      <td>0.0</td>\n",
       "    </tr>\n",
       "    <tr>\n",
       "      <th>mean</th>\n",
       "      <td>2734.581006</td>\n",
       "      <td>2734.580710</td>\n",
       "      <td>12679.973716</td>\n",
       "      <td>12680.717350</td>\n",
       "      <td>1330.185050</td>\n",
       "      <td>1334.753293</td>\n",
       "      <td>10.459153</td>\n",
       "      <td>17.532960</td>\n",
       "      <td>1359.155227</td>\n",
       "      <td>1459.472325</td>\n",
       "      <td>...</td>\n",
       "      <td>768.093034</td>\n",
       "      <td>20.365969</td>\n",
       "      <td>3.592896</td>\n",
       "      <td>16.060342</td>\n",
       "      <td>0.096392</td>\n",
       "      <td>27.226048</td>\n",
       "      <td>1322.64101</td>\n",
       "      <td>39.745039</td>\n",
       "      <td>38.879435</td>\n",
       "      <td>NaN</td>\n",
       "    </tr>\n",
       "    <tr>\n",
       "      <th>std</th>\n",
       "      <td>1860.356356</td>\n",
       "      <td>1860.477969</td>\n",
       "      <td>1521.919668</td>\n",
       "      <td>1523.522617</td>\n",
       "      <td>490.053306</td>\n",
       "      <td>503.875822</td>\n",
       "      <td>47.711468</td>\n",
       "      <td>10.057849</td>\n",
       "      <td>505.325428</td>\n",
       "      <td>533.069567</td>\n",
       "      <td>...</td>\n",
       "      <td>586.824730</td>\n",
       "      <td>63.075506</td>\n",
       "      <td>30.441680</td>\n",
       "      <td>37.661228</td>\n",
       "      <td>4.476038</td>\n",
       "      <td>53.664930</td>\n",
       "      <td>498.65955</td>\n",
       "      <td>35.188958</td>\n",
       "      <td>33.117847</td>\n",
       "      <td>NaN</td>\n",
       "    </tr>\n",
       "    <tr>\n",
       "      <th>min</th>\n",
       "      <td>1.000000</td>\n",
       "      <td>1.000000</td>\n",
       "      <td>10135.000000</td>\n",
       "      <td>10135.000000</td>\n",
       "      <td>1.000000</td>\n",
       "      <td>1.000000</td>\n",
       "      <td>-213.000000</td>\n",
       "      <td>0.000000</td>\n",
       "      <td>1.000000</td>\n",
       "      <td>1.000000</td>\n",
       "      <td>...</td>\n",
       "      <td>16.000000</td>\n",
       "      <td>0.000000</td>\n",
       "      <td>0.000000</td>\n",
       "      <td>0.000000</td>\n",
       "      <td>0.000000</td>\n",
       "      <td>0.000000</td>\n",
       "      <td>13.00000</td>\n",
       "      <td>1.000000</td>\n",
       "      <td>1.000000</td>\n",
       "      <td>NaN</td>\n",
       "    </tr>\n",
       "    <tr>\n",
       "      <th>25%</th>\n",
       "      <td>1130.000000</td>\n",
       "      <td>1130.000000</td>\n",
       "      <td>11292.000000</td>\n",
       "      <td>11292.000000</td>\n",
       "      <td>915.000000</td>\n",
       "      <td>917.000000</td>\n",
       "      <td>-6.000000</td>\n",
       "      <td>11.000000</td>\n",
       "      <td>933.000000</td>\n",
       "      <td>1043.000000</td>\n",
       "      <td>...</td>\n",
       "      <td>340.000000</td>\n",
       "      <td>0.000000</td>\n",
       "      <td>0.000000</td>\n",
       "      <td>0.000000</td>\n",
       "      <td>0.000000</td>\n",
       "      <td>0.000000</td>\n",
       "      <td>857.25000</td>\n",
       "      <td>17.000000</td>\n",
       "      <td>17.000000</td>\n",
       "      <td>NaN</td>\n",
       "    </tr>\n",
       "    <tr>\n",
       "      <th>50%</th>\n",
       "      <td>2316.000000</td>\n",
       "      <td>2316.000000</td>\n",
       "      <td>12889.000000</td>\n",
       "      <td>12889.000000</td>\n",
       "      <td>1324.000000</td>\n",
       "      <td>1328.000000</td>\n",
       "      <td>-2.000000</td>\n",
       "      <td>15.000000</td>\n",
       "      <td>1342.000000</td>\n",
       "      <td>1500.000000</td>\n",
       "      <td>...</td>\n",
       "      <td>602.000000</td>\n",
       "      <td>0.000000</td>\n",
       "      <td>0.000000</td>\n",
       "      <td>3.000000</td>\n",
       "      <td>0.000000</td>\n",
       "      <td>3.000000</td>\n",
       "      <td>1340.00000</td>\n",
       "      <td>29.000000</td>\n",
       "      <td>29.000000</td>\n",
       "      <td>NaN</td>\n",
       "    </tr>\n",
       "    <tr>\n",
       "      <th>75%</th>\n",
       "      <td>4322.000000</td>\n",
       "      <td>4322.000000</td>\n",
       "      <td>14057.000000</td>\n",
       "      <td>14057.000000</td>\n",
       "      <td>1735.000000</td>\n",
       "      <td>1744.000000</td>\n",
       "      <td>6.000000</td>\n",
       "      <td>20.000000</td>\n",
       "      <td>1759.000000</td>\n",
       "      <td>1909.000000</td>\n",
       "      <td>...</td>\n",
       "      <td>1005.000000</td>\n",
       "      <td>18.000000</td>\n",
       "      <td>0.000000</td>\n",
       "      <td>19.000000</td>\n",
       "      <td>0.000000</td>\n",
       "      <td>33.000000</td>\n",
       "      <td>1728.00000</td>\n",
       "      <td>50.000000</td>\n",
       "      <td>49.000000</td>\n",
       "      <td>NaN</td>\n",
       "    </tr>\n",
       "    <tr>\n",
       "      <th>max</th>\n",
       "      <td>9391.000000</td>\n",
       "      <td>9391.000000</td>\n",
       "      <td>16869.000000</td>\n",
       "      <td>16869.000000</td>\n",
       "      <td>2359.000000</td>\n",
       "      <td>2400.000000</td>\n",
       "      <td>1966.000000</td>\n",
       "      <td>177.000000</td>\n",
       "      <td>2400.000000</td>\n",
       "      <td>2400.000000</td>\n",
       "      <td>...</td>\n",
       "      <td>5095.000000</td>\n",
       "      <td>1780.000000</td>\n",
       "      <td>1331.000000</td>\n",
       "      <td>1278.000000</td>\n",
       "      <td>1048.000000</td>\n",
       "      <td>1966.000000</td>\n",
       "      <td>2352.00000</td>\n",
       "      <td>295.000000</td>\n",
       "      <td>225.000000</td>\n",
       "      <td>NaN</td>\n",
       "    </tr>\n",
       "  </tbody>\n",
       "</table>\n",
       "<p>8 rows × 30 columns</p>\n",
       "</div>"
      ],
      "text/plain": [
       "       mkt_carrier_fl_num  op_carrier_fl_num  origin_airport_id  \\\n",
       "count       500000.000000      500000.000000      500000.000000   \n",
       "mean          2734.581006        2734.580710       12679.973716   \n",
       "std           1860.356356        1860.477969        1521.919668   \n",
       "min              1.000000           1.000000       10135.000000   \n",
       "25%           1130.000000        1130.000000       11292.000000   \n",
       "50%           2316.000000        2316.000000       12889.000000   \n",
       "75%           4322.000000        4322.000000       14057.000000   \n",
       "max           9391.000000        9391.000000       16869.000000   \n",
       "\n",
       "       dest_airport_id   crs_dep_time       dep_time      dep_delay  \\\n",
       "count    500000.000000  500000.000000  491777.000000  491618.000000   \n",
       "mean      12680.717350    1330.185050    1334.753293      10.459153   \n",
       "std        1523.522617     490.053306     503.875822      47.711468   \n",
       "min       10135.000000       1.000000       1.000000    -213.000000   \n",
       "25%       11292.000000     915.000000     917.000000      -6.000000   \n",
       "50%       12889.000000    1324.000000    1328.000000      -2.000000   \n",
       "75%       14057.000000    1735.000000    1744.000000       6.000000   \n",
       "max       16869.000000    2359.000000    2400.000000    1966.000000   \n",
       "\n",
       "            taxi_out     wheels_off      wheels_on  ...       distance  \\\n",
       "count  491318.000000  491318.000000  491077.000000  ...  500000.000000   \n",
       "mean       17.532960    1359.155227    1459.472325  ...     768.093034   \n",
       "std        10.057849     505.325428     533.069567  ...     586.824730   \n",
       "min         0.000000       1.000000       1.000000  ...      16.000000   \n",
       "25%        11.000000     933.000000    1043.000000  ...     340.000000   \n",
       "50%        15.000000    1342.000000    1500.000000  ...     602.000000   \n",
       "75%        20.000000    1759.000000    1909.000000  ...    1005.000000   \n",
       "max       177.000000    2400.000000    2400.000000  ...    5095.000000   \n",
       "\n",
       "       carrier_delay  weather_delay     nas_delay  security_delay  \\\n",
       "count   94396.000000   94396.000000  94396.000000    94396.000000   \n",
       "mean       20.365969       3.592896     16.060342        0.096392   \n",
       "std        63.075506      30.441680     37.661228        4.476038   \n",
       "min         0.000000       0.000000      0.000000        0.000000   \n",
       "25%         0.000000       0.000000      0.000000        0.000000   \n",
       "50%         0.000000       0.000000      3.000000        0.000000   \n",
       "75%        18.000000       0.000000     19.000000        0.000000   \n",
       "max      1780.000000    1331.000000   1278.000000     1048.000000   \n",
       "\n",
       "       late_aircraft_delay  first_dep_time  total_add_gtime  \\\n",
       "count         94396.000000      3326.00000      3326.000000   \n",
       "mean             27.226048      1322.64101        39.745039   \n",
       "std              53.664930       498.65955        35.188958   \n",
       "min               0.000000        13.00000         1.000000   \n",
       "25%               0.000000       857.25000        17.000000   \n",
       "50%               3.000000      1340.00000        29.000000   \n",
       "75%              33.000000      1728.00000        50.000000   \n",
       "max            1966.000000      2352.00000       295.000000   \n",
       "\n",
       "       longest_add_gtime  no_name  \n",
       "count        3326.000000      0.0  \n",
       "mean           38.879435      NaN  \n",
       "std            33.117847      NaN  \n",
       "min             1.000000      NaN  \n",
       "25%            17.000000      NaN  \n",
       "50%            29.000000      NaN  \n",
       "75%            49.000000      NaN  \n",
       "max           225.000000      NaN  \n",
       "\n",
       "[8 rows x 30 columns]"
      ]
     },
     "execution_count": 27,
     "metadata": {},
     "output_type": "execute_result"
    }
   ],
   "source": [
    "df_flights.describe()"
   ]
  },
  {
   "cell_type": "code",
   "execution_count": 28,
   "metadata": {},
   "outputs": [
    {
     "data": {
      "text/plain": [
       "Index(['fl_date', 'mkt_unique_carrier', 'branded_code_share', 'mkt_carrier',\n",
       "       'mkt_carrier_fl_num', 'op_unique_carrier', 'tail_num',\n",
       "       'op_carrier_fl_num', 'origin_airport_id', 'origin', 'origin_city_name',\n",
       "       'dest_airport_id', 'dest', 'dest_city_name', 'crs_dep_time', 'dep_time',\n",
       "       'dep_delay', 'taxi_out', 'wheels_off', 'wheels_on', 'taxi_in',\n",
       "       'crs_arr_time', 'arr_time', 'arr_delay', 'cancelled',\n",
       "       'cancellation_code', 'diverted', 'dup', 'crs_elapsed_time',\n",
       "       'actual_elapsed_time', 'air_time', 'flights', 'distance',\n",
       "       'carrier_delay', 'weather_delay', 'nas_delay', 'security_delay',\n",
       "       'late_aircraft_delay', 'first_dep_time', 'total_add_gtime',\n",
       "       'longest_add_gtime', 'no_name'],\n",
       "      dtype='object')"
      ]
     },
     "execution_count": 28,
     "metadata": {},
     "output_type": "execute_result"
    }
   ],
   "source": [
    "df_flights.columns"
   ]
  },
  {
   "cell_type": "markdown",
   "metadata": {},
   "source": [
    "#### **Task 1**: Test the hypothesis that the delay is from Normal distribution. and that **mean** of the delay is 0. Be careful about the outliers."
   ]
  },
  {
   "cell_type": "code",
   "execution_count": 30,
   "metadata": {},
   "outputs": [
    {
     "name": "stdout",
     "output_type": "stream",
     "text": [
      "Mean: 5.3807308753203085\n",
      "STD: 49.721047240592995\n"
     ]
    }
   ],
   "source": [
    "#Get the mean & std of arr_delay column.\n",
    "mean_arr_delay = df_flights.arr_delay.mean()\n",
    "std_arr_delay = df_flights.arr_delay.std()\n",
    "#Print mean & std\n",
    "print('Mean:',mean_arr_delay)\n",
    "print('STD:',std_arr_delay)"
   ]
  },
  {
   "cell_type": "code",
   "execution_count": 31,
   "metadata": {},
   "outputs": [
    {
     "name": "stdout",
     "output_type": "stream",
     "text": [
      "Mean: 10.459153244999166\n",
      "STD: 47.71146811658047\n"
     ]
    }
   ],
   "source": [
    "mean_dep_delay = df_flights.dep_delay.mean()\n",
    "std_dep_delay = df_flights.dep_delay.std()\n",
    "print('Mean:',mean_dep_delay)\n",
    "print('STD:',std_dep_delay)"
   ]
  },
  {
   "cell_type": "code",
   "execution_count": 32,
   "metadata": {},
   "outputs": [
    {
     "data": {
      "text/plain": [
       "(-300.0, 300.0)"
      ]
     },
     "execution_count": 32,
     "metadata": {},
     "output_type": "execute_result"
    },
    {
     "data": {
      "image/png": "[encoded data removed]",
      "text/plain": [
       "<Figure size 1080x432 with 1 Axes>"
      ]
     },
     "metadata": {
      "needs_background": "light"
     },
     "output_type": "display_data"
    }
   ],
   "source": [
    "# arr_delay\n",
    "arr_delay = df_flights['arr_delay']\n",
    "sns.histplot(arr_delay)\n",
    "plt.xlim(-300, 300)"
   ]
  },
  {
   "cell_type": "code",
   "execution_count": 33,
   "metadata": {},
   "outputs": [
    {
     "data": {
      "text/plain": [
       "(-300.0, 300.0)"
      ]
     },
     "execution_count": 33,
     "metadata": {},
     "output_type": "execute_result"
    },
    {
     "data": {
      "image/png": "[encoded data removed]",
      "text/plain": [
       "<Figure size 1080x432 with 1 Axes>"
      ]
     },
     "metadata": {
      "needs_background": "light"
     },
     "output_type": "display_data"
    }
   ],
   "source": [
    "# dep_delay\n",
    "dep_delay = df_flights['dep_delay']\n",
    "sns.histplot(dep_delay)\n",
    "plt.xlim(-300, 300)"
   ]
  },
  {
   "cell_type": "code",
   "execution_count": 34,
   "metadata": {},
   "outputs": [
    {
     "data": {
      "image/png": "[encoded data removed]",
      "text/plain": [
       "<Figure size 1080x432 with 1 Axes>"
      ]
     },
     "metadata": {
      "needs_background": "light"
     },
     "output_type": "display_data"
    }
   ],
   "source": [
    "#create Q-Q plot with 45-degree line added to plot\n",
    "fig = sm.qqplot(arr_delay, line='45')\n",
    "\n",
    "plt.show()\n",
    "#if points fall on a straight line then we assume it is normally distributed. this case it is not"
   ]
  },
  {
   "cell_type": "code",
   "execution_count": 35,
   "metadata": {},
   "outputs": [
    {
     "name": "stderr",
     "output_type": "stream",
     "text": [
      "/usr/local/Caskroom/miniforge/base/lib/python3.9/site-packages/scipy/stats/_morestats.py:1761: UserWarning: p-value may not be accurate for N > 5000.\n",
      "  warnings.warn(\"p-value may not be accurate for N > 5000.\")\n"
     ]
    },
    {
     "data": {
      "text/plain": [
       "ShapiroResult(statistic=nan, pvalue=1.0)"
      ]
     },
     "execution_count": 35,
     "metadata": {},
     "output_type": "execute_result"
    }
   ],
   "source": [
    "#(Formal Statistical Test) Perform a Shapiro-Wilk Test.\n",
    "#If the p-value of the test is greater than α = .05, then the data is assumed to be normally distributed.\n",
    "shapiro(arr_delay)"
   ]
  },
  {
   "cell_type": "code",
   "execution_count": 36,
   "metadata": {},
   "outputs": [
    {
     "data": {
      "text/plain": [
       "ShapiroResult(statistic=nan, pvalue=1.0)"
      ]
     },
     "execution_count": 36,
     "metadata": {},
     "output_type": "execute_result"
    }
   ],
   "source": [
    "shapiro(dep_delay)"
   ]
  },
  {
   "cell_type": "code",
   "execution_count": null,
   "metadata": {},
   "outputs": [],
   "source": [
    "#it is not a normal distribution.\n",
    "#mean is not 0"
   ]
  },
  {
   "cell_type": "markdown",
   "metadata": {},
   "source": [
    "#### **Task 2**: Is average/median monthly delay different during the year? If yes, which are months with the biggest delays and what could be the reason?"
   ]
  },
  {
   "cell_type": "code",
   "execution_count": 37,
   "metadata": {},
   "outputs": [],
   "source": [
    "df_flights['datetime'] = pd.to_datetime(df_flights.fl_date)\n",
    "df_flights['day'] = df_flights['datetime'].dt.day\n",
    "df_flights['month'] = df_flights['datetime'].dt.month\n",
    "df_flights['year'] = df_flights['datetime'].dt.year"
   ]
  },
  {
   "cell_type": "code",
   "execution_count": 38,
   "metadata": {},
   "outputs": [
    {
     "name": "stdout",
     "output_type": "stream",
     "text": [
      "    month  arr_delay\n",
      "0       1   4.276098\n",
      "1       2   6.833166\n",
      "2       3   2.237380\n",
      "3       4   4.238182\n",
      "4       5   6.250616\n",
      "5       6  10.516499\n",
      "6       7   9.041294\n",
      "7       8   9.029166\n",
      "8       9   1.574198\n",
      "9      10   2.784182\n",
      "10     11   2.832106\n",
      "11     12   4.443169\n"
     ]
    }
   ],
   "source": [
    "mean_month_arr_delay = df_flights.groupby('month', as_index=False)['arr_delay'].mean()\n",
    "print(mean_month_arr_delay)"
   ]
  },
  {
   "cell_type": "code",
   "execution_count": 39,
   "metadata": {},
   "outputs": [
    {
     "data": {
      "text/plain": [
       "<AxesSubplot:xlabel='month', ylabel='arr_delay'>"
      ]
     },
     "execution_count": 39,
     "metadata": {},
     "output_type": "execute_result"
    },
    {
     "data": {
      "image/png": "[encoded data removed]",
      "text/plain": [
       "<Figure size 1080x432 with 1 Axes>"
      ]
     },
     "metadata": {
      "needs_background": "light"
     },
     "output_type": "display_data"
    }
   ],
   "source": [
    "sns.barplot(x='month',y='arr_delay',data=mean_month_arr_delay)"
   ]
  },
  {
   "cell_type": "code",
   "execution_count": 40,
   "metadata": {},
   "outputs": [
    {
     "name": "stdout",
     "output_type": "stream",
     "text": [
      "    month  dep_delay\n",
      "0       1  10.108453\n",
      "1       2  11.781598\n",
      "2       3   7.851465\n",
      "3       4   9.509712\n",
      "4       5  11.038616\n",
      "5       6  14.719391\n",
      "6       7  13.856742\n",
      "7       8  13.483458\n",
      "8       9   6.874904\n",
      "9      10   7.578434\n",
      "10     11   7.951770\n",
      "11     12  10.353325\n"
     ]
    }
   ],
   "source": [
    "mean_month_dep_delay = df_flights.groupby('month',as_index=False)['dep_delay'].mean()\n",
    "print(mean_month_dep_delay)"
   ]
  },
  {
   "cell_type": "code",
   "execution_count": 41,
   "metadata": {},
   "outputs": [
    {
     "data": {
      "text/plain": [
       "<AxesSubplot:xlabel='month', ylabel='dep_delay'>"
      ]
     },
     "execution_count": 41,
     "metadata": {},
     "output_type": "execute_result"
    },
    {
     "data": {
      "image/png": "[encoded data removed]",
      "text/plain": [
       "<Figure size 1080x432 with 1 Axes>"
      ]
     },
     "metadata": {
      "needs_background": "light"
     },
     "output_type": "display_data"
    }
   ],
   "source": [
    "sns.barplot(x='month',y='dep_delay',data=mean_month_dep_delay)"
   ]
  },
  {
   "cell_type": "code",
   "execution_count": null,
   "metadata": {},
   "outputs": [],
   "source": [
    "#flights are delayed mainly in June"
   ]
  },
  {
   "cell_type": "markdown",
   "metadata": {},
   "source": [
    "#### **Task 3**: Does the weather affect the delay? \n",
    "Use the API to pull the weather information for flights. There is no need to get weather for ALL flights. We can choose the right representative sample. Let's focus on four weather types:\n",
    "- sunny\n",
    "- cloudy\n",
    "- rainy\n",
    "- snow.\n",
    "Test the hypothesis that these 4 delays are from the same distribution. If they are not, which ones are significantly different?"
   ]
  },
  {
   "cell_type": "code",
   "execution_count": 42,
   "metadata": {},
   "outputs": [],
   "source": [
    "city_df = df_flights.drop_duplicates('origin_city_name')[['origin_city_name','fl_date']]"
   ]
  },
  {
   "cell_type": "code",
   "execution_count": 43,
   "metadata": {},
   "outputs": [],
   "source": [
    "city_df_sample = city_df.sample(100)"
   ]
  },
  {
   "cell_type": "code",
   "execution_count": 44,
   "metadata": {},
   "outputs": [],
   "source": [
    "weather_data = city_df_sample.values.tolist()"
   ]
  },
  {
   "cell_type": "code",
   "execution_count": 45,
   "metadata": {},
   "outputs": [],
   "source": [
    "weather = []\n",
    "url = \"https://weather.visualcrossing.com/VisualCrossingWebServices/rest/services/weatherdata/history\"\n",
    "api_key = '8FKLHVPA65QJLV5CM3JXZZN5E'\n",
    "\n",
    "for i in weather_data:\n",
    "    \n",
    "    start_date = dt.datetime.strptime(i[1], \"%Y-%m-%d\")\n",
    "    end_date = start_date + dt.timedelta(days=1)\n",
    "\n",
    "    \n",
    "    querystring = {\"contentType\":\"json\",\n",
    "               \"startDateTime\":f\"{str(start_date.date())}T00:00:00\",\n",
    "               \"aggregateHours\":\"24\",\"location\":f\"{i[0]}\",\n",
    "               \"endDateTime\":f\"{str(end_date.date())}T00:00:00\",\n",
    "               \"unitGroup\":\"us\",\n",
    "               \"key\":api_key}\n",
    "    \n",
    "    res = re.request(\"GET\", url, params=querystring)\n",
    "    weather.append(res.json())"
   ]
  },
  {
   "cell_type": "code",
   "execution_count": 46,
   "metadata": {},
   "outputs": [],
   "source": [
    "weather_list = []\n",
    "for i in range(len(weather_data)):\n",
    "    if i == None:\n",
    "        pass\n",
    "    else:\n",
    "        weather_list.append(weather[i]['locations'][weather_data[i][0]]['values'][0]['conditions'])"
   ]
  },
  {
   "cell_type": "code",
   "execution_count": 47,
   "metadata": {},
   "outputs": [
    {
     "data": {
      "text/html": [
       "<div>\n",
       "<style scoped>\n",
       "    .dataframe tbody tr th:only-of-type {\n",
       "        vertical-align: middle;\n",
       "    }\n",
       "\n",
       "    .dataframe tbody tr th {\n",
       "        vertical-align: top;\n",
       "    }\n",
       "\n",
       "    .dataframe thead th {\n",
       "        text-align: right;\n",
       "    }\n",
       "</style>\n",
       "<table border=\"1\" class=\"dataframe\">\n",
       "  <thead>\n",
       "    <tr style=\"text-align: right;\">\n",
       "      <th></th>\n",
       "      <th>origin_city_name</th>\n",
       "      <th>fl_date</th>\n",
       "      <th>weather</th>\n",
       "    </tr>\n",
       "  </thead>\n",
       "  <tbody>\n",
       "    <tr>\n",
       "      <th>103</th>\n",
       "      <td>Dayton, OH</td>\n",
       "      <td>2018-04-13</td>\n",
       "      <td>Partially cloudy</td>\n",
       "    </tr>\n",
       "    <tr>\n",
       "      <th>10986</th>\n",
       "      <td>Kapalua, HI</td>\n",
       "      <td>2019-02-02</td>\n",
       "      <td>Rain, Partially cloudy</td>\n",
       "    </tr>\n",
       "    <tr>\n",
       "      <th>31</th>\n",
       "      <td>Washington, DC</td>\n",
       "      <td>2019-11-29</td>\n",
       "      <td>Overcast</td>\n",
       "    </tr>\n",
       "    <tr>\n",
       "      <th>174</th>\n",
       "      <td>Santa Ana, CA</td>\n",
       "      <td>2019-08-20</td>\n",
       "      <td>Clear</td>\n",
       "    </tr>\n",
       "    <tr>\n",
       "      <th>8389</th>\n",
       "      <td>Jamestown, ND</td>\n",
       "      <td>2019-08-26</td>\n",
       "      <td>Partially cloudy</td>\n",
       "    </tr>\n",
       "  </tbody>\n",
       "</table>\n",
       "</div>"
      ],
      "text/plain": [
       "      origin_city_name     fl_date                 weather\n",
       "103         Dayton, OH  2018-04-13        Partially cloudy\n",
       "10986      Kapalua, HI  2019-02-02  Rain, Partially cloudy\n",
       "31      Washington, DC  2019-11-29                Overcast\n",
       "174      Santa Ana, CA  2019-08-20                   Clear\n",
       "8389     Jamestown, ND  2019-08-26        Partially cloudy"
      ]
     },
     "execution_count": 47,
     "metadata": {},
     "output_type": "execute_result"
    }
   ],
   "source": [
    "city_df_sample['weather'] = weather_list\n",
    "city_df_sample.head()"
   ]
  },
  {
   "cell_type": "code",
   "execution_count": 48,
   "metadata": {},
   "outputs": [
    {
     "data": {
      "text/html": [
       "<div>\n",
       "<style scoped>\n",
       "    .dataframe tbody tr th:only-of-type {\n",
       "        vertical-align: middle;\n",
       "    }\n",
       "\n",
       "    .dataframe tbody tr th {\n",
       "        vertical-align: top;\n",
       "    }\n",
       "\n",
       "    .dataframe thead th {\n",
       "        text-align: right;\n",
       "    }\n",
       "</style>\n",
       "<table border=\"1\" class=\"dataframe\">\n",
       "  <thead>\n",
       "    <tr style=\"text-align: right;\">\n",
       "      <th></th>\n",
       "      <th>origin_city_name</th>\n",
       "      <th>fl_date</th>\n",
       "      <th>weather</th>\n",
       "      <th>dep_delay</th>\n",
       "      <th>arr_delay</th>\n",
       "    </tr>\n",
       "  </thead>\n",
       "  <tbody>\n",
       "    <tr>\n",
       "      <th>216</th>\n",
       "      <td>Hays, KS</td>\n",
       "      <td>2018-06-24</td>\n",
       "      <td>Rain, Partially cloudy</td>\n",
       "      <td>569.0</td>\n",
       "      <td>572.0</td>\n",
       "    </tr>\n",
       "    <tr>\n",
       "      <th>40</th>\n",
       "      <td>Pocatello, ID</td>\n",
       "      <td>2018-02-23</td>\n",
       "      <td>Partially cloudy</td>\n",
       "      <td>232.0</td>\n",
       "      <td>224.0</td>\n",
       "    </tr>\n",
       "    <tr>\n",
       "      <th>7556</th>\n",
       "      <td>North Bend/Coos Bay, OR</td>\n",
       "      <td>2018-08-21</td>\n",
       "      <td>Clear</td>\n",
       "      <td>120.0</td>\n",
       "      <td>129.0</td>\n",
       "    </tr>\n",
       "    <tr>\n",
       "      <th>2936</th>\n",
       "      <td>Santa Rosa, CA</td>\n",
       "      <td>2018-12-01</td>\n",
       "      <td>Rain, Partially cloudy</td>\n",
       "      <td>114.0</td>\n",
       "      <td>120.0</td>\n",
       "    </tr>\n",
       "    <tr>\n",
       "      <th>1123</th>\n",
       "      <td>Brainerd, MN</td>\n",
       "      <td>2019-01-26</td>\n",
       "      <td>Partially cloudy</td>\n",
       "      <td>121.0</td>\n",
       "      <td>113.0</td>\n",
       "    </tr>\n",
       "    <tr>\n",
       "      <th>...</th>\n",
       "      <td>...</td>\n",
       "      <td>...</td>\n",
       "      <td>...</td>\n",
       "      <td>...</td>\n",
       "      <td>...</td>\n",
       "    </tr>\n",
       "    <tr>\n",
       "      <th>6689</th>\n",
       "      <td>Eau Claire, WI</td>\n",
       "      <td>2019-03-30</td>\n",
       "      <td>Snow, Partially cloudy</td>\n",
       "      <td>-9.0</td>\n",
       "      <td>-32.0</td>\n",
       "    </tr>\n",
       "    <tr>\n",
       "      <th>10986</th>\n",
       "      <td>Kapalua, HI</td>\n",
       "      <td>2019-02-02</td>\n",
       "      <td>Rain, Partially cloudy</td>\n",
       "      <td>NaN</td>\n",
       "      <td>NaN</td>\n",
       "    </tr>\n",
       "    <tr>\n",
       "      <th>836</th>\n",
       "      <td>Burbank, CA</td>\n",
       "      <td>2019-02-17</td>\n",
       "      <td>Partially cloudy</td>\n",
       "      <td>NaN</td>\n",
       "      <td>NaN</td>\n",
       "    </tr>\n",
       "    <tr>\n",
       "      <th>863</th>\n",
       "      <td>Bloomington/Normal, IL</td>\n",
       "      <td>2018-08-13</td>\n",
       "      <td>Clear</td>\n",
       "      <td>NaN</td>\n",
       "      <td>NaN</td>\n",
       "    </tr>\n",
       "    <tr>\n",
       "      <th>6375</th>\n",
       "      <td>Unalaska, AK</td>\n",
       "      <td>2018-06-10</td>\n",
       "      <td>Clear</td>\n",
       "      <td>NaN</td>\n",
       "      <td>NaN</td>\n",
       "    </tr>\n",
       "  </tbody>\n",
       "</table>\n",
       "<p>100 rows × 5 columns</p>\n",
       "</div>"
      ],
      "text/plain": [
       "              origin_city_name     fl_date                 weather  dep_delay  \\\n",
       "216                   Hays, KS  2018-06-24  Rain, Partially cloudy      569.0   \n",
       "40               Pocatello, ID  2018-02-23        Partially cloudy      232.0   \n",
       "7556   North Bend/Coos Bay, OR  2018-08-21                   Clear      120.0   \n",
       "2936            Santa Rosa, CA  2018-12-01  Rain, Partially cloudy      114.0   \n",
       "1123              Brainerd, MN  2019-01-26        Partially cloudy      121.0   \n",
       "...                        ...         ...                     ...        ...   \n",
       "6689            Eau Claire, WI  2019-03-30  Snow, Partially cloudy       -9.0   \n",
       "10986              Kapalua, HI  2019-02-02  Rain, Partially cloudy        NaN   \n",
       "836                Burbank, CA  2019-02-17        Partially cloudy        NaN   \n",
       "863     Bloomington/Normal, IL  2018-08-13                   Clear        NaN   \n",
       "6375              Unalaska, AK  2018-06-10                   Clear        NaN   \n",
       "\n",
       "       arr_delay  \n",
       "216        572.0  \n",
       "40         224.0  \n",
       "7556       129.0  \n",
       "2936       120.0  \n",
       "1123       113.0  \n",
       "...          ...  \n",
       "6689       -32.0  \n",
       "10986        NaN  \n",
       "836          NaN  \n",
       "863          NaN  \n",
       "6375         NaN  \n",
       "\n",
       "[100 rows x 5 columns]"
      ]
     },
     "execution_count": 48,
     "metadata": {},
     "output_type": "execute_result"
    }
   ],
   "source": [
    "weather_sampledf = pd.merge(city_df_sample, df_flights[['dep_delay','arr_delay']], left_index=True, right_index=True)\n",
    "weather_sampledf.sort_values('arr_delay',ascending=False)"
   ]
  },
  {
   "cell_type": "code",
   "execution_count": 49,
   "metadata": {},
   "outputs": [
    {
     "data": {
      "text/html": [
       "<div>\n",
       "<style scoped>\n",
       "    .dataframe tbody tr th:only-of-type {\n",
       "        vertical-align: middle;\n",
       "    }\n",
       "\n",
       "    .dataframe tbody tr th {\n",
       "        vertical-align: top;\n",
       "    }\n",
       "\n",
       "    .dataframe thead th {\n",
       "        text-align: right;\n",
       "    }\n",
       "</style>\n",
       "<table border=\"1\" class=\"dataframe\">\n",
       "  <thead>\n",
       "    <tr style=\"text-align: right;\">\n",
       "      <th></th>\n",
       "      <th>origin_city_name</th>\n",
       "      <th>fl_date</th>\n",
       "      <th>weather</th>\n",
       "      <th>dep_delay</th>\n",
       "      <th>arr_delay</th>\n",
       "    </tr>\n",
       "  </thead>\n",
       "  <tbody>\n",
       "    <tr>\n",
       "      <th>216</th>\n",
       "      <td>Hays, KS</td>\n",
       "      <td>2018-06-24</td>\n",
       "      <td>Rain, Partially cloudy</td>\n",
       "      <td>569.0</td>\n",
       "      <td>572.0</td>\n",
       "    </tr>\n",
       "    <tr>\n",
       "      <th>40</th>\n",
       "      <td>Pocatello, ID</td>\n",
       "      <td>2018-02-23</td>\n",
       "      <td>Partially cloudy</td>\n",
       "      <td>232.0</td>\n",
       "      <td>224.0</td>\n",
       "    </tr>\n",
       "    <tr>\n",
       "      <th>1123</th>\n",
       "      <td>Brainerd, MN</td>\n",
       "      <td>2019-01-26</td>\n",
       "      <td>Partially cloudy</td>\n",
       "      <td>121.0</td>\n",
       "      <td>113.0</td>\n",
       "    </tr>\n",
       "    <tr>\n",
       "      <th>7556</th>\n",
       "      <td>North Bend/Coos Bay, OR</td>\n",
       "      <td>2018-08-21</td>\n",
       "      <td>Clear</td>\n",
       "      <td>120.0</td>\n",
       "      <td>129.0</td>\n",
       "    </tr>\n",
       "    <tr>\n",
       "      <th>2936</th>\n",
       "      <td>Santa Rosa, CA</td>\n",
       "      <td>2018-12-01</td>\n",
       "      <td>Rain, Partially cloudy</td>\n",
       "      <td>114.0</td>\n",
       "      <td>120.0</td>\n",
       "    </tr>\n",
       "    <tr>\n",
       "      <th>...</th>\n",
       "      <td>...</td>\n",
       "      <td>...</td>\n",
       "      <td>...</td>\n",
       "      <td>...</td>\n",
       "      <td>...</td>\n",
       "    </tr>\n",
       "    <tr>\n",
       "      <th>24303</th>\n",
       "      <td>Kodiak, AK</td>\n",
       "      <td>2019-02-17</td>\n",
       "      <td>Rain, Partially cloudy</td>\n",
       "      <td>-27.0</td>\n",
       "      <td>-29.0</td>\n",
       "    </tr>\n",
       "    <tr>\n",
       "      <th>10986</th>\n",
       "      <td>Kapalua, HI</td>\n",
       "      <td>2019-02-02</td>\n",
       "      <td>Rain, Partially cloudy</td>\n",
       "      <td>NaN</td>\n",
       "      <td>NaN</td>\n",
       "    </tr>\n",
       "    <tr>\n",
       "      <th>836</th>\n",
       "      <td>Burbank, CA</td>\n",
       "      <td>2019-02-17</td>\n",
       "      <td>Partially cloudy</td>\n",
       "      <td>NaN</td>\n",
       "      <td>NaN</td>\n",
       "    </tr>\n",
       "    <tr>\n",
       "      <th>863</th>\n",
       "      <td>Bloomington/Normal, IL</td>\n",
       "      <td>2018-08-13</td>\n",
       "      <td>Clear</td>\n",
       "      <td>NaN</td>\n",
       "      <td>NaN</td>\n",
       "    </tr>\n",
       "    <tr>\n",
       "      <th>6375</th>\n",
       "      <td>Unalaska, AK</td>\n",
       "      <td>2018-06-10</td>\n",
       "      <td>Clear</td>\n",
       "      <td>NaN</td>\n",
       "      <td>NaN</td>\n",
       "    </tr>\n",
       "  </tbody>\n",
       "</table>\n",
       "<p>100 rows × 5 columns</p>\n",
       "</div>"
      ],
      "text/plain": [
       "              origin_city_name     fl_date                 weather  dep_delay  \\\n",
       "216                   Hays, KS  2018-06-24  Rain, Partially cloudy      569.0   \n",
       "40               Pocatello, ID  2018-02-23        Partially cloudy      232.0   \n",
       "1123              Brainerd, MN  2019-01-26        Partially cloudy      121.0   \n",
       "7556   North Bend/Coos Bay, OR  2018-08-21                   Clear      120.0   \n",
       "2936            Santa Rosa, CA  2018-12-01  Rain, Partially cloudy      114.0   \n",
       "...                        ...         ...                     ...        ...   \n",
       "24303               Kodiak, AK  2019-02-17  Rain, Partially cloudy      -27.0   \n",
       "10986              Kapalua, HI  2019-02-02  Rain, Partially cloudy        NaN   \n",
       "836                Burbank, CA  2019-02-17        Partially cloudy        NaN   \n",
       "863     Bloomington/Normal, IL  2018-08-13                   Clear        NaN   \n",
       "6375              Unalaska, AK  2018-06-10                   Clear        NaN   \n",
       "\n",
       "       arr_delay  \n",
       "216        572.0  \n",
       "40         224.0  \n",
       "1123       113.0  \n",
       "7556       129.0  \n",
       "2936       120.0  \n",
       "...          ...  \n",
       "24303      -29.0  \n",
       "10986        NaN  \n",
       "836          NaN  \n",
       "863          NaN  \n",
       "6375         NaN  \n",
       "\n",
       "[100 rows x 5 columns]"
      ]
     },
     "execution_count": 49,
     "metadata": {},
     "output_type": "execute_result"
    }
   ],
   "source": [
    "weather_sampledf.sort_values('dep_delay',ascending=False)"
   ]
  },
  {
   "cell_type": "code",
   "execution_count": 50,
   "metadata": {},
   "outputs": [
    {
     "data": {
      "text/plain": [
       "<AxesSubplot:xlabel='weather', ylabel='arr_delay'>"
      ]
     },
     "execution_count": 50,
     "metadata": {},
     "output_type": "execute_result"
    },
    {
     "data": {
      "image/png": "[encoded data removed]",
      "text/plain": [
       "<Figure size 1080x432 with 1 Axes>"
      ]
     },
     "metadata": {
      "needs_background": "light"
     },
     "output_type": "display_data"
    }
   ],
   "source": [
    "weather_arr_delay = weather_sampledf.groupby('weather',as_index=False)['arr_delay'].count()\n",
    "sns.barplot(x='weather',y='arr_delay',data=weather_arr_delay)"
   ]
  },
  {
   "cell_type": "code",
   "execution_count": 51,
   "metadata": {},
   "outputs": [
    {
     "data": {
      "text/plain": [
       "<AxesSubplot:xlabel='weather', ylabel='dep_delay'>"
      ]
     },
     "execution_count": 51,
     "metadata": {},
     "output_type": "execute_result"
    },
    {
     "data": {
      "image/png": "[encoded data removed]",
      "text/plain": [
       "<Figure size 1080x432 with 1 Axes>"
      ]
     },
     "metadata": {
      "needs_background": "light"
     },
     "output_type": "display_data"
    }
   ],
   "source": [
    "weather_dep_delay = weather_sampledf.groupby('weather',as_index=False)['dep_delay'].count()\n",
    "sns.barplot(x='weather',y='dep_delay',data=weather_dep_delay)"
   ]
  },
  {
   "cell_type": "code",
   "execution_count": null,
   "metadata": {},
   "outputs": [],
   "source": [
    "#doesnt seem like weather is a significant indicator of delays because there are higher delays when the weather is good"
   ]
  },
  {
   "cell_type": "markdown",
   "metadata": {},
   "source": [
    "#### **Task 4**: How taxi times changing during the day? Does higher traffic lead to bigger taxi times?"
   ]
  },
  {
   "cell_type": "code",
   "execution_count": 67,
   "metadata": {},
   "outputs": [],
   "source": [
    "#create arrival and dept time hour columns\n",
    "df_flights['arr_hour'] = df_flights['arr_time'].astype(str).str[:-4]\n",
    "df_flights['dep_hour'] = df_flights['dep_time'].astype(str).str[:-4]\n",
    "df_flights = df_flights.dropna(axis=0, how='any', subset=['arr_time','dep_time'])"
   ]
  },
  {
   "cell_type": "code",
   "execution_count": 68,
   "metadata": {},
   "outputs": [],
   "source": [
    "\n",
    "\n",
    "# group by arrival hour, aggregated by mean of taxi in time and count of flights\n",
    "df_arr = df_flights[['arr_hour', 'taxi_in','flights']].groupby(['arr_hour']).agg({'taxi_in':'mean', 'flights':'count'})\n",
    "df_arr = df_arr.drop(index='')\n",
    "\n",
    "# group by departure hour, aggregated by mean of taxi out time and count of flights\n",
    "df_dep = df_flights[['dep_hour', 'taxi_out','flights']].groupby(['dep_hour']).agg({'taxi_out':'mean', 'flights':'count'})\n",
    "df_dep = df_dep.drop(index='')"
   ]
  },
  {
   "cell_type": "code",
   "execution_count": 69,
   "metadata": {},
   "outputs": [],
   "source": [
    "df_arr = df_arr.reset_index()\n",
    "df_dep = df_dep.reset_index()"
   ]
  },
  {
   "cell_type": "code",
   "execution_count": 70,
   "metadata": {},
   "outputs": [
    {
     "data": {
      "application/vnd.plotly.v1+json": {
       "config": {
        "plotlyServerURL": "https://plot.ly"
       },
       "data": [
        {
         "marker": {
          "color": "#ff794d"
         },
         "name": "Inbound",
         "type": "bar",
         "x": [
          "1",
          "10",
          "11",
          "12",
          "13",
          "14",
          "15",
          "16",
          "17",
          "18",
          "19",
          "2",
          "20",
          "21",
          "22",
          "23",
          "24",
          "3",
          "4",
          "5",
          "6",
          "7",
          "8",
          "9"
         ],
         "y": [
          7.071308442650522,
          7.916980491942324,
          7.289127673452573,
          7.223680446288085,
          7.264036945727282,
          7.394391880268364,
          7.379667164497547,
          7.202594214437367,
          7.7200523524144105,
          7.955098444542343,
          8.472354086267545,
          7.157169117647059,
          8.382022876052083,
          7.934645999162128,
          7.369392802319632,
          6.876994994805931,
          7.218487394957983,
          7.067331670822942,
          6.446957878315133,
          7.081003170942635,
          7.835875013330489,
          7.793654219728038,
          8.472532435539497,
          8.138898781964528
         ]
        },
        {
         "marker": {
          "color": "#4d4dff"
         },
         "name": "Outbound",
         "type": "bar",
         "x": [
          "1",
          "10",
          "11",
          "12",
          "13",
          "14",
          "15",
          "16",
          "17",
          "18",
          "19",
          "2",
          "20",
          "21",
          "22",
          "23",
          "24",
          "3",
          "4",
          "5",
          "6",
          "7",
          "8",
          "9"
         ],
         "y": [
          14.646910466582598,
          17.72793813009253,
          17.233045786330457,
          16.811773304099397,
          16.663144424131627,
          16.886571790897563,
          17.52907926995369,
          17.3671451013996,
          17.75131617671103,
          18.504275961192956,
          17.66023637056805,
          12.48936170212766,
          18.173202476728022,
          17.576072366501315,
          17.135799798067215,
          16.51150202976996,
          15.205128205128204,
          12.398692810457517,
          14.900452488687783,
          16.062854514793806,
          16.737048991722858,
          17.839180305876038,
          19.488374384236455,
          18.432448543076546
         ]
        }
       ],
       "layout": {
        "autosize": true,
        "template": {
         "data": {
          "bar": [
           {
            "error_x": {
             "color": "#2a3f5f"
            },
            "error_y": {
             "color": "#2a3f5f"
            },
            "marker": {
             "line": {
              "color": "#E5ECF6",
              "width": 0.5
             },
             "pattern": {
              "fillmode": "overlay",
              "size": 10,
              "solidity": 0.2
             }
            },
            "type": "bar"
           }
          ],
          "barpolar": [
           {
            "marker": {
             "line": {
              "color": "#E5ECF6",
              "width": 0.5
             },
             "pattern": {
              "fillmode": "overlay",
              "size": 10,
              "solidity": 0.2
             }
            },
            "type": "barpolar"
           }
          ],
          "carpet": [
           {
            "aaxis": {
             "endlinecolor": "#2a3f5f",
             "gridcolor": "white",
             "linecolor": "white",
             "minorgridcolor": "white",
             "startlinecolor": "#2a3f5f"
            },
            "baxis": {
             "endlinecolor": "#2a3f5f",
             "gridcolor": "white",
             "linecolor": "white",
             "minorgridcolor": "white",
             "startlinecolor": "#2a3f5f"
            },
            "type": "carpet"
           }
          ],
          "choropleth": [
           {
            "colorbar": {
             "outlinewidth": 0,
             "ticks": ""
            },
            "type": "choropleth"
           }
          ],
          "contour": [
           {
            "colorbar": {
             "outlinewidth": 0,
             "ticks": ""
            },
            "colorscale": [
             [
              0,
              "#0d0887"
             ],
             [
              0.1111111111111111,
              "#46039f"
             ],
             [
              0.2222222222222222,
              "#7201a8"
             ],
             [
              0.3333333333333333,
              "#9c179e"
             ],
             [
              0.4444444444444444,
              "#bd3786"
             ],
             [
              0.5555555555555556,
              "#d8576b"
             ],
             [
              0.6666666666666666,
              "#ed7953"
             ],
             [
              0.7777777777777778,
              "#fb9f3a"
             ],
             [
              0.8888888888888888,
              "#fdca26"
             ],
             [
              1,
              "#f0f921"
             ]
            ],
            "type": "contour"
           }
          ],
          "contourcarpet": [
           {
            "colorbar": {
             "outlinewidth": 0,
             "ticks": ""
            },
            "type": "contourcarpet"
           }
          ],
          "heatmap": [
           {
            "colorbar": {
             "outlinewidth": 0,
             "ticks": ""
            },
            "colorscale": [
             [
              0,
              "#0d0887"
             ],
             [
              0.1111111111111111,
              "#46039f"
             ],
             [
              0.2222222222222222,
              "#7201a8"
             ],
             [
              0.3333333333333333,
              "#9c179e"
             ],
             [
              0.4444444444444444,
              "#bd3786"
             ],
             [
              0.5555555555555556,
              "#d8576b"
             ],
             [
              0.6666666666666666,
              "#ed7953"
             ],
             [
              0.7777777777777778,
              "#fb9f3a"
             ],
             [
              0.8888888888888888,
              "#fdca26"
             ],
             [
              1,
              "#f0f921"
             ]
            ],
            "type": "heatmap"
           }
          ],
          "heatmapgl": [
           {
            "colorbar": {
             "outlinewidth": 0,
             "ticks": ""
            },
            "colorscale": [
             [
              0,
              "#0d0887"
             ],
             [
              0.1111111111111111,
              "#46039f"
             ],
             [
              0.2222222222222222,
              "#7201a8"
             ],
             [
              0.3333333333333333,
              "#9c179e"
             ],
             [
              0.4444444444444444,
              "#bd3786"
             ],
             [
              0.5555555555555556,
              "#d8576b"
             ],
             [
              0.6666666666666666,
              "#ed7953"
             ],
             [
              0.7777777777777778,
              "#fb9f3a"
             ],
             [
              0.8888888888888888,
              "#fdca26"
             ],
             [
              1,
              "#f0f921"
             ]
            ],
            "type": "heatmapgl"
           }
          ],
          "histogram": [
           {
            "marker": {
             "pattern": {
              "fillmode": "overlay",
              "size": 10,
              "solidity": 0.2
             }
            },
            "type": "histogram"
           }
          ],
          "histogram2d": [
           {
            "colorbar": {
             "outlinewidth": 0,
             "ticks": ""
            },
            "colorscale": [
             [
              0,
              "#0d0887"
             ],
             [
              0.1111111111111111,
              "#46039f"
             ],
             [
              0.2222222222222222,
              "#7201a8"
             ],
             [
              0.3333333333333333,
              "#9c179e"
             ],
             [
              0.4444444444444444,
              "#bd3786"
             ],
             [
              0.5555555555555556,
              "#d8576b"
             ],
             [
              0.6666666666666666,
              "#ed7953"
             ],
             [
              0.7777777777777778,
              "#fb9f3a"
             ],
             [
              0.8888888888888888,
              "#fdca26"
             ],
             [
              1,
              "#f0f921"
             ]
            ],
            "type": "histogram2d"
           }
          ],
          "histogram2dcontour": [
           {
            "colorbar": {
             "outlinewidth": 0,
             "ticks": ""
            },
            "colorscale": [
             [
              0,
              "#0d0887"
             ],
             [
              0.1111111111111111,
              "#46039f"
             ],
             [
              0.2222222222222222,
              "#7201a8"
             ],
             [
              0.3333333333333333,
              "#9c179e"
             ],
             [
              0.4444444444444444,
              "#bd3786"
             ],
             [
              0.5555555555555556,
              "#d8576b"
             ],
             [
              0.6666666666666666,
              "#ed7953"
             ],
             [
              0.7777777777777778,
              "#fb9f3a"
             ],
             [
              0.8888888888888888,
              "#fdca26"
             ],
             [
              1,
              "#f0f921"
             ]
            ],
            "type": "histogram2dcontour"
           }
          ],
          "mesh3d": [
           {
            "colorbar": {
             "outlinewidth": 0,
             "ticks": ""
            },
            "type": "mesh3d"
           }
          ],
          "parcoords": [
           {
            "line": {
             "colorbar": {
              "outlinewidth": 0,
              "ticks": ""
             }
            },
            "type": "parcoords"
           }
          ],
          "pie": [
           {
            "automargin": true,
            "type": "pie"
           }
          ],
          "scatter": [
           {
            "fillpattern": {
             "fillmode": "overlay",
             "size": 10,
             "solidity": 0.2
            },
            "type": "scatter"
           }
          ],
          "scatter3d": [
           {
            "line": {
             "colorbar": {
              "outlinewidth": 0,
              "ticks": ""
             }
            },
            "marker": {
             "colorbar": {
              "outlinewidth": 0,
              "ticks": ""
             }
            },
            "type": "scatter3d"
           }
          ],
          "scattercarpet": [
           {
            "marker": {
             "colorbar": {
              "outlinewidth": 0,
              "ticks": ""
             }
            },
            "type": "scattercarpet"
           }
          ],
          "scattergeo": [
           {
            "marker": {
             "colorbar": {
              "outlinewidth": 0,
              "ticks": ""
             }
            },
            "type": "scattergeo"
           }
          ],
          "scattergl": [
           {
            "marker": {
             "colorbar": {
              "outlinewidth": 0,
              "ticks": ""
             }
            },
            "type": "scattergl"
           }
          ],
          "scattermapbox": [
           {
            "marker": {
             "colorbar": {
              "outlinewidth": 0,
              "ticks": ""
             }
            },
            "type": "scattermapbox"
           }
          ],
          "scatterpolar": [
           {
            "marker": {
             "colorbar": {
              "outlinewidth": 0,
              "ticks": ""
             }
            },
            "type": "scatterpolar"
           }
          ],
          "scatterpolargl": [
           {
            "marker": {
             "colorbar": {
              "outlinewidth": 0,
              "ticks": ""
             }
            },
            "type": "scatterpolargl"
           }
          ],
          "scatterternary": [
           {
            "marker": {
             "colorbar": {
              "outlinewidth": 0,
              "ticks": ""
             }
            },
            "type": "scatterternary"
           }
          ],
          "surface": [
           {
            "colorbar": {
             "outlinewidth": 0,
             "ticks": ""
            },
            "colorscale": [
             [
              0,
              "#0d0887"
             ],
             [
              0.1111111111111111,
              "#46039f"
             ],
             [
              0.2222222222222222,
              "#7201a8"
             ],
             [
              0.3333333333333333,
              "#9c179e"
             ],
             [
              0.4444444444444444,
              "#bd3786"
             ],
             [
              0.5555555555555556,
              "#d8576b"
             ],
             [
              0.6666666666666666,
              "#ed7953"
             ],
             [
              0.7777777777777778,
              "#fb9f3a"
             ],
             [
              0.8888888888888888,
              "#fdca26"
             ],
             [
              1,
              "#f0f921"
             ]
            ],
            "type": "surface"
           }
          ],
          "table": [
           {
            "cells": {
             "fill": {
              "color": "#EBF0F8"
             },
             "line": {
              "color": "white"
             }
            },
            "header": {
             "fill": {
              "color": "#C8D4E3"
             },
             "line": {
              "color": "white"
             }
            },
            "type": "table"
           }
          ]
         },
         "layout": {
          "annotationdefaults": {
           "arrowcolor": "#2a3f5f",
           "arrowhead": 0,
           "arrowwidth": 1
          },
          "autotypenumbers": "strict",
          "coloraxis": {
           "colorbar": {
            "outlinewidth": 0,
            "ticks": ""
           }
          },
          "colorscale": {
           "diverging": [
            [
             0,
             "#8e0152"
            ],
            [
             0.1,
             "#c51b7d"
            ],
            [
             0.2,
             "#de77ae"
            ],
            [
             0.3,
             "#f1b6da"
            ],
            [
             0.4,
             "#fde0ef"
            ],
            [
             0.5,
             "#f7f7f7"
            ],
            [
             0.6,
             "#e6f5d0"
            ],
            [
             0.7,
             "#b8e186"
            ],
            [
             0.8,
             "#7fbc41"
            ],
            [
             0.9,
             "#4d9221"
            ],
            [
             1,
             "#276419"
            ]
           ],
           "sequential": [
            [
             0,
             "#0d0887"
            ],
            [
             0.1111111111111111,
             "#46039f"
            ],
            [
             0.2222222222222222,
             "#7201a8"
            ],
            [
             0.3333333333333333,
             "#9c179e"
            ],
            [
             0.4444444444444444,
             "#bd3786"
            ],
            [
             0.5555555555555556,
             "#d8576b"
            ],
            [
             0.6666666666666666,
             "#ed7953"
            ],
            [
             0.7777777777777778,
             "#fb9f3a"
            ],
            [
             0.8888888888888888,
             "#fdca26"
            ],
            [
             1,
             "#f0f921"
            ]
           ],
           "sequentialminus": [
            [
             0,
             "#0d0887"
            ],
            [
             0.1111111111111111,
             "#46039f"
            ],
            [
             0.2222222222222222,
             "#7201a8"
            ],
            [
             0.3333333333333333,
             "#9c179e"
            ],
            [
             0.4444444444444444,
             "#bd3786"
            ],
            [
             0.5555555555555556,
             "#d8576b"
            ],
            [
             0.6666666666666666,
             "#ed7953"
            ],
            [
             0.7777777777777778,
             "#fb9f3a"
            ],
            [
             0.8888888888888888,
             "#fdca26"
            ],
            [
             1,
             "#f0f921"
            ]
           ]
          },
          "colorway": [
           "#636efa",
           "#EF553B",
           "#00cc96",
           "#ab63fa",
           "#FFA15A",
           "#19d3f3",
           "#FF6692",
           "#B6E880",
           "#FF97FF",
           "#FECB52"
          ],
          "font": {
           "color": "#2a3f5f"
          },
          "geo": {
           "bgcolor": "white",
           "lakecolor": "white",
           "landcolor": "#E5ECF6",
           "showlakes": true,
           "showland": true,
           "subunitcolor": "white"
          },
          "hoverlabel": {
           "align": "left"
          },
          "hovermode": "closest",
          "mapbox": {
           "style": "light"
          },
          "paper_bgcolor": "white",
          "plot_bgcolor": "#E5ECF6",
          "polar": {
           "angularaxis": {
            "gridcolor": "white",
            "linecolor": "white",
            "ticks": ""
           },
           "bgcolor": "#E5ECF6",
           "radialaxis": {
            "gridcolor": "white",
            "linecolor": "white",
            "ticks": ""
           }
          },
          "scene": {
           "xaxis": {
            "backgroundcolor": "#E5ECF6",
            "gridcolor": "white",
            "gridwidth": 2,
            "linecolor": "white",
            "showbackground": true,
            "ticks": "",
            "zerolinecolor": "white"
           },
           "yaxis": {
            "backgroundcolor": "#E5ECF6",
            "gridcolor": "white",
            "gridwidth": 2,
            "linecolor": "white",
            "showbackground": true,
            "ticks": "",
            "zerolinecolor": "white"
           },
           "zaxis": {
            "backgroundcolor": "#E5ECF6",
            "gridcolor": "white",
            "gridwidth": 2,
            "linecolor": "white",
            "showbackground": true,
            "ticks": "",
            "zerolinecolor": "white"
           }
          },
          "shapedefaults": {
           "line": {
            "color": "#2a3f5f"
           }
          },
          "ternary": {
           "aaxis": {
            "gridcolor": "white",
            "linecolor": "white",
            "ticks": ""
           },
           "baxis": {
            "gridcolor": "white",
            "linecolor": "white",
            "ticks": ""
           },
           "bgcolor": "#E5ECF6",
           "caxis": {
            "gridcolor": "white",
            "linecolor": "white",
            "ticks": ""
           }
          },
          "title": {
           "x": 0.05
          },
          "xaxis": {
           "automargin": true,
           "gridcolor": "white",
           "linecolor": "white",
           "ticks": "",
           "title": {
            "standoff": 15
           },
           "zerolinecolor": "white",
           "zerolinewidth": 2
          },
          "yaxis": {
           "automargin": true,
           "gridcolor": "white",
           "linecolor": "white",
           "ticks": "",
           "title": {
            "standoff": 15
           },
           "zerolinecolor": "white",
           "zerolinewidth": 2
          }
         }
        },
        "title": {
         "text": "Taxi Time by Hour"
        },
        "xaxis": {
         "autorange": true,
         "range": [
          -0.5,
          23.5
         ],
         "tickmode": "linear",
         "title": {
          "text": "Hour"
         },
         "type": "category"
        },
        "yaxis": {
         "autorange": true,
         "range": [
          0,
          20.514078299196267
         ],
         "title": {
          "text": "Taxi Time"
         },
         "type": "linear"
        }
       }
      },
      "image/png": "[encoded data removed]",
      "text/html": [
       "<div>                            <div id=\"05c99880-f264-402b-8c85-43751941f124\" class=\"plotly-graph-div\" style=\"height:525px; width:100%;\"></div>            <script type=\"text/javascript\">                require([\"plotly\"], function(Plotly) {                    window.PLOTLYENV=window.PLOTLYENV || {};                                    if (document.getElementById(\"05c99880-f264-402b-8c85-43751941f124\")) {                    Plotly.newPlot(                        \"05c99880-f264-402b-8c85-43751941f124\",                        [{\"marker\":{\"color\":\"#ff794d\"},\"name\":\"Inbound\",\"x\":[\"1\",\"10\",\"11\",\"12\",\"13\",\"14\",\"15\",\"16\",\"17\",\"18\",\"19\",\"2\",\"20\",\"21\",\"22\",\"23\",\"24\",\"3\",\"4\",\"5\",\"6\",\"7\",\"8\",\"9\"],\"y\":[7.071308442650522,7.916980491942324,7.289127673452573,7.223680446288085,7.264036945727282,7.394391880268364,7.379667164497547,7.202594214437367,7.7200523524144105,7.955098444542343,8.472354086267545,7.157169117647059,8.382022876052083,7.934645999162128,7.369392802319632,6.876994994805931,7.218487394957983,7.067331670822942,6.446957878315133,7.081003170942635,7.835875013330489,7.793654219728038,8.472532435539497,8.138898781964528],\"type\":\"bar\"},{\"marker\":{\"color\":\"#4d4dff\"},\"name\":\"Outbound\",\"x\":[\"1\",\"10\",\"11\",\"12\",\"13\",\"14\",\"15\",\"16\",\"17\",\"18\",\"19\",\"2\",\"20\",\"21\",\"22\",\"23\",\"24\",\"3\",\"4\",\"5\",\"6\",\"7\",\"8\",\"9\"],\"y\":[14.646910466582598,17.72793813009253,17.233045786330457,16.811773304099397,16.663144424131627,16.886571790897563,17.52907926995369,17.3671451013996,17.75131617671103,18.504275961192956,17.66023637056805,12.48936170212766,18.173202476728022,17.576072366501315,17.135799798067215,16.51150202976996,15.205128205128204,12.398692810457517,14.900452488687783,16.062854514793806,16.737048991722858,17.839180305876038,19.488374384236455,18.432448543076546],\"type\":\"bar\"}],                        {\"title\":{\"text\":\"Taxi Time by Hour\"},\"xaxis\":{\"tickmode\":\"linear\",\"title\":{\"text\":\"Hour\"}},\"yaxis\":{\"title\":{\"text\":\"Taxi Time\"}},\"template\":{\"data\":{\"histogram2dcontour\":[{\"type\":\"histogram2dcontour\",\"colorbar\":{\"outlinewidth\":0,\"ticks\":\"\"},\"colorscale\":[[0.0,\"#0d0887\"],[0.1111111111111111,\"#46039f\"],[0.2222222222222222,\"#7201a8\"],[0.3333333333333333,\"#9c179e\"],[0.4444444444444444,\"#bd3786\"],[0.5555555555555556,\"#d8576b\"],[0.6666666666666666,\"#ed7953\"],[0.7777777777777778,\"#fb9f3a\"],[0.8888888888888888,\"#fdca26\"],[1.0,\"#f0f921\"]]}],\"choropleth\":[{\"type\":\"choropleth\",\"colorbar\":{\"outlinewidth\":0,\"ticks\":\"\"}}],\"histogram2d\":[{\"type\":\"histogram2d\",\"colorbar\":{\"outlinewidth\":0,\"ticks\":\"\"},\"colorscale\":[[0.0,\"#0d0887\"],[0.1111111111111111,\"#46039f\"],[0.2222222222222222,\"#7201a8\"],[0.3333333333333333,\"#9c179e\"],[0.4444444444444444,\"#bd3786\"],[0.5555555555555556,\"#d8576b\"],[0.6666666666666666,\"#ed7953\"],[0.7777777777777778,\"#fb9f3a\"],[0.8888888888888888,\"#fdca26\"],[1.0,\"#f0f921\"]]}],\"heatmap\":[{\"type\":\"heatmap\",\"colorbar\":{\"outlinewidth\":0,\"ticks\":\"\"},\"colorscale\":[[0.0,\"#0d0887\"],[0.1111111111111111,\"#46039f\"],[0.2222222222222222,\"#7201a8\"],[0.3333333333333333,\"#9c179e\"],[0.4444444444444444,\"#bd3786\"],[0.5555555555555556,\"#d8576b\"],[0.6666666666666666,\"#ed7953\"],[0.7777777777777778,\"#fb9f3a\"],[0.8888888888888888,\"#fdca26\"],[1.0,\"#f0f921\"]]}],\"heatmapgl\":[{\"type\":\"heatmapgl\",\"colorbar\":{\"outlinewidth\":0,\"ticks\":\"\"},\"colorscale\":[[0.0,\"#0d0887\"],[0.1111111111111111,\"#46039f\"],[0.2222222222222222,\"#7201a8\"],[0.3333333333333333,\"#9c179e\"],[0.4444444444444444,\"#bd3786\"],[0.5555555555555556,\"#d8576b\"],[0.6666666666666666,\"#ed7953\"],[0.7777777777777778,\"#fb9f3a\"],[0.8888888888888888,\"#fdca26\"],[1.0,\"#f0f921\"]]}],\"contourcarpet\":[{\"type\":\"contourcarpet\",\"colorbar\":{\"outlinewidth\":0,\"ticks\":\"\"}}],\"contour\":[{\"type\":\"contour\",\"colorbar\":{\"outlinewidth\":0,\"ticks\":\"\"},\"colorscale\":[[0.0,\"#0d0887\"],[0.1111111111111111,\"#46039f\"],[0.2222222222222222,\"#7201a8\"],[0.3333333333333333,\"#9c179e\"],[0.4444444444444444,\"#bd3786\"],[0.5555555555555556,\"#d8576b\"],[0.6666666666666666,\"#ed7953\"],[0.7777777777777778,\"#fb9f3a\"],[0.8888888888888888,\"#fdca26\"],[1.0,\"#f0f921\"]]}],\"surface\":[{\"type\":\"surface\",\"colorbar\":{\"outlinewidth\":0,\"ticks\":\"\"},\"colorscale\":[[0.0,\"#0d0887\"],[0.1111111111111111,\"#46039f\"],[0.2222222222222222,\"#7201a8\"],[0.3333333333333333,\"#9c179e\"],[0.4444444444444444,\"#bd3786\"],[0.5555555555555556,\"#d8576b\"],[0.6666666666666666,\"#ed7953\"],[0.7777777777777778,\"#fb9f3a\"],[0.8888888888888888,\"#fdca26\"],[1.0,\"#f0f921\"]]}],\"mesh3d\":[{\"type\":\"mesh3d\",\"colorbar\":{\"outlinewidth\":0,\"ticks\":\"\"}}],\"scatter\":[{\"fillpattern\":{\"fillmode\":\"overlay\",\"size\":10,\"solidity\":0.2},\"type\":\"scatter\"}],\"parcoords\":[{\"type\":\"parcoords\",\"line\":{\"colorbar\":{\"outlinewidth\":0,\"ticks\":\"\"}}}],\"scatterpolargl\":[{\"type\":\"scatterpolargl\",\"marker\":{\"colorbar\":{\"outlinewidth\":0,\"ticks\":\"\"}}}],\"bar\":[{\"error_x\":{\"color\":\"#2a3f5f\"},\"error_y\":{\"color\":\"#2a3f5f\"},\"marker\":{\"line\":{\"color\":\"#E5ECF6\",\"width\":0.5},\"pattern\":{\"fillmode\":\"overlay\",\"size\":10,\"solidity\":0.2}},\"type\":\"bar\"}],\"scattergeo\":[{\"type\":\"scattergeo\",\"marker\":{\"colorbar\":{\"outlinewidth\":0,\"ticks\":\"\"}}}],\"scatterpolar\":[{\"type\":\"scatterpolar\",\"marker\":{\"colorbar\":{\"outlinewidth\":0,\"ticks\":\"\"}}}],\"histogram\":[{\"marker\":{\"pattern\":{\"fillmode\":\"overlay\",\"size\":10,\"solidity\":0.2}},\"type\":\"histogram\"}],\"scattergl\":[{\"type\":\"scattergl\",\"marker\":{\"colorbar\":{\"outlinewidth\":0,\"ticks\":\"\"}}}],\"scatter3d\":[{\"type\":\"scatter3d\",\"line\":{\"colorbar\":{\"outlinewidth\":0,\"ticks\":\"\"}},\"marker\":{\"colorbar\":{\"outlinewidth\":0,\"ticks\":\"\"}}}],\"scattermapbox\":[{\"type\":\"scattermapbox\",\"marker\":{\"colorbar\":{\"outlinewidth\":0,\"ticks\":\"\"}}}],\"scatterternary\":[{\"type\":\"scatterternary\",\"marker\":{\"colorbar\":{\"outlinewidth\":0,\"ticks\":\"\"}}}],\"scattercarpet\":[{\"type\":\"scattercarpet\",\"marker\":{\"colorbar\":{\"outlinewidth\":0,\"ticks\":\"\"}}}],\"carpet\":[{\"aaxis\":{\"endlinecolor\":\"#2a3f5f\",\"gridcolor\":\"white\",\"linecolor\":\"white\",\"minorgridcolor\":\"white\",\"startlinecolor\":\"#2a3f5f\"},\"baxis\":{\"endlinecolor\":\"#2a3f5f\",\"gridcolor\":\"white\",\"linecolor\":\"white\",\"minorgridcolor\":\"white\",\"startlinecolor\":\"#2a3f5f\"},\"type\":\"carpet\"}],\"table\":[{\"cells\":{\"fill\":{\"color\":\"#EBF0F8\"},\"line\":{\"color\":\"white\"}},\"header\":{\"fill\":{\"color\":\"#C8D4E3\"},\"line\":{\"color\":\"white\"}},\"type\":\"table\"}],\"barpolar\":[{\"marker\":{\"line\":{\"color\":\"#E5ECF6\",\"width\":0.5},\"pattern\":{\"fillmode\":\"overlay\",\"size\":10,\"solidity\":0.2}},\"type\":\"barpolar\"}],\"pie\":[{\"automargin\":true,\"type\":\"pie\"}]},\"layout\":{\"autotypenumbers\":\"strict\",\"colorway\":[\"#636efa\",\"#EF553B\",\"#00cc96\",\"#ab63fa\",\"#FFA15A\",\"#19d3f3\",\"#FF6692\",\"#B6E880\",\"#FF97FF\",\"#FECB52\"],\"font\":{\"color\":\"#2a3f5f\"},\"hovermode\":\"closest\",\"hoverlabel\":{\"align\":\"left\"},\"paper_bgcolor\":\"white\",\"plot_bgcolor\":\"#E5ECF6\",\"polar\":{\"bgcolor\":\"#E5ECF6\",\"angularaxis\":{\"gridcolor\":\"white\",\"linecolor\":\"white\",\"ticks\":\"\"},\"radialaxis\":{\"gridcolor\":\"white\",\"linecolor\":\"white\",\"ticks\":\"\"}},\"ternary\":{\"bgcolor\":\"#E5ECF6\",\"aaxis\":{\"gridcolor\":\"white\",\"linecolor\":\"white\",\"ticks\":\"\"},\"baxis\":{\"gridcolor\":\"white\",\"linecolor\":\"white\",\"ticks\":\"\"},\"caxis\":{\"gridcolor\":\"white\",\"linecolor\":\"white\",\"ticks\":\"\"}},\"coloraxis\":{\"colorbar\":{\"outlinewidth\":0,\"ticks\":\"\"}},\"colorscale\":{\"sequential\":[[0.0,\"#0d0887\"],[0.1111111111111111,\"#46039f\"],[0.2222222222222222,\"#7201a8\"],[0.3333333333333333,\"#9c179e\"],[0.4444444444444444,\"#bd3786\"],[0.5555555555555556,\"#d8576b\"],[0.6666666666666666,\"#ed7953\"],[0.7777777777777778,\"#fb9f3a\"],[0.8888888888888888,\"#fdca26\"],[1.0,\"#f0f921\"]],\"sequentialminus\":[[0.0,\"#0d0887\"],[0.1111111111111111,\"#46039f\"],[0.2222222222222222,\"#7201a8\"],[0.3333333333333333,\"#9c179e\"],[0.4444444444444444,\"#bd3786\"],[0.5555555555555556,\"#d8576b\"],[0.6666666666666666,\"#ed7953\"],[0.7777777777777778,\"#fb9f3a\"],[0.8888888888888888,\"#fdca26\"],[1.0,\"#f0f921\"]],\"diverging\":[[0,\"#8e0152\"],[0.1,\"#c51b7d\"],[0.2,\"#de77ae\"],[0.3,\"#f1b6da\"],[0.4,\"#fde0ef\"],[0.5,\"#f7f7f7\"],[0.6,\"#e6f5d0\"],[0.7,\"#b8e186\"],[0.8,\"#7fbc41\"],[0.9,\"#4d9221\"],[1,\"#276419\"]]},\"xaxis\":{\"gridcolor\":\"white\",\"linecolor\":\"white\",\"ticks\":\"\",\"title\":{\"standoff\":15},\"zerolinecolor\":\"white\",\"automargin\":true,\"zerolinewidth\":2},\"yaxis\":{\"gridcolor\":\"white\",\"linecolor\":\"white\",\"ticks\":\"\",\"title\":{\"standoff\":15},\"zerolinecolor\":\"white\",\"automargin\":true,\"zerolinewidth\":2},\"scene\":{\"xaxis\":{\"backgroundcolor\":\"#E5ECF6\",\"gridcolor\":\"white\",\"linecolor\":\"white\",\"showbackground\":true,\"ticks\":\"\",\"zerolinecolor\":\"white\",\"gridwidth\":2},\"yaxis\":{\"backgroundcolor\":\"#E5ECF6\",\"gridcolor\":\"white\",\"linecolor\":\"white\",\"showbackground\":true,\"ticks\":\"\",\"zerolinecolor\":\"white\",\"gridwidth\":2},\"zaxis\":{\"backgroundcolor\":\"#E5ECF6\",\"gridcolor\":\"white\",\"linecolor\":\"white\",\"showbackground\":true,\"ticks\":\"\",\"zerolinecolor\":\"white\",\"gridwidth\":2}},\"shapedefaults\":{\"line\":{\"color\":\"#2a3f5f\"}},\"annotationdefaults\":{\"arrowcolor\":\"#2a3f5f\",\"arrowhead\":0,\"arrowwidth\":1},\"geo\":{\"bgcolor\":\"white\",\"landcolor\":\"#E5ECF6\",\"subunitcolor\":\"white\",\"showland\":true,\"showlakes\":true,\"lakecolor\":\"white\"},\"title\":{\"x\":0.05},\"mapbox\":{\"style\":\"light\"}}}},                        {\"responsive\": true}                    ).then(function(){\n",
       "                            \n",
       "var gd = document.getElementById('05c99880-f264-402b-8c85-43751941f124');\n",
       "var x = new MutationObserver(function (mutations, observer) {{\n",
       "        var display = window.getComputedStyle(gd).display;\n",
       "        if (!display || display === 'none') {{\n",
       "            console.log([gd, 'removed!']);\n",
       "            Plotly.purge(gd);\n",
       "            observer.disconnect();\n",
       "        }}\n",
       "}});\n",
       "\n",
       "// Listen for the removal of the full notebook cells\n",
       "var notebookContainer = gd.closest('#notebook-container');\n",
       "if (notebookContainer) {{\n",
       "    x.observe(notebookContainer, {childList: true});\n",
       "}}\n",
       "\n",
       "// Listen for the clearing of the current output cell\n",
       "var outputEl = gd.closest('.output');\n",
       "if (outputEl) {{\n",
       "    x.observe(outputEl, {childList: true});\n",
       "}}\n",
       "\n",
       "                        })                };                });            </script>        </div>"
      ]
     },
     "metadata": {},
     "output_type": "display_data"
    }
   ],
   "source": [
    "# trace1 - Departure delays\n",
    "trace1 = go.Bar(\n",
    "    x=df_arr['arr_hour'],\n",
    "    y=df_arr['taxi_in'],\n",
    "    name = 'Inbound',\n",
    "    marker=dict(color='#ff794d')\n",
    ")\n",
    "\n",
    "# trace2 - Arrival delays\n",
    "trace2 = go.Bar(\n",
    "    x=df_dep['dep_hour'],\n",
    "    y=df_dep['taxi_out'],\n",
    "    name = 'Outbound',\n",
    "    marker=dict(color='#4d4dff')\n",
    ")\n",
    "\n",
    "# create the data\n",
    "data = [trace1, trace2]\n",
    "\n",
    "# create the layout\n",
    "layout = go.Layout(\n",
    "    title= 'Taxi Time by Hour',\n",
    "    xaxis=dict(\n",
    "        title='Hour',\n",
    "        tickmode='linear'),\n",
    "    yaxis=dict(\n",
    "        title='Taxi Time')\n",
    ")\n",
    "\n",
    "# create the figure\n",
    "fig = go.Figure(data=data, layout=layout)\n",
    "fig.show()"
   ]
  },
  {
   "cell_type": "code",
   "execution_count": null,
   "metadata": {},
   "outputs": [],
   "source": []
  },
  {
   "cell_type": "markdown",
   "metadata": {},
   "source": [
    "#### **Task 5**: What is the average percentage of delays that is already created before departure? (aka are arrival delays caused by departure delays?) Are airlines able to lower the delay during the flights?"
   ]
  },
  {
   "cell_type": "code",
   "execution_count": 65,
   "metadata": {},
   "outputs": [
    {
     "data": {
      "text/html": [
       "<div>\n",
       "<style scoped>\n",
       "    .dataframe tbody tr th:only-of-type {\n",
       "        vertical-align: middle;\n",
       "    }\n",
       "\n",
       "    .dataframe tbody tr th {\n",
       "        vertical-align: top;\n",
       "    }\n",
       "\n",
       "    .dataframe thead th {\n",
       "        text-align: right;\n",
       "    }\n",
       "</style>\n",
       "<table border=\"1\" class=\"dataframe\">\n",
       "  <thead>\n",
       "    <tr style=\"text-align: right;\">\n",
       "      <th></th>\n",
       "      <th>fl_date</th>\n",
       "      <th>mkt_unique_carrier</th>\n",
       "      <th>branded_code_share</th>\n",
       "      <th>mkt_carrier</th>\n",
       "      <th>mkt_carrier_fl_num</th>\n",
       "      <th>op_unique_carrier</th>\n",
       "      <th>tail_num</th>\n",
       "      <th>op_carrier_fl_num</th>\n",
       "      <th>origin_airport_id</th>\n",
       "      <th>origin</th>\n",
       "      <th>...</th>\n",
       "      <th>longest_add_gtime</th>\n",
       "      <th>no_name</th>\n",
       "      <th>datetime</th>\n",
       "      <th>day</th>\n",
       "      <th>month</th>\n",
       "      <th>year</th>\n",
       "      <th>arr_hour</th>\n",
       "      <th>dep_hour</th>\n",
       "      <th>bool_dep_delay</th>\n",
       "      <th>bool_arr_delay</th>\n",
       "    </tr>\n",
       "  </thead>\n",
       "  <tbody>\n",
       "    <tr>\n",
       "      <th>281367</th>\n",
       "      <td>2018-12-07</td>\n",
       "      <td>AA</td>\n",
       "      <td>AA_CODESHARE</td>\n",
       "      <td>AA</td>\n",
       "      <td>3059</td>\n",
       "      <td>OO</td>\n",
       "      <td>N762SK</td>\n",
       "      <td>3059</td>\n",
       "      <td>13930</td>\n",
       "      <td>ORD</td>\n",
       "      <td>...</td>\n",
       "      <td>NaN</td>\n",
       "      <td>NaN</td>\n",
       "      <td>2018-12-07</td>\n",
       "      <td>7</td>\n",
       "      <td>12</td>\n",
       "      <td>2018</td>\n",
       "      <td>19</td>\n",
       "      <td>17</td>\n",
       "      <td>1</td>\n",
       "      <td>1</td>\n",
       "    </tr>\n",
       "    <tr>\n",
       "      <th>267263</th>\n",
       "      <td>2018-05-09</td>\n",
       "      <td>WN</td>\n",
       "      <td>WN</td>\n",
       "      <td>WN</td>\n",
       "      <td>1003</td>\n",
       "      <td>WN</td>\n",
       "      <td>N7706A</td>\n",
       "      <td>1003</td>\n",
       "      <td>11259</td>\n",
       "      <td>DAL</td>\n",
       "      <td>...</td>\n",
       "      <td>NaN</td>\n",
       "      <td>NaN</td>\n",
       "      <td>2018-05-09</td>\n",
       "      <td>9</td>\n",
       "      <td>5</td>\n",
       "      <td>2018</td>\n",
       "      <td>19</td>\n",
       "      <td>17</td>\n",
       "      <td>1</td>\n",
       "      <td>1</td>\n",
       "    </tr>\n",
       "    <tr>\n",
       "      <th>135790</th>\n",
       "      <td>2019-07-08</td>\n",
       "      <td>AA</td>\n",
       "      <td>AA</td>\n",
       "      <td>AA</td>\n",
       "      <td>408</td>\n",
       "      <td>AA</td>\n",
       "      <td>N830AW</td>\n",
       "      <td>408</td>\n",
       "      <td>13577</td>\n",
       "      <td>MYR</td>\n",
       "      <td>...</td>\n",
       "      <td>NaN</td>\n",
       "      <td>NaN</td>\n",
       "      <td>2019-07-08</td>\n",
       "      <td>8</td>\n",
       "      <td>7</td>\n",
       "      <td>2019</td>\n",
       "      <td>15</td>\n",
       "      <td>14</td>\n",
       "      <td>1</td>\n",
       "      <td>1</td>\n",
       "    </tr>\n",
       "    <tr>\n",
       "      <th>267216</th>\n",
       "      <td>2018-04-13</td>\n",
       "      <td>DL</td>\n",
       "      <td>DL</td>\n",
       "      <td>DL</td>\n",
       "      <td>2183</td>\n",
       "      <td>DL</td>\n",
       "      <td>N906DA</td>\n",
       "      <td>2183</td>\n",
       "      <td>10397</td>\n",
       "      <td>ATL</td>\n",
       "      <td>...</td>\n",
       "      <td>NaN</td>\n",
       "      <td>NaN</td>\n",
       "      <td>2018-04-13</td>\n",
       "      <td>13</td>\n",
       "      <td>4</td>\n",
       "      <td>2018</td>\n",
       "      <td>10</td>\n",
       "      <td>9</td>\n",
       "      <td>1</td>\n",
       "      <td>1</td>\n",
       "    </tr>\n",
       "    <tr>\n",
       "      <th>135798</th>\n",
       "      <td>2019-05-13</td>\n",
       "      <td>NK</td>\n",
       "      <td>NK</td>\n",
       "      <td>NK</td>\n",
       "      <td>385</td>\n",
       "      <td>NK</td>\n",
       "      <td>N611NK</td>\n",
       "      <td>385</td>\n",
       "      <td>10821</td>\n",
       "      <td>BWI</td>\n",
       "      <td>...</td>\n",
       "      <td>NaN</td>\n",
       "      <td>NaN</td>\n",
       "      <td>2019-05-13</td>\n",
       "      <td>13</td>\n",
       "      <td>5</td>\n",
       "      <td>2019</td>\n",
       "      <td>11</td>\n",
       "      <td>8</td>\n",
       "      <td>0</td>\n",
       "      <td>1</td>\n",
       "    </tr>\n",
       "    <tr>\n",
       "      <th>...</th>\n",
       "      <td>...</td>\n",
       "      <td>...</td>\n",
       "      <td>...</td>\n",
       "      <td>...</td>\n",
       "      <td>...</td>\n",
       "      <td>...</td>\n",
       "      <td>...</td>\n",
       "      <td>...</td>\n",
       "      <td>...</td>\n",
       "      <td>...</td>\n",
       "      <td>...</td>\n",
       "      <td>...</td>\n",
       "      <td>...</td>\n",
       "      <td>...</td>\n",
       "      <td>...</td>\n",
       "      <td>...</td>\n",
       "      <td>...</td>\n",
       "      <td>...</td>\n",
       "      <td>...</td>\n",
       "      <td>...</td>\n",
       "      <td>...</td>\n",
       "    </tr>\n",
       "    <tr>\n",
       "      <th>184764</th>\n",
       "      <td>2019-10-05</td>\n",
       "      <td>UA</td>\n",
       "      <td>UA</td>\n",
       "      <td>UA</td>\n",
       "      <td>226</td>\n",
       "      <td>UA</td>\n",
       "      <td>N77520</td>\n",
       "      <td>226</td>\n",
       "      <td>12982</td>\n",
       "      <td>LIH</td>\n",
       "      <td>...</td>\n",
       "      <td>NaN</td>\n",
       "      <td>NaN</td>\n",
       "      <td>2019-10-05</td>\n",
       "      <td>5</td>\n",
       "      <td>10</td>\n",
       "      <td>2019</td>\n",
       "      <td></td>\n",
       "      <td>16</td>\n",
       "      <td>1</td>\n",
       "      <td>1</td>\n",
       "    </tr>\n",
       "    <tr>\n",
       "      <th>413555</th>\n",
       "      <td>2018-02-20</td>\n",
       "      <td>AA</td>\n",
       "      <td>AA_CODESHARE</td>\n",
       "      <td>AA</td>\n",
       "      <td>2852</td>\n",
       "      <td>EV</td>\n",
       "      <td>N612QX</td>\n",
       "      <td>2852</td>\n",
       "      <td>12896</td>\n",
       "      <td>LBB</td>\n",
       "      <td>...</td>\n",
       "      <td>13.0</td>\n",
       "      <td>NaN</td>\n",
       "      <td>2018-02-20</td>\n",
       "      <td>20</td>\n",
       "      <td>2</td>\n",
       "      <td>2018</td>\n",
       "      <td>13</td>\n",
       "      <td>12</td>\n",
       "      <td>1</td>\n",
       "      <td>1</td>\n",
       "    </tr>\n",
       "    <tr>\n",
       "      <th>261371</th>\n",
       "      <td>2019-05-04</td>\n",
       "      <td>AA</td>\n",
       "      <td>AA_CODESHARE</td>\n",
       "      <td>AA</td>\n",
       "      <td>3931</td>\n",
       "      <td>MQ</td>\n",
       "      <td>N852AE</td>\n",
       "      <td>3931</td>\n",
       "      <td>11995</td>\n",
       "      <td>GSO</td>\n",
       "      <td>...</td>\n",
       "      <td>NaN</td>\n",
       "      <td>NaN</td>\n",
       "      <td>2019-05-04</td>\n",
       "      <td>4</td>\n",
       "      <td>5</td>\n",
       "      <td>2019</td>\n",
       "      <td>14</td>\n",
       "      <td>12</td>\n",
       "      <td>1</td>\n",
       "      <td>1</td>\n",
       "    </tr>\n",
       "    <tr>\n",
       "      <th>340940</th>\n",
       "      <td>2019-07-20</td>\n",
       "      <td>AA</td>\n",
       "      <td>AA</td>\n",
       "      <td>AA</td>\n",
       "      <td>1395</td>\n",
       "      <td>AA</td>\n",
       "      <td>N963AN</td>\n",
       "      <td>1395</td>\n",
       "      <td>13487</td>\n",
       "      <td>MSP</td>\n",
       "      <td>...</td>\n",
       "      <td>NaN</td>\n",
       "      <td>NaN</td>\n",
       "      <td>2019-07-20</td>\n",
       "      <td>20</td>\n",
       "      <td>7</td>\n",
       "      <td>2019</td>\n",
       "      <td>15</td>\n",
       "      <td>12</td>\n",
       "      <td>1</td>\n",
       "      <td>1</td>\n",
       "    </tr>\n",
       "    <tr>\n",
       "      <th>292220</th>\n",
       "      <td>2018-09-17</td>\n",
       "      <td>DL</td>\n",
       "      <td>DL_CODESHARE</td>\n",
       "      <td>DL</td>\n",
       "      <td>5780</td>\n",
       "      <td>CP</td>\n",
       "      <td>N615CZ</td>\n",
       "      <td>5780</td>\n",
       "      <td>12892</td>\n",
       "      <td>LAX</td>\n",
       "      <td>...</td>\n",
       "      <td>NaN</td>\n",
       "      <td>NaN</td>\n",
       "      <td>2018-09-17</td>\n",
       "      <td>17</td>\n",
       "      <td>9</td>\n",
       "      <td>2018</td>\n",
       "      <td>17</td>\n",
       "      <td>16</td>\n",
       "      <td>1</td>\n",
       "      <td>1</td>\n",
       "    </tr>\n",
       "  </tbody>\n",
       "</table>\n",
       "<p>94396 rows × 50 columns</p>\n",
       "</div>"
      ],
      "text/plain": [
       "           fl_date mkt_unique_carrier branded_code_share mkt_carrier  \\\n",
       "281367  2018-12-07                 AA       AA_CODESHARE          AA   \n",
       "267263  2018-05-09                 WN                 WN          WN   \n",
       "135790  2019-07-08                 AA                 AA          AA   \n",
       "267216  2018-04-13                 DL                 DL          DL   \n",
       "135798  2019-05-13                 NK                 NK          NK   \n",
       "...            ...                ...                ...         ...   \n",
       "184764  2019-10-05                 UA                 UA          UA   \n",
       "413555  2018-02-20                 AA       AA_CODESHARE          AA   \n",
       "261371  2019-05-04                 AA       AA_CODESHARE          AA   \n",
       "340940  2019-07-20                 AA                 AA          AA   \n",
       "292220  2018-09-17                 DL       DL_CODESHARE          DL   \n",
       "\n",
       "        mkt_carrier_fl_num op_unique_carrier tail_num  op_carrier_fl_num  \\\n",
       "281367                3059                OO   N762SK               3059   \n",
       "267263                1003                WN   N7706A               1003   \n",
       "135790                 408                AA   N830AW                408   \n",
       "267216                2183                DL   N906DA               2183   \n",
       "135798                 385                NK   N611NK                385   \n",
       "...                    ...               ...      ...                ...   \n",
       "184764                 226                UA   N77520                226   \n",
       "413555                2852                EV   N612QX               2852   \n",
       "261371                3931                MQ   N852AE               3931   \n",
       "340940                1395                AA   N963AN               1395   \n",
       "292220                5780                CP   N615CZ               5780   \n",
       "\n",
       "        origin_airport_id origin  ... longest_add_gtime  no_name   datetime  \\\n",
       "281367              13930    ORD  ...               NaN      NaN 2018-12-07   \n",
       "267263              11259    DAL  ...               NaN      NaN 2018-05-09   \n",
       "135790              13577    MYR  ...               NaN      NaN 2019-07-08   \n",
       "267216              10397    ATL  ...               NaN      NaN 2018-04-13   \n",
       "135798              10821    BWI  ...               NaN      NaN 2019-05-13   \n",
       "...                   ...    ...  ...               ...      ...        ...   \n",
       "184764              12982    LIH  ...               NaN      NaN 2019-10-05   \n",
       "413555              12896    LBB  ...              13.0      NaN 2018-02-20   \n",
       "261371              11995    GSO  ...               NaN      NaN 2019-05-04   \n",
       "340940              13487    MSP  ...               NaN      NaN 2019-07-20   \n",
       "292220              12892    LAX  ...               NaN      NaN 2018-09-17   \n",
       "\n",
       "       day  month  year  arr_hour  dep_hour  bool_dep_delay  bool_arr_delay  \n",
       "281367   7     12  2018        19        17               1               1  \n",
       "267263   9      5  2018        19        17               1               1  \n",
       "135790   8      7  2019        15        14               1               1  \n",
       "267216  13      4  2018        10         9               1               1  \n",
       "135798  13      5  2019        11         8               0               1  \n",
       "...     ..    ...   ...       ...       ...             ...             ...  \n",
       "184764   5     10  2019                  16               1               1  \n",
       "413555  20      2  2018        13        12               1               1  \n",
       "261371   4      5  2019        14        12               1               1  \n",
       "340940  20      7  2019        15        12               1               1  \n",
       "292220  17      9  2018        17        16               1               1  \n",
       "\n",
       "[94396 rows x 50 columns]"
      ]
     },
     "execution_count": 65,
     "metadata": {},
     "output_type": "execute_result"
    }
   ],
   "source": [
    "# start with flights with arr_delay only\n",
    "df5c = df_flights[df_flights.carrier_delay.notnull()].copy()\n",
    "# make bool for positive delays\n",
    "df5c['bool_dep_delay'] = np.where(df5c.dep_delay >= 1, 1, 0)\n",
    "df5c['bool_arr_delay'] = np.where(df5c.arr_delay >= 1, 1, 0)\n",
    "df5c.sort_values('arr_delay')"
   ]
  },
  {
   "cell_type": "code",
   "execution_count": 66,
   "metadata": {},
   "outputs": [
    {
     "data": {
      "image/png": "[encoded data removed]",
      "text/plain": [
       "<Figure size 720x720 with 1 Axes>"
      ]
     },
     "metadata": {},
     "output_type": "display_data"
    }
   ],
   "source": [
    "# % of arr_delay flights that sarted with a dep_delay\n",
    "labels = ['Delayed departures', 'On time or early departures']\n",
    "sizes = [df5c.bool_dep_delay.value_counts()[1],\n",
    "         df5c.bool_dep_delay.value_counts()[0] ]\n",
    "fig1, ax1 = plt.subplots(figsize=(10,10))\n",
    "ax1.pie(sizes, labels=labels, autopct='%1.2f%%')\n",
    "ax1.axis('equal')\n",
    "plt.show()"
   ]
  },
  {
   "cell_type": "code",
   "execution_count": null,
   "metadata": {},
   "outputs": [],
   "source": []
  },
  {
   "cell_type": "code",
   "execution_count": null,
   "metadata": {},
   "outputs": [],
   "source": []
  },
  {
   "cell_type": "markdown",
   "metadata": {},
   "source": [
    "#### **Task 6**: How many states cover 50% of US air traffic? "
   ]
  },
  {
   "cell_type": "code",
   "execution_count": 73,
   "metadata": {},
   "outputs": [
    {
     "name": "stderr",
     "output_type": "stream",
     "text": [
      "/var/folders/lf/ty8sx7z57pl1_74grkt85j_c0000gn/T/ipykernel_2435/4127265612.py:7: SettingWithCopyWarning:\n",
      "\n",
      "\n",
      "A value is trying to be set on a copy of a slice from a DataFrame.\n",
      "Try using .loc[row_indexer,col_indexer] = value instead\n",
      "\n",
      "See the caveats in the documentation: https://pandas.pydata.org/pandas-docs/stable/user_guide/indexing.html#returning-a-view-versus-a-copy\n",
      "\n",
      "/var/folders/lf/ty8sx7z57pl1_74grkt85j_c0000gn/T/ipykernel_2435/4127265612.py:7: SettingWithCopyWarning:\n",
      "\n",
      "\n",
      "A value is trying to be set on a copy of a slice from a DataFrame.\n",
      "Try using .loc[row_indexer,col_indexer] = value instead\n",
      "\n",
      "See the caveats in the documentation: https://pandas.pydata.org/pandas-docs/stable/user_guide/indexing.html#returning-a-view-versus-a-copy\n",
      "\n"
     ]
    }
   ],
   "source": [
    "#Take relevant columns\n",
    "#Split origin_city_name to a State column\n",
    "#Sum the air_traffic and groupby state.\n",
    "#Sort in descending order.\n",
    "\n",
    "df_tsk6 = df_flights[['origin_city_name','air_time']]\n",
    "df_tsk6[['origin_city_name','state']] = df_tsk6['origin_city_name'].str.split(', ',expand=True)\n",
    "df_tsk6show = df_tsk6.groupby('state',as_index=False)['air_time'].sum().sort_values(by='air_time',ascending=False)\n"
   ]
  },
  {
   "cell_type": "code",
   "execution_count": 72,
   "metadata": {},
   "outputs": [
    {
     "data": {
      "image/png": "[encoded data removed]",
      "text/plain": [
       "<Figure size 1080x432 with 1 Axes>"
      ]
     },
     "metadata": {
      "needs_background": "light"
     },
     "output_type": "display_data"
    }
   ],
   "source": [
    "sns.barplot(x='state',y='air_time',data=df_tsk6show.head(6))\n",
    "plt.show()"
   ]
  },
  {
   "cell_type": "markdown",
   "metadata": {},
   "source": [
    "#### **Task 7**: Test the hypothesis whether planes fly faster when there is the departure delay? "
   ]
  },
  {
   "cell_type": "code",
   "execution_count": 74,
   "metadata": {},
   "outputs": [
    {
     "data": {
      "text/html": [
       "<div>\n",
       "<style scoped>\n",
       "    .dataframe tbody tr th:only-of-type {\n",
       "        vertical-align: middle;\n",
       "    }\n",
       "\n",
       "    .dataframe tbody tr th {\n",
       "        vertical-align: top;\n",
       "    }\n",
       "\n",
       "    .dataframe thead th {\n",
       "        text-align: right;\n",
       "    }\n",
       "</style>\n",
       "<table border=\"1\" class=\"dataframe\">\n",
       "  <thead>\n",
       "    <tr style=\"text-align: right;\">\n",
       "      <th></th>\n",
       "      <th>dep_delay</th>\n",
       "      <th>air_time</th>\n",
       "      <th>distance</th>\n",
       "      <th>avg_speed</th>\n",
       "    </tr>\n",
       "  </thead>\n",
       "  <tbody>\n",
       "    <tr>\n",
       "      <th>292220</th>\n",
       "      <td>1966.0</td>\n",
       "      <td>47.0</td>\n",
       "      <td>308.0</td>\n",
       "      <td>393.191489</td>\n",
       "    </tr>\n",
       "    <tr>\n",
       "      <th>340940</th>\n",
       "      <td>1790.0</td>\n",
       "      <td>120.0</td>\n",
       "      <td>852.0</td>\n",
       "      <td>426.000000</td>\n",
       "    </tr>\n",
       "    <tr>\n",
       "      <th>261371</th>\n",
       "      <td>1651.0</td>\n",
       "      <td>69.0</td>\n",
       "      <td>461.0</td>\n",
       "      <td>400.869565</td>\n",
       "    </tr>\n",
       "    <tr>\n",
       "      <th>413555</th>\n",
       "      <td>1531.0</td>\n",
       "      <td>54.0</td>\n",
       "      <td>282.0</td>\n",
       "      <td>313.333333</td>\n",
       "    </tr>\n",
       "    <tr>\n",
       "      <th>184764</th>\n",
       "      <td>1515.0</td>\n",
       "      <td>287.0</td>\n",
       "      <td>2447.0</td>\n",
       "      <td>511.567944</td>\n",
       "    </tr>\n",
       "    <tr>\n",
       "      <th>171180</th>\n",
       "      <td>1471.0</td>\n",
       "      <td>97.0</td>\n",
       "      <td>695.0</td>\n",
       "      <td>429.896907</td>\n",
       "    </tr>\n",
       "    <tr>\n",
       "      <th>247496</th>\n",
       "      <td>1448.0</td>\n",
       "      <td>96.0</td>\n",
       "      <td>675.0</td>\n",
       "      <td>421.875000</td>\n",
       "    </tr>\n",
       "    <tr>\n",
       "      <th>54735</th>\n",
       "      <td>1431.0</td>\n",
       "      <td>19.0</td>\n",
       "      <td>73.0</td>\n",
       "      <td>230.526316</td>\n",
       "    </tr>\n",
       "    <tr>\n",
       "      <th>123462</th>\n",
       "      <td>1424.0</td>\n",
       "      <td>81.0</td>\n",
       "      <td>643.0</td>\n",
       "      <td>476.296296</td>\n",
       "    </tr>\n",
       "    <tr>\n",
       "      <th>314223</th>\n",
       "      <td>1421.0</td>\n",
       "      <td>40.0</td>\n",
       "      <td>174.0</td>\n",
       "      <td>261.000000</td>\n",
       "    </tr>\n",
       "  </tbody>\n",
       "</table>\n",
       "</div>"
      ],
      "text/plain": [
       "        dep_delay  air_time  distance   avg_speed\n",
       "292220     1966.0      47.0     308.0  393.191489\n",
       "340940     1790.0     120.0     852.0  426.000000\n",
       "261371     1651.0      69.0     461.0  400.869565\n",
       "413555     1531.0      54.0     282.0  313.333333\n",
       "184764     1515.0     287.0    2447.0  511.567944\n",
       "171180     1471.0      97.0     695.0  429.896907\n",
       "247496     1448.0      96.0     675.0  421.875000\n",
       "54735      1431.0      19.0      73.0  230.526316\n",
       "123462     1424.0      81.0     643.0  476.296296\n",
       "314223     1421.0      40.0     174.0  261.000000"
      ]
     },
     "execution_count": 74,
     "metadata": {},
     "output_type": "execute_result"
    }
   ],
   "source": [
    "import warnings\n",
    "warnings.filterwarnings('ignore')\n",
    "\n",
    "#Relevant columns: dep_delay, air_time, distance\n",
    "#Append a column called avg_speed.\n",
    "#Average speed = (air_time/distance) * 60\n",
    "#Sort values deep_delay to see weather planes fly faster when there is a departure delay.\n",
    "\n",
    "df_tsk7 = df_flights[['dep_delay','air_time','distance']].dropna()\n",
    "df_tsk7['avg_speed'] = (df_flights['distance'] / df_flights['air_time'])*60\n",
    "df_tsk7.sort_values(by='dep_delay',ascending=False).head(10)"
   ]
  },
  {
   "cell_type": "code",
   "execution_count": 75,
   "metadata": {},
   "outputs": [
    {
     "name": "stdout",
     "output_type": "stream",
     "text": [
      "stat: -3098.4681656301577\n",
      "p-value: 0.0\n",
      "Plane speed did not change significantly when there is a departure delay.\n"
     ]
    }
   ],
   "source": [
    "#Test the hypothesis whether planes fly faster when there is a departure delay.\n",
    "dep_delay_lst = df_tsk7['dep_delay']\n",
    "avg_speed_lst = df_tsk7['avg_speed']\n",
    "stat, p_value = st.ttest_rel(dep_delay_lst,avg_speed_lst)\n",
    "alpha=0.5\n",
    "print('stat:',stat)\n",
    "print('p-value:',p_value)\n",
    "if p_value > alpha:\n",
    "    print(\"Planes fly faster when there is a departure delay.\")\n",
    "else:\n",
    "    print(\"Plane speed did not change significantly when there is a departure delay.\")"
   ]
  },
  {
   "cell_type": "markdown",
   "metadata": {},
   "source": [
    "#### **Task 8**: When (which hour) do most 'LONG', 'SHORT', 'MEDIUM' haul flights take off?"
   ]
  },
  {
   "cell_type": "code",
   "execution_count": 80,
   "metadata": {},
   "outputs": [],
   "source": [
    "#Algorithm to convert float to time format.\n",
    "string_num = []\n",
    "for i in df_flights['dep_time']:\n",
    "    str_time = str(i)\n",
    "    if len(str_time) == 4:\n",
    "        str_time = str_time.split('.')\n",
    "        str_time = str_time[0]\n",
    "        str_time = str_time[:1] + \":\" + str_time[1:]\n",
    "        string_num.append('00:00')\n",
    "    elif len(str_time) == 5:\n",
    "        str_time = str_time.split('.')\n",
    "        str_time = str_time[0]\n",
    "        str_time = str_time[:1] + \":\" + str_time[1:]\n",
    "        string_num.append(str_time)\n",
    "    elif len(str_time) == 6:\n",
    "        str_time = str_time.split('.')\n",
    "        str_time = str_time[0]\n",
    "        str_time = str_time[:2] + \":\" + str_time[2:]\n",
    "        string_num.append(str_time)\n",
    "    else:\n",
    "        string_num.append('--:--')\n",
    "\n"
   ]
  },
  {
   "cell_type": "code",
   "execution_count": 84,
   "metadata": {},
   "outputs": [],
   "source": [
    "#Algorithm to create categories of LONG, SHORT, MEDIUM.\n",
    "category_list = []\n",
    "for i in df_flights['air_time']:\n",
    "    if i <= 180:\n",
    "        category_list.append('SHORT')\n",
    "    elif i > 180 and i <= 360:\n",
    "        category_list.append('MEDIUM')\n",
    "    else: \n",
    "        category_list.append('LONG')"
   ]
  },
  {
   "cell_type": "code",
   "execution_count": 85,
   "metadata": {},
   "outputs": [
    {
     "data": {
      "text/html": [
       "<div>\n",
       "<style scoped>\n",
       "    .dataframe tbody tr th:only-of-type {\n",
       "        vertical-align: middle;\n",
       "    }\n",
       "\n",
       "    .dataframe tbody tr th {\n",
       "        vertical-align: top;\n",
       "    }\n",
       "\n",
       "    .dataframe thead th {\n",
       "        text-align: right;\n",
       "    }\n",
       "</style>\n",
       "<table border=\"1\" class=\"dataframe\">\n",
       "  <thead>\n",
       "    <tr style=\"text-align: right;\">\n",
       "      <th></th>\n",
       "      <th>dep_time</th>\n",
       "      <th>air_time</th>\n",
       "      <th>distance</th>\n",
       "      <th>time_format</th>\n",
       "      <th>haul_type</th>\n",
       "      <th>time_hour</th>\n",
       "      <th>time_second</th>\n",
       "    </tr>\n",
       "  </thead>\n",
       "  <tbody>\n",
       "    <tr>\n",
       "      <th>0</th>\n",
       "      <td>855.0</td>\n",
       "      <td>93.0</td>\n",
       "      <td>649.0</td>\n",
       "      <td>8:55</td>\n",
       "      <td>SHORT</td>\n",
       "      <td>8</td>\n",
       "      <td>55</td>\n",
       "    </tr>\n",
       "    <tr>\n",
       "      <th>1</th>\n",
       "      <td>631.0</td>\n",
       "      <td>163.0</td>\n",
       "      <td>1145.0</td>\n",
       "      <td>6:31</td>\n",
       "      <td>SHORT</td>\n",
       "      <td>6</td>\n",
       "      <td>31</td>\n",
       "    </tr>\n",
       "    <tr>\n",
       "      <th>2</th>\n",
       "      <td>1549.0</td>\n",
       "      <td>140.0</td>\n",
       "      <td>944.0</td>\n",
       "      <td>15:49</td>\n",
       "      <td>SHORT</td>\n",
       "      <td>15</td>\n",
       "      <td>49</td>\n",
       "    </tr>\n",
       "  </tbody>\n",
       "</table>\n",
       "</div>"
      ],
      "text/plain": [
       "   dep_time  air_time  distance time_format haul_type time_hour time_second\n",
       "0     855.0      93.0     649.0        8:55     SHORT         8          55\n",
       "1     631.0     163.0    1145.0        6:31     SHORT         6          31\n",
       "2    1549.0     140.0     944.0       15:49     SHORT        15          49"
      ]
     },
     "execution_count": 85,
     "metadata": {},
     "output_type": "execute_result"
    }
   ],
   "source": [
    "#Assign the list to the dataframe.\n",
    "df_tsk8 = df_flights[['dep_time','air_time','distance']]\n",
    "df_tsk8['time_format'] = string_num\n",
    "df_tsk8['haul_type'] = category_list\n",
    "df_tsk8[['time_hour','time_second']] = df_tsk8['time_format'].str.split(':',expand=True)\n",
    "#df_tsk8 = df_tsk8.dropna()\n",
    "df_tsk8.head(3)"
   ]
  },
  {
   "cell_type": "code",
   "execution_count": 86,
   "metadata": {},
   "outputs": [
    {
     "data": {
      "image/png": "[encoded data removed]",
      "text/plain": [
       "<Figure size 1440x720 with 1 Axes>"
      ]
     },
     "metadata": {
      "needs_background": "light"
     },
     "output_type": "display_data"
    }
   ],
   "source": [
    "plt.rcParams[\"figure.figsize\"] = (20,10)\n",
    "sns.countplot(x=\"time_hour\", hue=\"haul_type\", data=df_tsk8, \n",
    "              order = ['-','1', '2', '3', '4', '5',\n",
    "               '6','7','8','9','10','11',\n",
    "              '12','13','14','15','16','17',\n",
    "              '18','19','20','21','22','23','24'])\n",
    "plt.show()"
   ]
  },
  {
   "cell_type": "code",
   "execution_count": null,
   "metadata": {},
   "outputs": [],
   "source": []
  },
  {
   "cell_type": "code",
   "execution_count": null,
   "metadata": {},
   "outputs": [],
   "source": []
  },
  {
   "cell_type": "markdown",
   "metadata": {},
   "source": [
    "#### **Task 9**: Find the top 10 the bussiest airports. Does the biggest number of flights mean that the biggest number of passengers went through the particular airport? How much traffic do these 10 airports cover?"
   ]
  },
  {
   "cell_type": "code",
   "execution_count": 87,
   "metadata": {},
   "outputs": [
    {
     "data": {
      "text/html": [
       "<div>\n",
       "<style scoped>\n",
       "    .dataframe tbody tr th:only-of-type {\n",
       "        vertical-align: middle;\n",
       "    }\n",
       "\n",
       "    .dataframe tbody tr th {\n",
       "        vertical-align: top;\n",
       "    }\n",
       "\n",
       "    .dataframe thead th {\n",
       "        text-align: right;\n",
       "    }\n",
       "</style>\n",
       "<table border=\"1\" class=\"dataframe\">\n",
       "  <thead>\n",
       "    <tr style=\"text-align: right;\">\n",
       "      <th></th>\n",
       "      <th>origin</th>\n",
       "      <th>number_of_flights</th>\n",
       "    </tr>\n",
       "  </thead>\n",
       "  <tbody>\n",
       "    <tr>\n",
       "      <th>22</th>\n",
       "      <td>ATL</td>\n",
       "      <td>24260</td>\n",
       "    </tr>\n",
       "    <tr>\n",
       "      <th>257</th>\n",
       "      <td>ORD</td>\n",
       "      <td>24097</td>\n",
       "    </tr>\n",
       "    <tr>\n",
       "      <th>95</th>\n",
       "      <td>DFW</td>\n",
       "      <td>17972</td>\n",
       "    </tr>\n",
       "    <tr>\n",
       "      <th>94</th>\n",
       "      <td>DEN</td>\n",
       "      <td>17336</td>\n",
       "    </tr>\n",
       "    <tr>\n",
       "      <th>196</th>\n",
       "      <td>LAX</td>\n",
       "      <td>15464</td>\n",
       "    </tr>\n",
       "    <tr>\n",
       "      <th>74</th>\n",
       "      <td>CLT</td>\n",
       "      <td>15412</td>\n",
       "    </tr>\n",
       "    <tr>\n",
       "      <th>321</th>\n",
       "      <td>SEA</td>\n",
       "      <td>11713</td>\n",
       "    </tr>\n",
       "    <tr>\n",
       "      <th>169</th>\n",
       "      <td>IAH</td>\n",
       "      <td>11094</td>\n",
       "    </tr>\n",
       "    <tr>\n",
       "      <th>323</th>\n",
       "      <td>SFO</td>\n",
       "      <td>11018</td>\n",
       "    </tr>\n",
       "    <tr>\n",
       "      <th>103</th>\n",
       "      <td>DTW</td>\n",
       "      <td>10957</td>\n",
       "    </tr>\n",
       "  </tbody>\n",
       "</table>\n",
       "</div>"
      ],
      "text/plain": [
       "    origin  number_of_flights\n",
       "22     ATL              24260\n",
       "257    ORD              24097\n",
       "95     DFW              17972\n",
       "94     DEN              17336\n",
       "196    LAX              15464\n",
       "74     CLT              15412\n",
       "321    SEA              11713\n",
       "169    IAH              11094\n",
       "323    SFO              11018\n",
       "103    DTW              10957"
      ]
     },
     "execution_count": 87,
     "metadata": {},
     "output_type": "execute_result"
    }
   ],
   "source": [
    "df_tsk9 = df_flights.groupby(['origin'],as_index=False).size()\n",
    "#Top 10 busiest airports by biggest number of flights.\n",
    "df_tsk9 = df_tsk9.sort_values(by=['size'],ascending=False)\n",
    "df_tsk9 = df_tsk9.rename(columns={'size':'number_of_flights'})\n",
    "df_tsk9.head(10)"
   ]
  },
  {
   "cell_type": "code",
   "execution_count": 88,
   "metadata": {},
   "outputs": [
    {
     "data": {
      "text/html": [
       "<div>\n",
       "<style scoped>\n",
       "    .dataframe tbody tr th:only-of-type {\n",
       "        vertical-align: middle;\n",
       "    }\n",
       "\n",
       "    .dataframe tbody tr th {\n",
       "        vertical-align: top;\n",
       "    }\n",
       "\n",
       "    .dataframe thead th {\n",
       "        text-align: right;\n",
       "    }\n",
       "</style>\n",
       "<table border=\"1\" class=\"dataframe\">\n",
       "  <thead>\n",
       "    <tr style=\"text-align: right;\">\n",
       "      <th></th>\n",
       "      <th>Unnamed: 0</th>\n",
       "      <th>departures_scheduled</th>\n",
       "      <th>departures_performed</th>\n",
       "      <th>payload</th>\n",
       "      <th>seats</th>\n",
       "      <th>passengers</th>\n",
       "      <th>freight</th>\n",
       "      <th>mail</th>\n",
       "      <th>distance</th>\n",
       "      <th>ramp_to_ramp</th>\n",
       "      <th>...</th>\n",
       "      <th>dest_country</th>\n",
       "      <th>dest_country_name</th>\n",
       "      <th>aircraft_group</th>\n",
       "      <th>aircraft_type</th>\n",
       "      <th>aircraft_config</th>\n",
       "      <th>year</th>\n",
       "      <th>month</th>\n",
       "      <th>distance_group</th>\n",
       "      <th>class</th>\n",
       "      <th>data_source</th>\n",
       "    </tr>\n",
       "  </thead>\n",
       "  <tbody>\n",
       "    <tr>\n",
       "      <th>0</th>\n",
       "      <td>0</td>\n",
       "      <td>26.0</td>\n",
       "      <td>25.0</td>\n",
       "      <td>388625.0</td>\n",
       "      <td>1250.0</td>\n",
       "      <td>1035.0</td>\n",
       "      <td>0.0</td>\n",
       "      <td>0.0</td>\n",
       "      <td>577.0</td>\n",
       "      <td>3308.0</td>\n",
       "      <td>...</td>\n",
       "      <td>US</td>\n",
       "      <td>United States</td>\n",
       "      <td>6</td>\n",
       "      <td>530</td>\n",
       "      <td>1</td>\n",
       "      <td>2019</td>\n",
       "      <td>12</td>\n",
       "      <td>2</td>\n",
       "      <td>F</td>\n",
       "      <td>DU</td>\n",
       "    </tr>\n",
       "    <tr>\n",
       "      <th>1</th>\n",
       "      <td>1</td>\n",
       "      <td>26.0</td>\n",
       "      <td>26.0</td>\n",
       "      <td>323000.0</td>\n",
       "      <td>1300.0</td>\n",
       "      <td>1112.0</td>\n",
       "      <td>0.0</td>\n",
       "      <td>0.0</td>\n",
       "      <td>296.0</td>\n",
       "      <td>2088.0</td>\n",
       "      <td>...</td>\n",
       "      <td>US</td>\n",
       "      <td>United States</td>\n",
       "      <td>6</td>\n",
       "      <td>629</td>\n",
       "      <td>1</td>\n",
       "      <td>2019</td>\n",
       "      <td>12</td>\n",
       "      <td>1</td>\n",
       "      <td>F</td>\n",
       "      <td>DU</td>\n",
       "    </tr>\n",
       "    <tr>\n",
       "      <th>2</th>\n",
       "      <td>2</td>\n",
       "      <td>26.0</td>\n",
       "      <td>25.0</td>\n",
       "      <td>288500.0</td>\n",
       "      <td>1250.0</td>\n",
       "      <td>1030.0</td>\n",
       "      <td>0.0</td>\n",
       "      <td>0.0</td>\n",
       "      <td>387.0</td>\n",
       "      <td>2330.0</td>\n",
       "      <td>...</td>\n",
       "      <td>US</td>\n",
       "      <td>United States</td>\n",
       "      <td>6</td>\n",
       "      <td>629</td>\n",
       "      <td>1</td>\n",
       "      <td>2019</td>\n",
       "      <td>12</td>\n",
       "      <td>1</td>\n",
       "      <td>F</td>\n",
       "      <td>DU</td>\n",
       "    </tr>\n",
       "    <tr>\n",
       "      <th>3</th>\n",
       "      <td>3</td>\n",
       "      <td>26.0</td>\n",
       "      <td>26.0</td>\n",
       "      <td>421320.0</td>\n",
       "      <td>1690.0</td>\n",
       "      <td>1513.0</td>\n",
       "      <td>0.0</td>\n",
       "      <td>0.0</td>\n",
       "      <td>164.0</td>\n",
       "      <td>1667.0</td>\n",
       "      <td>...</td>\n",
       "      <td>US</td>\n",
       "      <td>United States</td>\n",
       "      <td>6</td>\n",
       "      <td>631</td>\n",
       "      <td>1</td>\n",
       "      <td>2019</td>\n",
       "      <td>12</td>\n",
       "      <td>1</td>\n",
       "      <td>F</td>\n",
       "      <td>DU</td>\n",
       "    </tr>\n",
       "    <tr>\n",
       "      <th>4</th>\n",
       "      <td>4</td>\n",
       "      <td>26.0</td>\n",
       "      <td>26.0</td>\n",
       "      <td>340500.0</td>\n",
       "      <td>1300.0</td>\n",
       "      <td>502.0</td>\n",
       "      <td>0.0</td>\n",
       "      <td>0.0</td>\n",
       "      <td>280.0</td>\n",
       "      <td>1773.0</td>\n",
       "      <td>...</td>\n",
       "      <td>US</td>\n",
       "      <td>United States</td>\n",
       "      <td>6</td>\n",
       "      <td>629</td>\n",
       "      <td>1</td>\n",
       "      <td>2019</td>\n",
       "      <td>12</td>\n",
       "      <td>1</td>\n",
       "      <td>F</td>\n",
       "      <td>DU</td>\n",
       "    </tr>\n",
       "  </tbody>\n",
       "</table>\n",
       "<p>5 rows × 39 columns</p>\n",
       "</div>"
      ],
      "text/plain": [
       "   Unnamed: 0  departures_scheduled  departures_performed   payload   seats  \\\n",
       "0           0                  26.0                  25.0  388625.0  1250.0   \n",
       "1           1                  26.0                  26.0  323000.0  1300.0   \n",
       "2           2                  26.0                  25.0  288500.0  1250.0   \n",
       "3           3                  26.0                  26.0  421320.0  1690.0   \n",
       "4           4                  26.0                  26.0  340500.0  1300.0   \n",
       "\n",
       "   passengers  freight  mail  distance  ramp_to_ramp  ...  dest_country  \\\n",
       "0      1035.0      0.0   0.0     577.0        3308.0  ...            US   \n",
       "1      1112.0      0.0   0.0     296.0        2088.0  ...            US   \n",
       "2      1030.0      0.0   0.0     387.0        2330.0  ...            US   \n",
       "3      1513.0      0.0   0.0     164.0        1667.0  ...            US   \n",
       "4       502.0      0.0   0.0     280.0        1773.0  ...            US   \n",
       "\n",
       "  dest_country_name  aircraft_group aircraft_type aircraft_config  year month  \\\n",
       "0     United States               6           530               1  2019    12   \n",
       "1     United States               6           629               1  2019    12   \n",
       "2     United States               6           629               1  2019    12   \n",
       "3     United States               6           631               1  2019    12   \n",
       "4     United States               6           629               1  2019    12   \n",
       "\n",
       "   distance_group  class  data_source  \n",
       "0               2      F           DU  \n",
       "1               1      F           DU  \n",
       "2               1      F           DU  \n",
       "3               1      F           DU  \n",
       "4               1      F           DU  \n",
       "\n",
       "[5 rows x 39 columns]"
      ]
     },
     "execution_count": 88,
     "metadata": {},
     "output_type": "execute_result"
    }
   ],
   "source": [
    "df_passengers = pd.read_csv('/Users/perpetualokafor/Downloads/mid-term-project-I/passengers.csv')\n",
    "df_passengers.head()"
   ]
  },
  {
   "cell_type": "code",
   "execution_count": 89,
   "metadata": {},
   "outputs": [
    {
     "data": {
      "text/html": [
       "<div>\n",
       "<style scoped>\n",
       "    .dataframe tbody tr th:only-of-type {\n",
       "        vertical-align: middle;\n",
       "    }\n",
       "\n",
       "    .dataframe tbody tr th {\n",
       "        vertical-align: top;\n",
       "    }\n",
       "\n",
       "    .dataframe thead th {\n",
       "        text-align: right;\n",
       "    }\n",
       "</style>\n",
       "<table border=\"1\" class=\"dataframe\">\n",
       "  <thead>\n",
       "    <tr style=\"text-align: right;\">\n",
       "      <th></th>\n",
       "      <th>origin_airport_id</th>\n",
       "      <th>origin</th>\n",
       "      <th>origin_city_name</th>\n",
       "      <th>total_passengers</th>\n",
       "    </tr>\n",
       "  </thead>\n",
       "  <tbody>\n",
       "    <tr>\n",
       "      <th>139</th>\n",
       "      <td>10397</td>\n",
       "      <td>ATL</td>\n",
       "      <td>Atlanta, GA</td>\n",
       "      <td>257478059.0</td>\n",
       "    </tr>\n",
       "    <tr>\n",
       "      <th>1083</th>\n",
       "      <td>12892</td>\n",
       "      <td>LAX</td>\n",
       "      <td>Los Angeles, CA</td>\n",
       "      <td>205745255.0</td>\n",
       "    </tr>\n",
       "    <tr>\n",
       "      <th>1452</th>\n",
       "      <td>13930</td>\n",
       "      <td>ORD</td>\n",
       "      <td>Chicago, IL</td>\n",
       "      <td>194019087.0</td>\n",
       "    </tr>\n",
       "    <tr>\n",
       "      <th>495</th>\n",
       "      <td>11298</td>\n",
       "      <td>DFW</td>\n",
       "      <td>Dallas/Fort Worth, TX</td>\n",
       "      <td>163888490.0</td>\n",
       "    </tr>\n",
       "    <tr>\n",
       "      <th>493</th>\n",
       "      <td>11292</td>\n",
       "      <td>DEN</td>\n",
       "      <td>Denver, CO</td>\n",
       "      <td>151024252.0</td>\n",
       "    </tr>\n",
       "    <tr>\n",
       "      <th>953</th>\n",
       "      <td>12478</td>\n",
       "      <td>JFK</td>\n",
       "      <td>New York, NY</td>\n",
       "      <td>148927079.0</td>\n",
       "    </tr>\n",
       "    <tr>\n",
       "      <th>1744</th>\n",
       "      <td>14771</td>\n",
       "      <td>SFO</td>\n",
       "      <td>San Francisco, CA</td>\n",
       "      <td>133266076.0</td>\n",
       "    </tr>\n",
       "    <tr>\n",
       "      <th>1081</th>\n",
       "      <td>12889</td>\n",
       "      <td>LAS</td>\n",
       "      <td>Las Vegas, NV</td>\n",
       "      <td>117526251.0</td>\n",
       "    </tr>\n",
       "    <tr>\n",
       "      <th>1732</th>\n",
       "      <td>14747</td>\n",
       "      <td>SEA</td>\n",
       "      <td>Seattle, WA</td>\n",
       "      <td>113960665.0</td>\n",
       "    </tr>\n",
       "    <tr>\n",
       "      <th>397</th>\n",
       "      <td>11057</td>\n",
       "      <td>CLT</td>\n",
       "      <td>Charlotte, NC</td>\n",
       "      <td>112838675.0</td>\n",
       "    </tr>\n",
       "  </tbody>\n",
       "</table>\n",
       "</div>"
      ],
      "text/plain": [
       "      origin_airport_id origin       origin_city_name  total_passengers\n",
       "139               10397    ATL            Atlanta, GA       257478059.0\n",
       "1083              12892    LAX        Los Angeles, CA       205745255.0\n",
       "1452              13930    ORD            Chicago, IL       194019087.0\n",
       "495               11298    DFW  Dallas/Fort Worth, TX       163888490.0\n",
       "493               11292    DEN             Denver, CO       151024252.0\n",
       "953               12478    JFK           New York, NY       148927079.0\n",
       "1744              14771    SFO      San Francisco, CA       133266076.0\n",
       "1081              12889    LAS          Las Vegas, NV       117526251.0\n",
       "1732              14747    SEA            Seattle, WA       113960665.0\n",
       "397               11057    CLT          Charlotte, NC       112838675.0"
      ]
     },
     "execution_count": 89,
     "metadata": {},
     "output_type": "execute_result"
    }
   ],
   "source": [
    "df_tsk9b = df_passengers[['passengers','origin_airport_id','origin','origin_city_name']]\n",
    "df_tsk9b = df_tsk9b.sort_values(by=['passengers'], ascending=False)\n",
    "#Top 10 busiest airports by passenger traffic.\n",
    "df_tsk9b = df_tsk9b.groupby(['origin_airport_id','origin','origin_city_name'],as_index=False)[['passengers']].sum()\n",
    "df_tsk9b = df_tsk9b.sort_values(by=['passengers'], ascending=False)\n",
    "df_tsk9b = df_tsk9b.rename(columns={'passengers':'total_passengers'})\n",
    "df_tsk9b.head(10)"
   ]
  },
  {
   "cell_type": "code",
   "execution_count": 90,
   "metadata": {},
   "outputs": [
    {
     "data": {
      "text/html": [
       "<div>\n",
       "<style scoped>\n",
       "    .dataframe tbody tr th:only-of-type {\n",
       "        vertical-align: middle;\n",
       "    }\n",
       "\n",
       "    .dataframe tbody tr th {\n",
       "        vertical-align: top;\n",
       "    }\n",
       "\n",
       "    .dataframe thead th {\n",
       "        text-align: right;\n",
       "    }\n",
       "</style>\n",
       "<table border=\"1\" class=\"dataframe\">\n",
       "  <thead>\n",
       "    <tr style=\"text-align: right;\">\n",
       "      <th></th>\n",
       "      <th>origin</th>\n",
       "      <th>number_of_flights</th>\n",
       "      <th>origin_airport_id</th>\n",
       "      <th>origin_city_name</th>\n",
       "      <th>total_passengers</th>\n",
       "    </tr>\n",
       "  </thead>\n",
       "  <tbody>\n",
       "    <tr>\n",
       "      <th>0</th>\n",
       "      <td>ATL</td>\n",
       "      <td>24260</td>\n",
       "      <td>10397</td>\n",
       "      <td>Atlanta, GA</td>\n",
       "      <td>257478059.0</td>\n",
       "    </tr>\n",
       "    <tr>\n",
       "      <th>1</th>\n",
       "      <td>ORD</td>\n",
       "      <td>24097</td>\n",
       "      <td>13930</td>\n",
       "      <td>Chicago, IL</td>\n",
       "      <td>194019087.0</td>\n",
       "    </tr>\n",
       "    <tr>\n",
       "      <th>2</th>\n",
       "      <td>DFW</td>\n",
       "      <td>17972</td>\n",
       "      <td>11298</td>\n",
       "      <td>Dallas/Fort Worth, TX</td>\n",
       "      <td>163888490.0</td>\n",
       "    </tr>\n",
       "    <tr>\n",
       "      <th>3</th>\n",
       "      <td>DEN</td>\n",
       "      <td>17336</td>\n",
       "      <td>11292</td>\n",
       "      <td>Denver, CO</td>\n",
       "      <td>151024252.0</td>\n",
       "    </tr>\n",
       "    <tr>\n",
       "      <th>4</th>\n",
       "      <td>LAX</td>\n",
       "      <td>15464</td>\n",
       "      <td>12892</td>\n",
       "      <td>Los Angeles, CA</td>\n",
       "      <td>205745255.0</td>\n",
       "    </tr>\n",
       "    <tr>\n",
       "      <th>5</th>\n",
       "      <td>CLT</td>\n",
       "      <td>15412</td>\n",
       "      <td>11057</td>\n",
       "      <td>Charlotte, NC</td>\n",
       "      <td>112838675.0</td>\n",
       "    </tr>\n",
       "    <tr>\n",
       "      <th>6</th>\n",
       "      <td>SEA</td>\n",
       "      <td>11713</td>\n",
       "      <td>14747</td>\n",
       "      <td>Seattle, WA</td>\n",
       "      <td>113960665.0</td>\n",
       "    </tr>\n",
       "    <tr>\n",
       "      <th>7</th>\n",
       "      <td>IAH</td>\n",
       "      <td>11094</td>\n",
       "      <td>12266</td>\n",
       "      <td>Houston, TX</td>\n",
       "      <td>103908868.0</td>\n",
       "    </tr>\n",
       "    <tr>\n",
       "      <th>8</th>\n",
       "      <td>SFO</td>\n",
       "      <td>11018</td>\n",
       "      <td>14771</td>\n",
       "      <td>San Francisco, CA</td>\n",
       "      <td>133266076.0</td>\n",
       "    </tr>\n",
       "    <tr>\n",
       "      <th>9</th>\n",
       "      <td>DTW</td>\n",
       "      <td>10957</td>\n",
       "      <td>11433</td>\n",
       "      <td>Detroit, MI</td>\n",
       "      <td>86099463.0</td>\n",
       "    </tr>\n",
       "  </tbody>\n",
       "</table>\n",
       "</div>"
      ],
      "text/plain": [
       "  origin  number_of_flights  origin_airport_id       origin_city_name  \\\n",
       "0    ATL              24260              10397            Atlanta, GA   \n",
       "1    ORD              24097              13930            Chicago, IL   \n",
       "2    DFW              17972              11298  Dallas/Fort Worth, TX   \n",
       "3    DEN              17336              11292             Denver, CO   \n",
       "4    LAX              15464              12892        Los Angeles, CA   \n",
       "5    CLT              15412              11057          Charlotte, NC   \n",
       "6    SEA              11713              14747            Seattle, WA   \n",
       "7    IAH              11094              12266            Houston, TX   \n",
       "8    SFO              11018              14771      San Francisco, CA   \n",
       "9    DTW              10957              11433            Detroit, MI   \n",
       "\n",
       "   total_passengers  \n",
       "0       257478059.0  \n",
       "1       194019087.0  \n",
       "2       163888490.0  \n",
       "3       151024252.0  \n",
       "4       205745255.0  \n",
       "5       112838675.0  \n",
       "6       113960665.0  \n",
       "7       103908868.0  \n",
       "8       133266076.0  \n",
       "9        86099463.0  "
      ]
     },
     "execution_count": 90,
     "metadata": {},
     "output_type": "execute_result"
    }
   ],
   "source": [
    "#The Top 10 busiest airports by the biggest number of flights and the passenger traffic they cover.\n",
    "pd.merge(df_tsk9.head(10),df_tsk9b,how = \"left\", on = \"origin\")"
   ]
  },
  {
   "cell_type": "markdown",
   "metadata": {},
   "source": [
    "#### **Task 10**: Do bigger delays lead to bigger fuel comsumption per passenger? \n",
    "We need to do four things to answer this as accurate as possible:\n",
    "- Find out average monthly delay per air carrier (monthly delay is sum of all delays in 1 month)\n",
    "- Find out distance covered monthly by different air carriers\n",
    "- Find out number of passengers that were carried by different air carriers\n",
    "- Find out total fuel comsumption per air carrier.\n",
    "\n",
    "Use this information to get the average fuel comsumption per passenger per km. Is this higher for the airlines with bigger average delays?"
   ]
  },
  {
   "cell_type": "code",
   "execution_count": 91,
   "metadata": {},
   "outputs": [
    {
     "data": {
      "text/html": [
       "<div>\n",
       "<style scoped>\n",
       "    .dataframe tbody tr th:only-of-type {\n",
       "        vertical-align: middle;\n",
       "    }\n",
       "\n",
       "    .dataframe tbody tr th {\n",
       "        vertical-align: top;\n",
       "    }\n",
       "\n",
       "    .dataframe thead th {\n",
       "        text-align: right;\n",
       "    }\n",
       "</style>\n",
       "<table border=\"1\" class=\"dataframe\">\n",
       "  <thead>\n",
       "    <tr style=\"text-align: right;\">\n",
       "      <th></th>\n",
       "      <th></th>\n",
       "      <th>arr_delay</th>\n",
       "    </tr>\n",
       "    <tr>\n",
       "      <th>month</th>\n",
       "      <th>op_unique_carrier</th>\n",
       "      <th></th>\n",
       "    </tr>\n",
       "  </thead>\n",
       "  <tbody>\n",
       "    <tr>\n",
       "      <th rowspan=\"5\" valign=\"top\">1</th>\n",
       "      <th>9E</th>\n",
       "      <td>5.723706</td>\n",
       "    </tr>\n",
       "    <tr>\n",
       "      <th>9K</th>\n",
       "      <td>5.312500</td>\n",
       "    </tr>\n",
       "    <tr>\n",
       "      <th>AA</th>\n",
       "      <td>1.838473</td>\n",
       "    </tr>\n",
       "    <tr>\n",
       "      <th>AS</th>\n",
       "      <td>-1.653023</td>\n",
       "    </tr>\n",
       "    <tr>\n",
       "      <th>AX</th>\n",
       "      <td>22.219626</td>\n",
       "    </tr>\n",
       "  </tbody>\n",
       "</table>\n",
       "</div>"
      ],
      "text/plain": [
       "                         arr_delay\n",
       "month op_unique_carrier           \n",
       "1     9E                  5.723706\n",
       "      9K                  5.312500\n",
       "      AA                  1.838473\n",
       "      AS                 -1.653023\n",
       "      AX                 22.219626"
      ]
     },
     "execution_count": 91,
     "metadata": {},
     "output_type": "execute_result"
    }
   ],
   "source": [
    "#Find out average monthly delay per air carrier (monthly delay is sum of all delays in 1 month)\n",
    "df_tsk10a = df_flights.groupby(['month','op_unique_carrier'])[['arr_delay']].agg('mean')\n",
    "df_tsk10a.head()"
   ]
  },
  {
   "cell_type": "code",
   "execution_count": 92,
   "metadata": {},
   "outputs": [
    {
     "data": {
      "text/html": [
       "<div>\n",
       "<style scoped>\n",
       "    .dataframe tbody tr th:only-of-type {\n",
       "        vertical-align: middle;\n",
       "    }\n",
       "\n",
       "    .dataframe tbody tr th {\n",
       "        vertical-align: top;\n",
       "    }\n",
       "\n",
       "    .dataframe thead th {\n",
       "        text-align: right;\n",
       "    }\n",
       "</style>\n",
       "<table border=\"1\" class=\"dataframe\">\n",
       "  <thead>\n",
       "    <tr style=\"text-align: right;\">\n",
       "      <th></th>\n",
       "      <th></th>\n",
       "      <th>distance</th>\n",
       "    </tr>\n",
       "    <tr>\n",
       "      <th>month</th>\n",
       "      <th>op_unique_carrier</th>\n",
       "      <th></th>\n",
       "    </tr>\n",
       "  </thead>\n",
       "  <tbody>\n",
       "    <tr>\n",
       "      <th rowspan=\"5\" valign=\"top\">1</th>\n",
       "      <th>9E</th>\n",
       "      <td>564205.0</td>\n",
       "    </tr>\n",
       "    <tr>\n",
       "      <th>9K</th>\n",
       "      <td>2008.0</td>\n",
       "    </tr>\n",
       "    <tr>\n",
       "      <th>AA</th>\n",
       "      <td>4678455.0</td>\n",
       "    </tr>\n",
       "    <tr>\n",
       "      <th>AS</th>\n",
       "      <td>1416209.0</td>\n",
       "    </tr>\n",
       "    <tr>\n",
       "      <th>AX</th>\n",
       "      <td>190863.0</td>\n",
       "    </tr>\n",
       "  </tbody>\n",
       "</table>\n",
       "</div>"
      ],
      "text/plain": [
       "                          distance\n",
       "month op_unique_carrier           \n",
       "1     9E                  564205.0\n",
       "      9K                    2008.0\n",
       "      AA                 4678455.0\n",
       "      AS                 1416209.0\n",
       "      AX                  190863.0"
      ]
     },
     "execution_count": 92,
     "metadata": {},
     "output_type": "execute_result"
    }
   ],
   "source": [
    "#Find out the distance covered monthly by different air carriers\n",
    "df_tsk10b = df_flights.groupby(['month','op_unique_carrier'])[['distance']].agg('sum')\n",
    "df_tsk10b.head()"
   ]
  },
  {
   "cell_type": "code",
   "execution_count": 93,
   "metadata": {},
   "outputs": [
    {
     "data": {
      "text/plain": [
       "<AxesSubplot:xlabel='month'>"
      ]
     },
     "execution_count": 93,
     "metadata": {},
     "output_type": "execute_result"
    },
    {
     "data": {
      "image/png": "[encoded data removed]",
      "text/plain": [
       "<Figure size 1440x720 with 1 Axes>"
      ]
     },
     "metadata": {
      "needs_background": "light"
     },
     "output_type": "display_data"
    }
   ],
   "source": [
    "df_tsk10b.unstack().plot.bar()"
   ]
  },
  {
   "cell_type": "code",
   "execution_count": 94,
   "metadata": {},
   "outputs": [
    {
     "data": {
      "text/html": [
       "<div>\n",
       "<style scoped>\n",
       "    .dataframe tbody tr th:only-of-type {\n",
       "        vertical-align: middle;\n",
       "    }\n",
       "\n",
       "    .dataframe tbody tr th {\n",
       "        vertical-align: top;\n",
       "    }\n",
       "\n",
       "    .dataframe thead th {\n",
       "        text-align: right;\n",
       "    }\n",
       "</style>\n",
       "<table border=\"1\" class=\"dataframe\">\n",
       "  <thead>\n",
       "    <tr style=\"text-align: right;\">\n",
       "      <th></th>\n",
       "      <th>unique_carrier_name</th>\n",
       "      <th>unique_carrier</th>\n",
       "      <th>passengers</th>\n",
       "    </tr>\n",
       "  </thead>\n",
       "  <tbody>\n",
       "    <tr>\n",
       "      <th>0</th>\n",
       "      <td>40-Mile Air</td>\n",
       "      <td>Q5</td>\n",
       "      <td>3830.0</td>\n",
       "    </tr>\n",
       "    <tr>\n",
       "      <th>1</th>\n",
       "      <td>ABC Aerolineas SA de CV dba Interjet</td>\n",
       "      <td>4O</td>\n",
       "      <td>7938301.0</td>\n",
       "    </tr>\n",
       "    <tr>\n",
       "      <th>2</th>\n",
       "      <td>ABS JETS A.S</td>\n",
       "      <td>2AQ</td>\n",
       "      <td>618.0</td>\n",
       "    </tr>\n",
       "    <tr>\n",
       "      <th>5</th>\n",
       "      <td>ACM AIR CHARTER GmbH</td>\n",
       "      <td>0CQ</td>\n",
       "      <td>950.0</td>\n",
       "    </tr>\n",
       "    <tr>\n",
       "      <th>6</th>\n",
       "      <td>ADVANCED AIR, LLC</td>\n",
       "      <td>AN</td>\n",
       "      <td>40026.0</td>\n",
       "    </tr>\n",
       "    <tr>\n",
       "      <th>7</th>\n",
       "      <td>Abelag Aviation AG</td>\n",
       "      <td>AAB</td>\n",
       "      <td>10.0</td>\n",
       "    </tr>\n",
       "    <tr>\n",
       "      <th>8</th>\n",
       "      <td>Acropolis Aviation Ltd.</td>\n",
       "      <td>CRV</td>\n",
       "      <td>851.0</td>\n",
       "    </tr>\n",
       "    <tr>\n",
       "      <th>9</th>\n",
       "      <td>Aer Lingus Plc</td>\n",
       "      <td>EI</td>\n",
       "      <td>9578430.0</td>\n",
       "    </tr>\n",
       "    <tr>\n",
       "      <th>11</th>\n",
       "      <td>Aerodynamics Inc. d/b/a SkyValue d/b/a SkyValu...</td>\n",
       "      <td>AJQ</td>\n",
       "      <td>180313.0</td>\n",
       "    </tr>\n",
       "    <tr>\n",
       "      <th>12</th>\n",
       "      <td>Aeroenlaces Nacionales, S.A. de C.V. d/b/a Viv...</td>\n",
       "      <td>VB</td>\n",
       "      <td>1140129.0</td>\n",
       "    </tr>\n",
       "  </tbody>\n",
       "</table>\n",
       "</div>"
      ],
      "text/plain": [
       "                                  unique_carrier_name unique_carrier  \\\n",
       "0                                         40-Mile Air             Q5   \n",
       "1                ABC Aerolineas SA de CV dba Interjet             4O   \n",
       "2                                        ABS JETS A.S            2AQ   \n",
       "5                                ACM AIR CHARTER GmbH            0CQ   \n",
       "6                                   ADVANCED AIR, LLC             AN   \n",
       "7                                  Abelag Aviation AG            AAB   \n",
       "8                             Acropolis Aviation Ltd.            CRV   \n",
       "9                                      Aer Lingus Plc             EI   \n",
       "11  Aerodynamics Inc. d/b/a SkyValue d/b/a SkyValu...            AJQ   \n",
       "12  Aeroenlaces Nacionales, S.A. de C.V. d/b/a Viv...             VB   \n",
       "\n",
       "    passengers  \n",
       "0       3830.0  \n",
       "1    7938301.0  \n",
       "2        618.0  \n",
       "5        950.0  \n",
       "6      40026.0  \n",
       "7         10.0  \n",
       "8        851.0  \n",
       "9    9578430.0  \n",
       "11    180313.0  \n",
       "12   1140129.0  "
      ]
     },
     "execution_count": 94,
     "metadata": {},
     "output_type": "execute_result"
    }
   ],
   "source": [
    "#Find out the number of passengers that were carried by different air carriers\n",
    "df_tsk10c = df_passengers.groupby(['unique_carrier_name','unique_carrier'])[['passengers']].agg('sum').reset_index()\n",
    "df_tsk10c = df_tsk10c[(df_tsk10c != 0).all(1)]\n",
    "df_tsk10c.head(10)"
   ]
  },
  {
   "cell_type": "code",
   "execution_count": 95,
   "metadata": {},
   "outputs": [
    {
     "data": {
      "text/html": [
       "<div>\n",
       "<style scoped>\n",
       "    .dataframe tbody tr th:only-of-type {\n",
       "        vertical-align: middle;\n",
       "    }\n",
       "\n",
       "    .dataframe tbody tr th {\n",
       "        vertical-align: top;\n",
       "    }\n",
       "\n",
       "    .dataframe thead th {\n",
       "        text-align: right;\n",
       "    }\n",
       "</style>\n",
       "<table border=\"1\" class=\"dataframe\">\n",
       "  <thead>\n",
       "    <tr style=\"text-align: right;\">\n",
       "      <th></th>\n",
       "      <th>month</th>\n",
       "      <th>airline_id</th>\n",
       "      <th>unique_carrier</th>\n",
       "      <th>carrier</th>\n",
       "      <th>carrier_name</th>\n",
       "      <th>carrier_group_new</th>\n",
       "      <th>sdomt_gallons</th>\n",
       "      <th>satl_gallons</th>\n",
       "      <th>spac_gallons</th>\n",
       "      <th>slat_gallons</th>\n",
       "      <th>...</th>\n",
       "      <th>sdomt_cost</th>\n",
       "      <th>satl_cost</th>\n",
       "      <th>spac_cost</th>\n",
       "      <th>slat_cost</th>\n",
       "      <th>sint_cost</th>\n",
       "      <th>ts_cost</th>\n",
       "      <th>tdomt_cost</th>\n",
       "      <th>tint_cost</th>\n",
       "      <th>total_cost</th>\n",
       "      <th>year</th>\n",
       "    </tr>\n",
       "  </thead>\n",
       "  <tbody>\n",
       "    <tr>\n",
       "      <th>0</th>\n",
       "      <td>1</td>\n",
       "      <td>NaN</td>\n",
       "      <td>NaN</td>\n",
       "      <td>0JQ</td>\n",
       "      <td>NaN</td>\n",
       "      <td>1</td>\n",
       "      <td>0.0</td>\n",
       "      <td>0.0</td>\n",
       "      <td>0.0</td>\n",
       "      <td>0.0</td>\n",
       "      <td>...</td>\n",
       "      <td>0.0</td>\n",
       "      <td>0.0</td>\n",
       "      <td>0.0</td>\n",
       "      <td>0.0</td>\n",
       "      <td>0.0</td>\n",
       "      <td>0.0</td>\n",
       "      <td>5100.0</td>\n",
       "      <td>0.0</td>\n",
       "      <td>5100.0</td>\n",
       "      <td>2016</td>\n",
       "    </tr>\n",
       "    <tr>\n",
       "      <th>1</th>\n",
       "      <td>1</td>\n",
       "      <td>21352.0</td>\n",
       "      <td>0WQ</td>\n",
       "      <td>0WQ</td>\n",
       "      <td>Avjet Corporation</td>\n",
       "      <td>1</td>\n",
       "      <td>0.0</td>\n",
       "      <td>0.0</td>\n",
       "      <td>0.0</td>\n",
       "      <td>0.0</td>\n",
       "      <td>...</td>\n",
       "      <td>0.0</td>\n",
       "      <td>0.0</td>\n",
       "      <td>0.0</td>\n",
       "      <td>0.0</td>\n",
       "      <td>0.0</td>\n",
       "      <td>0.0</td>\n",
       "      <td>396216.0</td>\n",
       "      <td>140239.0</td>\n",
       "      <td>536455.0</td>\n",
       "      <td>2016</td>\n",
       "    </tr>\n",
       "    <tr>\n",
       "      <th>2</th>\n",
       "      <td>1</td>\n",
       "      <td>21645.0</td>\n",
       "      <td>23Q</td>\n",
       "      <td>23Q</td>\n",
       "      <td>Songbird Airways Inc.</td>\n",
       "      <td>1</td>\n",
       "      <td>0.0</td>\n",
       "      <td>0.0</td>\n",
       "      <td>0.0</td>\n",
       "      <td>0.0</td>\n",
       "      <td>...</td>\n",
       "      <td>0.0</td>\n",
       "      <td>0.0</td>\n",
       "      <td>0.0</td>\n",
       "      <td>0.0</td>\n",
       "      <td>0.0</td>\n",
       "      <td>0.0</td>\n",
       "      <td>0.0</td>\n",
       "      <td>0.0</td>\n",
       "      <td>0.0</td>\n",
       "      <td>2016</td>\n",
       "    </tr>\n",
       "    <tr>\n",
       "      <th>3</th>\n",
       "      <td>1</td>\n",
       "      <td>21652.0</td>\n",
       "      <td>27Q</td>\n",
       "      <td>27Q</td>\n",
       "      <td>Jet Aviation Flight Services, Inc.</td>\n",
       "      <td>1</td>\n",
       "      <td>0.0</td>\n",
       "      <td>0.0</td>\n",
       "      <td>0.0</td>\n",
       "      <td>0.0</td>\n",
       "      <td>...</td>\n",
       "      <td>0.0</td>\n",
       "      <td>0.0</td>\n",
       "      <td>0.0</td>\n",
       "      <td>0.0</td>\n",
       "      <td>0.0</td>\n",
       "      <td>0.0</td>\n",
       "      <td>0.0</td>\n",
       "      <td>0.0</td>\n",
       "      <td>0.0</td>\n",
       "      <td>2016</td>\n",
       "    </tr>\n",
       "    <tr>\n",
       "      <th>4</th>\n",
       "      <td>1</td>\n",
       "      <td>20408.0</td>\n",
       "      <td>5V</td>\n",
       "      <td>5V</td>\n",
       "      <td>Tatonduk Outfitters Limited d/b/a Everts Air A...</td>\n",
       "      <td>1</td>\n",
       "      <td>260848.0</td>\n",
       "      <td>0.0</td>\n",
       "      <td>0.0</td>\n",
       "      <td>0.0</td>\n",
       "      <td>...</td>\n",
       "      <td>522405.0</td>\n",
       "      <td>0.0</td>\n",
       "      <td>0.0</td>\n",
       "      <td>0.0</td>\n",
       "      <td>0.0</td>\n",
       "      <td>522405.0</td>\n",
       "      <td>569497.0</td>\n",
       "      <td>0.0</td>\n",
       "      <td>569497.0</td>\n",
       "      <td>2016</td>\n",
       "    </tr>\n",
       "  </tbody>\n",
       "</table>\n",
       "<p>5 rows × 25 columns</p>\n",
       "</div>"
      ],
      "text/plain": [
       "   month  airline_id unique_carrier carrier  \\\n",
       "0      1         NaN            NaN     0JQ   \n",
       "1      1     21352.0            0WQ     0WQ   \n",
       "2      1     21645.0            23Q     23Q   \n",
       "3      1     21652.0            27Q     27Q   \n",
       "4      1     20408.0             5V      5V   \n",
       "\n",
       "                                        carrier_name  carrier_group_new  \\\n",
       "0                                                NaN                  1   \n",
       "1                                  Avjet Corporation                  1   \n",
       "2                              Songbird Airways Inc.                  1   \n",
       "3                 Jet Aviation Flight Services, Inc.                  1   \n",
       "4  Tatonduk Outfitters Limited d/b/a Everts Air A...                  1   \n",
       "\n",
       "   sdomt_gallons  satl_gallons  spac_gallons  slat_gallons  ...  sdomt_cost  \\\n",
       "0            0.0           0.0           0.0           0.0  ...         0.0   \n",
       "1            0.0           0.0           0.0           0.0  ...         0.0   \n",
       "2            0.0           0.0           0.0           0.0  ...         0.0   \n",
       "3            0.0           0.0           0.0           0.0  ...         0.0   \n",
       "4       260848.0           0.0           0.0           0.0  ...    522405.0   \n",
       "\n",
       "   satl_cost  spac_cost  slat_cost  sint_cost   ts_cost  tdomt_cost  \\\n",
       "0        0.0        0.0        0.0        0.0       0.0      5100.0   \n",
       "1        0.0        0.0        0.0        0.0       0.0    396216.0   \n",
       "2        0.0        0.0        0.0        0.0       0.0         0.0   \n",
       "3        0.0        0.0        0.0        0.0       0.0         0.0   \n",
       "4        0.0        0.0        0.0        0.0  522405.0    569497.0   \n",
       "\n",
       "   tint_cost  total_cost  year  \n",
       "0        0.0      5100.0  2016  \n",
       "1   140239.0    536455.0  2016  \n",
       "2        0.0         0.0  2016  \n",
       "3        0.0         0.0  2016  \n",
       "4        0.0    569497.0  2016  \n",
       "\n",
       "[5 rows x 25 columns]"
      ]
     },
     "execution_count": 95,
     "metadata": {},
     "output_type": "execute_result"
    }
   ],
   "source": [
    "df_fuel_consum = pd.read_csv('/Users/perpetualokafor/Downloads/mid-term-project-I/fuel_comsumption.csv',index_col=0)\n",
    "df_fuel_consum.head()"
   ]
  },
  {
   "cell_type": "code",
   "execution_count": 96,
   "metadata": {},
   "outputs": [
    {
     "data": {
      "text/html": [
       "<div>\n",
       "<style scoped>\n",
       "    .dataframe tbody tr th:only-of-type {\n",
       "        vertical-align: middle;\n",
       "    }\n",
       "\n",
       "    .dataframe tbody tr th {\n",
       "        vertical-align: top;\n",
       "    }\n",
       "\n",
       "    .dataframe thead th {\n",
       "        text-align: right;\n",
       "    }\n",
       "</style>\n",
       "<table border=\"1\" class=\"dataframe\">\n",
       "  <thead>\n",
       "    <tr style=\"text-align: right;\">\n",
       "      <th></th>\n",
       "      <th>carrier_name</th>\n",
       "      <th>unique_carrier</th>\n",
       "      <th>total_gallons</th>\n",
       "    </tr>\n",
       "  </thead>\n",
       "  <tbody>\n",
       "    <tr>\n",
       "      <th>0</th>\n",
       "      <td>ABX Air Inc</td>\n",
       "      <td>ABX</td>\n",
       "      <td>6.367883e+06</td>\n",
       "    </tr>\n",
       "    <tr>\n",
       "      <th>1</th>\n",
       "      <td>Air Transport International</td>\n",
       "      <td>8C</td>\n",
       "      <td>4.061171e+07</td>\n",
       "    </tr>\n",
       "    <tr>\n",
       "      <th>2</th>\n",
       "      <td>Air Wisconsin Airlines Corp</td>\n",
       "      <td>ZW</td>\n",
       "      <td>1.306834e+08</td>\n",
       "    </tr>\n",
       "    <tr>\n",
       "      <th>3</th>\n",
       "      <td>Alaska Airlines Inc.</td>\n",
       "      <td>AS</td>\n",
       "      <td>2.678455e+09</td>\n",
       "    </tr>\n",
       "    <tr>\n",
       "      <th>4</th>\n",
       "      <td>Allegiant Air</td>\n",
       "      <td>G4</td>\n",
       "      <td>8.497621e+08</td>\n",
       "    </tr>\n",
       "  </tbody>\n",
       "</table>\n",
       "</div>"
      ],
      "text/plain": [
       "                  carrier_name unique_carrier  total_gallons\n",
       "0                  ABX Air Inc            ABX   6.367883e+06\n",
       "1  Air Transport International             8C   4.061171e+07\n",
       "2  Air Wisconsin Airlines Corp             ZW   1.306834e+08\n",
       "3         Alaska Airlines Inc.             AS   2.678455e+09\n",
       "4                Allegiant Air             G4   8.497621e+08"
      ]
     },
     "execution_count": 96,
     "metadata": {},
     "output_type": "execute_result"
    }
   ],
   "source": [
    "#Find out total fuel comsumption per air carrier\n",
    "df_tsk10d = df_fuel_consum.groupby(['carrier_name','unique_carrier'])[['total_gallons']].agg('sum').reset_index()\n",
    "df_tsk10d = df_tsk10d[(df_tsk10d != 0).all(1)]\n",
    "df_tsk10d.head()"
   ]
  },
  {
   "cell_type": "code",
   "execution_count": 98,
   "metadata": {},
   "outputs": [
    {
     "data": {
      "text/html": [
       "<div>\n",
       "<style scoped>\n",
       "    .dataframe tbody tr th:only-of-type {\n",
       "        vertical-align: middle;\n",
       "    }\n",
       "\n",
       "    .dataframe tbody tr th {\n",
       "        vertical-align: top;\n",
       "    }\n",
       "\n",
       "    .dataframe thead th {\n",
       "        text-align: right;\n",
       "    }\n",
       "</style>\n",
       "<table border=\"1\" class=\"dataframe\">\n",
       "  <thead>\n",
       "    <tr style=\"text-align: right;\">\n",
       "      <th></th>\n",
       "      <th>unique_carrier</th>\n",
       "      <th>distance</th>\n",
       "    </tr>\n",
       "  </thead>\n",
       "  <tbody>\n",
       "    <tr>\n",
       "      <th>0</th>\n",
       "      <td>9E</td>\n",
       "      <td>7242123.0</td>\n",
       "    </tr>\n",
       "    <tr>\n",
       "      <th>1</th>\n",
       "      <td>9K</td>\n",
       "      <td>6321.0</td>\n",
       "    </tr>\n",
       "    <tr>\n",
       "      <th>2</th>\n",
       "      <td>AA</td>\n",
       "      <td>57426654.0</td>\n",
       "    </tr>\n",
       "    <tr>\n",
       "      <th>3</th>\n",
       "      <td>AS</td>\n",
       "      <td>20844785.0</td>\n",
       "    </tr>\n",
       "    <tr>\n",
       "      <th>4</th>\n",
       "      <td>AX</td>\n",
       "      <td>2214595.0</td>\n",
       "    </tr>\n",
       "  </tbody>\n",
       "</table>\n",
       "</div>"
      ],
      "text/plain": [
       "  unique_carrier    distance\n",
       "0             9E   7242123.0\n",
       "1             9K      6321.0\n",
       "2             AA  57426654.0\n",
       "3             AS  20844785.0\n",
       "4             AX   2214595.0"
      ]
     },
     "execution_count": 98,
     "metadata": {},
     "output_type": "execute_result"
    }
   ],
   "source": [
    "df_tsk10e = df_flights.groupby(['op_unique_carrier'])[['distance']].agg('sum').reset_index()\n",
    "df_tsk10e = df_tsk10e.rename(columns={'op_unique_carrier':'unique_carrier'})\n",
    "df_tsk10e.head()"
   ]
  },
  {
   "cell_type": "code",
   "execution_count": 100,
   "metadata": {},
   "outputs": [
    {
     "data": {
      "text/html": [
       "<div>\n",
       "<style scoped>\n",
       "    .dataframe tbody tr th:only-of-type {\n",
       "        vertical-align: middle;\n",
       "    }\n",
       "\n",
       "    .dataframe tbody tr th {\n",
       "        vertical-align: top;\n",
       "    }\n",
       "\n",
       "    .dataframe thead th {\n",
       "        text-align: right;\n",
       "    }\n",
       "</style>\n",
       "<table border=\"1\" class=\"dataframe\">\n",
       "  <thead>\n",
       "    <tr style=\"text-align: right;\">\n",
       "      <th></th>\n",
       "      <th>unique_carrier</th>\n",
       "      <th>distance</th>\n",
       "      <th>total_gallons</th>\n",
       "      <th>unique_carrier_name</th>\n",
       "      <th>passengers</th>\n",
       "      <th>fuel_econ_per_passenger</th>\n",
       "    </tr>\n",
       "  </thead>\n",
       "  <tbody>\n",
       "    <tr>\n",
       "      <th>2</th>\n",
       "      <td>AA</td>\n",
       "      <td>57426654.0</td>\n",
       "      <td>1.663489e+10</td>\n",
       "      <td>American Airlines Inc.</td>\n",
       "      <td>715203891.0</td>\n",
       "      <td>4.050200e-07</td>\n",
       "    </tr>\n",
       "    <tr>\n",
       "      <th>3</th>\n",
       "      <td>AS</td>\n",
       "      <td>20844785.0</td>\n",
       "      <td>2.678455e+09</td>\n",
       "      <td>Alaska Airlines Inc.</td>\n",
       "      <td>145210038.0</td>\n",
       "      <td>8.848922e-07</td>\n",
       "    </tr>\n",
       "    <tr>\n",
       "      <th>5</th>\n",
       "      <td>B6</td>\n",
       "      <td>20144095.0</td>\n",
       "      <td>3.767060e+09</td>\n",
       "      <td>JetBlue Airways</td>\n",
       "      <td>198872059.0</td>\n",
       "      <td>9.403315e-07</td>\n",
       "    </tr>\n",
       "    <tr>\n",
       "      <th>8</th>\n",
       "      <td>DL</td>\n",
       "      <td>54654586.0</td>\n",
       "      <td>1.655025e+10</td>\n",
       "      <td>Delta Air Lines Inc.</td>\n",
       "      <td>742511388.0</td>\n",
       "      <td>4.078259e-07</td>\n",
       "    </tr>\n",
       "    <tr>\n",
       "      <th>10</th>\n",
       "      <td>EV</td>\n",
       "      <td>4773889.0</td>\n",
       "      <td>2.678243e+06</td>\n",
       "      <td>ExpressJet Airlines LLC</td>\n",
       "      <td>79135585.0</td>\n",
       "      <td>7.089341e-09</td>\n",
       "    </tr>\n",
       "  </tbody>\n",
       "</table>\n",
       "</div>"
      ],
      "text/plain": [
       "   unique_carrier    distance  total_gallons      unique_carrier_name  \\\n",
       "2              AA  57426654.0   1.663489e+10   American Airlines Inc.   \n",
       "3              AS  20844785.0   2.678455e+09     Alaska Airlines Inc.   \n",
       "5              B6  20144095.0   3.767060e+09          JetBlue Airways   \n",
       "8              DL  54654586.0   1.655025e+10     Delta Air Lines Inc.   \n",
       "10             EV   4773889.0   2.678243e+06  ExpressJet Airlines LLC   \n",
       "\n",
       "     passengers  fuel_econ_per_passenger  \n",
       "2   715203891.0             4.050200e-07  \n",
       "3   145210038.0             8.848922e-07  \n",
       "5   198872059.0             9.403315e-07  \n",
       "8   742511388.0             4.078259e-07  \n",
       "10   79135585.0             7.089341e-09  "
      ]
     },
     "execution_count": 100,
     "metadata": {},
     "output_type": "execute_result"
    }
   ],
   "source": [
    "#Get the average fuel comsumption per passenger per km.(fuel_econ_per_passenger)\n",
    "\n",
    "df_tsk10f = pd.merge(df_tsk10d,df_tsk10c,how = \"left\", on = \"unique_carrier\").dropna()\n",
    "df_tsk10f = pd.merge(df_tsk10e,df_tsk10f,how = \"left\", on = \"unique_carrier\").dropna()\n",
    "df_tsk10f['fuel_econ_per_passenger'] = (df_tsk10f['total_gallons'] / df_tsk10f['distance']) / df_tsk10f['passengers']\n",
    "df_tsk10f = df_tsk10f.drop(['carrier_name'], axis=1)\n",
    "df_tsk10f.head()"
   ]
  }
 ],
 "metadata": {
  "kernelspec": {
   "display_name": "Python 3 (ipykernel)",
   "language": "python",
   "name": "python3"
  },
  "language_info": {
   "codemirror_mode": {
    "name": "ipython",
    "version": 3
   },
   "file_extension": ".py",
   "mimetype": "text/x-python",
   "name": "python",
   "nbconvert_exporter": "python",
   "pygments_lexer": "ipython3",
   "version": "3.9.13"
  },
  "toc": {
   "base_numbering": 1,
   "nav_menu": {},
   "number_sections": true,
   "sideBar": true,
   "skip_h1_title": false,
   "title_cell": "Table of Contents",
   "title_sidebar": "Contents",
   "toc_cell": false,
   "toc_position": {},
   "toc_section_display": true,
   "toc_window_display": false
  },
  "varInspector": {
   "cols": {
    "lenName": 16,
    "lenType": 16,
    "lenVar": 40
   },
   "kernels_config": {
    "python": {
     "delete_cmd_postfix": "",
     "delete_cmd_prefix": "del ",
     "library": "var_list.py",
     "varRefreshCmd": "print(var_dic_list())"
    },
    "r": {
     "delete_cmd_postfix": ") ",
     "delete_cmd_prefix": "rm(",
     "library": "var_list.r",
     "varRefreshCmd": "cat(var_dic_list()) "
    }
   },
   "types_to_exclude": [
    "module",
    "function",
    "builtin_function_or_method",
    "instance",
    "_Feature"
   ],
   "window_display": false
  }
 },
 "nbformat": 4,
 "nbformat_minor": 4
}
